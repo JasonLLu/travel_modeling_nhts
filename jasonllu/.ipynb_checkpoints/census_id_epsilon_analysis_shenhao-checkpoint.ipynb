{
 "cells": [
  {
   "cell_type": "code",
   "execution_count": 1,
   "metadata": {},
   "outputs": [],
   "source": [
    "import torch\n",
    "import torch.nn as nn\n",
    "import torch.nn.functional as F\n",
    "import torchvision\n",
    "from torchvision import datasets, models, transforms\n",
    "import numpy as np\n",
    "import pandas as pd\n",
    "from matplotlib import pyplot as plt\n",
    "import statsmodels.api as sm\n",
    "from scipy import stats\n",
    "import copy\n",
    "import pickle\n",
    "\n",
    "from sklearn.metrics import accuracy_score\n",
    "from sklearn.metrics import confusion_matrix\n",
    "from sklearn.metrics import log_loss\n",
    "from sklearn.metrics import r2_score\n",
    "from sklearn.metrics import mean_squared_error\n",
    "from sklearn.preprocessing import PolynomialFeatures"
   ]
  },
  {
   "cell_type": "code",
   "execution_count": 17,
   "metadata": {},
   "outputs": [],
   "source": [
    "df = pd.read_csv(\"/home/jtl/Documents/travel_modeling_nhts/data_process/df_merged_tract_large.csv\")\n",
    "size = df.shape[0]"
   ]
  },
  {
   "cell_type": "code",
   "execution_count": 3,
   "metadata": {},
   "outputs": [
    {
     "data": {
      "text/html": [
       "<div>\n",
       "<style scoped>\n",
       "    .dataframe tbody tr th:only-of-type {\n",
       "        vertical-align: middle;\n",
       "    }\n",
       "\n",
       "    .dataframe tbody tr th {\n",
       "        vertical-align: top;\n",
       "    }\n",
       "\n",
       "    .dataframe thead th {\n",
       "        text-align: right;\n",
       "    }\n",
       "</style>\n",
       "<table border=\"1\" class=\"dataframe\">\n",
       "  <thead>\n",
       "    <tr style=\"text-align: right;\">\n",
       "      <th></th>\n",
       "      <th>CENSUS_ID</th>\n",
       "      <th>R_AGE_IMP</th>\n",
       "      <th>DRVRCNT</th>\n",
       "      <th>HHSIZE</th>\n",
       "      <th>HHFAMINC</th>\n",
       "      <th>HBHTNRNT</th>\n",
       "      <th>HBPPOPDN</th>\n",
       "      <th>HBRESDN</th>\n",
       "      <th>TRPMILES</th>\n",
       "      <th>TRVLCMIN</th>\n",
       "      <th>...</th>\n",
       "      <th>TRPTRANS_2_mean_norm</th>\n",
       "      <th>TRPTRANS_3_mean_norm</th>\n",
       "      <th>TRIPPURP_0_mean_norm</th>\n",
       "      <th>TRIPPURP_1_mean_norm</th>\n",
       "      <th>TRIPPURP_2_mean_norm</th>\n",
       "      <th>TRIPPURP_3_mean_norm</th>\n",
       "      <th>TRIPPURP_4_mean_norm</th>\n",
       "      <th>density</th>\n",
       "      <th>diversity</th>\n",
       "      <th>design</th>\n",
       "    </tr>\n",
       "  </thead>\n",
       "  <tbody>\n",
       "    <tr>\n",
       "      <th>0</th>\n",
       "      <td>1001020802</td>\n",
       "      <td>54</td>\n",
       "      <td>2</td>\n",
       "      <td>2</td>\n",
       "      <td>20.0</td>\n",
       "      <td>0.1</td>\n",
       "      <td>300</td>\n",
       "      <td>50</td>\n",
       "      <td>13.430</td>\n",
       "      <td>20</td>\n",
       "      <td>...</td>\n",
       "      <td>0.675344</td>\n",
       "      <td>-0.310812</td>\n",
       "      <td>-0.993544</td>\n",
       "      <td>-1.724233</td>\n",
       "      <td>-1.047661</td>\n",
       "      <td>0.018457</td>\n",
       "      <td>3.081432</td>\n",
       "      <td>0.000000</td>\n",
       "      <td>0.000000</td>\n",
       "      <td>0.003806</td>\n",
       "    </tr>\n",
       "    <tr>\n",
       "      <th>1</th>\n",
       "      <td>1003010300</td>\n",
       "      <td>49</td>\n",
       "      <td>2</td>\n",
       "      <td>3</td>\n",
       "      <td>112.5</td>\n",
       "      <td>0.1</td>\n",
       "      <td>50</td>\n",
       "      <td>50</td>\n",
       "      <td>10.364</td>\n",
       "      <td>7</td>\n",
       "      <td>...</td>\n",
       "      <td>0.675344</td>\n",
       "      <td>-0.310812</td>\n",
       "      <td>0.029258</td>\n",
       "      <td>1.476451</td>\n",
       "      <td>0.047744</td>\n",
       "      <td>-1.238231</td>\n",
       "      <td>-0.390720</td>\n",
       "      <td>0.000000</td>\n",
       "      <td>0.000000</td>\n",
       "      <td>0.013154</td>\n",
       "    </tr>\n",
       "    <tr>\n",
       "      <th>2</th>\n",
       "      <td>1003010703</td>\n",
       "      <td>39</td>\n",
       "      <td>2</td>\n",
       "      <td>4</td>\n",
       "      <td>112.5</td>\n",
       "      <td>0.1</td>\n",
       "      <td>300</td>\n",
       "      <td>300</td>\n",
       "      <td>6.264</td>\n",
       "      <td>12</td>\n",
       "      <td>...</td>\n",
       "      <td>0.675344</td>\n",
       "      <td>-0.310812</td>\n",
       "      <td>0.793327</td>\n",
       "      <td>0.749023</td>\n",
       "      <td>-1.047661</td>\n",
       "      <td>0.761045</td>\n",
       "      <td>-1.147251</td>\n",
       "      <td>0.005631</td>\n",
       "      <td>0.190895</td>\n",
       "      <td>0.111964</td>\n",
       "    </tr>\n",
       "    <tr>\n",
       "      <th>3</th>\n",
       "      <td>1003011202</td>\n",
       "      <td>49</td>\n",
       "      <td>3</td>\n",
       "      <td>4</td>\n",
       "      <td>62.5</td>\n",
       "      <td>0.3</td>\n",
       "      <td>1500</td>\n",
       "      <td>1500</td>\n",
       "      <td>3.992</td>\n",
       "      <td>15</td>\n",
       "      <td>...</td>\n",
       "      <td>-0.044711</td>\n",
       "      <td>-0.310812</td>\n",
       "      <td>0.612922</td>\n",
       "      <td>3.133949</td>\n",
       "      <td>0.116207</td>\n",
       "      <td>-1.238231</td>\n",
       "      <td>-2.372111</td>\n",
       "      <td>0.002344</td>\n",
       "      <td>0.999932</td>\n",
       "      <td>0.118858</td>\n",
       "    </tr>\n",
       "    <tr>\n",
       "      <th>4</th>\n",
       "      <td>1003011401</td>\n",
       "      <td>69</td>\n",
       "      <td>2</td>\n",
       "      <td>2</td>\n",
       "      <td>87.5</td>\n",
       "      <td>0.2</td>\n",
       "      <td>300</td>\n",
       "      <td>300</td>\n",
       "      <td>10.131</td>\n",
       "      <td>30</td>\n",
       "      <td>...</td>\n",
       "      <td>0.675344</td>\n",
       "      <td>-0.310812</td>\n",
       "      <td>0.612922</td>\n",
       "      <td>0.704858</td>\n",
       "      <td>-0.465727</td>\n",
       "      <td>-0.138629</td>\n",
       "      <td>-0.687929</td>\n",
       "      <td>0.000001</td>\n",
       "      <td>0.000000</td>\n",
       "      <td>0.029466</td>\n",
       "    </tr>\n",
       "  </tbody>\n",
       "</table>\n",
       "<p>5 rows × 103 columns</p>\n",
       "</div>"
      ],
      "text/plain": [
       "    CENSUS_ID  R_AGE_IMP  DRVRCNT  HHSIZE  HHFAMINC  HBHTNRNT  HBPPOPDN  \\\n",
       "0  1001020802         54        2       2      20.0       0.1       300   \n",
       "1  1003010300         49        2       3     112.5       0.1        50   \n",
       "2  1003010703         39        2       4     112.5       0.1       300   \n",
       "3  1003011202         49        3       4      62.5       0.3      1500   \n",
       "4  1003011401         69        2       2      87.5       0.2       300   \n",
       "\n",
       "   HBRESDN  TRPMILES  TRVLCMIN  ...  TRPTRANS_2_mean_norm  \\\n",
       "0       50    13.430        20  ...              0.675344   \n",
       "1       50    10.364         7  ...              0.675344   \n",
       "2      300     6.264        12  ...              0.675344   \n",
       "3     1500     3.992        15  ...             -0.044711   \n",
       "4      300    10.131        30  ...              0.675344   \n",
       "\n",
       "   TRPTRANS_3_mean_norm  TRIPPURP_0_mean_norm  TRIPPURP_1_mean_norm  \\\n",
       "0             -0.310812             -0.993544             -1.724233   \n",
       "1             -0.310812              0.029258              1.476451   \n",
       "2             -0.310812              0.793327              0.749023   \n",
       "3             -0.310812              0.612922              3.133949   \n",
       "4             -0.310812              0.612922              0.704858   \n",
       "\n",
       "   TRIPPURP_2_mean_norm  TRIPPURP_3_mean_norm  TRIPPURP_4_mean_norm   density  \\\n",
       "0             -1.047661              0.018457              3.081432  0.000000   \n",
       "1              0.047744             -1.238231             -0.390720  0.000000   \n",
       "2             -1.047661              0.761045             -1.147251  0.005631   \n",
       "3              0.116207             -1.238231             -2.372111  0.002344   \n",
       "4             -0.465727             -0.138629             -0.687929  0.000001   \n",
       "\n",
       "   diversity    design  \n",
       "0   0.000000  0.003806  \n",
       "1   0.000000  0.013154  \n",
       "2   0.190895  0.111964  \n",
       "3   0.999932  0.118858  \n",
       "4   0.000000  0.029466  \n",
       "\n",
       "[5 rows x 103 columns]"
      ]
     },
     "execution_count": 3,
     "metadata": {},
     "output_type": "execute_result"
    }
   ],
   "source": [
    "df.head()"
   ]
  },
  {
   "cell_type": "code",
   "execution_count": 5,
   "metadata": {},
   "outputs": [],
   "source": [
    "import os"
   ]
  },
  {
   "cell_type": "code",
   "execution_count": 8,
   "metadata": {},
   "outputs": [
    {
     "name": "stdout",
     "output_type": "stream",
     "text": [
      "HHVEHCNT_P_CAP_mean_norm_BE and NHTS linear.pickle\n",
      "HHVEHCNT_P_CAP_mean_norm_BE and NHTS quadratic.pickle\n",
      "HHVEHCNT_P_CAP_mean_norm_BE linear.pickle\n",
      "HHVEHCNT_P_CAP_mean_norm_BE quadratic.pickle\n",
      "HHVEHCNT_P_CAP_mean_norm_NHTS linear.pickle\n",
      "HHVEHCNT_P_CAP_mean_norm_NHTS quadratic.pickle\n",
      "HHVEHCNT_mean_norm_BE and NHTS linear.pickle\n",
      "HHVEHCNT_mean_norm_BE and NHTS quadratic.pickle\n",
      "HHVEHCNT_mean_norm_BE linear.pickle\n",
      "HHVEHCNT_mean_norm_BE quadratic.pickle\n",
      "HHVEHCNT_mean_norm_NHTS linear.pickle\n",
      "HHVEHCNT_mean_norm_NHTS quadratic.pickle\n",
      "TRPTRANS_1_mean_norm_BE and NHTS linear.pickle\n",
      "TRPTRANS_1_mean_norm_BE and NHTS quadratic.pickle\n",
      "TRPTRANS_1_mean_norm_BE linear.pickle\n",
      "TRPTRANS_1_mean_norm_BE quadratic.pickle\n",
      "TRPTRANS_1_mean_norm_NHTS linear.pickle\n",
      "TRPTRANS_1_mean_norm_NHTS quadratic.pickle\n",
      "TRPTRANS_2_mean_norm_BE and NHTS linear.pickle\n",
      "TRPTRANS_2_mean_norm_BE and NHTS quadratic.pickle\n",
      "TRPTRANS_2_mean_norm_BE linear.pickle\n",
      "TRPTRANS_2_mean_norm_BE quadratic.pickle\n",
      "TRPTRANS_2_mean_norm_NHTS linear.pickle\n",
      "TRPTRANS_2_mean_norm_NHTS quadratic.pickle\n",
      "TRPTRANS_3_mean_norm_BE and NHTS linear.pickle\n",
      "TRPTRANS_3_mean_norm_BE and NHTS quadratic.pickle\n",
      "TRPTRANS_3_mean_norm_BE linear.pickle\n",
      "TRPTRANS_3_mean_norm_BE quadratic.pickle\n",
      "TRPTRANS_3_mean_norm_NHTS linear.pickle\n",
      "TRPTRANS_3_mean_norm_NHTS quadratic.pickle\n",
      "resnet18_HHVEHCNT_P_CAP_mean_norm_bw.pth\n",
      "resnet18_HHVEHCNT_P_CAP_mean_norm_merge.pth\n",
      "resnet18_HHVEHCNT_P_CAP_mean_norm_rgb.pth\n",
      "resnet18_HHVEHCNT_mean_norm_bw.pth\n",
      "resnet18_HHVEHCNT_mean_norm_merge.pth\n",
      "resnet18_HHVEHCNT_mean_norm_rgb.pth\n",
      "resnet18_TRPTRANS_1_mean_norm_bw.pth\n",
      "resnet18_TRPTRANS_1_mean_norm_merge.pth\n",
      "resnet18_TRPTRANS_1_mean_norm_rgb.pth\n",
      "resnet18_TRPTRANS_2_mean_norm_bw.pth\n",
      "resnet18_TRPTRANS_2_mean_norm_merge.pth\n",
      "resnet18_TRPTRANS_2_mean_norm_rgb.pth\n",
      "resnet18_TRPTRANS_3_mean_norm_bw.pth\n",
      "resnet18_TRPTRANS_3_mean_norm_merge.pth\n",
      "resnet18_TRPTRANS_3_mean_norm_rgb.pth\n",
      "30\n",
      "15\n"
     ]
    }
   ],
   "source": [
    "model_paths = sorted(os.listdir(\"/home/jtl/Documents/travel_modeling_nhts/models\"))\n",
    "regression_models = []\n",
    "cnn_models = []\n",
    "for elt in model_paths:\n",
    "    print(elt)\n",
    "    #print(elt[len(elt)-3:len(elt)])\n",
    "    if elt[len(elt)-3:len(elt)] == \"pth\":\n",
    "        cnn_models.append(elt)\n",
    "    else:\n",
    "        regression_models.append(elt)\n",
    "print(len(regression_models))\n",
    "print(len(cnn_models))"
   ]
  },
  {
   "cell_type": "code",
   "execution_count": 9,
   "metadata": {
    "scrolled": true
   },
   "outputs": [
    {
     "name": "stdout",
     "output_type": "stream",
     "text": [
      "<statsmodels.regression.linear_model.RegressionResultsWrapper object at 0x7fcea5bebcd0>\n",
      "<statsmodels.regression.linear_model.RegressionResultsWrapper object at 0x7fcea5c68a50>\n",
      "<statsmodels.regression.linear_model.RegressionResultsWrapper object at 0x7fcea5c68f10>\n",
      "<statsmodels.regression.linear_model.RegressionResultsWrapper object at 0x7fcea5beb710>\n",
      "<statsmodels.regression.linear_model.RegressionResultsWrapper object at 0x7fcea5beb590>\n",
      "<statsmodels.regression.linear_model.RegressionResultsWrapper object at 0x7fcea5c68490>\n",
      "<statsmodels.regression.linear_model.RegressionResultsWrapper object at 0x7fcea66c1f90>\n",
      "<statsmodels.regression.linear_model.RegressionResultsWrapper object at 0x7fcea5c688d0>\n",
      "<statsmodels.regression.linear_model.RegressionResultsWrapper object at 0x7fcea66c1c50>\n",
      "<statsmodels.regression.linear_model.RegressionResultsWrapper object at 0x7fcea5beb590>\n",
      "<statsmodels.regression.linear_model.RegressionResultsWrapper object at 0x7fcea5beb5d0>\n",
      "<statsmodels.regression.linear_model.RegressionResultsWrapper object at 0x7fcea5beb590>\n",
      "<statsmodels.regression.linear_model.RegressionResultsWrapper object at 0x7fcf2058bed0>\n",
      "<statsmodels.regression.linear_model.RegressionResultsWrapper object at 0x7fcea5c68ad0>\n",
      "<statsmodels.regression.linear_model.RegressionResultsWrapper object at 0x7fcea66c1d90>\n",
      "<statsmodels.regression.linear_model.RegressionResultsWrapper object at 0x7fcf2058bed0>\n",
      "<statsmodels.regression.linear_model.RegressionResultsWrapper object at 0x7fcea66c1f90>\n",
      "<statsmodels.regression.linear_model.RegressionResultsWrapper object at 0x7fcea5bebc10>\n",
      "<statsmodels.regression.linear_model.RegressionResultsWrapper object at 0x7fcea66c1dd0>\n",
      "<statsmodels.regression.linear_model.RegressionResultsWrapper object at 0x7fcea66c1c50>\n",
      "<statsmodels.regression.linear_model.RegressionResultsWrapper object at 0x7fcea5c68dd0>\n",
      "<statsmodels.regression.linear_model.RegressionResultsWrapper object at 0x7fcea66c1f90>\n",
      "<statsmodels.regression.linear_model.RegressionResultsWrapper object at 0x7fcea5c68690>\n",
      "<statsmodels.regression.linear_model.RegressionResultsWrapper object at 0x7fcea66c1f90>\n",
      "<statsmodels.regression.linear_model.RegressionResultsWrapper object at 0x7fcea5bebf10>\n",
      "<statsmodels.regression.linear_model.RegressionResultsWrapper object at 0x7fcea66c1d90>\n",
      "<statsmodels.regression.linear_model.RegressionResultsWrapper object at 0x7fcf2058bed0>\n",
      "<statsmodels.regression.linear_model.RegressionResultsWrapper object at 0x7fcea66c1d90>\n",
      "<statsmodels.regression.linear_model.RegressionResultsWrapper object at 0x7fcf2058bed0>\n",
      "<statsmodels.regression.linear_model.RegressionResultsWrapper object at 0x7fcea5bebfd0>\n",
      "119547037146038801333356\n",
      "119547037146038801333356\n",
      "119547037146038801333356\n",
      "119547037146038801333356\n",
      "119547037146038801333356\n",
      "119547037146038801333356\n",
      "119547037146038801333356\n",
      "119547037146038801333356\n",
      "119547037146038801333356\n",
      "119547037146038801333356\n",
      "119547037146038801333356\n",
      "119547037146038801333356\n",
      "119547037146038801333356\n",
      "119547037146038801333356\n",
      "119547037146038801333356\n"
     ]
    }
   ],
   "source": [
    "for model_path in model_paths:\n",
    "    model = sm.load(\"/home/jtl/Documents/travel_modeling_nhts/models/\" + model_path)\n",
    "    print(model)"
   ]
  },
  {
   "cell_type": "code",
   "execution_count": 11,
   "metadata": {},
   "outputs": [],
   "source": [
    "# read latent vectors \n",
    "import pickle\n",
    "with open('/home/jtl/Documents/travel_modeling_nhts/data_process/last_layer_dic_train.pickle', 'rb') as h:\n",
    "    last_layer_dic_train = pickle.load(h)\n",
    "\n",
    "with open('/home/jtl/Documents/travel_modeling_nhts/data_process/last_layer_dic_test.pickle', 'rb') as h:\n",
    "    last_layer_dic_test = pickle.load(h)"
   ]
  },
  {
   "cell_type": "code",
   "execution_count": 12,
   "metadata": {},
   "outputs": [],
   "source": [
    "output_var_list=['HHVEHCNT_mean_norm', 'HHVEHCNT_P_CAP_mean_norm', 'TRPTRANS_1_mean_norm', 'TRPTRANS_2_mean_norm', 'TRPTRANS_3_mean_norm']\n",
    "input_var=['R_AGE_IMP_mean', 'HHSIZE_mean', 'HHFAMINC_mean', 'HBHTNRNT_mean', 'HBPPOPDN_mean', 'HBRESDN_mean', \n",
    "           'R_SEX_IMP_2_mean', 'EDUC_2_mean', 'HH_RACE_2_mean', 'HOMEOWN_1_mean', 'HOMEOWN_2_mean',\n",
    "           'HBHUR_R_mean', 'HBHUR_S_mean', 'HBHUR_T_mean','HBHUR_U_mean']\n",
    "BE_var = ['density', 'diversity', 'design']\n",
    "input_structure_list = ['BE linear', 'BE quadratic', 'NHTS linear', 'NHTS quadratic', 'BE and NHTS linear', 'BE and NHTS quadratic']"
   ]
  },
  {
   "cell_type": "code",
   "execution_count": 33,
   "metadata": {},
   "outputs": [],
   "source": [
    "def initialize_data_linear_reg(df, BE_var, output_var, input_var, last_layer_dic_train, last_layer_dic_test, size, input_structure):\n",
    "    # output: x train and test, y train and test.\n",
    "    y_ = df[output_var].values \n",
    "    y = copy.deepcopy(y_)\n",
    "    x = df[input_var]\n",
    "    BE = df[BE_var]\n",
    "    census_ids = copy.deepcopy(df[\"CENSUS_ID\"].values)\n",
    "    \n",
    "    #no randomization here\n",
    "    shuffle_idx = np.arange(size)\n",
    "#     np.random.seed(0) # Keey this seed consistent across all the scripts.\n",
    "    #np.random.shuffle(shuffle_idx)\n",
    "    train_ratio = 0.8 # Keey this consistent across scripts.\n",
    "\n",
    "    # train test.\n",
    "    y_train = y[shuffle_idx[:int(train_ratio*size)]].astype(\"float32\")\n",
    "    y_test = y[shuffle_idx[int(train_ratio*size):]].astype(\"float32\")\n",
    "    BE_train = BE.values[shuffle_idx[:int(train_ratio*size)]].astype(\"float32\")\n",
    "    BE_test = BE.values[shuffle_idx[int(train_ratio*size):]].astype(\"float32\")\n",
    "    x_train = x.values[shuffle_idx[:int(train_ratio*size)]].astype(\"float32\")\n",
    "    x_test = x.values[shuffle_idx[int(train_ratio*size):]].astype(\"float32\")\n",
    "    # \n",
    "    cnn_vector_train=last_layer_dic_train[output_var] \n",
    "    cnn_vector_test=last_layer_dic_test[output_var]\n",
    "    # \n",
    "    \n",
    "    if input_structure == 'BE linear':\n",
    "        x_train_ = sm.add_constant(BE_train)\n",
    "        x_test_ = sm.add_constant(BE_test)\n",
    "        y_train_ = y_train[:]\n",
    "        y_test_ = y_test[:]\n",
    "\n",
    "    elif input_structure == 'BE quadratic':\n",
    "        poly = PolynomialFeatures(2, interaction_only = False, include_bias=True)\n",
    "        x_train_ = poly.fit_transform(BE_train)\n",
    "        x_test_ = poly.fit_transform(BE_test)\n",
    "        y_train_ = y_train[:]\n",
    "        y_test_ = y_test[:]\n",
    "        \n",
    "    elif input_structure == 'NHTS linear':\n",
    "        x_train_ = sm.add_constant(x_train)\n",
    "        x_test_ = sm.add_constant(x_test)\n",
    "        y_train_ = y_train[:]\n",
    "        y_test_ = y_test[:]\n",
    "\n",
    "    elif input_structure == 'NHTS quadratic': # I have concern about its computational problem.\n",
    "        poly = PolynomialFeatures(2, interaction_only = False, include_bias=True)\n",
    "        x_train_ = poly.fit_transform(x_train)\n",
    "        x_test_ = poly.fit_transform(x_test)\n",
    "        y_train_ = y_train[:]\n",
    "        y_test_ = y_test[:]\n",
    "        \n",
    "    elif input_structure == 'BE and NHTS linear':\n",
    "        x_train_ = sm.add_constant(np.concatenate([x_train, BE_train], axis = 1))\n",
    "        x_test_ = sm.add_constant(np.concatenate([x_test, BE_test], axis = 1))\n",
    "        y_train_ = y_train[:]\n",
    "        y_test_ = y_test[:]\n",
    "        \n",
    "    elif input_structure == 'BE and NHTS quadratic': # I have concern about its computational problem. \n",
    "        poly = PolynomialFeatures(2, interaction_only = False, include_bias=True)\n",
    "        x_train_ = poly.fit_transform(np.concatenate([x_train, BE_train], axis = 1))\n",
    "        x_test_ = poly.fit_transform(np.concatenate([x_test, BE_test], axis = 1))\n",
    "        y_train_ = y_train[:]\n",
    "        y_test_ = y_test[:]\n",
    "\n",
    "    elif input_structure == 'CNN and NHTS linear':\n",
    "        x_train_ = sm.add_constant(np.concatenate([x_train, cnn_vector_train], axis = 1))\n",
    "        x_test_ = sm.add_constant(np.concatenate([x_test, cnn_vector_test], axis = 1))\n",
    "        y_train_ = y_train[:]\n",
    "        y_test_ = y_test[:]\n",
    "\n",
    "    elif input_structure == 'CNN BE NHTS linear':\n",
    "        x_train_ = sm.add_constant(np.concatenate([x_train, BE_train, cnn_vector_train], axis = 1))\n",
    "        x_test_ = sm.add_constant(np.concatenate([x_test, BE_test, cnn_vector_test], axis = 1))\n",
    "        y_train_ = y_train[:]\n",
    "        y_test_ = y_test[:]\n",
    "\n",
    "    return x_train_, x_test_, y_train_, y_test_, census_ids"
   ]
  },
  {
   "cell_type": "code",
   "execution_count": 31,
   "metadata": {},
   "outputs": [],
   "source": [
    "x_train, x_test, y_train, y_test, census_ids_train, census_ids_test = initialize_data_linear_reg(df, BE_var, output_var, input_var, last_layer_dic_train, last_layer_dic_test, size, input_structure)\n"
   ]
  },
  {
   "cell_type": "code",
   "execution_count": 32,
   "metadata": {},
   "outputs": [
    {
     "data": {
      "text/plain": [
       "array([ 1001020802,  1003010300,  1003010703, ..., 56037970903,\n",
       "       56039967800, 56041975400])"
      ]
     },
     "execution_count": 32,
     "metadata": {},
     "output_type": "execute_result"
    }
   ],
   "source": [
    "census_ids"
   ]
  },
  {
   "cell_type": "code",
   "execution_count": 34,
   "metadata": {},
   "outputs": [
    {
     "data": {
      "text/plain": [
       "['HHVEHCNT_P_CAP_mean_norm_BE and NHTS linear.pickle',\n",
       " 'HHVEHCNT_P_CAP_mean_norm_BE and NHTS quadratic.pickle',\n",
       " 'HHVEHCNT_P_CAP_mean_norm_BE linear.pickle',\n",
       " 'HHVEHCNT_P_CAP_mean_norm_BE quadratic.pickle',\n",
       " 'HHVEHCNT_P_CAP_mean_norm_NHTS linear.pickle',\n",
       " 'HHVEHCNT_P_CAP_mean_norm_NHTS quadratic.pickle',\n",
       " 'HHVEHCNT_mean_norm_BE and NHTS linear.pickle',\n",
       " 'HHVEHCNT_mean_norm_BE and NHTS quadratic.pickle',\n",
       " 'HHVEHCNT_mean_norm_BE linear.pickle',\n",
       " 'HHVEHCNT_mean_norm_BE quadratic.pickle',\n",
       " 'HHVEHCNT_mean_norm_NHTS linear.pickle',\n",
       " 'HHVEHCNT_mean_norm_NHTS quadratic.pickle',\n",
       " 'TRPTRANS_1_mean_norm_BE and NHTS linear.pickle',\n",
       " 'TRPTRANS_1_mean_norm_BE and NHTS quadratic.pickle',\n",
       " 'TRPTRANS_1_mean_norm_BE linear.pickle',\n",
       " 'TRPTRANS_1_mean_norm_BE quadratic.pickle',\n",
       " 'TRPTRANS_1_mean_norm_NHTS linear.pickle',\n",
       " 'TRPTRANS_1_mean_norm_NHTS quadratic.pickle',\n",
       " 'TRPTRANS_2_mean_norm_BE and NHTS linear.pickle',\n",
       " 'TRPTRANS_2_mean_norm_BE and NHTS quadratic.pickle',\n",
       " 'TRPTRANS_2_mean_norm_BE linear.pickle',\n",
       " 'TRPTRANS_2_mean_norm_BE quadratic.pickle',\n",
       " 'TRPTRANS_2_mean_norm_NHTS linear.pickle',\n",
       " 'TRPTRANS_2_mean_norm_NHTS quadratic.pickle',\n",
       " 'TRPTRANS_3_mean_norm_BE and NHTS linear.pickle',\n",
       " 'TRPTRANS_3_mean_norm_BE and NHTS quadratic.pickle',\n",
       " 'TRPTRANS_3_mean_norm_BE linear.pickle',\n",
       " 'TRPTRANS_3_mean_norm_BE quadratic.pickle',\n",
       " 'TRPTRANS_3_mean_norm_NHTS linear.pickle',\n",
       " 'TRPTRANS_3_mean_norm_NHTS quadratic.pickle']"
      ]
     },
     "execution_count": 34,
     "metadata": {},
     "output_type": "execute_result"
    }
   ],
   "source": [
    "regression_models"
   ]
  },
  {
   "cell_type": "code",
   "execution_count": 35,
   "metadata": {},
   "outputs": [
    {
     "data": {
      "text/plain": [
       "['resnet18_HHVEHCNT_P_CAP_mean_norm_bw.pth',\n",
       " 'resnet18_HHVEHCNT_P_CAP_mean_norm_merge.pth',\n",
       " 'resnet18_HHVEHCNT_P_CAP_mean_norm_rgb.pth',\n",
       " 'resnet18_HHVEHCNT_mean_norm_bw.pth',\n",
       " 'resnet18_HHVEHCNT_mean_norm_merge.pth',\n",
       " 'resnet18_HHVEHCNT_mean_norm_rgb.pth',\n",
       " 'resnet18_TRPTRANS_1_mean_norm_bw.pth',\n",
       " 'resnet18_TRPTRANS_1_mean_norm_merge.pth',\n",
       " 'resnet18_TRPTRANS_1_mean_norm_rgb.pth',\n",
       " 'resnet18_TRPTRANS_2_mean_norm_bw.pth',\n",
       " 'resnet18_TRPTRANS_2_mean_norm_merge.pth',\n",
       " 'resnet18_TRPTRANS_2_mean_norm_rgb.pth',\n",
       " 'resnet18_TRPTRANS_3_mean_norm_bw.pth',\n",
       " 'resnet18_TRPTRANS_3_mean_norm_merge.pth',\n",
       " 'resnet18_TRPTRANS_3_mean_norm_rgb.pth']"
      ]
     },
     "execution_count": 35,
     "metadata": {},
     "output_type": "execute_result"
    }
   ],
   "source": [
    "cnn_models"
   ]
  },
  {
   "cell_type": "code",
   "execution_count": 15,
   "metadata": {},
   "outputs": [],
   "source": [
    "model_summaries = []\n",
    "plots = []"
   ]
  },
  {
   "cell_type": "code",
   "execution_count": 25,
   "metadata": {},
   "outputs": [
    {
     "name": "stdout",
     "output_type": "stream",
     "text": [
      "HHVEHCNT_P_CAP_mean_norm\n",
      "BE and NHTS linear\n",
      "HHVEHCNT_P_CAP_mean_norm\n",
      "BE and NHTS quadratic\n",
      "HHVEHCNT_P_CAP_mean_norm\n",
      "BE linear\n",
      "HHVEHCNT_P_CAP_mean_norm\n",
      "BE quadratic\n",
      "HHVEHCNT_P_CAP_mean_norm\n",
      "NHTS linear\n",
      "HHVEHCNT_P_CAP_mean_norm\n",
      "NHTS quadratic\n",
      "HHVEHCNT_mean_norm\n",
      "BE and NHTS linear\n",
      "HHVEHCNT_mean_norm\n",
      "BE and NHTS quadratic\n",
      "HHVEHCNT_mean_norm\n",
      "BE linear\n",
      "HHVEHCNT_mean_norm\n",
      "BE quadratic\n",
      "HHVEHCNT_mean_norm\n",
      "NHTS linear\n",
      "HHVEHCNT_mean_norm\n",
      "NHTS quadratic\n",
      "TRPTRANS_1_mean_norm\n",
      "BE and NHTS linear\n",
      "TRPTRANS_1_mean_norm\n",
      "BE and NHTS quadratic\n",
      "TRPTRANS_1_mean_norm\n",
      "BE linear\n",
      "TRPTRANS_1_mean_norm\n",
      "BE quadratic\n",
      "TRPTRANS_1_mean_norm\n",
      "NHTS linear\n",
      "TRPTRANS_1_mean_norm\n",
      "NHTS quadratic\n",
      "TRPTRANS_2_mean_norm\n",
      "BE and NHTS linear\n",
      "TRPTRANS_2_mean_norm\n",
      "BE and NHTS quadratic\n",
      "TRPTRANS_2_mean_norm\n",
      "BE linear\n",
      "TRPTRANS_2_mean_norm\n",
      "BE quadratic\n",
      "TRPTRANS_2_mean_norm\n",
      "NHTS linear\n",
      "TRPTRANS_2_mean_norm\n",
      "NHTS quadratic\n",
      "TRPTRANS_3_mean_norm\n",
      "BE and NHTS linear\n",
      "TRPTRANS_3_mean_norm\n",
      "BE and NHTS quadratic\n",
      "TRPTRANS_3_mean_norm\n",
      "BE linear\n",
      "TRPTRANS_3_mean_norm\n",
      "BE quadratic\n",
      "TRPTRANS_3_mean_norm\n",
      "NHTS linear\n",
      "TRPTRANS_3_mean_norm\n",
      "NHTS quadratic\n"
     ]
    }
   ],
   "source": [
    "for model_path in regression_models:\n",
    "    helper = model_path.split(\"_\")\n",
    "    output_var = \"_\".join(helper[:-1])\n",
    "    input_structure = helper[-1].split(\".\")[0]\n",
    "    print(output_var)\n",
    "    print(input_structure)\n",
    "    x_train, x_test, y_train, y_test, census_ids = initialize_data_linear_reg(df, BE_var, output_var, input_var, last_layer_dic_train, last_layer_dic_test, size, input_structure)\n",
    "    \n",
    "    x = np.vstack((x_train,x_test))\n",
    "    y = np.append(y_train,y_test)\n",
    "    with open('/home/jtl/Documents/travel_modeling_nhts/models/' + model_path, 'rb') as h:\n",
    "        model = pickle.load(h)\n",
    "    y_predicted = model.predict(x)\n",
    "    epsilons = y - y_predicted\n",
    "#     original_indices, epsilons_sorted = zip(*sorted(list(zip(np.arange(epsilons.shape[0]), epsilons)), key = lambda x: x[1]))\n",
    "#     model_summaries.append(model.summary())\n",
    "#     plots.append((model_path, original_indices, epsilons_sorted))\n",
    "    "
   ]
  },
  {
   "cell_type": "code",
   "execution_count": null,
   "metadata": {},
   "outputs": [],
   "source": []
  },
  {
   "cell_type": "code",
   "execution_count": null,
   "metadata": {},
   "outputs": [],
   "source": []
  },
  {
   "cell_type": "code",
   "execution_count": null,
   "metadata": {},
   "outputs": [],
   "source": []
  },
  {
   "cell_type": "code",
   "execution_count": null,
   "metadata": {},
   "outputs": [],
   "source": []
  },
  {
   "cell_type": "code",
   "execution_count": null,
   "metadata": {},
   "outputs": [],
   "source": []
  },
  {
   "cell_type": "code",
   "execution_count": null,
   "metadata": {},
   "outputs": [],
   "source": []
  },
  {
   "cell_type": "code",
   "execution_count": 21,
   "metadata": {},
   "outputs": [
    {
     "data": {
      "text/plain": [
       "'HHVEHCNT_P_CAP_mean_norm_BE and NHTS linear.pickle'"
      ]
     },
     "execution_count": 21,
     "metadata": {},
     "output_type": "execute_result"
    }
   ],
   "source": [
    "model_path"
   ]
  },
  {
   "cell_type": "code",
   "execution_count": 24,
   "metadata": {},
   "outputs": [
    {
     "data": {
      "text/plain": [
       "array([ 0.44161388,  0.67212958,  0.24691455, ...,  0.3097408 ,\n",
       "        0.30320931, -0.06894713])"
      ]
     },
     "execution_count": 24,
     "metadata": {},
     "output_type": "execute_result"
    }
   ],
   "source": [
    "model.predict(x)"
   ]
  },
  {
   "cell_type": "code",
   "execution_count": 23,
   "metadata": {},
   "outputs": [
    {
     "data": {
      "text/plain": [
       "array([[1.00000000e+00, 5.14285698e+01, 2.00000000e+00, ...,\n",
       "        0.00000000e+00, 0.00000000e+00, 3.80631234e-03],\n",
       "       [1.00000000e+00, 6.84117661e+01, 2.11764717e+00, ...,\n",
       "        0.00000000e+00, 0.00000000e+00, 1.31539525e-02],\n",
       "       [1.00000000e+00, 4.07272720e+01, 2.72727275e+00, ...,\n",
       "        5.63148502e-03, 1.90894723e-01, 1.11963555e-01],\n",
       "       ...,\n",
       "       [1.00000000e+00, 4.52857132e+01, 2.00000000e+00, ...,\n",
       "        1.40913157e-02, 8.79256010e-01, 9.45076123e-02],\n",
       "       [1.00000000e+00, 4.40526314e+01, 3.10526323e+00, ...,\n",
       "        7.82703501e-05, 5.85923009e-02, 3.75012215e-03],\n",
       "       [1.00000000e+00, 4.71290321e+01, 3.16129041e+00, ...,\n",
       "        2.53887777e-03, 0.00000000e+00, 9.77623370e-03]])"
      ]
     },
     "execution_count": 23,
     "metadata": {},
     "output_type": "execute_result"
    }
   ],
   "source": [
    "x"
   ]
  },
  {
   "cell_type": "code",
   "execution_count": 27,
   "metadata": {},
   "outputs": [
    {
     "data": {
      "text/plain": [
       "18491"
      ]
     },
     "execution_count": 27,
     "metadata": {},
     "output_type": "execute_result"
    }
   ],
   "source": [
    "len(epsilons)"
   ]
  },
  {
   "cell_type": "code",
   "execution_count": 28,
   "metadata": {},
   "outputs": [
    {
     "data": {
      "text/plain": [
       "array([ 1001020802,  1003010300,  1003010703, ..., 56037970903,\n",
       "       56039967800, 56041975400])"
      ]
     },
     "execution_count": 28,
     "metadata": {},
     "output_type": "execute_result"
    }
   ],
   "source": [
    "census_ids"
   ]
  },
  {
   "cell_type": "code",
   "execution_count": null,
   "metadata": {},
   "outputs": [],
   "source": []
  },
  {
   "cell_type": "code",
   "execution_count": null,
   "metadata": {},
   "outputs": [],
   "source": []
  },
  {
   "cell_type": "code",
   "execution_count": null,
   "metadata": {},
   "outputs": [],
   "source": []
  },
  {
   "cell_type": "code",
   "execution_count": null,
   "metadata": {},
   "outputs": [],
   "source": []
  },
  {
   "cell_type": "code",
   "execution_count": null,
   "metadata": {},
   "outputs": [],
   "source": []
  },
  {
   "cell_type": "code",
   "execution_count": null,
   "metadata": {},
   "outputs": [],
   "source": []
  },
  {
   "cell_type": "code",
   "execution_count": null,
   "metadata": {},
   "outputs": [],
   "source": []
  },
  {
   "cell_type": "code",
   "execution_count": null,
   "metadata": {},
   "outputs": [],
   "source": []
  },
  {
   "cell_type": "code",
   "execution_count": null,
   "metadata": {},
   "outputs": [],
   "source": []
  },
  {
   "cell_type": "code",
   "execution_count": null,
   "metadata": {},
   "outputs": [],
   "source": []
  }
 ],
 "metadata": {
  "kernelspec": {
   "display_name": "Python 3",
   "language": "python",
   "name": "python3"
  },
  "language_info": {
   "codemirror_mode": {
    "name": "ipython",
    "version": 3
   },
   "file_extension": ".py",
   "mimetype": "text/x-python",
   "name": "python",
   "nbconvert_exporter": "python",
   "pygments_lexer": "ipython3",
   "version": "3.7.4"
  }
 },
 "nbformat": 4,
 "nbformat_minor": 4
}
