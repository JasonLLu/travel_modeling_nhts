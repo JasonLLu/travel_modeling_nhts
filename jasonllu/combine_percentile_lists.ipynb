{
 "cells": [
  {
   "cell_type": "code",
   "execution_count": 1,
   "metadata": {},
   "outputs": [],
   "source": [
    "import torch\n",
    "import torch.nn as nn\n",
    "import torch.nn.functional as F\n",
    "import torchvision\n",
    "from torchvision import datasets, models, transforms\n",
    "import numpy as np\n",
    "import pandas as pd\n",
    "from matplotlib import pyplot as plt\n",
    "import statsmodels.api as sm\n",
    "from scipy import stats\n",
    "import copy\n",
    "import pickle\n",
    "from torch.utils.data import TensorDataset, DataLoader\n",
    "\n",
    "from tqdm.notebook import tqdm\n",
    "\n",
    "from sklearn.metrics import accuracy_score\n",
    "from sklearn.metrics import confusion_matrix\n",
    "from sklearn.metrics import log_loss\n",
    "from sklearn.metrics import r2_score\n",
    "from sklearn.metrics import mean_squared_error\n",
    "from sklearn.preprocessing import PolynomialFeatures"
   ]
  },
  {
   "cell_type": "code",
   "execution_count": 2,
   "metadata": {},
   "outputs": [
    {
     "name": "stdout",
     "output_type": "stream",
     "text": [
      "30\n",
      "30\n"
     ]
    }
   ],
   "source": [
    "with open('../outputs/percentile0_25_census_id_list.pickle', 'rb') as h:\n",
    "    percentile0_25_census_id_linear_list = pickle.load(h)\n",
    "print(len(percentile0_25_census_id_linear_list))\n",
    "\n",
    "with open('../outputs/percentile75_100_census_id_list.pickle', 'rb') as h:\n",
    "    percentile75_100_census_id_linear_list = pickle.load(h)\n",
    "print(len(percentile75_100_census_id_linear_list))"
   ]
  },
  {
   "cell_type": "code",
   "execution_count": 3,
   "metadata": {},
   "outputs": [
    {
     "name": "stdout",
     "output_type": "stream",
     "text": [
      "5\n",
      "5\n"
     ]
    }
   ],
   "source": [
    "with open('../outputs/percentile0_25_census_id_cnn_bw_list.pickle', 'rb') as h:\n",
    "    percentile0_25_census_id_cnn_bw_list = pickle.load(h)\n",
    "print(len(percentile0_25_census_id_cnn_bw_list))\n",
    "\n",
    "with open('../outputs/percentile75_100_census_id_cnn_bw_list.pickle', 'rb') as h:\n",
    "    percentile75_100_census_id_cnn_bw_list = pickle.load(h)\n",
    "print(len(percentile75_100_census_id_cnn_bw_list))"
   ]
  },
  {
   "cell_type": "code",
   "execution_count": 4,
   "metadata": {},
   "outputs": [],
   "source": [
    "percentile0_25_census_id_list_final = percentile0_25_census_id_linear_list + percentile0_25_census_id_cnn_bw_list\n",
    "percentile75_100_census_id_list_final = percentile75_100_census_id_linear_list + percentile75_100_census_id_cnn_bw_list"
   ]
  },
  {
   "cell_type": "code",
   "execution_count": 5,
   "metadata": {},
   "outputs": [
    {
     "name": "stdout",
     "output_type": "stream",
     "text": [
      "35\n"
     ]
    }
   ],
   "source": [
    "print(len(percentile0_25_census_id_list_final))"
   ]
  },
  {
   "cell_type": "code",
   "execution_count": 7,
   "metadata": {},
   "outputs": [
    {
     "name": "stdout",
     "output_type": "stream",
     "text": [
      "35\n"
     ]
    }
   ],
   "source": [
    "print(len(percentile75_100_census_id_list_final))"
   ]
  },
  {
   "cell_type": "code",
   "execution_count": 8,
   "metadata": {},
   "outputs": [],
   "source": [
    "with open('../outputs/percentile0_25_census_id_list_final.pickle', 'wb') as h:\n",
    "    pickle.dump(percentile0_25_census_id_list_final, h, protocol=pickle.HIGHEST_PROTOCOL)\n",
    "\n",
    "with open('../outputs/percentile75_100_census_id_list_final.pickle', 'wb') as h:\n",
    "    pickle.dump(percentile75_100_census_id_list_final, h, protocol=pickle.HIGHEST_PROTOCOL)"
   ]
  },
  {
   "cell_type": "code",
   "execution_count": null,
   "metadata": {},
   "outputs": [],
   "source": []
  }
 ],
 "metadata": {
  "kernelspec": {
   "display_name": "Python 3",
   "language": "python",
   "name": "python3"
  },
  "language_info": {
   "codemirror_mode": {
    "name": "ipython",
    "version": 3
   },
   "file_extension": ".py",
   "mimetype": "text/x-python",
   "name": "python",
   "nbconvert_exporter": "python",
   "pygments_lexer": "ipython3",
   "version": "3.7.4"
  }
 },
 "nbformat": 4,
 "nbformat_minor": 4
}
