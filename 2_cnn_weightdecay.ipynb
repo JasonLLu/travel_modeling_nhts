{
 "cells": [
  {
   "cell_type": "markdown",
   "metadata": {},
   "source": [
    "# CNN\n",
    "\n",
    "Use Resnet to train models to fit five travel behavioral variables by using images. The default is using only the black and white images with resnet18 to fit continous outputs, but the codes leave the flexibility of using other models, images, and output types. Several functions are not useful yet: bottleneck_resnet18, return_bottleneck_resnet18, and train_discrete_model. \n",
    "\n",
    "#### To be done: adjustment along many dimensions - hyperparameters, model choice, etc."
   ]
  },
  {
   "cell_type": "code",
   "execution_count": 1,
   "metadata": {},
   "outputs": [],
   "source": [
    "import torch\n",
    "import torch.nn as nn\n",
    "import torch.nn.functional as F\n",
    "import torchvision\n",
    "from torchvision import datasets, models, transforms\n",
    "from torch.utils.data import TensorDataset, DataLoader\n",
    "import torch.optim as optim\n",
    "\n",
    "from tqdm.notebook import tqdm\n",
    "\n",
    "import pickle\n",
    "import os \n",
    "\n",
    "import numpy as np\n",
    "import pandas as pd\n",
    "from matplotlib import pyplot as plt\n",
    "import util\n",
    "import statsmodels.api as sm\n",
    "from scipy import stats\n",
    "import copy\n",
    "\n",
    "from sklearn.metrics import accuracy_score\n",
    "from sklearn.metrics import confusion_matrix\n",
    "from sklearn.metrics import log_loss\n",
    "from sklearn.metrics import r2_score\n",
    "from sklearn.metrics import mean_squared_error\n",
    "from sklearn.preprocessing import PolynomialFeatures"
   ]
  },
  {
   "cell_type": "code",
   "execution_count": 2,
   "metadata": {},
   "outputs": [],
   "source": [
    "# ALWAYS choose devise first.\n",
    "# device = torch.device(\"cuda:0\" if torch.cuda.is_available() else \"cpu\")\n",
    "device = torch.device(\"cuda:0\" if torch.cuda.is_available() else \"cpu\")"
   ]
  },
  {
   "cell_type": "markdown",
   "metadata": {},
   "source": [
    "## Helper Functions"
   ]
  },
  {
   "cell_type": "code",
   "execution_count": 3,
   "metadata": {},
   "outputs": [],
   "source": [
    "# CHANGED: filepath for loading datasets\n",
    "\n",
    "def initialize_data(image_type, output_var, output_type, input_var, BE_var, num_categories, size):\n",
    "    # outputs: randomized training and testing sets for NHTS, BE, images, and y.\n",
    "    \n",
    "    ### read image array\n",
    "    if image_type == 'rgb':\n",
    "        image_array_ = np.load(\"../data_process/image_array_rgb_tract_large.npy\", mmap_mode='r')\n",
    "        image_array = image_array_[:size,]\n",
    "    elif image_type == 'bw':\n",
    "        image_array_ = np.load(\"../data_process/image_array_bw_tract_large.npy\", mmap_mode='r')\n",
    "        image_array = image_array_[:size,]        \n",
    "    elif image_type == 'merge':\n",
    "        bw_image_array_ = np.load(\"../data_process/image_array_bw_tract_large.npy\", mmap_mode='r')\n",
    "        rgb_image_array_ = np.load(\"../data_process/image_array_rgb_tract_large.npy\", mmap_mode='r')\n",
    "        bw_image_array = bw_image_array_[:size,]\n",
    "        rgb_image_array = rgb_image_array_[:size,]        \n",
    "        image_array = np.concatenate([rgb_image_array, bw_image_array], axis=1)\n",
    "    \n",
    "    ### create output array\n",
    "    df_ = pd.read_csv(\"../data_process/df_merged_tract_large.csv\")\n",
    "    df = df_.iloc[:size,]\n",
    "    y_ = df[output_var].values \n",
    "    # cut y into categories for discrete variables\n",
    "    if output_type == 'continuous':\n",
    "        y = copy.deepcopy(y_)\n",
    "    elif output_type == 'discrete':\n",
    "        y = np.array(pd.qcut(y_, q = num_categories, labels=np.arange(num_categories))) \n",
    "    x = df[input_var]\n",
    "    BE = df[BE_var]\n",
    "            \n",
    "    ### randomization\n",
    "    shuffle_idx = np.arange(size)\n",
    "    np.random.seed(0) # important: don't change the seed number, unless the seed number across scripts are all changed.\n",
    "    np.random.shuffle(shuffle_idx)\n",
    "    train_ratio = 0.8\n",
    "\n",
    "    ###\n",
    "    # y\n",
    "    if output_type == 'discrete':\n",
    "        y_train = y[shuffle_idx[:int(train_ratio*size)]].astype(\"int\")\n",
    "        y_test = y[shuffle_idx[int(train_ratio*size):]].astype(\"int\")\n",
    "    elif output_type == 'continuous':\n",
    "        y_train = y[shuffle_idx[:int(train_ratio*size)]].astype(\"float32\")\n",
    "        y_test = y[shuffle_idx[int(train_ratio*size):]].astype(\"float32\")\n",
    "    # BE\n",
    "    BE_train = BE.values[shuffle_idx[:int(train_ratio*size)]].astype(\"float32\")\n",
    "    BE_test = BE.values[shuffle_idx[int(train_ratio*size):]].astype(\"float32\")        \n",
    "    # image array\n",
    "    x_train_images = image_array[shuffle_idx[:int(train_ratio*size)],].astype(\"float32\")\n",
    "    x_test_images = image_array[shuffle_idx[int(train_ratio*size):],].astype(\"float32\")\n",
    "    # NHTS\n",
    "    x_train = x.values[shuffle_idx[:int(train_ratio*size)]].astype(\"float32\")\n",
    "    x_test = x.values[shuffle_idx[int(train_ratio*size):]].astype(\"float32\")\n",
    "    \n",
    "    return y_train,y_test,BE_train,BE_test,x_train,x_test,x_train_images,x_test_images\n",
    "\n",
    "# # test \n",
    "# image_type = 'bw'\n",
    "# output_var = 'HHFAMINC_mean'\n",
    "# output_type = 'continuous'\n",
    "# input_var=['R_AGE_IMP_mean', 'HHSIZE_mean', 'HHFAMINC_mean', 'HBHTNRNT_mean', 'HBPPOPDN_mean', 'HBRESDN_mean', \n",
    "#            'R_SEX_IMP_2_mean', 'EDUC_2_mean', 'HH_RACE_2_mean', 'HOMEOWN_1_mean', 'HOMEOWN_2_mean',\n",
    "#            'HBHUR_R_mean', 'HBHUR_S_mean', 'HBHUR_T_mean','HBHUR_U_mean']\n",
    "# BE_var = ['density', 'diversity', 'design']\n",
    "# num_categories = 1 # (1) certain category values can cause errors. (2) when output_type = 'continuous', this value needs to be 1.\n",
    "# size = 10000 # size needs to be smaller than the max\n",
    "# # \n",
    "# y_train,y_test,BE_train,BE_test,x_train,x_test,x_train_images,x_test_images = \\\n",
    "#     initialize_data(image_type, output_var, output_type, input_var, BE_var, num_categories, size)\n",
    "\n",
    "# print(y_train.shape)\n",
    "# print(y_test.shape)\n",
    "# print(x_train_images.shape)\n",
    "# print(x_test_images.shape)\n",
    "# plt.figure()\n",
    "# plt.boxplot(y_train)\n",
    "# plt.figure()\n",
    "# plt.boxplot(y_test)"
   ]
  },
  {
   "cell_type": "code",
   "execution_count": 4,
   "metadata": {},
   "outputs": [],
   "source": [
    "def initialize_model(model_name, num_categories, input_channels = 3, use_pretrained=True, full_training=False):\n",
    "    # initliaze the CNN model.\n",
    "    # default input image size = 3*224*224, but inputs and output channels can be changed. \n",
    "    # num_categories: output channels. For continuous varialbes, use num_categories = 1.\n",
    "    # return the model\n",
    "\n",
    "    if model_name == 'resnet18':\n",
    "        \"\"\" resnet 18\"\"\"\n",
    "        model_ft = models.resnet18(pretrained=use_pretrained)\n",
    "        # train only the last layer.\n",
    "        for param in model_ft.parameters():\n",
    "            param.requires_grad=full_training\n",
    "        if input_channels != 3:\n",
    "            # Edit the input channels.\n",
    "            model_ft.conv1 = nn.Conv2d(input_channels, 64, kernel_size=(7, 7), stride=(2, 2), padding=(3, 3), bias=False)\n",
    "        num_ftrs = model_ft.fc.in_features\n",
    "        model_ft.fc = nn.Linear(num_ftrs, num_categories) # if output_type == continuous, then num_categories = 1.\n",
    "\n",
    "    elif model_name == 'alexnet':\n",
    "        \"\"\" alexnet \"\"\"\n",
    "        model_ft = models.alexnet(pretrained=use_pretrained)\n",
    "        for param in model_ft.parameters():\n",
    "            param.requires_grad = full_training \n",
    "        if input_channels != 3:\n",
    "            model_ft.features[0] = nn.Conv2d(input_channels, 64, kernel_size=(11, 11), stride=(4, 4), padding=(2, 2))    \n",
    "        num_ftrs = model_ft.classifier[6].in_features\n",
    "        model_ft.classifier[6] = nn.Linear(num_ftrs, num_categories) # if output_type == continuous, then num_categories = 1.\n",
    "\n",
    "    elif model_name == 'vgg':\n",
    "        model_ft = models.vgg11_bn(pretrained=use_pretrained)\n",
    "        for param in model_ft.parameters():\n",
    "            param.requires_grad = full_training \n",
    "        if input_channels != 3:\n",
    "            model_ft.features[0] = nn.Conv2d(input_channels, 64, kernel_size=(3, 3), stride=(1, 1), padding=(1, 1))\n",
    "        num_ftrs = model_ft.classifier[6].in_features\n",
    "        model_ft.classifier[6] = nn.Linear(num_ftrs, num_categories) # if output_type == continuous, then num_categories = 1.\n",
    "\n",
    "    elif model_name == 'squeezenet':\n",
    "        model_ft = models.squeezenet1_0(pretrained=use_pretrained)\n",
    "        for param in model_ft.parameters():\n",
    "            param.requires_grad = full_training \n",
    "        if input_channels != 3:\n",
    "            model_ft.features[0] = nn.Conv2d(input_channels, 96, kernel_size=(7, 7), stride=(2, 2))\n",
    "        model_ft.classifier[1] = nn.Conv2d(512, num_categories, kernel_size=(1,1), stride=(1,1))\n",
    "\n",
    "    elif model_name == 'densenet':\n",
    "        model_ft = models.densenet121(pretrained=use_pretrained)\n",
    "        for param in model_ft.parameters():\n",
    "            param.requires_grad = full_training\n",
    "        if input_channels != 3:\n",
    "            model_ft.features[0] = nn.Conv2d(input_channels, 64, kernel_size=(7, 7), stride=(2, 2), padding=(3, 3), bias=False)\n",
    "        num_ftrs = model_ft.classifier.in_features\n",
    "        model_ft.classifier = nn.Linear(num_ftrs, num_categories)\n",
    "\n",
    "    elif model_name == 'wide_resnet':\n",
    "        model_ft = models.wide_resnet50_2(pretrained=use_pretrained)\n",
    "        for param in model_ft.parameters():\n",
    "            param.requires_grad = full_training \n",
    "        if input_channels != 3:\n",
    "            model_ft.conv1 = nn.Conv2d(input_channels, 64, kernel_size=(7, 7), stride=(2, 2), padding=(3, 3), bias=False)\n",
    "        num_ftrs = model_ft.fc.in_features\n",
    "        model_ft.fc = nn.Linear(num_ftrs, num_categories)\n",
    "        \n",
    "    elif model_name == 'mnasnet':\n",
    "        model_ft = models.mnasnet1_0(pretrained=use_pretrained)\n",
    "        for param in model_ft.parameters():\n",
    "            param.requires_grad = full_training\n",
    "        if input_channels != 3:\n",
    "            model_ft.layers[0] = nn.Conv2d(input_channels, 32, kernel_size=(3, 3), stride=(2, 2), padding=(1, 1), bias=False)\n",
    "        num_ftrs = model_ft.classifier[1].in_features\n",
    "        model_ft.classifier[1] = nn.Linear(num_ftrs, num_categories)\n",
    "        \n",
    "    return model_ft\n",
    "\n",
    "# # test 1. initialize model for continuous var\n",
    "# model_name = 'resnet18'\n",
    "# num_categories = 1 \n",
    "# input_channels = 4\n",
    "# use_pretrained = True\n",
    "# full_training = True\n",
    "# model = initialize_model(model_name, num_categories, input_channels, use_pretrained, full_training)\n",
    "# model.to(device)\n",
    "\n",
    "# # test 2. initialize model for discrete var\n",
    "# model_name = 'resnet18'\n",
    "# # num_categories = 1 \n",
    "# input_channels = 4\n",
    "# use_pretrained = True\n",
    "# full_training = True\n",
    "# model = initialize_model(model_name, num_categories, input_channels, use_pretrained, full_training)\n",
    "# model.to(device)\n",
    "\n",
    "# # test 3. initialize model for continuous var\n",
    "# model_name = 'bottleneck_resnet18'\n",
    "# num_categories = 1 \n",
    "# input_channels = 4\n",
    "# use_pretrained = True\n",
    "# full_training = True\n",
    "# model = initialize_model(model_name, num_categories, input_channels, use_pretrained, full_training)\n",
    "# model.to(device)\n"
   ]
  },
  {
   "cell_type": "code",
   "execution_count": 5,
   "metadata": {},
   "outputs": [],
   "source": [
    "# class bottleneck_resnet18(nn.Module):\n",
    "#     # This model does NOT work yet. It seems that the fc layer or the upsampling do not work...\n",
    "#     # Goal: create a resnet architecture with bottleneck in the middle that reduces information into several nodes.\n",
    "#     def __init__(self, num_categories, num_bottleneck, input_channels = 3, use_pretrained=True, full_training=False):\n",
    "#         super(bottleneck_resnet18, self).__init__()\n",
    "#         ref = models.resnet18(pretrained=use_pretrained)\n",
    "#         self.sequence1 = nn.Sequential(ref.conv1, ref.bn1, ref.relu, ref.maxpool, ref.layer1,\n",
    "#                                        ref.layer2)\n",
    "#         ### condense \n",
    "#         if num_bottleneck == 1:\n",
    "#             self.condense = nn.AvgPool3d((128,28,28))\n",
    "#         elif num_bottleneck == 2:\n",
    "#             self.condense = nn.AvgPool3d((128,28,14))\n",
    "#         elif num_bottleneck == 3:\n",
    "#             self.condense = nn.AvgPool3d((128,28,9))\n",
    "\n",
    "#         ### upsampling\n",
    "#         self.upsample = nn.Sequential(nn.Conv2d(num_bottleneck, 128, kernel_size=(3, 3), stride=(2, 2), padding=(1, 1), bias=False),\n",
    "#                                       nn.Upsample((28, 28)))\n",
    "#         self.sequence2 = nn.Sequential(ref.layer3, ref.layer4, ref.avgpool)\n",
    "#         self.fc = ref.fc\n",
    "        \n",
    "#         ### edit parameters\n",
    "#         for param in self.parameters():\n",
    "#             param.requires_grad=full_training\n",
    "#         if input_channels != 3:\n",
    "#             self.sequence1[0]=nn.Conv2d(input_channels, 64, kernel_size=(7, 7), stride=(2, 2), padding=(3, 3), bias=False)\n",
    "#         num_ftrs=self.fc.in_features\n",
    "#         self.fc=nn.Linear(num_ftrs, num_categories)\n",
    "        \n",
    "#     def forward(self, x):\n",
    "#         x=self.sequence1(x)\n",
    "#         x=self.condense(x)\n",
    "#         x=self.upsample(x)\n",
    "#         x=self.sequence2(x)\n",
    "#         x=x.squeeze() # sw: this line is important, but I don't understand why resnet18 does not need it...\n",
    "#         out=self.fc(x)\n",
    "#         return out"
   ]
  },
  {
   "cell_type": "code",
   "execution_count": 6,
   "metadata": {},
   "outputs": [],
   "source": [
    "# def return_bottleneck_renset(model,device,x_train_images,x_test_images,y_train,y_test):\n",
    "#     # This function does not work yet.\n",
    "#     # Goal: return the several nodes' values from the bottleneck resnet architecture.\n",
    "#     from sklearn.preprocessing import MinMaxScaler\n",
    "\n",
    "#     bottleneck_train_list = []\n",
    "#     def hook_train(module,inputs,outputs):\n",
    "#         bottleneck_train_list.append(outputs)\n",
    "        \n",
    "#     bottleneck_test_list = []\n",
    "#     def hook_test(module,inputs,outputs):\n",
    "#         bottleneck_test_list.append(outputs)\n",
    "\n",
    "#     x_train_images_norm = x_train_images/255\n",
    "#     x_test_images_norm = x_test_images/255\n",
    "\n",
    "#     x_train_torch = torch.from_numpy(x_train_images_norm)\n",
    "#     x_test_torch = torch.from_numpy(x_test_images_norm)\n",
    "#     y_train_torch = torch.from_numpy(y_train)\n",
    "#     y_test_torch = torch.from_numpy(y_test)\n",
    "\n",
    "#     # create data loader: train and test. \n",
    "#     train_ds = TensorDataset(x_train_torch, y_train_torch)\n",
    "#     batch_size = 50\n",
    "#     train_dl_no_shuffle = DataLoader(train_ds, batch_size, shuffle = False) # important: NO SHUFFLE.\n",
    "\n",
    "#     test_ds = TensorDataset(x_test_torch, y_test_torch)\n",
    "#     batch_size = 50\n",
    "#     test_dl_no_shuffle = DataLoader(test_ds, batch_size, shuffle = False) # important: NO SHUFFLE.\n",
    "\n",
    "#     for param in model.parameters():\n",
    "#         param.requires_grad=False # save space\n",
    "    \n",
    "#     for inputs, labels in train_dl_no_shuffle:\n",
    "#         # to device\n",
    "#         inputs = inputs.to(device)\n",
    "#         labels = labels.to(device)\n",
    "#         outputs = model(inputs)\n",
    "#         bottleneck_train_list = model.layer3[1].conv1.register_forward_hook(hook_train)\n",
    "\n",
    "#     for inputs, labels in test_dl_no_shuffle:\n",
    "#         inputs = inputs.to(device)\n",
    "#         labels = labels.to(device)\n",
    "#         outputs = model(inputs)\n",
    "#         bottleneck_test_list = model.layer3[1].conv1.register_forward_hook(hook_test)\n",
    "\n",
    "#     return bottleneck_train_list,bottleneck_test_list\n"
   ]
  },
  {
   "cell_type": "code",
   "execution_count": 7,
   "metadata": {},
   "outputs": [],
   "source": [
    "# def train_discrete_model(model, train_dl, test_dl, criterion, optimizer, device, n_epoch = 25):\n",
    "#     # Train a model with discrete outputs.\n",
    "#     # Outputs: model; training and testing accuracy/log-loss.\n",
    "#     # But so far this function is not used because of bad performance on discrete outputs.\n",
    "#     log_loss_train_list=[]\n",
    "#     log_loss_test_list=[]\n",
    "#     accuracy_train_list=[]\n",
    "#     accuracy_test_list=[]\n",
    "\n",
    "#     # automatic model searching.\n",
    "#     best_model_wts = copy.deepcopy(model.state_dict())\n",
    "#     best_acc = 0.0\n",
    "    \n",
    "#     # iterate\n",
    "#     for epoch in range(n_epoch):\n",
    "    \n",
    "#         running_log_loss_train = 0.0\n",
    "#         running_log_loss_test = 0.0\n",
    "#         correct_train = 0\n",
    "#         total_train = 0\n",
    "#         correct_test = 0\n",
    "#         total_test = 0\n",
    "\n",
    "#         # training    \n",
    "#         for inputs, labels in tqdm(train_dl):\n",
    "#             # to device\n",
    "#             inputs = inputs.to(device)\n",
    "#             labels = labels.to(device)\n",
    "\n",
    "#             # forward + backward\n",
    "#             outputs = model(inputs)\n",
    "#             loss = criterion(outputs, labels)\n",
    "#             loss.backward()\n",
    "\n",
    "#             # evaluate prediction\n",
    "#             _, predicted = torch.max(outputs.data, 1)\n",
    "#             total_train += labels.size(0)\n",
    "#             correct_train += (predicted == labels).sum().item()\n",
    "\n",
    "#             # evaluate log loss\n",
    "#             running_log_loss_train += loss.item()\n",
    "\n",
    "#             # optimize\n",
    "#             with torch.no_grad():\n",
    "#                 optimizer.step()\n",
    "#                 optimizer.zero_grad()\n",
    "\n",
    "#         # testing\n",
    "#         for inputs, labels in test_dl:\n",
    "#             # to device\n",
    "#             inputs = inputs.to(device)\n",
    "#             labels = labels.to(device)\n",
    "\n",
    "#             # forward + backward\n",
    "#             outputs = model(inputs)\n",
    "#             loss = criterion(outputs, labels)\n",
    "\n",
    "#             # evaluate log loss\n",
    "#             running_log_loss_test += loss.item()\n",
    "\n",
    "#             # evaluate prediction\n",
    "#             _, predicted = torch.max(outputs.data, 1)\n",
    "#             total_test += labels.size(0)\n",
    "#             correct_test += (predicted == labels).sum().item()\n",
    "        \n",
    "#         # print\n",
    "#         print(\"Epoch {}: Training Loss {}; Testing Loss {}\".format(epoch, running_log_loss_train, running_log_loss_test))\n",
    "#         print(\"Epoch {}: Training Accuracy {}; Testing Accuracy {}\".format(epoch, correct_train/total_train, correct_test/total_test))\n",
    "\n",
    "#         # append loss here.\n",
    "#         log_loss_train_list.append(running_log_loss_train)\n",
    "#         log_loss_test_list.append(running_log_loss_test)\n",
    "#         accuracy_train_list.append(correct_train/total_train)\n",
    "#         accuracy_test_list.append(correct_test/total_test)\n",
    "        \n",
    "#         if correct_test/total_test > best_acc:\n",
    "#             best_acc = correct_test/total_test\n",
    "#             best_model_wts = copy.deepcopy(model.state_dict())\n",
    "\n",
    "#     # load the best model weights\n",
    "#     model.load_state_dict(best_model_wts)\n",
    "#     return model, log_loss_train_list, log_loss_test_list, accuracy_train_list, accuracy_test_list\n"
   ]
  },
  {
   "cell_type": "code",
   "execution_count": 8,
   "metadata": {},
   "outputs": [],
   "source": [
    "def train_continuous_model(model, train_dl, test_dl, criterion, optimizer, device, total_mse_train, total_mse_test, n_epoch = 25):\n",
    "    # This function trains the model with continous outputs.\n",
    "    # outputs: model, and R2 and MSE for training and testing\n",
    "    mse_train_list = []\n",
    "    mse_test_list = []\n",
    "    r_square_train_list = []\n",
    "    r_square_test_list = []\n",
    "\n",
    "    # automatic model searching.\n",
    "    best_model_wts = copy.deepcopy(model.state_dict())\n",
    "    best_r_square = 0.0\n",
    "    \n",
    "    for epoch in range(n_epoch): \n",
    "        running_mse_train = 0.0\n",
    "        running_mse_test = 0.0\n",
    "        \n",
    "        # training\n",
    "        for inputs, labels in tqdm(train_dl):\n",
    "            # to device\n",
    "            inputs = inputs.to(device)\n",
    "            labels = labels.to(device)\n",
    "\n",
    "            # forward + backward\n",
    "            outputs = model(inputs)\n",
    "            # sw: be careful about the dimension matching at this point...\n",
    "            loss = criterion(outputs.view(-1), labels) # this .view(-1) seems specific to continuous variables\n",
    "            loss.backward()\n",
    "\n",
    "            # performance\n",
    "            running_mse_train += loss.item()*batch_size\n",
    "\n",
    "            # optimize\n",
    "            with torch.no_grad():\n",
    "                optimizer.step()\n",
    "                optimizer.zero_grad()\n",
    "\n",
    "        # testing\n",
    "        for inputs, labels in test_dl:\n",
    "            # to device\n",
    "            inputs = inputs.to(device)\n",
    "            labels = labels.to(device)\n",
    "\n",
    "            # forward + backward        \n",
    "            outputs = model(inputs)\n",
    "            loss = criterion(outputs.view(-1), labels) # this .view(-1) is specific to continuous variables\n",
    "            running_mse_test += loss.item()*batch_size # this *batch_size is specific to continuous variables.\n",
    "\n",
    "        # R square for a batch\n",
    "        running_r_square_train = 1-running_mse_train/total_mse_train.item()\n",
    "        running_r_square_test = 1-running_mse_test/total_mse_test.item()\n",
    "        \n",
    "        print(\"Epoch {}: Training MSE {}; Testing MSE {}\".format(epoch, running_mse_train, running_mse_test))\n",
    "        print(\"Epoch {}: Training R2 {}; Testing R2 {}\".format(epoch, running_r_square_train, running_r_square_test))\n",
    "\n",
    "        mse_train_list.append(running_mse_train)\n",
    "        mse_test_list.append(running_mse_test)\n",
    "        r_square_train_list.append(running_r_square_train)\n",
    "        r_square_test_list.append(running_r_square_test)\n",
    "\n",
    "        # check overfitting for early stopping. This is designed in an ad-hoc way.\n",
    "        if epoch > 5 and running_r_square_test < 0.0:\n",
    "            break # break the for loop.\n",
    "        \n",
    "        # store the best performance.\n",
    "        if running_r_square_test > best_r_square:\n",
    "            best_r_square = running_r_square_test\n",
    "            best_model_wts = copy.deepcopy(model.state_dict())\n",
    "\n",
    "    # load the weights of the best model\n",
    "    model.load_state_dict(best_model_wts)\n",
    "    return model, mse_train_list, mse_test_list, r_square_train_list, r_square_test_list\n"
   ]
  },
  {
   "cell_type": "markdown",
   "metadata": {},
   "source": [
    "## Train resnet18 for continous outputs."
   ]
  },
  {
   "cell_type": "code",
   "execution_count": 9,
   "metadata": {},
   "outputs": [],
   "source": [
    "#CHANGED: only selected needed vars\n",
    "# set up.\n",
    "output_list = ['HHVEHCNT_mean_norm', 'HHVEHCNT_P_CAP_mean_norm', 'TRPTRANS_1_mean_norm', 'TRPTRANS_2_mean_norm', 'TRPTRANS_3_mean_norm']\n",
    "input_var=['R_AGE_IMP_mean', 'HHSIZE_mean', 'HHFAMINC_mean', 'HBHTNRNT_mean', 'HBPPOPDN_mean', 'HBRESDN_mean', \n",
    "           'R_SEX_IMP_2_mean', 'EDUC_2_mean', 'HH_RACE_2_mean', 'HOMEOWN_1_mean', 'HOMEOWN_2_mean',\n",
    "           'HBHUR_R_mean', 'HBHUR_S_mean', 'HBHUR_T_mean','HBHUR_U_mean']\n",
    "BE_var = ['density', 'diversity', 'design']\n",
    "image_types = ['bw'] # It can be 'rgb', 'bw', 'merge'\n",
    "output_type = 'continuous' \n",
    "num_categories = 1 # Certain category values can cause errors. When output_type = 'continuous', this value needs to be 1.\n",
    "size = 12000 # size needs to be smaller than the max (18491).\n",
    "\n",
    "model_name = 'resnet18' \n",
    "model_dic = {}\n"
   ]
  },
  {
   "cell_type": "code",
   "execution_count": 10,
   "metadata": {
    "scrolled": true
   },
   "outputs": [
    {
     "name": "stdout",
     "output_type": "stream",
     "text": [
      "HHVEHCNT_mean_norm\n",
      "tensor(10700.4521)\n",
      "tensor(2549.4304)\n"
     ]
    },
    {
     "data": {
      "application/vnd.jupyter.widget-view+json": {
       "model_id": "2cfdbb5cad8e48e2b622262161a957ab",
       "version_major": 2,
       "version_minor": 0
      },
      "text/plain": [
       "HBox(children=(FloatProgress(value=0.0, max=96.0), HTML(value='')))"
      ]
     },
     "metadata": {},
     "output_type": "display_data"
    },
    {
     "name": "stdout",
     "output_type": "stream",
     "text": [
      "\n",
      "Epoch 0: Training MSE 12494.812524318695; Testing MSE 2335.9457969665527\n",
      "Epoch 0: Training R2 -0.16769014533121496; Testing R2 0.0837381641354481\n"
     ]
    },
    {
     "data": {
      "application/vnd.jupyter.widget-view+json": {
       "model_id": "c56b24c7e0a54ab2953f269ad904a9e3",
       "version_major": 2,
       "version_minor": 0
      },
      "text/plain": [
       "HBox(children=(FloatProgress(value=0.0, max=96.0), HTML(value='')))"
      ]
     },
     "metadata": {},
     "output_type": "display_data"
    },
    {
     "name": "stdout",
     "output_type": "stream",
     "text": [
      "\n",
      "Epoch 1: Training MSE 9704.126071929932; Testing MSE 2277.850642800331\n",
      "Epoch 1: Training R2 0.09311065202539626; Testing R2 0.10652566745864211\n"
     ]
    },
    {
     "data": {
      "application/vnd.jupyter.widget-view+json": {
       "model_id": "939689d3a9884057b88c5c7c93529af5",
       "version_major": 2,
       "version_minor": 0
      },
      "text/plain": [
       "HBox(children=(FloatProgress(value=0.0, max=96.0), HTML(value='')))"
      ]
     },
     "metadata": {},
     "output_type": "display_data"
    },
    {
     "name": "stdout",
     "output_type": "stream",
     "text": [
      "\n",
      "Epoch 2: Training MSE 9586.30256652832; Testing MSE 2290.5133962631226\n",
      "Epoch 2: Training R2 0.10412172929270747; Testing R2 0.10155877235774358\n"
     ]
    },
    {
     "data": {
      "application/vnd.jupyter.widget-view+json": {
       "model_id": "ea14fbf12f60459e9b3e128e38276a32",
       "version_major": 2,
       "version_minor": 0
      },
      "text/plain": [
       "HBox(children=(FloatProgress(value=0.0, max=96.0), HTML(value='')))"
      ]
     },
     "metadata": {},
     "output_type": "display_data"
    },
    {
     "name": "stdout",
     "output_type": "stream",
     "text": [
      "\n",
      "Epoch 3: Training MSE 9583.523631095886; Testing MSE 2270.64625620842\n",
      "Epoch 3: Training R2 0.1043814319103058; Testing R2 0.10935154830465943\n"
     ]
    },
    {
     "data": {
      "application/vnd.jupyter.widget-view+json": {
       "model_id": "9267e26080f54d27b85a770740d03967",
       "version_major": 2,
       "version_minor": 0
      },
      "text/plain": [
       "HBox(children=(FloatProgress(value=0.0, max=96.0), HTML(value='')))"
      ]
     },
     "metadata": {},
     "output_type": "display_data"
    },
    {
     "name": "stdout",
     "output_type": "stream",
     "text": [
      "\n",
      "Epoch 4: Training MSE 9429.765558242798; Testing MSE 2296.057790517807\n",
      "Epoch 4: Training R2 0.11875073805925573; Testing R2 0.09938401433675226\n"
     ]
    },
    {
     "data": {
      "application/vnd.jupyter.widget-view+json": {
       "model_id": "e2824ecb2da641d6b7c0acb93034ac0d",
       "version_major": 2,
       "version_minor": 0
      },
      "text/plain": [
       "HBox(children=(FloatProgress(value=0.0, max=96.0), HTML(value='')))"
      ]
     },
     "metadata": {},
     "output_type": "display_data"
    },
    {
     "name": "stdout",
     "output_type": "stream",
     "text": [
      "\n",
      "Epoch 5: Training MSE 9391.749757528305; Testing MSE 2316.309541463852\n",
      "Epoch 5: Training R2 0.1223034665035434; Testing R2 0.09144037689217144\n"
     ]
    },
    {
     "data": {
      "application/vnd.jupyter.widget-view+json": {
       "model_id": "bcae2f841fdc49de9cc75c1603489925",
       "version_major": 2,
       "version_minor": 0
      },
      "text/plain": [
       "HBox(children=(FloatProgress(value=0.0, max=96.0), HTML(value='')))"
      ]
     },
     "metadata": {},
     "output_type": "display_data"
    },
    {
     "name": "stdout",
     "output_type": "stream",
     "text": [
      "\n",
      "Epoch 6: Training MSE 9334.821027517319; Testing MSE 2329.2784571647644\n",
      "Epoch 6: Training R2 0.12762368374495214; Testing R2 0.08635339134450937\n"
     ]
    },
    {
     "data": {
      "application/vnd.jupyter.widget-view+json": {
       "model_id": "e070c2d6c357491eb484d296a0c40506",
       "version_major": 2,
       "version_minor": 0
      },
      "text/plain": [
       "HBox(children=(FloatProgress(value=0.0, max=96.0), HTML(value='')))"
      ]
     },
     "metadata": {},
     "output_type": "display_data"
    },
    {
     "name": "stdout",
     "output_type": "stream",
     "text": [
      "\n",
      "Epoch 7: Training MSE 9334.156718850136; Testing MSE 2316.505402326584\n",
      "Epoch 7: Training R2 0.1276857660437155; Testing R2 0.09136355155063569\n"
     ]
    },
    {
     "data": {
      "application/vnd.jupyter.widget-view+json": {
       "model_id": "abd848c2838d45a99451b246e923c054",
       "version_major": 2,
       "version_minor": 0
      },
      "text/plain": [
       "HBox(children=(FloatProgress(value=0.0, max=96.0), HTML(value='')))"
      ]
     },
     "metadata": {},
     "output_type": "display_data"
    },
    {
     "name": "stdout",
     "output_type": "stream",
     "text": [
      "\n",
      "Epoch 8: Training MSE 9152.914446592331; Testing MSE 2367.41606593132\n",
      "Epoch 8: Training R2 0.14462358042236034; Testing R2 0.07139412496542363\n"
     ]
    },
    {
     "data": {
      "application/vnd.jupyter.widget-view+json": {
       "model_id": "1a1c8adefa4d4401a5bfcc56de78d539",
       "version_major": 2,
       "version_minor": 0
      },
      "text/plain": [
       "HBox(children=(FloatProgress(value=0.0, max=96.0), HTML(value='')))"
      ]
     },
     "metadata": {},
     "output_type": "display_data"
    },
    {
     "name": "stdout",
     "output_type": "stream",
     "text": [
      "\n",
      "Epoch 9: Training MSE 8826.690346002579; Testing MSE 2345.312660932541\n",
      "Epoch 9: Training R2 0.1751105258396517; Testing R2 0.0800640634842621\n"
     ]
    },
    {
     "data": {
      "application/vnd.jupyter.widget-view+json": {
       "model_id": "b01cd51cd71f45a8a267e99ed9e0912b",
       "version_major": 2,
       "version_minor": 0
      },
      "text/plain": [
       "HBox(children=(FloatProgress(value=0.0, max=96.0), HTML(value='')))"
      ]
     },
     "metadata": {},
     "output_type": "display_data"
    },
    {
     "name": "stdout",
     "output_type": "stream",
     "text": [
      "\n",
      "Epoch 10: Training MSE 8701.764953136444; Testing MSE 2397.3969101905823\n",
      "Epoch 10: Training R2 0.18678530286151585; Testing R2 0.05963430440904194\n"
     ]
    },
    {
     "data": {
      "application/vnd.jupyter.widget-view+json": {
       "model_id": "36ae097675b846b38a92597e19de41a9",
       "version_major": 2,
       "version_minor": 0
      },
      "text/plain": [
       "HBox(children=(FloatProgress(value=0.0, max=96.0), HTML(value='')))"
      ]
     },
     "metadata": {},
     "output_type": "display_data"
    },
    {
     "name": "stdout",
     "output_type": "stream",
     "text": [
      "\n",
      "Epoch 11: Training MSE 8264.404666423798; Testing MSE 2514.775538444519\n",
      "Epoch 11: Training R2 0.22765836884466784; Testing R2 0.013593185837336152\n"
     ]
    },
    {
     "data": {
      "application/vnd.jupyter.widget-view+json": {
       "model_id": "5c8fe27a736f43daac21d84ba0e433fa",
       "version_major": 2,
       "version_minor": 0
      },
      "text/plain": [
       "HBox(children=(FloatProgress(value=0.0, max=96.0), HTML(value='')))"
      ]
     },
     "metadata": {},
     "output_type": "display_data"
    },
    {
     "name": "stdout",
     "output_type": "stream",
     "text": [
      "\n",
      "Epoch 12: Training MSE 7439.34286236763; Testing MSE 2802.5209605693817\n",
      "Epoch 12: Training R2 0.3047636904339658; Testing R2 -0.09927336658015662\n",
      "Printing performance_continuous\n",
      "{'HHVEHCNT_mean_norm': {'mse_train_list': [12494.812524318695, 9704.126071929932, 9586.30256652832, 9583.523631095886, 9429.765558242798, 9391.749757528305, 9334.821027517319, 9334.156718850136, 9152.914446592331, 8826.690346002579, 8701.764953136444, 8264.404666423798, 7439.34286236763], 'mse_test_list': [2335.9457969665527, 2277.850642800331, 2290.5133962631226, 2270.64625620842, 2296.057790517807, 2316.309541463852, 2329.2784571647644, 2316.505402326584, 2367.41606593132, 2345.312660932541, 2397.3969101905823, 2514.775538444519, 2802.5209605693817], 'r_square_train_list': [-0.16769014533121496, 0.09311065202539626, 0.10412172929270747, 0.1043814319103058, 0.11875073805925573, 0.1223034665035434, 0.12762368374495214, 0.1276857660437155, 0.14462358042236034, 0.1751105258396517, 0.18678530286151585, 0.22765836884466784, 0.3047636904339658], 'r_square_test_list': [0.0837381641354481, 0.10652566745864211, 0.10155877235774358, 0.10935154830465943, 0.09938401433675226, 0.09144037689217144, 0.08635339134450937, 0.09136355155063569, 0.07139412496542363, 0.0800640634842621, 0.05963430440904194, 0.013593185837336152, -0.09927336658015662]}}\n",
      "Stored 'performance_continuous' (dict)\n",
      "HHVEHCNT_P_CAP_mean_norm\n",
      "tensor(10708.8994)\n",
      "tensor(2445.9663)\n"
     ]
    },
    {
     "data": {
      "application/vnd.jupyter.widget-view+json": {
       "model_id": "7a7a74d3c9d147ae8fe0079a924bcf7f",
       "version_major": 2,
       "version_minor": 0
      },
      "text/plain": [
       "HBox(children=(FloatProgress(value=0.0, max=96.0), HTML(value='')))"
      ]
     },
     "metadata": {},
     "output_type": "display_data"
    },
    {
     "name": "stdout",
     "output_type": "stream",
     "text": [
      "\n",
      "Epoch 0: Training MSE 13517.79315173626; Testing MSE 2250.1290917396545\n",
      "Epoch 0: Training R2 -0.2622952769530389; Testing R2 0.08006537791057611\n"
     ]
    },
    {
     "data": {
      "application/vnd.jupyter.widget-view+json": {
       "model_id": "d24c7839d116429a917ed3dc08b08a41",
       "version_major": 2,
       "version_minor": 0
      },
      "text/plain": [
       "HBox(children=(FloatProgress(value=0.0, max=96.0), HTML(value='')))"
      ]
     },
     "metadata": {},
     "output_type": "display_data"
    },
    {
     "name": "stdout",
     "output_type": "stream",
     "text": [
      "\n",
      "Epoch 1: Training MSE 9738.928842544556; Testing MSE 2217.610442638397\n",
      "Epoch 1: Training R2 0.09057612122532566; Testing R2 0.09336018454262374\n"
     ]
    },
    {
     "data": {
      "application/vnd.jupyter.widget-view+json": {
       "model_id": "9179172c8d37468a8c59e6d114fa674a",
       "version_major": 2,
       "version_minor": 0
      },
      "text/plain": [
       "HBox(children=(FloatProgress(value=0.0, max=96.0), HTML(value='')))"
      ]
     },
     "metadata": {},
     "output_type": "display_data"
    },
    {
     "name": "stdout",
     "output_type": "stream",
     "text": [
      "\n",
      "Epoch 2: Training MSE 9687.812101840973; Testing MSE 2197.448444366455\n",
      "Epoch 2: Training R2 0.09534941666187247; Testing R2 0.10160314283730842\n"
     ]
    },
    {
     "data": {
      "application/vnd.jupyter.widget-view+json": {
       "model_id": "8192263ae1d84b47b2ac73dbad5aec01",
       "version_major": 2,
       "version_minor": 0
      },
      "text/plain": [
       "HBox(children=(FloatProgress(value=0.0, max=96.0), HTML(value='')))"
      ]
     },
     "metadata": {},
     "output_type": "display_data"
    },
    {
     "name": "stdout",
     "output_type": "stream",
     "text": [
      "\n",
      "Epoch 3: Training MSE 9638.836640119553; Testing MSE 2194.745010137558\n",
      "Epoch 3: Training R2 0.099922758872661; Testing R2 0.10270840508863166\n"
     ]
    },
    {
     "data": {
      "application/vnd.jupyter.widget-view+json": {
       "model_id": "27ce28c684024a01a5adf85f3e22ef70",
       "version_major": 2,
       "version_minor": 0
      },
      "text/plain": [
       "HBox(children=(FloatProgress(value=0.0, max=96.0), HTML(value='')))"
      ]
     },
     "metadata": {},
     "output_type": "display_data"
    },
    {
     "name": "stdout",
     "output_type": "stream",
     "text": [
      "\n",
      "Epoch 4: Training MSE 9748.685842752457; Testing MSE 2285.60146689415\n",
      "Epoch 4: Training R2 0.08966500983743753; Testing R2 0.06556298062494503\n"
     ]
    },
    {
     "data": {
      "application/vnd.jupyter.widget-view+json": {
       "model_id": "63ab7b9e8b4947b5b3459ea8d2fce3ee",
       "version_major": 2,
       "version_minor": 0
      },
      "text/plain": [
       "HBox(children=(FloatProgress(value=0.0, max=96.0), HTML(value='')))"
      ]
     },
     "metadata": {},
     "output_type": "display_data"
    },
    {
     "name": "stdout",
     "output_type": "stream",
     "text": [
      "\n",
      "Epoch 5: Training MSE 9814.35797214508; Testing MSE 2186.866444349289\n",
      "Epoch 5: Training R2 0.08353252816463508; Testing R2 0.10592944936899984\n"
     ]
    },
    {
     "data": {
      "application/vnd.jupyter.widget-view+json": {
       "model_id": "4f2c512ad5ce450b839b891a7997920f",
       "version_major": 2,
       "version_minor": 0
      },
      "text/plain": [
       "HBox(children=(FloatProgress(value=0.0, max=96.0), HTML(value='')))"
      ]
     },
     "metadata": {},
     "output_type": "display_data"
    },
    {
     "name": "stdout",
     "output_type": "stream",
     "text": [
      "\n",
      "Epoch 6: Training MSE 9614.409852027893; Testing MSE 2182.7794313430786\n",
      "Epoch 6: Training R2 0.10220373912536396; Testing R2 0.10760036895274505\n"
     ]
    },
    {
     "data": {
      "application/vnd.jupyter.widget-view+json": {
       "model_id": "dbae5dd9888f469c89342d273ffe07f5",
       "version_major": 2,
       "version_minor": 0
      },
      "text/plain": [
       "HBox(children=(FloatProgress(value=0.0, max=96.0), HTML(value='')))"
      ]
     },
     "metadata": {},
     "output_type": "display_data"
    },
    {
     "name": "stdout",
     "output_type": "stream",
     "text": [
      "\n",
      "Epoch 7: Training MSE 9485.965210199356; Testing MSE 2243.18231344223\n",
      "Epoch 7: Training R2 0.11419793543463819; Testing R2 0.08290547357052747\n"
     ]
    },
    {
     "data": {
      "application/vnd.jupyter.widget-view+json": {
       "model_id": "204a9ad98347460ba64ed2f8566938bf",
       "version_major": 2,
       "version_minor": 0
      },
      "text/plain": [
       "HBox(children=(FloatProgress(value=0.0, max=96.0), HTML(value='')))"
      ]
     },
     "metadata": {},
     "output_type": "display_data"
    },
    {
     "name": "stdout",
     "output_type": "stream",
     "text": [
      "\n",
      "Epoch 8: Training MSE 9507.246536016464; Testing MSE 2215.4132425785065\n",
      "Epoch 8: Training R2 0.1122106793222909; Testing R2 0.09425847985117775\n"
     ]
    },
    {
     "data": {
      "application/vnd.jupyter.widget-view+json": {
       "model_id": "4695eaf442e94635b43ccd9aaca94cac",
       "version_major": 2,
       "version_minor": 0
      },
      "text/plain": [
       "HBox(children=(FloatProgress(value=0.0, max=96.0), HTML(value='')))"
      ]
     },
     "metadata": {},
     "output_type": "display_data"
    },
    {
     "name": "stdout",
     "output_type": "stream",
     "text": [
      "\n",
      "Epoch 9: Training MSE 9433.17694067955; Testing MSE 2165.6672298908234\n",
      "Epoch 9: Training R2 0.11912731869604842; Testing R2 0.11459645936990759\n"
     ]
    },
    {
     "data": {
      "application/vnd.jupyter.widget-view+json": {
       "model_id": "cf7084d06d564bc4857a4d9eeb69d588",
       "version_major": 2,
       "version_minor": 0
      },
      "text/plain": [
       "HBox(children=(FloatProgress(value=0.0, max=96.0), HTML(value='')))"
      ]
     },
     "metadata": {},
     "output_type": "display_data"
    },
    {
     "name": "stdout",
     "output_type": "stream",
     "text": [
      "\n",
      "Epoch 10: Training MSE 9298.94287288189; Testing MSE 2213.4597539901733\n",
      "Epoch 10: Training R2 0.13166213320942322; Testing R2 0.09505713704505225\n"
     ]
    },
    {
     "data": {
      "application/vnd.jupyter.widget-view+json": {
       "model_id": "2e71f4a21768489c8d0f9cf4190abfd6",
       "version_major": 2,
       "version_minor": 0
      },
      "text/plain": [
       "HBox(children=(FloatProgress(value=0.0, max=96.0), HTML(value='')))"
      ]
     },
     "metadata": {},
     "output_type": "display_data"
    },
    {
     "name": "stdout",
     "output_type": "stream",
     "text": [
      "\n",
      "Epoch 11: Training MSE 9242.563211917877; Testing MSE 2196.8421459198\n",
      "Epoch 11: Training R2 0.13692688160083832; Testing R2 0.10185101969666055\n"
     ]
    },
    {
     "data": {
      "application/vnd.jupyter.widget-view+json": {
       "model_id": "5f2539f92fae40d491dede1cd3896767",
       "version_major": 2,
       "version_minor": 0
      },
      "text/plain": [
       "HBox(children=(FloatProgress(value=0.0, max=96.0), HTML(value='')))"
      ]
     },
     "metadata": {},
     "output_type": "display_data"
    },
    {
     "name": "stdout",
     "output_type": "stream",
     "text": [
      "\n",
      "Epoch 12: Training MSE 9153.810992836952; Testing MSE 2212.5484824180603\n",
      "Epoch 12: Training R2 0.1452145884556043; Testing R2 0.09542969801161638\n"
     ]
    },
    {
     "data": {
      "application/vnd.jupyter.widget-view+json": {
       "model_id": "46c36a59fa234ea08dc82a0f22bd11ad",
       "version_major": 2,
       "version_minor": 0
      },
      "text/plain": [
       "HBox(children=(FloatProgress(value=0.0, max=96.0), HTML(value='')))"
      ]
     },
     "metadata": {},
     "output_type": "display_data"
    },
    {
     "name": "stdout",
     "output_type": "stream",
     "text": [
      "\n",
      "Epoch 13: Training MSE 8845.664691925049; Testing MSE 2288.030707836151\n",
      "Epoch 13: Training R2 0.17398937557399463; Testing R2 0.06456981856320021\n"
     ]
    },
    {
     "data": {
      "application/vnd.jupyter.widget-view+json": {
       "model_id": "a2cb2d05160e4dc28974707c8b5039ef",
       "version_major": 2,
       "version_minor": 0
      },
      "text/plain": [
       "HBox(children=(FloatProgress(value=0.0, max=96.0), HTML(value='')))"
      ]
     },
     "metadata": {},
     "output_type": "display_data"
    },
    {
     "name": "stdout",
     "output_type": "stream",
     "text": [
      "\n",
      "Epoch 14: Training MSE 8662.580245733261; Testing MSE 2274.6151447296143\n",
      "Epoch 14: Training R2 0.19108585198233297; Testing R2 0.07005458875786807\n"
     ]
    },
    {
     "data": {
      "application/vnd.jupyter.widget-view+json": {
       "model_id": "6d91ffb93f57402d940838f217241b10",
       "version_major": 2,
       "version_minor": 0
      },
      "text/plain": [
       "HBox(children=(FloatProgress(value=0.0, max=96.0), HTML(value='')))"
      ]
     },
     "metadata": {},
     "output_type": "display_data"
    },
    {
     "name": "stdout",
     "output_type": "stream",
     "text": [
      "\n",
      "Epoch 15: Training MSE 8294.310781359673; Testing MSE 2408.6155235767365\n",
      "Epoch 15: Training R2 0.225474956794541; Testing R2 0.015270359565372593\n"
     ]
    },
    {
     "data": {
      "application/vnd.jupyter.widget-view+json": {
       "model_id": "f372043f22f24fce82ccf560e012f831",
       "version_major": 2,
       "version_minor": 0
      },
      "text/plain": [
       "HBox(children=(FloatProgress(value=0.0, max=96.0), HTML(value='')))"
      ]
     },
     "metadata": {},
     "output_type": "display_data"
    },
    {
     "name": "stdout",
     "output_type": "stream",
     "text": [
      "\n",
      "Epoch 16: Training MSE 7592.727687954903; Testing MSE 2509.356313943863\n",
      "Epoch 16: Training R2 0.29098898081119007; Testing R2 -0.02591614002506737\n",
      "Printing performance_continuous\n",
      "{'HHVEHCNT_mean_norm': {'mse_train_list': [12494.812524318695, 9704.126071929932, 9586.30256652832, 9583.523631095886, 9429.765558242798, 9391.749757528305, 9334.821027517319, 9334.156718850136, 9152.914446592331, 8826.690346002579, 8701.764953136444, 8264.404666423798, 7439.34286236763], 'mse_test_list': [2335.9457969665527, 2277.850642800331, 2290.5133962631226, 2270.64625620842, 2296.057790517807, 2316.309541463852, 2329.2784571647644, 2316.505402326584, 2367.41606593132, 2345.312660932541, 2397.3969101905823, 2514.775538444519, 2802.5209605693817], 'r_square_train_list': [-0.16769014533121496, 0.09311065202539626, 0.10412172929270747, 0.1043814319103058, 0.11875073805925573, 0.1223034665035434, 0.12762368374495214, 0.1276857660437155, 0.14462358042236034, 0.1751105258396517, 0.18678530286151585, 0.22765836884466784, 0.3047636904339658], 'r_square_test_list': [0.0837381641354481, 0.10652566745864211, 0.10155877235774358, 0.10935154830465943, 0.09938401433675226, 0.09144037689217144, 0.08635339134450937, 0.09136355155063569, 0.07139412496542363, 0.0800640634842621, 0.05963430440904194, 0.013593185837336152, -0.09927336658015662]}, 'HHVEHCNT_P_CAP_mean_norm': {'mse_train_list': [13517.79315173626, 9738.928842544556, 9687.812101840973, 9638.836640119553, 9748.685842752457, 9814.35797214508, 9614.409852027893, 9485.965210199356, 9507.246536016464, 9433.17694067955, 9298.94287288189, 9242.563211917877, 9153.810992836952, 8845.664691925049, 8662.580245733261, 8294.310781359673, 7592.727687954903], 'mse_test_list': [2250.1290917396545, 2217.610442638397, 2197.448444366455, 2194.745010137558, 2285.60146689415, 2186.866444349289, 2182.7794313430786, 2243.18231344223, 2215.4132425785065, 2165.6672298908234, 2213.4597539901733, 2196.8421459198, 2212.5484824180603, 2288.030707836151, 2274.6151447296143, 2408.6155235767365, 2509.356313943863], 'r_square_train_list': [-0.2622952769530389, 0.09057612122532566, 0.09534941666187247, 0.099922758872661, 0.08966500983743753, 0.08353252816463508, 0.10220373912536396, 0.11419793543463819, 0.1122106793222909, 0.11912731869604842, 0.13166213320942322, 0.13692688160083832, 0.1452145884556043, 0.17398937557399463, 0.19108585198233297, 0.225474956794541, 0.29098898081119007], 'r_square_test_list': [0.08006537791057611, 0.09336018454262374, 0.10160314283730842, 0.10270840508863166, 0.06556298062494503, 0.10592944936899984, 0.10760036895274505, 0.08290547357052747, 0.09425847985117775, 0.11459645936990759, 0.09505713704505225, 0.10185101969666055, 0.09542969801161638, 0.06456981856320021, 0.07005458875786807, 0.015270359565372593, -0.02591614002506737]}}\n",
      "Stored 'performance_continuous' (dict)\n",
      "TRPTRANS_1_mean_norm\n",
      "tensor(11639.5127)\n",
      "tensor(3039.0168)\n"
     ]
    },
    {
     "data": {
      "application/vnd.jupyter.widget-view+json": {
       "model_id": "1ef15bb4373b4705b6da290b89a4ea7f",
       "version_major": 2,
       "version_minor": 0
      },
      "text/plain": [
       "HBox(children=(FloatProgress(value=0.0, max=96.0), HTML(value='')))"
      ]
     },
     "metadata": {},
     "output_type": "display_data"
    },
    {
     "name": "stdout",
     "output_type": "stream",
     "text": [
      "\n",
      "Epoch 0: Training MSE 12353.542298078537; Testing MSE 2275.5121052265167\n",
      "Epoch 0: Training R2 -0.06134531757962636; Testing R2 0.251234125785163\n"
     ]
    },
    {
     "data": {
      "application/vnd.jupyter.widget-view+json": {
       "model_id": "0b371ad6e5d1423eb0a2bc0620ea5f4c",
       "version_major": 2,
       "version_minor": 0
      },
      "text/plain": [
       "HBox(children=(FloatProgress(value=0.0, max=96.0), HTML(value='')))"
      ]
     },
     "metadata": {},
     "output_type": "display_data"
    },
    {
     "name": "stdout",
     "output_type": "stream",
     "text": [
      "\n",
      "Epoch 1: Training MSE 9254.930782318115; Testing MSE 2346.0661947727203\n",
      "Epoch 1: Training R2 0.20486956588437855; Testing R2 0.22801803547425858\n"
     ]
    },
    {
     "data": {
      "application/vnd.jupyter.widget-view+json": {
       "model_id": "aad85bb1e9cf47b18a38a31dc9505f8d",
       "version_major": 2,
       "version_minor": 0
      },
      "text/plain": [
       "HBox(children=(FloatProgress(value=0.0, max=96.0), HTML(value='')))"
      ]
     },
     "metadata": {},
     "output_type": "display_data"
    },
    {
     "name": "stdout",
     "output_type": "stream",
     "text": [
      "\n",
      "Epoch 2: Training MSE 8856.029710173607; Testing MSE 2198.3427464962006\n",
      "Epoch 2: Training R2 0.23914085219906722; Testing R2 0.27662699546912883\n"
     ]
    },
    {
     "data": {
      "application/vnd.jupyter.widget-view+json": {
       "model_id": "4ff187c23dbc4d839c163b0ae63de5d3",
       "version_major": 2,
       "version_minor": 0
      },
      "text/plain": [
       "HBox(children=(FloatProgress(value=0.0, max=96.0), HTML(value='')))"
      ]
     },
     "metadata": {},
     "output_type": "display_data"
    },
    {
     "name": "stdout",
     "output_type": "stream",
     "text": [
      "\n",
      "Epoch 3: Training MSE 8889.580327272415; Testing MSE 2322.157844901085\n",
      "Epoch 3: Training R2 0.23625837610431455; Testing R2 0.23588516852600183\n"
     ]
    },
    {
     "data": {
      "application/vnd.jupyter.widget-view+json": {
       "model_id": "59797009c87f436780deaed2de9f45ca",
       "version_major": 2,
       "version_minor": 0
      },
      "text/plain": [
       "HBox(children=(FloatProgress(value=0.0, max=96.0), HTML(value='')))"
      ]
     },
     "metadata": {},
     "output_type": "display_data"
    },
    {
     "name": "stdout",
     "output_type": "stream",
     "text": [
      "\n",
      "Epoch 4: Training MSE 8864.464828372002; Testing MSE 2167.6906168460846\n",
      "Epoch 4: Training R2 0.23841615534798755; Testing R2 0.2867131947916022\n"
     ]
    },
    {
     "data": {
      "application/vnd.jupyter.widget-view+json": {
       "model_id": "c65de67476b24a4baf425535cc0ba7e4",
       "version_major": 2,
       "version_minor": 0
      },
      "text/plain": [
       "HBox(children=(FloatProgress(value=0.0, max=96.0), HTML(value='')))"
      ]
     },
     "metadata": {},
     "output_type": "display_data"
    },
    {
     "name": "stdout",
     "output_type": "stream",
     "text": [
      "\n",
      "Epoch 5: Training MSE 8601.770061254501; Testing MSE 2142.3894345760345\n",
      "Epoch 5: Training R2 0.26098537916294107; Testing R2 0.2950386446178588\n"
     ]
    },
    {
     "data": {
      "application/vnd.jupyter.widget-view+json": {
       "model_id": "8c6764751ee84c5cbc7c6a9f43fa9695",
       "version_major": 2,
       "version_minor": 0
      },
      "text/plain": [
       "HBox(children=(FloatProgress(value=0.0, max=96.0), HTML(value='')))"
      ]
     },
     "metadata": {},
     "output_type": "display_data"
    },
    {
     "name": "stdout",
     "output_type": "stream",
     "text": [
      "\n",
      "Epoch 6: Training MSE 8634.520545601845; Testing MSE 2238.753390312195\n",
      "Epoch 6: Training R2 0.25817164587318464; Testing R2 0.2633297201107737\n"
     ]
    },
    {
     "data": {
      "application/vnd.jupyter.widget-view+json": {
       "model_id": "39e93fa29a514f2288838bc07f98de05",
       "version_major": 2,
       "version_minor": 0
      },
      "text/plain": [
       "HBox(children=(FloatProgress(value=0.0, max=96.0), HTML(value='')))"
      ]
     },
     "metadata": {},
     "output_type": "display_data"
    },
    {
     "name": "stdout",
     "output_type": "stream",
     "text": [
      "\n",
      "Epoch 7: Training MSE 8396.639877557755; Testing MSE 2293.136125802994\n",
      "Epoch 7: Training R2 0.2786089849844594; Testing R2 0.24543487508295136\n"
     ]
    },
    {
     "data": {
      "application/vnd.jupyter.widget-view+json": {
       "model_id": "ce209f6055424e5084cecde6232154e0",
       "version_major": 2,
       "version_minor": 0
      },
      "text/plain": [
       "HBox(children=(FloatProgress(value=0.0, max=96.0), HTML(value='')))"
      ]
     },
     "metadata": {},
     "output_type": "display_data"
    },
    {
     "name": "stdout",
     "output_type": "stream",
     "text": [
      "\n",
      "Epoch 8: Training MSE 7821.350142359734; Testing MSE 2269.827616214752\n",
      "Epoch 8: Training R2 0.32803457093959165; Testing R2 0.2531046284182109\n"
     ]
    },
    {
     "data": {
      "application/vnd.jupyter.widget-view+json": {
       "model_id": "44cc4e9768e248eea0eabc2255f9e2c6",
       "version_major": 2,
       "version_minor": 0
      },
      "text/plain": [
       "HBox(children=(FloatProgress(value=0.0, max=96.0), HTML(value='')))"
      ]
     },
     "metadata": {},
     "output_type": "display_data"
    },
    {
     "name": "stdout",
     "output_type": "stream",
     "text": [
      "\n",
      "Epoch 9: Training MSE 7166.633573174477; Testing MSE 2245.8272516727448\n",
      "Epoch 9: Training R2 0.3842840537421601; Testing R2 0.261002039245644\n"
     ]
    },
    {
     "data": {
      "application/vnd.jupyter.widget-view+json": {
       "model_id": "2f6d19c4d693462daa4a3184276b818e",
       "version_major": 2,
       "version_minor": 0
      },
      "text/plain": [
       "HBox(children=(FloatProgress(value=0.0, max=96.0), HTML(value='')))"
      ]
     },
     "metadata": {},
     "output_type": "display_data"
    },
    {
     "name": "stdout",
     "output_type": "stream",
     "text": [
      "\n",
      "Epoch 10: Training MSE 7030.8116137981415; Testing MSE 2409.953010082245\n",
      "Epoch 10: Training R2 0.3959530954736953; Testing R2 0.20699583699587432\n"
     ]
    },
    {
     "data": {
      "application/vnd.jupyter.widget-view+json": {
       "model_id": "dd78d7d4408c4762a2d36597534befe4",
       "version_major": 2,
       "version_minor": 0
      },
      "text/plain": [
       "HBox(children=(FloatProgress(value=0.0, max=96.0), HTML(value='')))"
      ]
     },
     "metadata": {},
     "output_type": "display_data"
    },
    {
     "name": "stdout",
     "output_type": "stream",
     "text": [
      "\n",
      "Epoch 11: Training MSE 6295.442786812782; Testing MSE 2426.104497909546\n",
      "Epoch 11: Training R2 0.45913175649113713; Testing R2 0.20168112877037114\n"
     ]
    },
    {
     "data": {
      "application/vnd.jupyter.widget-view+json": {
       "model_id": "038e50f7fa4043758ac4a8515f11b22a",
       "version_major": 2,
       "version_minor": 0
      },
      "text/plain": [
       "HBox(children=(FloatProgress(value=0.0, max=96.0), HTML(value='')))"
      ]
     },
     "metadata": {},
     "output_type": "display_data"
    },
    {
     "name": "stdout",
     "output_type": "stream",
     "text": [
      "\n",
      "Epoch 12: Training MSE 5573.293921351433; Testing MSE 2583.121556043625\n",
      "Epoch 12: Training R2 0.5211746344332846; Testing R2 0.15001407126258348\n"
     ]
    },
    {
     "data": {
      "application/vnd.jupyter.widget-view+json": {
       "model_id": "0d52f1543f0a49a6821c2ed566ab22cb",
       "version_major": 2,
       "version_minor": 0
      },
      "text/plain": [
       "HBox(children=(FloatProgress(value=0.0, max=96.0), HTML(value='')))"
      ]
     },
     "metadata": {},
     "output_type": "display_data"
    },
    {
     "name": "stdout",
     "output_type": "stream",
     "text": [
      "\n",
      "Epoch 13: Training MSE 5081.902207434177; Testing MSE 2777.5721848011017\n",
      "Epoch 13: Training R2 0.5633921848394241; Testing R2 0.08602935560284264\n"
     ]
    },
    {
     "data": {
      "application/vnd.jupyter.widget-view+json": {
       "model_id": "62bedd3e35b94b0e82d4f1a811f448d3",
       "version_major": 2,
       "version_minor": 0
      },
      "text/plain": [
       "HBox(children=(FloatProgress(value=0.0, max=96.0), HTML(value='')))"
      ]
     },
     "metadata": {},
     "output_type": "display_data"
    },
    {
     "name": "stdout",
     "output_type": "stream",
     "text": [
      "\n",
      "Epoch 14: Training MSE 4578.778409957886; Testing MSE 2654.3585538864136\n",
      "Epoch 14: Training R2 0.6066176884018637; Testing R2 0.12657326739092645\n"
     ]
    },
    {
     "data": {
      "application/vnd.jupyter.widget-view+json": {
       "model_id": "d1da9fae9b1a44ae90f7bb8a7739aa22",
       "version_major": 2,
       "version_minor": 0
      },
      "text/plain": [
       "HBox(children=(FloatProgress(value=0.0, max=96.0), HTML(value='')))"
      ]
     },
     "metadata": {},
     "output_type": "display_data"
    },
    {
     "name": "stdout",
     "output_type": "stream",
     "text": [
      "\n",
      "Epoch 15: Training MSE 3746.8713894486427; Testing MSE 2931.2813818454742\n",
      "Epoch 15: Training R2 0.6780903558825453; Testing R2 0.03545076231149502\n"
     ]
    },
    {
     "data": {
      "application/vnd.jupyter.widget-view+json": {
       "model_id": "a8600d64e8804c0187ab253e6ada4439",
       "version_major": 2,
       "version_minor": 0
      },
      "text/plain": [
       "HBox(children=(FloatProgress(value=0.0, max=96.0), HTML(value='')))"
      ]
     },
     "metadata": {},
     "output_type": "display_data"
    },
    {
     "name": "stdout",
     "output_type": "stream",
     "text": [
      "\n",
      "Epoch 16: Training MSE 3588.221687078476; Testing MSE 3015.175813436508\n",
      "Epoch 16: Training R2 0.6917206260255607; Testing R2 0.007844981938920692\n"
     ]
    },
    {
     "data": {
      "application/vnd.jupyter.widget-view+json": {
       "model_id": "86e9434f2d724570adf3f2f02ddffb79",
       "version_major": 2,
       "version_minor": 0
      },
      "text/plain": [
       "HBox(children=(FloatProgress(value=0.0, max=96.0), HTML(value='')))"
      ]
     },
     "metadata": {},
     "output_type": "display_data"
    },
    {
     "name": "stdout",
     "output_type": "stream",
     "text": [
      "\n",
      "Epoch 17: Training MSE 3274.357780814171; Testing MSE 2791.1827623844147\n",
      "Epoch 17: Training R2 0.7186860080377051; Testing R2 0.08155074351401626\n"
     ]
    },
    {
     "data": {
      "application/vnd.jupyter.widget-view+json": {
       "model_id": "e5ac0e626f3845c2880f8579f54884a1",
       "version_major": 2,
       "version_minor": 0
      },
      "text/plain": [
       "HBox(children=(FloatProgress(value=0.0, max=96.0), HTML(value='')))"
      ]
     },
     "metadata": {},
     "output_type": "display_data"
    },
    {
     "name": "stdout",
     "output_type": "stream",
     "text": [
      "\n",
      "Epoch 18: Training MSE 2967.255772650242; Testing MSE 2925.6567656993866\n",
      "Epoch 18: Training R2 0.7450704466480608; Testing R2 0.03730156355138947\n"
     ]
    },
    {
     "data": {
      "application/vnd.jupyter.widget-view+json": {
       "model_id": "5c6ca30199fa4d4a96535805b4eda94a",
       "version_major": 2,
       "version_minor": 0
      },
      "text/plain": [
       "HBox(children=(FloatProgress(value=0.0, max=96.0), HTML(value='')))"
      ]
     },
     "metadata": {},
     "output_type": "display_data"
    },
    {
     "name": "stdout",
     "output_type": "stream",
     "text": [
      "\n",
      "Epoch 19: Training MSE 2598.8459542393684; Testing MSE 2797.0565795898438\n",
      "Epoch 19: Training R2 0.7767220997760513; Testing R2 0.07961794172197156\n"
     ]
    },
    {
     "data": {
      "application/vnd.jupyter.widget-view+json": {
       "model_id": "ed14ecb02a5f4779a2929cf14d4a6e16",
       "version_major": 2,
       "version_minor": 0
      },
      "text/plain": [
       "HBox(children=(FloatProgress(value=0.0, max=96.0), HTML(value='')))"
      ]
     },
     "metadata": {},
     "output_type": "display_data"
    },
    {
     "name": "stdout",
     "output_type": "stream",
     "text": [
      "\n",
      "Epoch 20: Training MSE 2456.6937789320946; Testing MSE 3006.9085717201233\n",
      "Epoch 20: Training R2 0.7889349972596824; Testing R2 0.010565349128748514\n"
     ]
    },
    {
     "data": {
      "application/vnd.jupyter.widget-view+json": {
       "model_id": "1b3dd28765e142be9e0cd235b52aa5d5",
       "version_major": 2,
       "version_minor": 0
      },
      "text/plain": [
       "HBox(children=(FloatProgress(value=0.0, max=96.0), HTML(value='')))"
      ]
     },
     "metadata": {},
     "output_type": "display_data"
    },
    {
     "name": "stdout",
     "output_type": "stream",
     "text": [
      "\n",
      "Epoch 21: Training MSE 2481.3860684633255; Testing MSE 2952.58110165596\n",
      "Epoch 21: Training R2 0.7868135777314254; Testing R2 0.028442008858679646\n"
     ]
    },
    {
     "data": {
      "application/vnd.jupyter.widget-view+json": {
       "model_id": "fc68dd51679a4267a91d89e0fce2909c",
       "version_major": 2,
       "version_minor": 0
      },
      "text/plain": [
       "HBox(children=(FloatProgress(value=0.0, max=96.0), HTML(value='')))"
      ]
     },
     "metadata": {},
     "output_type": "display_data"
    },
    {
     "name": "stdout",
     "output_type": "stream",
     "text": [
      "\n",
      "Epoch 22: Training MSE 2375.5455173552036; Testing MSE 2762.8672003746033\n",
      "Epoch 22: Training R2 0.7959067892668831; Testing R2 0.09086808640727695\n"
     ]
    },
    {
     "data": {
      "application/vnd.jupyter.widget-view+json": {
       "model_id": "d95a6f7f020c44e38d32e03737d31424",
       "version_major": 2,
       "version_minor": 0
      },
      "text/plain": [
       "HBox(children=(FloatProgress(value=0.0, max=96.0), HTML(value='')))"
      ]
     },
     "metadata": {},
     "output_type": "display_data"
    },
    {
     "name": "stdout",
     "output_type": "stream",
     "text": [
      "\n",
      "Epoch 23: Training MSE 2080.169875919819; Testing MSE 2947.197949886322\n",
      "Epoch 23: Training R2 0.821283765878141; Testing R2 0.0302133553312236\n"
     ]
    },
    {
     "data": {
      "application/vnd.jupyter.widget-view+json": {
       "model_id": "f8b10a3d12834deab95cf9eba5b19243",
       "version_major": 2,
       "version_minor": 0
      },
      "text/plain": [
       "HBox(children=(FloatProgress(value=0.0, max=96.0), HTML(value='')))"
      ]
     },
     "metadata": {},
     "output_type": "display_data"
    },
    {
     "name": "stdout",
     "output_type": "stream",
     "text": [
      "\n",
      "Epoch 24: Training MSE 2228.1749106943607; Testing MSE 2911.6126656532288\n",
      "Epoch 24: Training R2 0.808568024364826; Testing R2 0.04192282784810275\n",
      "Printing performance_continuous\n",
      "{'HHVEHCNT_mean_norm': {'mse_train_list': [12494.812524318695, 9704.126071929932, 9586.30256652832, 9583.523631095886, 9429.765558242798, 9391.749757528305, 9334.821027517319, 9334.156718850136, 9152.914446592331, 8826.690346002579, 8701.764953136444, 8264.404666423798, 7439.34286236763], 'mse_test_list': [2335.9457969665527, 2277.850642800331, 2290.5133962631226, 2270.64625620842, 2296.057790517807, 2316.309541463852, 2329.2784571647644, 2316.505402326584, 2367.41606593132, 2345.312660932541, 2397.3969101905823, 2514.775538444519, 2802.5209605693817], 'r_square_train_list': [-0.16769014533121496, 0.09311065202539626, 0.10412172929270747, 0.1043814319103058, 0.11875073805925573, 0.1223034665035434, 0.12762368374495214, 0.1276857660437155, 0.14462358042236034, 0.1751105258396517, 0.18678530286151585, 0.22765836884466784, 0.3047636904339658], 'r_square_test_list': [0.0837381641354481, 0.10652566745864211, 0.10155877235774358, 0.10935154830465943, 0.09938401433675226, 0.09144037689217144, 0.08635339134450937, 0.09136355155063569, 0.07139412496542363, 0.0800640634842621, 0.05963430440904194, 0.013593185837336152, -0.09927336658015662]}, 'HHVEHCNT_P_CAP_mean_norm': {'mse_train_list': [13517.79315173626, 9738.928842544556, 9687.812101840973, 9638.836640119553, 9748.685842752457, 9814.35797214508, 9614.409852027893, 9485.965210199356, 9507.246536016464, 9433.17694067955, 9298.94287288189, 9242.563211917877, 9153.810992836952, 8845.664691925049, 8662.580245733261, 8294.310781359673, 7592.727687954903], 'mse_test_list': [2250.1290917396545, 2217.610442638397, 2197.448444366455, 2194.745010137558, 2285.60146689415, 2186.866444349289, 2182.7794313430786, 2243.18231344223, 2215.4132425785065, 2165.6672298908234, 2213.4597539901733, 2196.8421459198, 2212.5484824180603, 2288.030707836151, 2274.6151447296143, 2408.6155235767365, 2509.356313943863], 'r_square_train_list': [-0.2622952769530389, 0.09057612122532566, 0.09534941666187247, 0.099922758872661, 0.08966500983743753, 0.08353252816463508, 0.10220373912536396, 0.11419793543463819, 0.1122106793222909, 0.11912731869604842, 0.13166213320942322, 0.13692688160083832, 0.1452145884556043, 0.17398937557399463, 0.19108585198233297, 0.225474956794541, 0.29098898081119007], 'r_square_test_list': [0.08006537791057611, 0.09336018454262374, 0.10160314283730842, 0.10270840508863166, 0.06556298062494503, 0.10592944936899984, 0.10760036895274505, 0.08290547357052747, 0.09425847985117775, 0.11459645936990759, 0.09505713704505225, 0.10185101969666055, 0.09542969801161638, 0.06456981856320021, 0.07005458875786807, 0.015270359565372593, -0.02591614002506737]}, 'TRPTRANS_1_mean_norm': {'mse_train_list': [12353.542298078537, 9254.930782318115, 8856.029710173607, 8889.580327272415, 8864.464828372002, 8601.770061254501, 8634.520545601845, 8396.639877557755, 7821.350142359734, 7166.633573174477, 7030.8116137981415, 6295.442786812782, 5573.293921351433, 5081.902207434177, 4578.778409957886, 3746.8713894486427, 3588.221687078476, 3274.357780814171, 2967.255772650242, 2598.8459542393684, 2456.6937789320946, 2481.3860684633255, 2375.5455173552036, 2080.169875919819, 2228.1749106943607], 'mse_test_list': [2275.5121052265167, 2346.0661947727203, 2198.3427464962006, 2322.157844901085, 2167.6906168460846, 2142.3894345760345, 2238.753390312195, 2293.136125802994, 2269.827616214752, 2245.8272516727448, 2409.953010082245, 2426.104497909546, 2583.121556043625, 2777.5721848011017, 2654.3585538864136, 2931.2813818454742, 3015.175813436508, 2791.1827623844147, 2925.6567656993866, 2797.0565795898438, 3006.9085717201233, 2952.58110165596, 2762.8672003746033, 2947.197949886322, 2911.6126656532288], 'r_square_train_list': [-0.06134531757962636, 0.20486956588437855, 0.23914085219906722, 0.23625837610431455, 0.23841615534798755, 0.26098537916294107, 0.25817164587318464, 0.2786089849844594, 0.32803457093959165, 0.3842840537421601, 0.3959530954736953, 0.45913175649113713, 0.5211746344332846, 0.5633921848394241, 0.6066176884018637, 0.6780903558825453, 0.6917206260255607, 0.7186860080377051, 0.7450704466480608, 0.7767220997760513, 0.7889349972596824, 0.7868135777314254, 0.7959067892668831, 0.821283765878141, 0.808568024364826], 'r_square_test_list': [0.251234125785163, 0.22801803547425858, 0.27662699546912883, 0.23588516852600183, 0.2867131947916022, 0.2950386446178588, 0.2633297201107737, 0.24543487508295136, 0.2531046284182109, 0.261002039245644, 0.20699583699587432, 0.20168112877037114, 0.15001407126258348, 0.08602935560284264, 0.12657326739092645, 0.03545076231149502, 0.007844981938920692, 0.08155074351401626, 0.03730156355138947, 0.07961794172197156, 0.010565349128748514, 0.028442008858679646, 0.09086808640727695, 0.0302133553312236, 0.04192282784810275]}}\n",
      "Stored 'performance_continuous' (dict)\n",
      "TRPTRANS_2_mean_norm\n",
      "tensor(11690.4609)\n",
      "tensor(2961.9233)\n"
     ]
    },
    {
     "data": {
      "application/vnd.jupyter.widget-view+json": {
       "model_id": "06a7bec7a8764cdda60d47cb6dc30216",
       "version_major": 2,
       "version_minor": 0
      },
      "text/plain": [
       "HBox(children=(FloatProgress(value=0.0, max=96.0), HTML(value='')))"
      ]
     },
     "metadata": {},
     "output_type": "display_data"
    },
    {
     "name": "stdout",
     "output_type": "stream",
     "text": [
      "\n",
      "Epoch 0: Training MSE 10061.73126399517; Testing MSE 1895.4208314418793\n",
      "Epoch 0: Training R2 0.13932125364537873; Testing R2 0.36007093568401805\n"
     ]
    },
    {
     "data": {
      "application/vnd.jupyter.widget-view+json": {
       "model_id": "5d1f29d4668c404c81f49ce1a846bc8e",
       "version_major": 2,
       "version_minor": 0
      },
      "text/plain": [
       "HBox(children=(FloatProgress(value=0.0, max=96.0), HTML(value='')))"
      ]
     },
     "metadata": {},
     "output_type": "display_data"
    },
    {
     "name": "stdout",
     "output_type": "stream",
     "text": [
      "\n",
      "Epoch 1: Training MSE 8241.426256299019; Testing MSE 1886.3218545913696\n",
      "Epoch 1: Training R2 0.2950298281342665; Testing R2 0.3631429182461966\n"
     ]
    },
    {
     "data": {
      "application/vnd.jupyter.widget-view+json": {
       "model_id": "726c755411c94757a5093edb8f95a0bc",
       "version_major": 2,
       "version_minor": 0
      },
      "text/plain": [
       "HBox(children=(FloatProgress(value=0.0, max=96.0), HTML(value='')))"
      ]
     },
     "metadata": {},
     "output_type": "display_data"
    },
    {
     "name": "stdout",
     "output_type": "stream",
     "text": [
      "\n",
      "Epoch 2: Training MSE 8175.63416659832; Testing MSE 2009.4572126865387\n",
      "Epoch 2: Training R2 0.3006576720706553; Testing R2 0.3215701481347105\n"
     ]
    },
    {
     "data": {
      "application/vnd.jupyter.widget-view+json": {
       "model_id": "cd9497b0ba8545ec93cd914782923fb5",
       "version_major": 2,
       "version_minor": 0
      },
      "text/plain": [
       "HBox(children=(FloatProgress(value=0.0, max=96.0), HTML(value='')))"
      ]
     },
     "metadata": {},
     "output_type": "display_data"
    },
    {
     "name": "stdout",
     "output_type": "stream",
     "text": [
      "\n",
      "Epoch 3: Training MSE 8070.521339774132; Testing MSE 1922.1921682357788\n",
      "Epoch 3: Training R2 0.3096490050374344; Testing R2 0.3510324381531157\n"
     ]
    },
    {
     "data": {
      "application/vnd.jupyter.widget-view+json": {
       "model_id": "0979db0101354f77a9067b3d4694c490",
       "version_major": 2,
       "version_minor": 0
      },
      "text/plain": [
       "HBox(children=(FloatProgress(value=0.0, max=96.0), HTML(value='')))"
      ]
     },
     "metadata": {},
     "output_type": "display_data"
    },
    {
     "name": "stdout",
     "output_type": "stream",
     "text": [
      "\n",
      "Epoch 4: Training MSE 7973.613199591637; Testing MSE 1870.490226149559\n",
      "Epoch 4: Training R2 0.317938510532606; Testing R2 0.368487968277993\n"
     ]
    },
    {
     "data": {
      "application/vnd.jupyter.widget-view+json": {
       "model_id": "0b7db5b14c0441fc83c71177fcbd637c",
       "version_major": 2,
       "version_minor": 0
      },
      "text/plain": [
       "HBox(children=(FloatProgress(value=0.0, max=96.0), HTML(value='')))"
      ]
     },
     "metadata": {},
     "output_type": "display_data"
    },
    {
     "name": "stdout",
     "output_type": "stream",
     "text": [
      "\n",
      "Epoch 5: Training MSE 7710.493296384811; Testing MSE 1896.076050400734\n",
      "Epoch 5: Training R2 0.34044574139489003; Testing R2 0.3598497216674226\n"
     ]
    },
    {
     "data": {
      "application/vnd.jupyter.widget-view+json": {
       "model_id": "742452e5fc4c4da1b5b9307f91f818e4",
       "version_major": 2,
       "version_minor": 0
      },
      "text/plain": [
       "HBox(children=(FloatProgress(value=0.0, max=96.0), HTML(value='')))"
      ]
     },
     "metadata": {},
     "output_type": "display_data"
    },
    {
     "name": "stdout",
     "output_type": "stream",
     "text": [
      "\n",
      "Epoch 6: Training MSE 7857.621085643768; Testing MSE 1972.4489986896515\n",
      "Epoch 6: Training R2 0.32786045583211043; Testing R2 0.33406480439372077\n"
     ]
    },
    {
     "data": {
      "application/vnd.jupyter.widget-view+json": {
       "model_id": "698dce5284584a2c840d0338b428d548",
       "version_major": 2,
       "version_minor": 0
      },
      "text/plain": [
       "HBox(children=(FloatProgress(value=0.0, max=96.0), HTML(value='')))"
      ]
     },
     "metadata": {},
     "output_type": "display_data"
    },
    {
     "name": "stdout",
     "output_type": "stream",
     "text": [
      "\n",
      "Epoch 7: Training MSE 7676.98889374733; Testing MSE 1908.3114206790924\n",
      "Epoch 7: Training R2 0.3433117021826301; Testing R2 0.35571883478261757\n"
     ]
    },
    {
     "data": {
      "application/vnd.jupyter.widget-view+json": {
       "model_id": "365a02c7a5964180b3a05ccd37234b72",
       "version_major": 2,
       "version_minor": 0
      },
      "text/plain": [
       "HBox(children=(FloatProgress(value=0.0, max=96.0), HTML(value='')))"
      ]
     },
     "metadata": {},
     "output_type": "display_data"
    },
    {
     "name": "stdout",
     "output_type": "stream",
     "text": [
      "\n",
      "Epoch 8: Training MSE 7729.557290673256; Testing MSE 1812.2949659824371\n",
      "Epoch 8: Training R2 0.33881501063154673; Testing R2 0.3881357624610092\n"
     ]
    },
    {
     "data": {
      "application/vnd.jupyter.widget-view+json": {
       "model_id": "49fae31cd9e64ddeb9098455db4b83a4",
       "version_major": 2,
       "version_minor": 0
      },
      "text/plain": [
       "HBox(children=(FloatProgress(value=0.0, max=96.0), HTML(value='')))"
      ]
     },
     "metadata": {},
     "output_type": "display_data"
    },
    {
     "name": "stdout",
     "output_type": "stream",
     "text": [
      "\n",
      "Epoch 9: Training MSE 7385.531061887741; Testing MSE 1876.2211441993713\n",
      "Epoch 9: Training R2 0.3682429545445166; Testing R2 0.3665531045451206\n"
     ]
    },
    {
     "data": {
      "application/vnd.jupyter.widget-view+json": {
       "model_id": "cd6ac053921a435e95db74da9d021155",
       "version_major": 2,
       "version_minor": 0
      },
      "text/plain": [
       "HBox(children=(FloatProgress(value=0.0, max=96.0), HTML(value='')))"
      ]
     },
     "metadata": {},
     "output_type": "display_data"
    },
    {
     "name": "stdout",
     "output_type": "stream",
     "text": [
      "\n",
      "Epoch 10: Training MSE 7394.041201472282; Testing MSE 1891.0727381706238\n",
      "Epoch 10: Training R2 0.36751499868118165; Testing R2 0.3615389322431338\n"
     ]
    },
    {
     "data": {
      "application/vnd.jupyter.widget-view+json": {
       "model_id": "b4431c5d2b6946baa4a25a09137429d2",
       "version_major": 2,
       "version_minor": 0
      },
      "text/plain": [
       "HBox(children=(FloatProgress(value=0.0, max=96.0), HTML(value='')))"
      ]
     },
     "metadata": {},
     "output_type": "display_data"
    },
    {
     "name": "stdout",
     "output_type": "stream",
     "text": [
      "\n",
      "Epoch 11: Training MSE 7336.058831214905; Testing MSE 1925.5820333957672\n",
      "Epoch 11: Training R2 0.37247480057157456; Testing R2 0.34988795709434284\n"
     ]
    },
    {
     "data": {
      "application/vnd.jupyter.widget-view+json": {
       "model_id": "5234a0ec437e4ca78109654d8dfacf1d",
       "version_major": 2,
       "version_minor": 0
      },
      "text/plain": [
       "HBox(children=(FloatProgress(value=0.0, max=96.0), HTML(value='')))"
      ]
     },
     "metadata": {},
     "output_type": "display_data"
    },
    {
     "name": "stdout",
     "output_type": "stream",
     "text": [
      "\n",
      "Epoch 12: Training MSE 6999.399331212044; Testing MSE 1883.054792881012\n",
      "Epoch 12: Training R2 0.40127259578279195; Testing R2 0.3642459385932829\n"
     ]
    },
    {
     "data": {
      "application/vnd.jupyter.widget-view+json": {
       "model_id": "f57d0298243c4c79b4dc5b49d043e77d",
       "version_major": 2,
       "version_minor": 0
      },
      "text/plain": [
       "HBox(children=(FloatProgress(value=0.0, max=96.0), HTML(value='')))"
      ]
     },
     "metadata": {},
     "output_type": "display_data"
    },
    {
     "name": "stdout",
     "output_type": "stream",
     "text": [
      "\n",
      "Epoch 13: Training MSE 6592.731931805611; Testing MSE 1976.4759480953217\n",
      "Epoch 13: Training R2 0.43605885456083104; Testing R2 0.33270523193230706\n"
     ]
    },
    {
     "data": {
      "application/vnd.jupyter.widget-view+json": {
       "model_id": "94f5ee1c7131401aa055afcfbf4893e0",
       "version_major": 2,
       "version_minor": 0
      },
      "text/plain": [
       "HBox(children=(FloatProgress(value=0.0, max=96.0), HTML(value='')))"
      ]
     },
     "metadata": {},
     "output_type": "display_data"
    },
    {
     "name": "stdout",
     "output_type": "stream",
     "text": [
      "\n",
      "Epoch 14: Training MSE 6459.847790002823; Testing MSE 2009.8291099071503\n",
      "Epoch 14: Training R2 0.44742574099184673; Testing R2 0.321444588767387\n"
     ]
    },
    {
     "data": {
      "application/vnd.jupyter.widget-view+json": {
       "model_id": "d49b2e90a31f42a8a45e8ef8dda8c550",
       "version_major": 2,
       "version_minor": 0
      },
      "text/plain": [
       "HBox(children=(FloatProgress(value=0.0, max=96.0), HTML(value='')))"
      ]
     },
     "metadata": {},
     "output_type": "display_data"
    },
    {
     "name": "stdout",
     "output_type": "stream",
     "text": [
      "\n",
      "Epoch 15: Training MSE 6042.74782538414; Testing MSE 1959.1419875621796\n",
      "Epoch 15: Training R2 0.48310439958782503; Testing R2 0.3385574970128936\n"
     ]
    },
    {
     "data": {
      "application/vnd.jupyter.widget-view+json": {
       "model_id": "3a6cbdd0a55d415988dd3e641b1d1b41",
       "version_major": 2,
       "version_minor": 0
      },
      "text/plain": [
       "HBox(children=(FloatProgress(value=0.0, max=96.0), HTML(value='')))"
      ]
     },
     "metadata": {},
     "output_type": "display_data"
    },
    {
     "name": "stdout",
     "output_type": "stream",
     "text": [
      "\n",
      "Epoch 16: Training MSE 5637.12652027607; Testing MSE 2124.788910150528\n",
      "Epoch 16: Training R2 0.5178011756411063; Testing R2 0.28263203791674885\n"
     ]
    },
    {
     "data": {
      "application/vnd.jupyter.widget-view+json": {
       "model_id": "3d7ef0ad78124bfaae3f346dc10202e5",
       "version_major": 2,
       "version_minor": 0
      },
      "text/plain": [
       "HBox(children=(FloatProgress(value=0.0, max=96.0), HTML(value='')))"
      ]
     },
     "metadata": {},
     "output_type": "display_data"
    },
    {
     "name": "stdout",
     "output_type": "stream",
     "text": [
      "\n",
      "Epoch 17: Training MSE 5445.301225781441; Testing MSE 2182.6899886131287\n",
      "Epoch 17: Training R2 0.5342098780455857; Testing R2 0.26308356490810736\n"
     ]
    },
    {
     "data": {
      "application/vnd.jupyter.widget-view+json": {
       "model_id": "0878bb5e6cda454f898392947b13398d",
       "version_major": 2,
       "version_minor": 0
      },
      "text/plain": [
       "HBox(children=(FloatProgress(value=0.0, max=96.0), HTML(value='')))"
      ]
     },
     "metadata": {},
     "output_type": "display_data"
    },
    {
     "name": "stdout",
     "output_type": "stream",
     "text": [
      "\n",
      "Epoch 18: Training MSE 4899.542796611786; Testing MSE 2228.8397669792175\n",
      "Epoch 18: Training R2 0.5808939593737225; Testing R2 0.24750254775439418\n"
     ]
    },
    {
     "data": {
      "application/vnd.jupyter.widget-view+json": {
       "model_id": "64ff03b322224c32bf35045dd75ab8ed",
       "version_major": 2,
       "version_minor": 0
      },
      "text/plain": [
       "HBox(children=(FloatProgress(value=0.0, max=96.0), HTML(value='')))"
      ]
     },
     "metadata": {},
     "output_type": "display_data"
    },
    {
     "name": "stdout",
     "output_type": "stream",
     "text": [
      "\n",
      "Epoch 19: Training MSE 4773.561289906502; Testing MSE 2226.0482400655746\n",
      "Epoch 19: Training R2 0.5916703955962812; Testing R2 0.2484450187751972\n"
     ]
    },
    {
     "data": {
      "application/vnd.jupyter.widget-view+json": {
       "model_id": "d97706ada63a492183cb537eabb4ab07",
       "version_major": 2,
       "version_minor": 0
      },
      "text/plain": [
       "HBox(children=(FloatProgress(value=0.0, max=96.0), HTML(value='')))"
      ]
     },
     "metadata": {},
     "output_type": "display_data"
    },
    {
     "name": "stdout",
     "output_type": "stream",
     "text": [
      "\n",
      "Epoch 20: Training MSE 4154.655960202217; Testing MSE 2133.491998910904\n",
      "Epoch 20: Training R2 0.6446114501032936; Testing R2 0.27969371448234315\n"
     ]
    },
    {
     "data": {
      "application/vnd.jupyter.widget-view+json": {
       "model_id": "f0183c507fbd4e86bd7c378afdfb7c38",
       "version_major": 2,
       "version_minor": 0
      },
      "text/plain": [
       "HBox(children=(FloatProgress(value=0.0, max=96.0), HTML(value='')))"
      ]
     },
     "metadata": {},
     "output_type": "display_data"
    },
    {
     "name": "stdout",
     "output_type": "stream",
     "text": [
      "\n",
      "Epoch 21: Training MSE 3406.7812606692314; Testing MSE 2228.6134600639343\n",
      "Epoch 21: Training R2 0.708584522125971; Testing R2 0.2475789531468765\n"
     ]
    },
    {
     "data": {
      "application/vnd.jupyter.widget-view+json": {
       "model_id": "72e89316241f47de922b5e8bd77a2350",
       "version_major": 2,
       "version_minor": 0
      },
      "text/plain": [
       "HBox(children=(FloatProgress(value=0.0, max=96.0), HTML(value='')))"
      ]
     },
     "metadata": {},
     "output_type": "display_data"
    },
    {
     "name": "stdout",
     "output_type": "stream",
     "text": [
      "\n",
      "Epoch 22: Training MSE 3101.428036391735; Testing MSE 2424.654257297516\n",
      "Epoch 22: Training R2 0.7347043839440797; Testing R2 0.18139196086505627\n"
     ]
    },
    {
     "data": {
      "application/vnd.jupyter.widget-view+json": {
       "model_id": "2839ced33179404b889a6d73d0cc9340",
       "version_major": 2,
       "version_minor": 0
      },
      "text/plain": [
       "HBox(children=(FloatProgress(value=0.0, max=96.0), HTML(value='')))"
      ]
     },
     "metadata": {},
     "output_type": "display_data"
    },
    {
     "name": "stdout",
     "output_type": "stream",
     "text": [
      "\n",
      "Epoch 23: Training MSE 2850.532056391239; Testing MSE 2467.599940299988\n",
      "Epoch 23: Training R2 0.7561659825364573; Testing R2 0.16689270545733947\n"
     ]
    },
    {
     "data": {
      "application/vnd.jupyter.widget-view+json": {
       "model_id": "f10f02ae8b08464f8507edbc59b8cbe2",
       "version_major": 2,
       "version_minor": 0
      },
      "text/plain": [
       "HBox(children=(FloatProgress(value=0.0, max=96.0), HTML(value='')))"
      ]
     },
     "metadata": {},
     "output_type": "display_data"
    },
    {
     "name": "stdout",
     "output_type": "stream",
     "text": [
      "\n",
      "Epoch 24: Training MSE 2630.715687572956; Testing MSE 2258.2890450954437\n",
      "Epoch 24: Training R2 0.7749690365814152; Testing R2 0.23755992779523627\n",
      "Printing performance_continuous\n",
      "{'HHVEHCNT_mean_norm': {'mse_train_list': [12494.812524318695, 9704.126071929932, 9586.30256652832, 9583.523631095886, 9429.765558242798, 9391.749757528305, 9334.821027517319, 9334.156718850136, 9152.914446592331, 8826.690346002579, 8701.764953136444, 8264.404666423798, 7439.34286236763], 'mse_test_list': [2335.9457969665527, 2277.850642800331, 2290.5133962631226, 2270.64625620842, 2296.057790517807, 2316.309541463852, 2329.2784571647644, 2316.505402326584, 2367.41606593132, 2345.312660932541, 2397.3969101905823, 2514.775538444519, 2802.5209605693817], 'r_square_train_list': [-0.16769014533121496, 0.09311065202539626, 0.10412172929270747, 0.1043814319103058, 0.11875073805925573, 0.1223034665035434, 0.12762368374495214, 0.1276857660437155, 0.14462358042236034, 0.1751105258396517, 0.18678530286151585, 0.22765836884466784, 0.3047636904339658], 'r_square_test_list': [0.0837381641354481, 0.10652566745864211, 0.10155877235774358, 0.10935154830465943, 0.09938401433675226, 0.09144037689217144, 0.08635339134450937, 0.09136355155063569, 0.07139412496542363, 0.0800640634842621, 0.05963430440904194, 0.013593185837336152, -0.09927336658015662]}, 'HHVEHCNT_P_CAP_mean_norm': {'mse_train_list': [13517.79315173626, 9738.928842544556, 9687.812101840973, 9638.836640119553, 9748.685842752457, 9814.35797214508, 9614.409852027893, 9485.965210199356, 9507.246536016464, 9433.17694067955, 9298.94287288189, 9242.563211917877, 9153.810992836952, 8845.664691925049, 8662.580245733261, 8294.310781359673, 7592.727687954903], 'mse_test_list': [2250.1290917396545, 2217.610442638397, 2197.448444366455, 2194.745010137558, 2285.60146689415, 2186.866444349289, 2182.7794313430786, 2243.18231344223, 2215.4132425785065, 2165.6672298908234, 2213.4597539901733, 2196.8421459198, 2212.5484824180603, 2288.030707836151, 2274.6151447296143, 2408.6155235767365, 2509.356313943863], 'r_square_train_list': [-0.2622952769530389, 0.09057612122532566, 0.09534941666187247, 0.099922758872661, 0.08966500983743753, 0.08353252816463508, 0.10220373912536396, 0.11419793543463819, 0.1122106793222909, 0.11912731869604842, 0.13166213320942322, 0.13692688160083832, 0.1452145884556043, 0.17398937557399463, 0.19108585198233297, 0.225474956794541, 0.29098898081119007], 'r_square_test_list': [0.08006537791057611, 0.09336018454262374, 0.10160314283730842, 0.10270840508863166, 0.06556298062494503, 0.10592944936899984, 0.10760036895274505, 0.08290547357052747, 0.09425847985117775, 0.11459645936990759, 0.09505713704505225, 0.10185101969666055, 0.09542969801161638, 0.06456981856320021, 0.07005458875786807, 0.015270359565372593, -0.02591614002506737]}, 'TRPTRANS_1_mean_norm': {'mse_train_list': [12353.542298078537, 9254.930782318115, 8856.029710173607, 8889.580327272415, 8864.464828372002, 8601.770061254501, 8634.520545601845, 8396.639877557755, 7821.350142359734, 7166.633573174477, 7030.8116137981415, 6295.442786812782, 5573.293921351433, 5081.902207434177, 4578.778409957886, 3746.8713894486427, 3588.221687078476, 3274.357780814171, 2967.255772650242, 2598.8459542393684, 2456.6937789320946, 2481.3860684633255, 2375.5455173552036, 2080.169875919819, 2228.1749106943607], 'mse_test_list': [2275.5121052265167, 2346.0661947727203, 2198.3427464962006, 2322.157844901085, 2167.6906168460846, 2142.3894345760345, 2238.753390312195, 2293.136125802994, 2269.827616214752, 2245.8272516727448, 2409.953010082245, 2426.104497909546, 2583.121556043625, 2777.5721848011017, 2654.3585538864136, 2931.2813818454742, 3015.175813436508, 2791.1827623844147, 2925.6567656993866, 2797.0565795898438, 3006.9085717201233, 2952.58110165596, 2762.8672003746033, 2947.197949886322, 2911.6126656532288], 'r_square_train_list': [-0.06134531757962636, 0.20486956588437855, 0.23914085219906722, 0.23625837610431455, 0.23841615534798755, 0.26098537916294107, 0.25817164587318464, 0.2786089849844594, 0.32803457093959165, 0.3842840537421601, 0.3959530954736953, 0.45913175649113713, 0.5211746344332846, 0.5633921848394241, 0.6066176884018637, 0.6780903558825453, 0.6917206260255607, 0.7186860080377051, 0.7450704466480608, 0.7767220997760513, 0.7889349972596824, 0.7868135777314254, 0.7959067892668831, 0.821283765878141, 0.808568024364826], 'r_square_test_list': [0.251234125785163, 0.22801803547425858, 0.27662699546912883, 0.23588516852600183, 0.2867131947916022, 0.2950386446178588, 0.2633297201107737, 0.24543487508295136, 0.2531046284182109, 0.261002039245644, 0.20699583699587432, 0.20168112877037114, 0.15001407126258348, 0.08602935560284264, 0.12657326739092645, 0.03545076231149502, 0.007844981938920692, 0.08155074351401626, 0.03730156355138947, 0.07961794172197156, 0.010565349128748514, 0.028442008858679646, 0.09086808640727695, 0.0302133553312236, 0.04192282784810275]}, 'TRPTRANS_2_mean_norm': {'mse_train_list': [10061.73126399517, 8241.426256299019, 8175.63416659832, 8070.521339774132, 7973.613199591637, 7710.493296384811, 7857.621085643768, 7676.98889374733, 7729.557290673256, 7385.531061887741, 7394.041201472282, 7336.058831214905, 6999.399331212044, 6592.731931805611, 6459.847790002823, 6042.74782538414, 5637.12652027607, 5445.301225781441, 4899.542796611786, 4773.561289906502, 4154.655960202217, 3406.7812606692314, 3101.428036391735, 2850.532056391239, 2630.715687572956], 'mse_test_list': [1895.4208314418793, 1886.3218545913696, 2009.4572126865387, 1922.1921682357788, 1870.490226149559, 1896.076050400734, 1972.4489986896515, 1908.3114206790924, 1812.2949659824371, 1876.2211441993713, 1891.0727381706238, 1925.5820333957672, 1883.054792881012, 1976.4759480953217, 2009.8291099071503, 1959.1419875621796, 2124.788910150528, 2182.6899886131287, 2228.8397669792175, 2226.0482400655746, 2133.491998910904, 2228.6134600639343, 2424.654257297516, 2467.599940299988, 2258.2890450954437], 'r_square_train_list': [0.13932125364537873, 0.2950298281342665, 0.3006576720706553, 0.3096490050374344, 0.317938510532606, 0.34044574139489003, 0.32786045583211043, 0.3433117021826301, 0.33881501063154673, 0.3682429545445166, 0.36751499868118165, 0.37247480057157456, 0.40127259578279195, 0.43605885456083104, 0.44742574099184673, 0.48310439958782503, 0.5178011756411063, 0.5342098780455857, 0.5808939593737225, 0.5916703955962812, 0.6446114501032936, 0.708584522125971, 0.7347043839440797, 0.7561659825364573, 0.7749690365814152], 'r_square_test_list': [0.36007093568401805, 0.3631429182461966, 0.3215701481347105, 0.3510324381531157, 0.368487968277993, 0.3598497216674226, 0.33406480439372077, 0.35571883478261757, 0.3881357624610092, 0.3665531045451206, 0.3615389322431338, 0.34988795709434284, 0.3642459385932829, 0.33270523193230706, 0.321444588767387, 0.3385574970128936, 0.28263203791674885, 0.26308356490810736, 0.24750254775439418, 0.2484450187751972, 0.27969371448234315, 0.2475789531468765, 0.18139196086505627, 0.16689270545733947, 0.23755992779523627]}}\n",
      "Stored 'performance_continuous' (dict)\n",
      "TRPTRANS_3_mean_norm\n",
      "tensor(11467.2451)\n",
      "tensor(2919.1924)\n"
     ]
    },
    {
     "data": {
      "application/vnd.jupyter.widget-view+json": {
       "model_id": "0c90cd69c3ec426891b881c40df6f3c9",
       "version_major": 2,
       "version_minor": 0
      },
      "text/plain": [
       "HBox(children=(FloatProgress(value=0.0, max=96.0), HTML(value='')))"
      ]
     },
     "metadata": {},
     "output_type": "display_data"
    },
    {
     "name": "stdout",
     "output_type": "stream",
     "text": [
      "\n",
      "Epoch 0: Training MSE 11646.441385149956; Testing MSE 2611.479741334915\n",
      "Epoch 0: Training R2 -0.015626793194982058; Testing R2 0.10541019608345192\n"
     ]
    },
    {
     "data": {
      "application/vnd.jupyter.widget-view+json": {
       "model_id": "f0d89815779f41038f3521d2d27c4f3b",
       "version_major": 2,
       "version_minor": 0
      },
      "text/plain": [
       "HBox(children=(FloatProgress(value=0.0, max=96.0), HTML(value='')))"
      ]
     },
     "metadata": {},
     "output_type": "display_data"
    },
    {
     "name": "stdout",
     "output_type": "stream",
     "text": [
      "\n",
      "Epoch 1: Training MSE 9226.004847884178; Testing MSE 2493.7832951545715\n",
      "Epoch 1: Training R2 0.19544714065142588; Testing R2 0.14572834944439927\n"
     ]
    },
    {
     "data": {
      "application/vnd.jupyter.widget-view+json": {
       "model_id": "247201faba3c413f82a01603133a2e94",
       "version_major": 2,
       "version_minor": 0
      },
      "text/plain": [
       "HBox(children=(FloatProgress(value=0.0, max=96.0), HTML(value='')))"
      ]
     },
     "metadata": {},
     "output_type": "display_data"
    },
    {
     "name": "stdout",
     "output_type": "stream",
     "text": [
      "\n",
      "Epoch 2: Training MSE 9351.029190421104; Testing MSE 2659.4625174999237\n",
      "Epoch 2: Training R2 0.18454440496737434; Testing R2 0.08897319232600187\n"
     ]
    },
    {
     "data": {
      "application/vnd.jupyter.widget-view+json": {
       "model_id": "3614bdfc5d174de2b6b36a657bba9759",
       "version_major": 2,
       "version_minor": 0
      },
      "text/plain": [
       "HBox(children=(FloatProgress(value=0.0, max=96.0), HTML(value='')))"
      ]
     },
     "metadata": {},
     "output_type": "display_data"
    },
    {
     "name": "stdout",
     "output_type": "stream",
     "text": [
      "\n",
      "Epoch 3: Training MSE 9273.947289586067; Testing MSE 2508.0865293741226\n",
      "Epoch 3: Training R2 0.19126632466537608; Testing R2 0.14082862638956906\n"
     ]
    },
    {
     "data": {
      "application/vnd.jupyter.widget-view+json": {
       "model_id": "ff9fc843d3d74cd7b6a8815f9568ccca",
       "version_major": 2,
       "version_minor": 0
      },
      "text/plain": [
       "HBox(children=(FloatProgress(value=0.0, max=96.0), HTML(value='')))"
      ]
     },
     "metadata": {},
     "output_type": "display_data"
    },
    {
     "name": "stdout",
     "output_type": "stream",
     "text": [
      "\n",
      "Epoch 4: Training MSE 9033.149564266205; Testing MSE 2494.0998554229736\n",
      "Epoch 4: Training R2 0.2122650669839602; Testing R2 0.1456199084008195\n"
     ]
    },
    {
     "data": {
      "application/vnd.jupyter.widget-view+json": {
       "model_id": "991b5f9c916f43d6ba6d80a6ff9f5ef3",
       "version_major": 2,
       "version_minor": 0
      },
      "text/plain": [
       "HBox(children=(FloatProgress(value=0.0, max=96.0), HTML(value='')))"
      ]
     },
     "metadata": {},
     "output_type": "display_data"
    },
    {
     "name": "stdout",
     "output_type": "stream",
     "text": [
      "\n",
      "Epoch 5: Training MSE 8962.95201331377; Testing MSE 2439.6147161722183\n",
      "Epoch 5: Training R2 0.21838663761710386; Testing R2 0.1642843649030873\n"
     ]
    },
    {
     "data": {
      "application/vnd.jupyter.widget-view+json": {
       "model_id": "fb5ee07d66f8435a88ae09b6be2d1ca4",
       "version_major": 2,
       "version_minor": 0
      },
      "text/plain": [
       "HBox(children=(FloatProgress(value=0.0, max=96.0), HTML(value='')))"
      ]
     },
     "metadata": {},
     "output_type": "display_data"
    },
    {
     "name": "stdout",
     "output_type": "stream",
     "text": [
      "\n",
      "Epoch 6: Training MSE 8846.991059184074; Testing MSE 2532.114151120186\n",
      "Epoch 6: Training R2 0.2284990013927669; Testing R2 0.13259771228896644\n"
     ]
    },
    {
     "data": {
      "application/vnd.jupyter.widget-view+json": {
       "model_id": "cc11143ebfe34942aa3ad8463002dd26",
       "version_major": 2,
       "version_minor": 0
      },
      "text/plain": [
       "HBox(children=(FloatProgress(value=0.0, max=96.0), HTML(value='')))"
      ]
     },
     "metadata": {},
     "output_type": "display_data"
    },
    {
     "name": "stdout",
     "output_type": "stream",
     "text": [
      "\n",
      "Epoch 7: Training MSE 8796.01922929287; Testing MSE 2462.0341941714287\n",
      "Epoch 7: Training R2 0.2329439948825115; Testing R2 0.15660433732723766\n"
     ]
    },
    {
     "data": {
      "application/vnd.jupyter.widget-view+json": {
       "model_id": "6c040958babe46ec8658f7cccaddd534",
       "version_major": 2,
       "version_minor": 0
      },
      "text/plain": [
       "HBox(children=(FloatProgress(value=0.0, max=96.0), HTML(value='')))"
      ]
     },
     "metadata": {},
     "output_type": "display_data"
    },
    {
     "name": "stdout",
     "output_type": "stream",
     "text": [
      "\n",
      "Epoch 8: Training MSE 8738.027915358543; Testing MSE 2497.8370249271393\n",
      "Epoch 8: Training R2 0.23800112179849653; Testing R2 0.1443397017497714\n"
     ]
    },
    {
     "data": {
      "application/vnd.jupyter.widget-view+json": {
       "model_id": "1ea44158cb3748519dbc5b54b9f866a0",
       "version_major": 2,
       "version_minor": 0
      },
      "text/plain": [
       "HBox(children=(FloatProgress(value=0.0, max=96.0), HTML(value='')))"
      ]
     },
     "metadata": {},
     "output_type": "display_data"
    },
    {
     "name": "stdout",
     "output_type": "stream",
     "text": [
      "\n",
      "Epoch 9: Training MSE 8334.823495149612; Testing MSE 2745.2587723731995\n",
      "Epoch 9: Training R2 0.2731625242180362; Testing R2 0.05958278442468523\n"
     ]
    },
    {
     "data": {
      "application/vnd.jupyter.widget-view+json": {
       "model_id": "e363fc62993b40718535905124e6e15d",
       "version_major": 2,
       "version_minor": 0
      },
      "text/plain": [
       "HBox(children=(FloatProgress(value=0.0, max=96.0), HTML(value='')))"
      ]
     },
     "metadata": {},
     "output_type": "display_data"
    },
    {
     "name": "stdout",
     "output_type": "stream",
     "text": [
      "\n",
      "Epoch 10: Training MSE 8055.690900981426; Testing MSE 2671.9396263360977\n",
      "Epoch 10: Training R2 0.2975042550623357; Testing R2 0.08469902769415505\n"
     ]
    },
    {
     "data": {
      "application/vnd.jupyter.widget-view+json": {
       "model_id": "8adf5f3e1a494f279099d19181b1a1da",
       "version_major": 2,
       "version_minor": 0
      },
      "text/plain": [
       "HBox(children=(FloatProgress(value=0.0, max=96.0), HTML(value='')))"
      ]
     },
     "metadata": {},
     "output_type": "display_data"
    },
    {
     "name": "stdout",
     "output_type": "stream",
     "text": [
      "\n",
      "Epoch 11: Training MSE 8151.218232512474; Testing MSE 2624.0744560956955\n",
      "Epoch 11: Training R2 0.28917380336667353; Testing R2 0.10109574430735968\n"
     ]
    },
    {
     "data": {
      "application/vnd.jupyter.widget-view+json": {
       "model_id": "a588495acb444cd98be1a4a766bbd1f0",
       "version_major": 2,
       "version_minor": 0
      },
      "text/plain": [
       "HBox(children=(FloatProgress(value=0.0, max=96.0), HTML(value='')))"
      ]
     },
     "metadata": {},
     "output_type": "display_data"
    },
    {
     "name": "stdout",
     "output_type": "stream",
     "text": [
      "\n",
      "Epoch 12: Training MSE 7314.222137629986; Testing MSE 2486.737245321274\n",
      "Epoch 12: Training R2 0.36216396676938745; Testing R2 0.14814204779288187\n"
     ]
    },
    {
     "data": {
      "application/vnd.jupyter.widget-view+json": {
       "model_id": "80189912fa4f44229ed965c0ec98e0b4",
       "version_major": 2,
       "version_minor": 0
      },
      "text/plain": [
       "HBox(children=(FloatProgress(value=0.0, max=96.0), HTML(value='')))"
      ]
     },
     "metadata": {},
     "output_type": "display_data"
    },
    {
     "name": "stdout",
     "output_type": "stream",
     "text": [
      "\n",
      "Epoch 13: Training MSE 7448.624677956104; Testing MSE 4007.674425840378\n",
      "Epoch 13: Training R2 0.35044340625527837; Testing R2 -0.37287095206078136\n",
      "Printing performance_continuous\n",
      "{'HHVEHCNT_mean_norm': {'mse_train_list': [12494.812524318695, 9704.126071929932, 9586.30256652832, 9583.523631095886, 9429.765558242798, 9391.749757528305, 9334.821027517319, 9334.156718850136, 9152.914446592331, 8826.690346002579, 8701.764953136444, 8264.404666423798, 7439.34286236763], 'mse_test_list': [2335.9457969665527, 2277.850642800331, 2290.5133962631226, 2270.64625620842, 2296.057790517807, 2316.309541463852, 2329.2784571647644, 2316.505402326584, 2367.41606593132, 2345.312660932541, 2397.3969101905823, 2514.775538444519, 2802.5209605693817], 'r_square_train_list': [-0.16769014533121496, 0.09311065202539626, 0.10412172929270747, 0.1043814319103058, 0.11875073805925573, 0.1223034665035434, 0.12762368374495214, 0.1276857660437155, 0.14462358042236034, 0.1751105258396517, 0.18678530286151585, 0.22765836884466784, 0.3047636904339658], 'r_square_test_list': [0.0837381641354481, 0.10652566745864211, 0.10155877235774358, 0.10935154830465943, 0.09938401433675226, 0.09144037689217144, 0.08635339134450937, 0.09136355155063569, 0.07139412496542363, 0.0800640634842621, 0.05963430440904194, 0.013593185837336152, -0.09927336658015662]}, 'HHVEHCNT_P_CAP_mean_norm': {'mse_train_list': [13517.79315173626, 9738.928842544556, 9687.812101840973, 9638.836640119553, 9748.685842752457, 9814.35797214508, 9614.409852027893, 9485.965210199356, 9507.246536016464, 9433.17694067955, 9298.94287288189, 9242.563211917877, 9153.810992836952, 8845.664691925049, 8662.580245733261, 8294.310781359673, 7592.727687954903], 'mse_test_list': [2250.1290917396545, 2217.610442638397, 2197.448444366455, 2194.745010137558, 2285.60146689415, 2186.866444349289, 2182.7794313430786, 2243.18231344223, 2215.4132425785065, 2165.6672298908234, 2213.4597539901733, 2196.8421459198, 2212.5484824180603, 2288.030707836151, 2274.6151447296143, 2408.6155235767365, 2509.356313943863], 'r_square_train_list': [-0.2622952769530389, 0.09057612122532566, 0.09534941666187247, 0.099922758872661, 0.08966500983743753, 0.08353252816463508, 0.10220373912536396, 0.11419793543463819, 0.1122106793222909, 0.11912731869604842, 0.13166213320942322, 0.13692688160083832, 0.1452145884556043, 0.17398937557399463, 0.19108585198233297, 0.225474956794541, 0.29098898081119007], 'r_square_test_list': [0.08006537791057611, 0.09336018454262374, 0.10160314283730842, 0.10270840508863166, 0.06556298062494503, 0.10592944936899984, 0.10760036895274505, 0.08290547357052747, 0.09425847985117775, 0.11459645936990759, 0.09505713704505225, 0.10185101969666055, 0.09542969801161638, 0.06456981856320021, 0.07005458875786807, 0.015270359565372593, -0.02591614002506737]}, 'TRPTRANS_1_mean_norm': {'mse_train_list': [12353.542298078537, 9254.930782318115, 8856.029710173607, 8889.580327272415, 8864.464828372002, 8601.770061254501, 8634.520545601845, 8396.639877557755, 7821.350142359734, 7166.633573174477, 7030.8116137981415, 6295.442786812782, 5573.293921351433, 5081.902207434177, 4578.778409957886, 3746.8713894486427, 3588.221687078476, 3274.357780814171, 2967.255772650242, 2598.8459542393684, 2456.6937789320946, 2481.3860684633255, 2375.5455173552036, 2080.169875919819, 2228.1749106943607], 'mse_test_list': [2275.5121052265167, 2346.0661947727203, 2198.3427464962006, 2322.157844901085, 2167.6906168460846, 2142.3894345760345, 2238.753390312195, 2293.136125802994, 2269.827616214752, 2245.8272516727448, 2409.953010082245, 2426.104497909546, 2583.121556043625, 2777.5721848011017, 2654.3585538864136, 2931.2813818454742, 3015.175813436508, 2791.1827623844147, 2925.6567656993866, 2797.0565795898438, 3006.9085717201233, 2952.58110165596, 2762.8672003746033, 2947.197949886322, 2911.6126656532288], 'r_square_train_list': [-0.06134531757962636, 0.20486956588437855, 0.23914085219906722, 0.23625837610431455, 0.23841615534798755, 0.26098537916294107, 0.25817164587318464, 0.2786089849844594, 0.32803457093959165, 0.3842840537421601, 0.3959530954736953, 0.45913175649113713, 0.5211746344332846, 0.5633921848394241, 0.6066176884018637, 0.6780903558825453, 0.6917206260255607, 0.7186860080377051, 0.7450704466480608, 0.7767220997760513, 0.7889349972596824, 0.7868135777314254, 0.7959067892668831, 0.821283765878141, 0.808568024364826], 'r_square_test_list': [0.251234125785163, 0.22801803547425858, 0.27662699546912883, 0.23588516852600183, 0.2867131947916022, 0.2950386446178588, 0.2633297201107737, 0.24543487508295136, 0.2531046284182109, 0.261002039245644, 0.20699583699587432, 0.20168112877037114, 0.15001407126258348, 0.08602935560284264, 0.12657326739092645, 0.03545076231149502, 0.007844981938920692, 0.08155074351401626, 0.03730156355138947, 0.07961794172197156, 0.010565349128748514, 0.028442008858679646, 0.09086808640727695, 0.0302133553312236, 0.04192282784810275]}, 'TRPTRANS_2_mean_norm': {'mse_train_list': [10061.73126399517, 8241.426256299019, 8175.63416659832, 8070.521339774132, 7973.613199591637, 7710.493296384811, 7857.621085643768, 7676.98889374733, 7729.557290673256, 7385.531061887741, 7394.041201472282, 7336.058831214905, 6999.399331212044, 6592.731931805611, 6459.847790002823, 6042.74782538414, 5637.12652027607, 5445.301225781441, 4899.542796611786, 4773.561289906502, 4154.655960202217, 3406.7812606692314, 3101.428036391735, 2850.532056391239, 2630.715687572956], 'mse_test_list': [1895.4208314418793, 1886.3218545913696, 2009.4572126865387, 1922.1921682357788, 1870.490226149559, 1896.076050400734, 1972.4489986896515, 1908.3114206790924, 1812.2949659824371, 1876.2211441993713, 1891.0727381706238, 1925.5820333957672, 1883.054792881012, 1976.4759480953217, 2009.8291099071503, 1959.1419875621796, 2124.788910150528, 2182.6899886131287, 2228.8397669792175, 2226.0482400655746, 2133.491998910904, 2228.6134600639343, 2424.654257297516, 2467.599940299988, 2258.2890450954437], 'r_square_train_list': [0.13932125364537873, 0.2950298281342665, 0.3006576720706553, 0.3096490050374344, 0.317938510532606, 0.34044574139489003, 0.32786045583211043, 0.3433117021826301, 0.33881501063154673, 0.3682429545445166, 0.36751499868118165, 0.37247480057157456, 0.40127259578279195, 0.43605885456083104, 0.44742574099184673, 0.48310439958782503, 0.5178011756411063, 0.5342098780455857, 0.5808939593737225, 0.5916703955962812, 0.6446114501032936, 0.708584522125971, 0.7347043839440797, 0.7561659825364573, 0.7749690365814152], 'r_square_test_list': [0.36007093568401805, 0.3631429182461966, 0.3215701481347105, 0.3510324381531157, 0.368487968277993, 0.3598497216674226, 0.33406480439372077, 0.35571883478261757, 0.3881357624610092, 0.3665531045451206, 0.3615389322431338, 0.34988795709434284, 0.3642459385932829, 0.33270523193230706, 0.321444588767387, 0.3385574970128936, 0.28263203791674885, 0.26308356490810736, 0.24750254775439418, 0.2484450187751972, 0.27969371448234315, 0.2475789531468765, 0.18139196086505627, 0.16689270545733947, 0.23755992779523627]}, 'TRPTRANS_3_mean_norm': {'mse_train_list': [11646.441385149956, 9226.004847884178, 9351.029190421104, 9273.947289586067, 9033.149564266205, 8962.95201331377, 8846.991059184074, 8796.01922929287, 8738.027915358543, 8334.823495149612, 8055.690900981426, 8151.218232512474, 7314.222137629986, 7448.624677956104], 'mse_test_list': [2611.479741334915, 2493.7832951545715, 2659.4625174999237, 2508.0865293741226, 2494.0998554229736, 2439.6147161722183, 2532.114151120186, 2462.0341941714287, 2497.8370249271393, 2745.2587723731995, 2671.9396263360977, 2624.0744560956955, 2486.737245321274, 4007.674425840378], 'r_square_train_list': [-0.015626793194982058, 0.19544714065142588, 0.18454440496737434, 0.19126632466537608, 0.2122650669839602, 0.21838663761710386, 0.2284990013927669, 0.2329439948825115, 0.23800112179849653, 0.2731625242180362, 0.2975042550623357, 0.28917380336667353, 0.36216396676938745, 0.35044340625527837], 'r_square_test_list': [0.10541019608345192, 0.14572834944439927, 0.08897319232600187, 0.14082862638956906, 0.1456199084008195, 0.1642843649030873, 0.13259771228896644, 0.15660433732723766, 0.1443397017497714, 0.05958278442468523, 0.08469902769415505, 0.10109574430735968, 0.14814204779288187, -0.37287095206078136]}}\n",
      "Stored 'performance_continuous' (dict)\n"
     ]
    }
   ],
   "source": [
    "for image_type in image_types:\n",
    "    performance_continuous = {}\n",
    "    \n",
    "    for output_var in output_list:\n",
    "\n",
    "        print(output_var)\n",
    "\n",
    "        # data set up\n",
    "        y_train,y_test,BE_train,BE_test,x_train,x_test,x_train_images,x_test_images = \\\n",
    "            initialize_data(image_type, output_var, output_type, input_var, BE_var, num_categories, size)\n",
    "\n",
    "        # process data\n",
    "        x_train_images_norm = x_train_images/255 # very crude processing. It is improvable.\n",
    "        x_test_images_norm = x_test_images/255\n",
    "\n",
    "        x_train_torch = torch.from_numpy(x_train_images_norm)\n",
    "        x_test_torch = torch.from_numpy(x_test_images_norm)\n",
    "        y_train_torch = torch.from_numpy(y_train)\n",
    "        y_test_torch = torch.from_numpy(y_test)\n",
    "\n",
    "        # create data loader: train and test. \n",
    "        train_ds = TensorDataset(x_train_torch, y_train_torch)\n",
    "        batch_size = 100\n",
    "        train_dl = DataLoader(train_ds, batch_size, shuffle = True)\n",
    "\n",
    "        test_ds = TensorDataset(x_test_torch, y_test_torch)\n",
    "        batch_size = 100\n",
    "        test_dl = DataLoader(test_ds, batch_size, shuffle = True)\n",
    "\n",
    "        # model set up \n",
    "        #TODO: Change use_pretrained, full_training as needed\n",
    "        input_channels = 4 # 4 for BW images; 3 for RGB images; 7 for merged images.\n",
    "        use_pretrained = True # unclear whether True or False is better.\n",
    "        full_training = True # Fully retraining the network seems to work better.\n",
    "    #     num_bottleneck = 3 # Used for the bottleneck model\n",
    "\n",
    "        if model_name == 'bottleneck_resnet18': # It does not work.\n",
    "            model = bottleneck_resnet18(num_categories, num_bottleneck, input_channels, use_pretrained, full_training)\n",
    "            model.to(device)\n",
    "        else: \n",
    "            # 'resnet18' and others works\n",
    "            if image_type == \"rgb\":\n",
    "                input_channels = 3\n",
    "            elif image_type == \"bw\":\n",
    "                input_channels = 4\n",
    "            elif image_type == \"merge\":\n",
    "                input_channels = 7\n",
    "            model = initialize_model(model_name, num_categories, input_channels, use_pretrained, full_training)\n",
    "            model.to(device)\n",
    "\n",
    "        # training set up\n",
    "        criterion = nn.MSELoss(reduction='mean')\n",
    "        optimizer = optim.Adam(model.parameters(), lr=0.001, weight_decay = 0.001) #TODO: adjust weight decay\n",
    "        n_epoch = 25\n",
    "\n",
    "        # create baseline mse\n",
    "        total_mse_train = criterion(y_train_torch.mean().repeat(y_train_torch.size()), y_train_torch)*y_train_torch.size()[0]\n",
    "        total_mse_test = criterion(y_test_torch.mean().repeat(y_test_torch.size()), y_test_torch)*y_test_torch.size()[0]\n",
    "        print(total_mse_train)\n",
    "        print(total_mse_test)\n",
    "\n",
    "        # training here.\n",
    "        model, mse_train_list, mse_test_list, r_square_train_list, r_square_test_list = \\\n",
    "            train_continuous_model(model, train_dl, test_dl, criterion, optimizer, device, total_mse_train, total_mse_test, n_epoch)\n",
    "\n",
    "        # save models.\n",
    "        PATH = './models/'+model_name+'_'+output_var+'_'+image_type+'_'+str(use_pretrained)+'_'+str(full_training)+'wd001.pth'\n",
    "        torch.save(model.state_dict(), PATH)\n",
    "        model_dic[output_var]=model.state_dict()\n",
    "\n",
    "        # save performance\n",
    "        performance_continuous[output_var] = {}\n",
    "        performance_continuous[output_var]['mse_train_list']=mse_train_list\n",
    "        performance_continuous[output_var]['mse_test_list']=mse_test_list\n",
    "        performance_continuous[output_var]['r_square_train_list']=r_square_train_list\n",
    "        performance_continuous[output_var]['r_square_test_list']=r_square_test_list\n",
    "\n",
    "        print(\"Printing performance_continuous\")\n",
    "        print(performance_continuous)\n",
    "        %store performance_continuous\n",
    "        \n",
    "                \n",
    "        with open('outputs/performance_continuous_'+image_type+'_'+model_name+'_'+str(use_pretrained)+'_'+str(full_training)+'wd001.pickle', 'wb') as h:\n",
    "            pickle.dump(performance_continuous, h, protocol=pickle.HIGHEST_PROTOCOL)\n"
   ]
  },
  {
   "cell_type": "markdown",
   "metadata": {},
   "source": [
    "## Store and save resnet's last layer"
   ]
  },
  {
   "cell_type": "code",
   "execution_count": 11,
   "metadata": {},
   "outputs": [],
   "source": [
    "### \n",
    "def return_last_layer_resnet(model,device,x_train_images,x_test_images,y_train,y_test):\n",
    "    ###  \n",
    "    # \n",
    "    from sklearn.preprocessing import MinMaxScaler\n",
    "\n",
    "    image_train_hidden_list = []\n",
    "    image_test_hidden_list = []\n",
    "\n",
    "    # return values in the last layer.\n",
    "    model_no_last_layer = nn.Sequential(*list(model.children())[:-1]).to(device)\n",
    "\n",
    "    # process data\n",
    "    x_train_images_norm = x_train_images/255\n",
    "    x_test_images_norm = x_test_images/255\n",
    "\n",
    "    x_train_torch = torch.from_numpy(x_train_images_norm)\n",
    "    x_test_torch = torch.from_numpy(x_test_images_norm)\n",
    "    y_train_torch = torch.from_numpy(y_train)\n",
    "    y_test_torch = torch.from_numpy(y_test)\n",
    "\n",
    "    # create data loader: train and test. \n",
    "    train_ds = TensorDataset(x_train_torch, y_train_torch)\n",
    "    batch_size = 100\n",
    "    train_dl_no_shuffle = DataLoader(train_ds, batch_size, shuffle = False) # important: NO SHUFFLE!!!\n",
    "\n",
    "    test_ds = TensorDataset(x_test_torch, y_test_torch)\n",
    "    batch_size = 100\n",
    "    test_dl_no_shuffle = DataLoader(test_ds, batch_size, shuffle = False)\n",
    "\n",
    "    for inputs, labels in train_dl_no_shuffle:\n",
    "        # to device\n",
    "        inputs = inputs.to(device)\n",
    "        labels = labels.to(device)\n",
    "        image_train_hidden_vector_batch = model_no_last_layer(inputs)\n",
    "        image_train_hidden_list.append(image_train_hidden_vector_batch.squeeze().cpu().detach().numpy())\n",
    "\n",
    "    for inputs, labels in test_dl_no_shuffle:\n",
    "        inputs = inputs.to(device)\n",
    "        labels = labels.to(device)\n",
    "        # forward + backward\n",
    "        image_test_hidden_vector_batch = model_no_last_layer(inputs)\n",
    "        image_test_hidden_list.append(image_test_hidden_vector_batch.squeeze().cpu().detach().numpy())\n",
    "\n",
    "    # vectorize\n",
    "    image_train_hidden_vector=np.array(image_train_hidden_list).reshape(-1,512) # 512, resnet architecture   \n",
    "    image_test_hidden_vector=np.array(image_test_hidden_list).reshape(-1,512) # 512, resnet architecture\n",
    "\n",
    "    # scale\n",
    "    scaler = MinMaxScaler()\n",
    "    image_train_hidden_vector_norm = scaler.fit_transform(image_train_hidden_vector)\n",
    "    image_test_hidden_vector_norm = scaler.fit_transform(image_test_hidden_vector)\n",
    "    \n",
    "    return image_train_hidden_vector_norm,image_test_hidden_vector_norm\n"
   ]
  },
  {
   "cell_type": "code",
   "execution_count": 12,
   "metadata": {
    "scrolled": false
   },
   "outputs": [
    {
     "name": "stdout",
     "output_type": "stream",
     "text": [
      "HHVEHCNT_mean_norm\n",
      "./models/resnet18_HHVEHCNT_mean_norm_bw_True_Truewd001.pth\n",
      "HHVEHCNT_P_CAP_mean_norm\n",
      "./models/resnet18_HHVEHCNT_P_CAP_mean_norm_bw_True_Truewd001.pth\n",
      "TRPTRANS_1_mean_norm\n",
      "./models/resnet18_TRPTRANS_1_mean_norm_bw_True_Truewd001.pth\n",
      "TRPTRANS_2_mean_norm\n",
      "./models/resnet18_TRPTRANS_2_mean_norm_bw_True_Truewd001.pth\n",
      "TRPTRANS_3_mean_norm\n",
      "./models/resnet18_TRPTRANS_3_mean_norm_bw_True_Truewd001.pth\n"
     ]
    }
   ],
   "source": [
    "# load model dictionary for all the output variables\n",
    "model_name = 'resnet18'\n",
    "image_type = \"bw\"\n",
    "use_pretrained = True # unclear True vs False is better\n",
    "full_training = True\n",
    "\n",
    "model_dic = {}\n",
    "if image_type == \"rgb\":\n",
    "    input_channels = 3\n",
    "elif image_type == \"bw\":\n",
    "    input_channels = 4\n",
    "elif image_type == \"merge\":\n",
    "    input_channels = 7\n",
    "\n",
    "last_layer_dic_train = {}\n",
    "last_layer_dic_test = {}\n",
    "\n",
    "for output_var in output_list:\n",
    "    print(output_var)\n",
    "    \n",
    "    # read models\n",
    "    model = initialize_model(model_name, num_categories, input_channels, use_pretrained, full_training)\n",
    "    #PATH = './models/'+model_name+'_'+output_var+'_'+image_type +'.pth'\n",
    "    PATH = './models/'+model_name+'_'+output_var+'_'+image_type+'_'+str(use_pretrained)+'_'+str(full_training)+'wd001.pth'\n",
    "    print(PATH)\n",
    "    model.load_state_dict(torch.load(PATH))\n",
    "    model_dic[output_var]=model.state_dict()\n",
    "    \n",
    "    # initialize data. \n",
    "    y_train,y_test,BE_train,BE_test,x_train,x_test,x_train_images,x_test_images = \\\n",
    "        initialize_data(image_type, output_var, output_type, input_var, BE_var, num_categories, size)\n",
    "    \n",
    "    # obtain the last layer\n",
    "    image_train_hidden_vector_norm,image_test_hidden_vector_norm = \\\n",
    "        return_last_layer_resnet(model,device,x_train_images,x_test_images,y_train,y_test)\n",
    "\n",
    "    # \n",
    "    last_layer_dic_train[output_var]=image_train_hidden_vector_norm \n",
    "    last_layer_dic_test[output_var]=image_test_hidden_vector_norm\n",
    "    \n",
    "\n"
   ]
  },
  {
   "cell_type": "code",
   "execution_count": 13,
   "metadata": {},
   "outputs": [],
   "source": [
    "with open('last_layer/last_layer_dic_train'+'_'+image_type + '_'+str(use_pretrained)+'_'+str(full_training)+'wd001.pickle', 'wb') as h:\n",
    "    pickle.dump(last_layer_dic_train, h, protocol=pickle.HIGHEST_PROTOCOL)\n",
    "\n",
    "with open('last_layer/last_layer_dic_test'+ '_'+image_type + '_'+str(use_pretrained)+'_'+str(full_training)+'wd001.pickle', 'wb') as h:\n",
    "    pickle.dump(last_layer_dic_test, h, protocol=pickle.HIGHEST_PROTOCOL)\n",
    "\n"
   ]
  },
  {
   "cell_type": "code",
   "execution_count": 14,
   "metadata": {},
   "outputs": [
    {
     "data": {
      "text/plain": [
       "'/home/jtl/rachel_nhts/travel_modeling_nhts'"
      ]
     },
     "execution_count": 14,
     "metadata": {},
     "output_type": "execute_result"
    }
   ],
   "source": [
    "os.getcwd()"
   ]
  },
  {
   "cell_type": "code",
   "execution_count": null,
   "metadata": {},
   "outputs": [],
   "source": []
  },
  {
   "cell_type": "code",
   "execution_count": null,
   "metadata": {},
   "outputs": [],
   "source": []
  },
  {
   "cell_type": "code",
   "execution_count": null,
   "metadata": {},
   "outputs": [],
   "source": []
  },
  {
   "cell_type": "code",
   "execution_count": null,
   "metadata": {},
   "outputs": [],
   "source": []
  },
  {
   "cell_type": "code",
   "execution_count": null,
   "metadata": {},
   "outputs": [],
   "source": []
  },
  {
   "cell_type": "code",
   "execution_count": null,
   "metadata": {},
   "outputs": [],
   "source": []
  },
  {
   "cell_type": "code",
   "execution_count": null,
   "metadata": {},
   "outputs": [],
   "source": []
  }
 ],
 "metadata": {
  "kernelspec": {
   "display_name": "Python 3",
   "language": "python",
   "name": "python3"
  },
  "language_info": {
   "codemirror_mode": {
    "name": "ipython",
    "version": 3
   },
   "file_extension": ".py",
   "mimetype": "text/x-python",
   "name": "python",
   "nbconvert_exporter": "python",
   "pygments_lexer": "ipython3",
   "version": "3.7.4"
  }
 },
 "nbformat": 4,
 "nbformat_minor": 2
}
