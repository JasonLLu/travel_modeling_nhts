{
 "cells": [
  {
   "cell_type": "markdown",
   "metadata": {},
   "source": [
    "# CNN\n",
    "\n",
    "Use Resnet to train models to fit five travel behavioral variables by using images. The default is using only the black and white images with resnet18 to fit continous outputs, but the codes leave the flexibility of using other models, images, and output types. Several functions are not useful yet: bottleneck_resnet18, return_bottleneck_resnet18, and train_discrete_model. \n",
    "\n",
    "#### To be done: adjustment along many dimensions - hyperparameters, model choice, etc."
   ]
  },
  {
   "cell_type": "code",
   "execution_count": 1,
   "metadata": {},
   "outputs": [],
   "source": [
    "import torch\n",
    "import torch.nn as nn\n",
    "import torch.nn.functional as F\n",
    "import torchvision\n",
    "from torchvision import datasets, models, transforms\n",
    "from torch.utils.data import TensorDataset, DataLoader\n",
    "import torch.optim as optim\n",
    "\n",
    "from tqdm.notebook import tqdm\n",
    "\n",
    "import pickle\n",
    "\n",
    "import numpy as np\n",
    "import pandas as pd\n",
    "from matplotlib import pyplot as plt\n",
    "import util\n",
    "import statsmodels.api as sm\n",
    "from scipy import stats\n",
    "import copy\n",
    "\n",
    "from sklearn.metrics import accuracy_score\n",
    "from sklearn.metrics import confusion_matrix\n",
    "from sklearn.metrics import log_loss\n",
    "from sklearn.metrics import r2_score\n",
    "from sklearn.metrics import mean_squared_error\n",
    "from sklearn.preprocessing import PolynomialFeatures"
   ]
  },
  {
   "cell_type": "code",
   "execution_count": 2,
   "metadata": {},
   "outputs": [],
   "source": [
    "# ALWAYS choose devise first.\n",
    "# device = torch.device(\"cuda:0\" if torch.cuda.is_available() else \"cpu\")\n",
    "device = torch.device(\"cuda:0\" if torch.cuda.is_available() else \"cpu\")"
   ]
  },
  {
   "cell_type": "markdown",
   "metadata": {},
   "source": [
    "## Helper Functions"
   ]
  },
  {
   "cell_type": "code",
   "execution_count": 3,
   "metadata": {},
   "outputs": [],
   "source": [
    "# CHANGED: filepath for loading datasets\n",
    "\n",
    "def initialize_data(image_type, output_var, output_type, input_var, BE_var, num_categories, size):\n",
    "    # outputs: randomized training and testing sets for NHTS, BE, images, and y.\n",
    "    \n",
    "    ### read image array\n",
    "    if image_type == 'rgb':\n",
    "        image_array_ = np.load(\"../data_process/image_array_rgb_tract_large.npy\", mmap_mode='r')\n",
    "        image_array = image_array_[:size,]\n",
    "    elif image_type == 'bw':\n",
    "        image_array_ = np.load(\"../data_process/image_array_bw_tract_large.npy\", mmap_mode='r')\n",
    "        image_array = image_array_[:size,]        \n",
    "    elif image_type == 'merge':\n",
    "        bw_image_array_ = np.load(\"../data_process/image_array_bw_tract_large.npy\", mmap_mode='r')\n",
    "        rgb_image_array_ = np.load(\"../data_process/image_array_rgb_tract_large.npy\", mmap_mode='r')\n",
    "        bw_image_array = bw_image_array_[:size,]\n",
    "        rgb_image_array = rgb_image_array_[:size,]        \n",
    "        image_array = np.concatenate([rgb_image_array, bw_image_array], axis=1)\n",
    "    \n",
    "    ### create output array\n",
    "    df_ = pd.read_csv(\"../data_process/df_merged_tract_large.csv\")\n",
    "    df = df_.iloc[:size,]\n",
    "    y_ = df[output_var].values \n",
    "    # cut y into categories for discrete variables\n",
    "    if output_type == 'continuous':\n",
    "        y = copy.deepcopy(y_)\n",
    "    elif output_type == 'discrete':\n",
    "        y = np.array(pd.qcut(y_, q = num_categories, labels=np.arange(num_categories))) \n",
    "    x = df[input_var]\n",
    "    BE = df[BE_var]\n",
    "            \n",
    "    ### randomization\n",
    "    shuffle_idx = np.arange(size)\n",
    "    np.random.seed(0) # important: don't change the seed number, unless the seed number across scripts are all changed.\n",
    "    np.random.shuffle(shuffle_idx)\n",
    "    train_ratio = 0.8\n",
    "\n",
    "    ###\n",
    "    # y\n",
    "    if output_type == 'discrete':\n",
    "        y_train = y[shuffle_idx[:int(train_ratio*size)]].astype(\"int\")\n",
    "        y_test = y[shuffle_idx[int(train_ratio*size):]].astype(\"int\")\n",
    "    elif output_type == 'continuous':\n",
    "        y_train = y[shuffle_idx[:int(train_ratio*size)]].astype(\"float32\")\n",
    "        y_test = y[shuffle_idx[int(train_ratio*size):]].astype(\"float32\")\n",
    "    # BE\n",
    "    BE_train = BE.values[shuffle_idx[:int(train_ratio*size)]].astype(\"float32\")\n",
    "    BE_test = BE.values[shuffle_idx[int(train_ratio*size):]].astype(\"float32\")        \n",
    "    # image array\n",
    "    x_train_images = image_array[shuffle_idx[:int(train_ratio*size)],].astype(\"float32\")\n",
    "    x_test_images = image_array[shuffle_idx[int(train_ratio*size):],].astype(\"float32\")\n",
    "    # NHTS\n",
    "    x_train = x.values[shuffle_idx[:int(train_ratio*size)]].astype(\"float32\")\n",
    "    x_test = x.values[shuffle_idx[int(train_ratio*size):]].astype(\"float32\")\n",
    "    \n",
    "    return y_train,y_test,BE_train,BE_test,x_train,x_test,x_train_images,x_test_images\n",
    "\n",
    "# # test \n",
    "# image_type = 'bw'\n",
    "# output_var = 'HHFAMINC_mean'\n",
    "# output_type = 'continuous'\n",
    "# input_var=['R_AGE_IMP_mean', 'HHSIZE_mean', 'HHFAMINC_mean', 'HBHTNRNT_mean', 'HBPPOPDN_mean', 'HBRESDN_mean', \n",
    "#            'R_SEX_IMP_2_mean', 'EDUC_2_mean', 'HH_RACE_2_mean', 'HOMEOWN_1_mean', 'HOMEOWN_2_mean',\n",
    "#            'HBHUR_R_mean', 'HBHUR_S_mean', 'HBHUR_T_mean','HBHUR_U_mean']\n",
    "# BE_var = ['density', 'diversity', 'design']\n",
    "# num_categories = 1 # (1) certain category values can cause errors. (2) when output_type = 'continuous', this value needs to be 1.\n",
    "# size = 10000 # size needs to be smaller than the max\n",
    "# # \n",
    "# y_train,y_test,BE_train,BE_test,x_train,x_test,x_train_images,x_test_images = \\\n",
    "#     initialize_data(image_type, output_var, output_type, input_var, BE_var, num_categories, size)\n",
    "\n",
    "# print(y_train.shape)\n",
    "# print(y_test.shape)\n",
    "# print(x_train_images.shape)\n",
    "# print(x_test_images.shape)\n",
    "# plt.figure()\n",
    "# plt.boxplot(y_train)\n",
    "# plt.figure()\n",
    "# plt.boxplot(y_test)"
   ]
  },
  {
   "cell_type": "code",
   "execution_count": 4,
   "metadata": {},
   "outputs": [],
   "source": [
    "def initialize_model(model_name, num_categories, input_channels = 3, use_pretrained=True, full_training=False):\n",
    "    # initliaze the CNN model.\n",
    "    # default input image size = 3*224*224, but inputs and output channels can be changed. \n",
    "    # num_categories: output channels. For continuous varialbes, use num_categories = 1.\n",
    "    # return the model\n",
    "\n",
    "    if model_name == 'resnet18':\n",
    "        \"\"\" resnet 18\"\"\"\n",
    "        model_ft = models.resnet18(pretrained=use_pretrained)\n",
    "        # train only the last layer.\n",
    "        for param in model_ft.parameters():\n",
    "            param.requires_grad=full_training\n",
    "        if input_channels != 3:\n",
    "            # Edit the input channels.\n",
    "            model_ft.conv1 = nn.Conv2d(input_channels, 64, kernel_size=(7, 7), stride=(2, 2), padding=(3, 3), bias=False)\n",
    "        num_ftrs = model_ft.fc.in_features\n",
    "        model_ft.fc = nn.Linear(num_ftrs, num_categories) # if output_type == continuous, then num_categories = 1.\n",
    "\n",
    "    elif model_name == 'alexnet':\n",
    "        \"\"\" alexnet \"\"\"\n",
    "        model_ft = models.alexnet(pretrained=use_pretrained)\n",
    "        for param in model_ft.parameters():\n",
    "            param.requires_grad = full_training \n",
    "        if input_channels != 3:\n",
    "            model_ft.features[0] = nn.Conv2d(input_channels, 64, kernel_size=(11, 11), stride=(4, 4), padding=(2, 2))    \n",
    "        num_ftrs = model_ft.classifier[6].in_features\n",
    "        model_ft.classifier[6] = nn.Linear(num_ftrs, num_categories) # if output_type == continuous, then num_categories = 1.\n",
    "\n",
    "    elif model_name == 'vgg':\n",
    "        model_ft = models.vgg11_bn(pretrained=use_pretrained)\n",
    "        for param in model_ft.parameters():\n",
    "            param.requires_grad = full_training \n",
    "        if input_channels != 3:\n",
    "            model_ft.features[0] = nn.Conv2d(input_channels, 64, kernel_size=(3, 3), stride=(1, 1), padding=(1, 1))\n",
    "        num_ftrs = model_ft.classifier[6].in_features\n",
    "        model_ft.classifier[6] = nn.Linear(num_ftrs, num_categories) # if output_type == continuous, then num_categories = 1.\n",
    "\n",
    "    elif model_name == 'squeezenet':\n",
    "        model_ft = models.squeezenet1_0(pretrained=use_pretrained)\n",
    "        for param in model_ft.parameters():\n",
    "            param.requires_grad = full_training \n",
    "        if input_channels != 3:\n",
    "            model_ft.features[0] = nn.Conv2d(input_channels, 96, kernel_size=(7, 7), stride=(2, 2))\n",
    "        model_ft.classifier[1] = nn.Conv2d(512, num_categories, kernel_size=(1,1), stride=(1,1))\n",
    "\n",
    "    elif model_name == 'densenet':\n",
    "        model_ft = models.densenet121(pretrained=use_pretrained)\n",
    "        for param in model_ft.parameters():\n",
    "            param.requires_grad = full_training\n",
    "        if input_channels != 3:\n",
    "            model_ft.features[0] = nn.Conv2d(input_channels, 64, kernel_size=(7, 7), stride=(2, 2), padding=(3, 3), bias=False)\n",
    "        num_ftrs = model_ft.classifier.in_features\n",
    "        model_ft.classifier = nn.Linear(num_ftrs, num_categories)\n",
    "\n",
    "    elif model_name == 'wide_resnet':\n",
    "        model_ft = models.wide_resnet50_2(pretrained=use_pretrained)\n",
    "        for param in model_ft.parameters():\n",
    "            param.requires_grad = full_training \n",
    "        if input_channels != 3:\n",
    "            model_ft.conv1 = nn.Conv2d(input_channels, 64, kernel_size=(7, 7), stride=(2, 2), padding=(3, 3), bias=False)\n",
    "        num_ftrs = model_ft.fc.in_features\n",
    "        model_ft.fc = nn.Linear(num_ftrs, num_categories)\n",
    "        \n",
    "    elif model_name == 'mnasnet':\n",
    "        model_ft = models.mnasnet1_0(pretrained=use_pretrained)\n",
    "        for param in model_ft.parameters():\n",
    "            param.requires_grad = full_training\n",
    "        if input_channels != 3:\n",
    "            model_ft.layers[0] = nn.Conv2d(input_channels, 32, kernel_size=(3, 3), stride=(2, 2), padding=(1, 1), bias=False)\n",
    "        num_ftrs = model_ft.classifier[1].in_features\n",
    "        model_ft.classifier[1] = nn.Linear(num_ftrs, num_categories)\n",
    "        \n",
    "    return model_ft\n",
    "\n",
    "# # test 1. initialize model for continuous var\n",
    "# model_name = 'resnet18'\n",
    "# num_categories = 1 \n",
    "# input_channels = 4\n",
    "# use_pretrained = True\n",
    "# full_training = True\n",
    "# model = initialize_model(model_name, num_categories, input_channels, use_pretrained, full_training)\n",
    "# model.to(device)\n",
    "\n",
    "# # test 2. initialize model for discrete var\n",
    "# model_name = 'resnet18'\n",
    "# # num_categories = 1 \n",
    "# input_channels = 4\n",
    "# use_pretrained = True\n",
    "# full_training = True\n",
    "# model = initialize_model(model_name, num_categories, input_channels, use_pretrained, full_training)\n",
    "# model.to(device)\n",
    "\n",
    "# # test 3. initialize model for continuous var\n",
    "# model_name = 'bottleneck_resnet18'\n",
    "# num_categories = 1 \n",
    "# input_channels = 4\n",
    "# use_pretrained = True\n",
    "# full_training = True\n",
    "# model = initialize_model(model_name, num_categories, input_channels, use_pretrained, full_training)\n",
    "# model.to(device)\n"
   ]
  },
  {
   "cell_type": "code",
   "execution_count": 5,
   "metadata": {},
   "outputs": [],
   "source": [
    "# class bottleneck_resnet18(nn.Module):\n",
    "#     # This model does NOT work yet. It seems that the fc layer or the upsampling do not work...\n",
    "#     # Goal: create a resnet architecture with bottleneck in the middle that reduces information into several nodes.\n",
    "#     def __init__(self, num_categories, num_bottleneck, input_channels = 3, use_pretrained=True, full_training=False):\n",
    "#         super(bottleneck_resnet18, self).__init__()\n",
    "#         ref = models.resnet18(pretrained=use_pretrained)\n",
    "#         self.sequence1 = nn.Sequential(ref.conv1, ref.bn1, ref.relu, ref.maxpool, ref.layer1,\n",
    "#                                        ref.layer2)\n",
    "#         ### condense \n",
    "#         if num_bottleneck == 1:\n",
    "#             self.condense = nn.AvgPool3d((128,28,28))\n",
    "#         elif num_bottleneck == 2:\n",
    "#             self.condense = nn.AvgPool3d((128,28,14))\n",
    "#         elif num_bottleneck == 3:\n",
    "#             self.condense = nn.AvgPool3d((128,28,9))\n",
    "\n",
    "#         ### upsampling\n",
    "#         self.upsample = nn.Sequential(nn.Conv2d(num_bottleneck, 128, kernel_size=(3, 3), stride=(2, 2), padding=(1, 1), bias=False),\n",
    "#                                       nn.Upsample((28, 28)))\n",
    "#         self.sequence2 = nn.Sequential(ref.layer3, ref.layer4, ref.avgpool)\n",
    "#         self.fc = ref.fc\n",
    "        \n",
    "#         ### edit parameters\n",
    "#         for param in self.parameters():\n",
    "#             param.requires_grad=full_training\n",
    "#         if input_channels != 3:\n",
    "#             self.sequence1[0]=nn.Conv2d(input_channels, 64, kernel_size=(7, 7), stride=(2, 2), padding=(3, 3), bias=False)\n",
    "#         num_ftrs=self.fc.in_features\n",
    "#         self.fc=nn.Linear(num_ftrs, num_categories)\n",
    "        \n",
    "#     def forward(self, x):\n",
    "#         x=self.sequence1(x)\n",
    "#         x=self.condense(x)\n",
    "#         x=self.upsample(x)\n",
    "#         x=self.sequence2(x)\n",
    "#         x=x.squeeze() # sw: this line is important, but I don't understand why resnet18 does not need it...\n",
    "#         out=self.fc(x)\n",
    "#         return out"
   ]
  },
  {
   "cell_type": "code",
   "execution_count": 6,
   "metadata": {},
   "outputs": [],
   "source": [
    "# def return_bottleneck_renset(model,device,x_train_images,x_test_images,y_train,y_test):\n",
    "#     # This function does not work yet.\n",
    "#     # Goal: return the several nodes' values from the bottleneck resnet architecture.\n",
    "#     from sklearn.preprocessing import MinMaxScaler\n",
    "\n",
    "#     bottleneck_train_list = []\n",
    "#     def hook_train(module,inputs,outputs):\n",
    "#         bottleneck_train_list.append(outputs)\n",
    "        \n",
    "#     bottleneck_test_list = []\n",
    "#     def hook_test(module,inputs,outputs):\n",
    "#         bottleneck_test_list.append(outputs)\n",
    "\n",
    "#     x_train_images_norm = x_train_images/255\n",
    "#     x_test_images_norm = x_test_images/255\n",
    "\n",
    "#     x_train_torch = torch.from_numpy(x_train_images_norm)\n",
    "#     x_test_torch = torch.from_numpy(x_test_images_norm)\n",
    "#     y_train_torch = torch.from_numpy(y_train)\n",
    "#     y_test_torch = torch.from_numpy(y_test)\n",
    "\n",
    "#     # create data loader: train and test. \n",
    "#     train_ds = TensorDataset(x_train_torch, y_train_torch)\n",
    "#     batch_size = 50\n",
    "#     train_dl_no_shuffle = DataLoader(train_ds, batch_size, shuffle = False) # important: NO SHUFFLE.\n",
    "\n",
    "#     test_ds = TensorDataset(x_test_torch, y_test_torch)\n",
    "#     batch_size = 50\n",
    "#     test_dl_no_shuffle = DataLoader(test_ds, batch_size, shuffle = False) # important: NO SHUFFLE.\n",
    "\n",
    "#     for param in model.parameters():\n",
    "#         param.requires_grad=False # save space\n",
    "    \n",
    "#     for inputs, labels in train_dl_no_shuffle:\n",
    "#         # to device\n",
    "#         inputs = inputs.to(device)\n",
    "#         labels = labels.to(device)\n",
    "#         outputs = model(inputs)\n",
    "#         bottleneck_train_list = model.layer3[1].conv1.register_forward_hook(hook_train)\n",
    "\n",
    "#     for inputs, labels in test_dl_no_shuffle:\n",
    "#         inputs = inputs.to(device)\n",
    "#         labels = labels.to(device)\n",
    "#         outputs = model(inputs)\n",
    "#         bottleneck_test_list = model.layer3[1].conv1.register_forward_hook(hook_test)\n",
    "\n",
    "#     return bottleneck_train_list,bottleneck_test_list\n"
   ]
  },
  {
   "cell_type": "code",
   "execution_count": 7,
   "metadata": {},
   "outputs": [],
   "source": [
    "# def train_discrete_model(model, train_dl, test_dl, criterion, optimizer, device, n_epoch = 25):\n",
    "#     # Train a model with discrete outputs.\n",
    "#     # Outputs: model; training and testing accuracy/log-loss.\n",
    "#     # But so far this function is not used because of bad performance on discrete outputs.\n",
    "#     log_loss_train_list=[]\n",
    "#     log_loss_test_list=[]\n",
    "#     accuracy_train_list=[]\n",
    "#     accuracy_test_list=[]\n",
    "\n",
    "#     # automatic model searching.\n",
    "#     best_model_wts = copy.deepcopy(model.state_dict())\n",
    "#     best_acc = 0.0\n",
    "    \n",
    "#     # iterate\n",
    "#     for epoch in range(n_epoch):\n",
    "    \n",
    "#         running_log_loss_train = 0.0\n",
    "#         running_log_loss_test = 0.0\n",
    "#         correct_train = 0\n",
    "#         total_train = 0\n",
    "#         correct_test = 0\n",
    "#         total_test = 0\n",
    "\n",
    "#         # training    \n",
    "#         for inputs, labels in tqdm(train_dl):\n",
    "#             # to device\n",
    "#             inputs = inputs.to(device)\n",
    "#             labels = labels.to(device)\n",
    "\n",
    "#             # forward + backward\n",
    "#             outputs = model(inputs)\n",
    "#             loss = criterion(outputs, labels)\n",
    "#             loss.backward()\n",
    "\n",
    "#             # evaluate prediction\n",
    "#             _, predicted = torch.max(outputs.data, 1)\n",
    "#             total_train += labels.size(0)\n",
    "#             correct_train += (predicted == labels).sum().item()\n",
    "\n",
    "#             # evaluate log loss\n",
    "#             running_log_loss_train += loss.item()\n",
    "\n",
    "#             # optimize\n",
    "#             with torch.no_grad():\n",
    "#                 optimizer.step()\n",
    "#                 optimizer.zero_grad()\n",
    "\n",
    "#         # testing\n",
    "#         for inputs, labels in test_dl:\n",
    "#             # to device\n",
    "#             inputs = inputs.to(device)\n",
    "#             labels = labels.to(device)\n",
    "\n",
    "#             # forward + backward\n",
    "#             outputs = model(inputs)\n",
    "#             loss = criterion(outputs, labels)\n",
    "\n",
    "#             # evaluate log loss\n",
    "#             running_log_loss_test += loss.item()\n",
    "\n",
    "#             # evaluate prediction\n",
    "#             _, predicted = torch.max(outputs.data, 1)\n",
    "#             total_test += labels.size(0)\n",
    "#             correct_test += (predicted == labels).sum().item()\n",
    "        \n",
    "#         # print\n",
    "#         print(\"Epoch {}: Training Loss {}; Testing Loss {}\".format(epoch, running_log_loss_train, running_log_loss_test))\n",
    "#         print(\"Epoch {}: Training Accuracy {}; Testing Accuracy {}\".format(epoch, correct_train/total_train, correct_test/total_test))\n",
    "\n",
    "#         # append loss here.\n",
    "#         log_loss_train_list.append(running_log_loss_train)\n",
    "#         log_loss_test_list.append(running_log_loss_test)\n",
    "#         accuracy_train_list.append(correct_train/total_train)\n",
    "#         accuracy_test_list.append(correct_test/total_test)\n",
    "        \n",
    "#         if correct_test/total_test > best_acc:\n",
    "#             best_acc = correct_test/total_test\n",
    "#             best_model_wts = copy.deepcopy(model.state_dict())\n",
    "\n",
    "#     # load the best model weights\n",
    "#     model.load_state_dict(best_model_wts)\n",
    "#     return model, log_loss_train_list, log_loss_test_list, accuracy_train_list, accuracy_test_list\n"
   ]
  },
  {
   "cell_type": "code",
   "execution_count": 8,
   "metadata": {},
   "outputs": [],
   "source": [
    "def train_continuous_model(model, train_dl, test_dl, criterion, optimizer, device, total_mse_train, total_mse_test, n_epoch = 25):\n",
    "    # This function trains the model with continous outputs.\n",
    "    # outputs: model, and R2 and MSE for training and testing\n",
    "    mse_train_list = []\n",
    "    mse_test_list = []\n",
    "    r_square_train_list = []\n",
    "    r_square_test_list = []\n",
    "\n",
    "    # automatic model searching.\n",
    "    best_model_wts = copy.deepcopy(model.state_dict())\n",
    "    best_r_square = 0.0\n",
    "    \n",
    "    for epoch in range(n_epoch): \n",
    "        running_mse_train = 0.0\n",
    "        running_mse_test = 0.0\n",
    "        \n",
    "        # training\n",
    "        for inputs, labels in tqdm(train_dl):\n",
    "            # to device\n",
    "            inputs = inputs.to(device)\n",
    "            labels = labels.to(device)\n",
    "\n",
    "            # forward + backward\n",
    "            outputs = model(inputs)\n",
    "            # sw: be careful about the dimension matching at this point...\n",
    "            loss = criterion(outputs.view(-1), labels) # this .view(-1) seems specific to continuous variables\n",
    "            loss.backward()\n",
    "\n",
    "            # performance\n",
    "            running_mse_train += loss.item()*batch_size\n",
    "\n",
    "            # optimize\n",
    "            with torch.no_grad():\n",
    "                optimizer.step()\n",
    "                optimizer.zero_grad()\n",
    "\n",
    "        # testing\n",
    "        for inputs, labels in test_dl:\n",
    "            # to device\n",
    "            inputs = inputs.to(device)\n",
    "            labels = labels.to(device)\n",
    "\n",
    "            # forward + backward        \n",
    "            outputs = model(inputs)\n",
    "            loss = criterion(outputs.view(-1), labels) # this .view(-1) is specific to continuous variables\n",
    "            running_mse_test += loss.item()*batch_size # this *batch_size is specific to continuous variables.\n",
    "\n",
    "        # R square for a batch\n",
    "        running_r_square_train = 1-running_mse_train/total_mse_train.item()\n",
    "        running_r_square_test = 1-running_mse_test/total_mse_test.item()\n",
    "        \n",
    "        print(\"Epoch {}: Training MSE {}; Testing MSE {}\".format(epoch, running_mse_train, running_mse_test))\n",
    "        print(\"Epoch {}: Training R2 {}; Testing R2 {}\".format(epoch, running_r_square_train, running_r_square_test))\n",
    "\n",
    "        mse_train_list.append(running_mse_train)\n",
    "        mse_test_list.append(running_mse_test)\n",
    "        r_square_train_list.append(running_r_square_train)\n",
    "        r_square_test_list.append(running_r_square_test)\n",
    "\n",
    "        # check overfitting for early stopping. This is designed in an ad-hoc way.\n",
    "        if epoch > 5 and running_r_square_test < 0.0:\n",
    "            break # break the for loop.\n",
    "        \n",
    "        # store the best performance.\n",
    "        if running_r_square_test > best_r_square:\n",
    "            best_r_square = running_r_square_test\n",
    "            best_model_wts = copy.deepcopy(model.state_dict())\n",
    "\n",
    "    # load the weights of the best model\n",
    "    model.load_state_dict(best_model_wts)\n",
    "    return model, mse_train_list, mse_test_list, r_square_train_list, r_square_test_list\n"
   ]
  },
  {
   "cell_type": "markdown",
   "metadata": {},
   "source": [
    "## Train resnet18 for continous outputs."
   ]
  },
  {
   "cell_type": "code",
   "execution_count": 9,
   "metadata": {},
   "outputs": [],
   "source": [
    "#CHANGED: only selected needed vars\n",
    "# set up.\n",
    "output_list = ['HHVEHCNT_mean_norm', 'HHVEHCNT_P_CAP_mean_norm', 'TRPTRANS_1_mean_norm', 'TRPTRANS_2_mean_norm', 'TRPTRANS_3_mean_norm']\n",
    "input_var=['R_AGE_IMP_mean', 'HHSIZE_mean', 'HHFAMINC_mean', 'HBHTNRNT_mean', 'HBPPOPDN_mean', 'HBRESDN_mean', \n",
    "           'R_SEX_IMP_2_mean', 'EDUC_2_mean', 'HH_RACE_2_mean', 'HOMEOWN_1_mean', 'HOMEOWN_2_mean',\n",
    "           'HBHUR_R_mean', 'HBHUR_S_mean', 'HBHUR_T_mean','HBHUR_U_mean']\n",
    "BE_var = ['density', 'diversity', 'design']\n",
    "image_types = ['bw', 'rgb', 'merge'] # It can be 'rgb', 'bw', 'merge'\n",
    "output_type = 'continuous' \n",
    "num_categories = 1 # Certain category values can cause errors. When output_type = 'continuous', this value needs to be 1.\n",
    "size = 12000 # size needs to be smaller than the max (18491).\n",
    "\n",
    "model_name = 'resnet18' \n",
    "model_dic = {}\n"
   ]
  },
  {
   "cell_type": "code",
   "execution_count": 10,
   "metadata": {
    "scrolled": true
   },
   "outputs": [
    {
     "name": "stdout",
     "output_type": "stream",
     "text": [
      "HHVEHCNT_mean_norm\n",
      "tensor(10700.4521)\n",
      "tensor(2549.4304)\n"
     ]
    },
    {
     "data": {
      "application/vnd.jupyter.widget-view+json": {
       "model_id": "75dbaa3ad06f492c88c1b4c538469cfd",
       "version_major": 2,
       "version_minor": 0
      },
      "text/plain": [
       "HBox(children=(IntProgress(value=0, max=96), HTML(value='')))"
      ]
     },
     "metadata": {},
     "output_type": "display_data"
    },
    {
     "name": "stdout",
     "output_type": "stream",
     "text": [
      "\n",
      "Epoch 0: Training MSE 12698.27309846878; Testing MSE 2314.804685115814\n",
      "Epoch 0: Training R2 -0.1867043487805331; Testing R2 0.09203064848235809\n"
     ]
    },
    {
     "data": {
      "application/vnd.jupyter.widget-view+json": {
       "model_id": "57bc1197d34048faa9f52f4ece847471",
       "version_major": 2,
       "version_minor": 0
      },
      "text/plain": [
       "HBox(children=(IntProgress(value=0, max=96), HTML(value='')))"
      ]
     },
     "metadata": {},
     "output_type": "display_data"
    },
    {
     "name": "stdout",
     "output_type": "stream",
     "text": [
      "\n",
      "Epoch 1: Training MSE 9758.412963151932; Testing MSE 2336.7906153202057\n",
      "Epoch 1: Training R2 0.08803732517257479; Testing R2 0.08340678880272612\n"
     ]
    },
    {
     "data": {
      "application/vnd.jupyter.widget-view+json": {
       "model_id": "fe5717530f0e45d4b656da77c3ad010f",
       "version_major": 2,
       "version_minor": 0
      },
      "text/plain": [
       "HBox(children=(IntProgress(value=0, max=96), HTML(value='')))"
      ]
     },
     "metadata": {},
     "output_type": "display_data"
    },
    {
     "name": "stdout",
     "output_type": "stream",
     "text": [
      "\n",
      "Epoch 2: Training MSE 9714.318877458572; Testing MSE 2354.092448949814\n",
      "Epoch 2: Training R2 0.09215809362998972; Testing R2 0.07662024013114554\n"
     ]
    },
    {
     "data": {
      "application/vnd.jupyter.widget-view+json": {
       "model_id": "244730f6a364473e8cba63793d6b162c",
       "version_major": 2,
       "version_minor": 0
      },
      "text/plain": [
       "HBox(children=(IntProgress(value=0, max=96), HTML(value='')))"
      ]
     },
     "metadata": {},
     "output_type": "display_data"
    },
    {
     "name": "stdout",
     "output_type": "stream",
     "text": [
      "\n",
      "Epoch 3: Training MSE 9523.651683330536; Testing MSE 2317.954343557358\n",
      "Epoch 3: Training R2 0.10997670460858078; Testing R2 0.09079521235633903\n"
     ]
    },
    {
     "data": {
      "application/vnd.jupyter.widget-view+json": {
       "model_id": "dca624cd95124914a98b769e2f210fef",
       "version_major": 2,
       "version_minor": 0
      },
      "text/plain": [
       "HBox(children=(IntProgress(value=0, max=96), HTML(value='')))"
      ]
     },
     "metadata": {},
     "output_type": "display_data"
    },
    {
     "name": "stdout",
     "output_type": "stream",
     "text": [
      "\n",
      "Epoch 4: Training MSE 9587.58698105812; Testing MSE 2328.8352251052856\n",
      "Epoch 4: Training R2 0.10400169562385098; Testing R2 0.08652724667157197\n"
     ]
    },
    {
     "data": {
      "application/vnd.jupyter.widget-view+json": {
       "model_id": "70f4faf57ca44df4835c5276e91438f4",
       "version_major": 2,
       "version_minor": 0
      },
      "text/plain": [
       "HBox(children=(IntProgress(value=0, max=96), HTML(value='')))"
      ]
     },
     "metadata": {},
     "output_type": "display_data"
    },
    {
     "name": "stdout",
     "output_type": "stream",
     "text": [
      "\n",
      "Epoch 5: Training MSE 9450.506654381752; Testing MSE 2286.034721136093\n",
      "Epoch 5: Training R2 0.11681239976744973; Testing R2 0.10331550793759392\n"
     ]
    },
    {
     "data": {
      "application/vnd.jupyter.widget-view+json": {
       "model_id": "e29b80f607214e1e8df325833b6c9e31",
       "version_major": 2,
       "version_minor": 0
      },
      "text/plain": [
       "HBox(children=(IntProgress(value=0, max=96), HTML(value='')))"
      ]
     },
     "metadata": {},
     "output_type": "display_data"
    },
    {
     "name": "stdout",
     "output_type": "stream",
     "text": [
      "\n",
      "Epoch 6: Training MSE 9238.332736492157; Testing MSE 2286.6768062114716\n",
      "Epoch 6: Training R2 0.13664089999774864; Testing R2 0.10306365361344327\n"
     ]
    },
    {
     "data": {
      "application/vnd.jupyter.widget-view+json": {
       "model_id": "98814758e981444bbf64a466e104f0aa",
       "version_major": 2,
       "version_minor": 0
      },
      "text/plain": [
       "HBox(children=(IntProgress(value=0, max=96), HTML(value='')))"
      ]
     },
     "metadata": {},
     "output_type": "display_data"
    },
    {
     "name": "stdout",
     "output_type": "stream",
     "text": [
      "\n",
      "Epoch 7: Training MSE 8830.137184262276; Testing MSE 2306.646591424942\n",
      "Epoch 7: Training R2 0.1747884050346724; Testing R2 0.09523061566997892\n"
     ]
    },
    {
     "data": {
      "application/vnd.jupyter.widget-view+json": {
       "model_id": "a1d25cd845754a14a68b3ffd4f70fb10",
       "version_major": 2,
       "version_minor": 0
      },
      "text/plain": [
       "HBox(children=(IntProgress(value=0, max=96), HTML(value='')))"
      ]
     },
     "metadata": {},
     "output_type": "display_data"
    },
    {
     "name": "stdout",
     "output_type": "stream",
     "text": [
      "\n",
      "Epoch 8: Training MSE 8388.996928930283; Testing MSE 2450.3201246261597\n",
      "Epoch 8: Training R2 0.21601472418571965; Testing R2 0.03887546587710067\n"
     ]
    },
    {
     "data": {
      "application/vnd.jupyter.widget-view+json": {
       "model_id": "b92ab02a2cb84a67b03bf1c25320e57d",
       "version_major": 2,
       "version_minor": 0
      },
      "text/plain": [
       "HBox(children=(IntProgress(value=0, max=96), HTML(value='')))"
      ]
     },
     "metadata": {},
     "output_type": "display_data"
    },
    {
     "name": "stdout",
     "output_type": "stream",
     "text": [
      "\n",
      "Epoch 9: Training MSE 7773.921477794647; Testing MSE 2528.3136904239655\n",
      "Epoch 9: Training R2 0.2734959822300771; Testing R2 0.008282920503692948\n"
     ]
    },
    {
     "data": {
      "application/vnd.jupyter.widget-view+json": {
       "model_id": "5f41b5a5e4864c1b92d344834b4d8035",
       "version_major": 2,
       "version_minor": 0
      },
      "text/plain": [
       "HBox(children=(IntProgress(value=0, max=96), HTML(value='')))"
      ]
     },
     "metadata": {},
     "output_type": "display_data"
    },
    {
     "name": "stdout",
     "output_type": "stream",
     "text": [
      "\n",
      "Epoch 10: Training MSE 6634.627676010132; Testing MSE 2665.255695581436\n",
      "Epoch 10: Training R2 0.37996753931758553; Testing R2 -0.04543182459677042\n",
      "Printing performance_continuous\n",
      "{'HHVEHCNT_mean_norm': {'mse_train_list': [12698.27309846878, 9758.412963151932, 9714.318877458572, 9523.651683330536, 9587.58698105812, 9450.506654381752, 9238.332736492157, 8830.137184262276, 8388.996928930283, 7773.921477794647, 6634.627676010132], 'mse_test_list': [2314.804685115814, 2336.7906153202057, 2354.092448949814, 2317.954343557358, 2328.8352251052856, 2286.034721136093, 2286.6768062114716, 2306.646591424942, 2450.3201246261597, 2528.3136904239655, 2665.255695581436], 'r_square_train_list': [-0.1867043487805331, 0.08803732517257479, 0.09215809362998972, 0.10997670460858078, 0.10400169562385098, 0.11681239976744973, 0.13664089999774864, 0.1747884050346724, 0.21601472418571965, 0.2734959822300771, 0.37996753931758553], 'r_square_test_list': [0.09203064848235809, 0.08340678880272612, 0.07662024013114554, 0.09079521235633903, 0.08652724667157197, 0.10331550793759392, 0.10306365361344327, 0.09523061566997892, 0.03887546587710067, 0.008282920503692948, -0.04543182459677042]}}\n",
      "Stored 'performance_continuous' (dict)\n",
      "HHVEHCNT_P_CAP_mean_norm\n",
      "tensor(10708.8994)\n",
      "tensor(2445.9663)\n"
     ]
    },
    {
     "data": {
      "application/vnd.jupyter.widget-view+json": {
       "model_id": "3ee064439480422daeda7be0b4383d44",
       "version_major": 2,
       "version_minor": 0
      },
      "text/plain": [
       "HBox(children=(IntProgress(value=0, max=96), HTML(value='')))"
      ]
     },
     "metadata": {},
     "output_type": "display_data"
    },
    {
     "name": "stdout",
     "output_type": "stream",
     "text": [
      "\n",
      "Epoch 0: Training MSE 13178.774550557137; Testing MSE 2224.8687148094177\n",
      "Epoch 0: Training R2 -0.2306376258657632; Testing R2 0.09039273885642651\n"
     ]
    },
    {
     "data": {
      "application/vnd.jupyter.widget-view+json": {
       "model_id": "b07c3e780fed4c4a805caefe07b07596",
       "version_major": 2,
       "version_minor": 0
      },
      "text/plain": [
       "HBox(children=(IntProgress(value=0, max=96), HTML(value='')))"
      ]
     },
     "metadata": {},
     "output_type": "display_data"
    },
    {
     "name": "stdout",
     "output_type": "stream",
     "text": [
      "\n",
      "Epoch 1: Training MSE 9719.109898805618; Testing MSE 2222.6975440979004\n",
      "Epoch 1: Training R2 0.0924268196932665; Testing R2 0.09128039242053687\n"
     ]
    },
    {
     "data": {
      "application/vnd.jupyter.widget-view+json": {
       "model_id": "5a63b3956b1b4be3857b9f23d6483adf",
       "version_major": 2,
       "version_minor": 0
      },
      "text/plain": [
       "HBox(children=(IntProgress(value=0, max=96), HTML(value='')))"
      ]
     },
     "metadata": {},
     "output_type": "display_data"
    },
    {
     "name": "stdout",
     "output_type": "stream",
     "text": [
      "\n",
      "Epoch 2: Training MSE 9641.036340594292; Testing MSE 2273.9757001399994\n",
      "Epoch 2: Training R2 0.09971735023170847; Testing R2 0.07031601696616685\n"
     ]
    },
    {
     "data": {
      "application/vnd.jupyter.widget-view+json": {
       "model_id": "b03445f9689d4a4e96abb02384b24546",
       "version_major": 2,
       "version_minor": 0
      },
      "text/plain": [
       "HBox(children=(IntProgress(value=0, max=96), HTML(value='')))"
      ]
     },
     "metadata": {},
     "output_type": "display_data"
    },
    {
     "name": "stdout",
     "output_type": "stream",
     "text": [
      "\n",
      "Epoch 3: Training MSE 9623.26552271843; Testing MSE 2209.157007932663\n",
      "Epoch 3: Training R2 0.10137679413801004; Testing R2 0.09681625614754885\n"
     ]
    },
    {
     "data": {
      "application/vnd.jupyter.widget-view+json": {
       "model_id": "3afa304aeddc46058c898e6f248fabe4",
       "version_major": 2,
       "version_minor": 0
      },
      "text/plain": [
       "HBox(children=(IntProgress(value=0, max=96), HTML(value='')))"
      ]
     },
     "metadata": {},
     "output_type": "display_data"
    },
    {
     "name": "stdout",
     "output_type": "stream",
     "text": [
      "\n",
      "Epoch 4: Training MSE 9596.776592731476; Testing MSE 2219.0219402313232\n",
      "Epoch 4: Training R2 0.10385033777333164; Testing R2 0.09278311298282071\n"
     ]
    },
    {
     "data": {
      "application/vnd.jupyter.widget-view+json": {
       "model_id": "461bb0bb205c4cb7b074c720a15844cf",
       "version_major": 2,
       "version_minor": 0
      },
      "text/plain": [
       "HBox(children=(IntProgress(value=0, max=96), HTML(value='')))"
      ]
     },
     "metadata": {},
     "output_type": "display_data"
    },
    {
     "name": "stdout",
     "output_type": "stream",
     "text": [
      "\n",
      "Epoch 5: Training MSE 9397.071981430054; Testing MSE 2253.542798757553\n",
      "Epoch 5: Training R2 0.12249880981324812; Testing R2 0.07866973030663948\n"
     ]
    },
    {
     "data": {
      "application/vnd.jupyter.widget-view+json": {
       "model_id": "6206129e13b7447983e84abb1ebfe9d8",
       "version_major": 2,
       "version_minor": 0
      },
      "text/plain": [
       "HBox(children=(IntProgress(value=0, max=96), HTML(value='')))"
      ]
     },
     "metadata": {},
     "output_type": "display_data"
    },
    {
     "name": "stdout",
     "output_type": "stream",
     "text": [
      "\n",
      "Epoch 6: Training MSE 9086.2719476223; Testing MSE 2210.0871920585632\n",
      "Epoch 6: Training R2 0.15152140324611052; Testing R2 0.0964359630410444\n"
     ]
    },
    {
     "data": {
      "application/vnd.jupyter.widget-view+json": {
       "model_id": "644d2513e183442486ff8e084710fb7a",
       "version_major": 2,
       "version_minor": 0
      },
      "text/plain": [
       "HBox(children=(IntProgress(value=0, max=96), HTML(value='')))"
      ]
     },
     "metadata": {},
     "output_type": "display_data"
    },
    {
     "name": "stdout",
     "output_type": "stream",
     "text": [
      "\n",
      "Epoch 7: Training MSE 8572.333234548569; Testing MSE 2243.8052773475647\n",
      "Epoch 7: Training R2 0.1995131429386925; Testing R2 0.08265078326545428\n"
     ]
    },
    {
     "data": {
      "application/vnd.jupyter.widget-view+json": {
       "model_id": "1310c7e7bf754e939465069b0a6dd6af",
       "version_major": 2,
       "version_minor": 0
      },
      "text/plain": [
       "HBox(children=(IntProgress(value=0, max=96), HTML(value='')))"
      ]
     },
     "metadata": {},
     "output_type": "display_data"
    },
    {
     "name": "stdout",
     "output_type": "stream",
     "text": [
      "\n",
      "Epoch 8: Training MSE 7629.321679472923; Testing MSE 2311.533111333847\n",
      "Epoch 8: Training R2 0.2875718237250037; Testing R2 0.05496118110359094\n"
     ]
    },
    {
     "data": {
      "application/vnd.jupyter.widget-view+json": {
       "model_id": "2f97a9c0ec024762a370878a4f636812",
       "version_major": 2,
       "version_minor": 0
      },
      "text/plain": [
       "HBox(children=(IntProgress(value=0, max=96), HTML(value='')))"
      ]
     },
     "metadata": {},
     "output_type": "display_data"
    },
    {
     "name": "stdout",
     "output_type": "stream",
     "text": [
      "\n",
      "Epoch 9: Training MSE 6651.62670314312; Testing MSE 2502.2147059440613\n",
      "Epoch 9: Training R2 0.37886925201590105; Testing R2 -0.022996390895772434\n",
      "Printing performance_continuous\n",
      "{'HHVEHCNT_mean_norm': {'mse_train_list': [12698.27309846878, 9758.412963151932, 9714.318877458572, 9523.651683330536, 9587.58698105812, 9450.506654381752, 9238.332736492157, 8830.137184262276, 8388.996928930283, 7773.921477794647, 6634.627676010132], 'mse_test_list': [2314.804685115814, 2336.7906153202057, 2354.092448949814, 2317.954343557358, 2328.8352251052856, 2286.034721136093, 2286.6768062114716, 2306.646591424942, 2450.3201246261597, 2528.3136904239655, 2665.255695581436], 'r_square_train_list': [-0.1867043487805331, 0.08803732517257479, 0.09215809362998972, 0.10997670460858078, 0.10400169562385098, 0.11681239976744973, 0.13664089999774864, 0.1747884050346724, 0.21601472418571965, 0.2734959822300771, 0.37996753931758553], 'r_square_test_list': [0.09203064848235809, 0.08340678880272612, 0.07662024013114554, 0.09079521235633903, 0.08652724667157197, 0.10331550793759392, 0.10306365361344327, 0.09523061566997892, 0.03887546587710067, 0.008282920503692948, -0.04543182459677042]}, 'HHVEHCNT_P_CAP_mean_norm': {'mse_train_list': [13178.774550557137, 9719.109898805618, 9641.036340594292, 9623.26552271843, 9596.776592731476, 9397.071981430054, 9086.2719476223, 8572.333234548569, 7629.321679472923, 6651.62670314312], 'mse_test_list': [2224.8687148094177, 2222.6975440979004, 2273.9757001399994, 2209.157007932663, 2219.0219402313232, 2253.542798757553, 2210.0871920585632, 2243.8052773475647, 2311.533111333847, 2502.2147059440613], 'r_square_train_list': [-0.2306376258657632, 0.0924268196932665, 0.09971735023170847, 0.10137679413801004, 0.10385033777333164, 0.12249880981324812, 0.15152140324611052, 0.1995131429386925, 0.2875718237250037, 0.37886925201590105], 'r_square_test_list': [0.09039273885642651, 0.09128039242053687, 0.07031601696616685, 0.09681625614754885, 0.09278311298282071, 0.07866973030663948, 0.0964359630410444, 0.08265078326545428, 0.05496118110359094, -0.022996390895772434]}}\n",
      "Stored 'performance_continuous' (dict)\n",
      "TRPTRANS_1_mean_norm\n",
      "tensor(11639.5127)\n",
      "tensor(3039.0168)\n"
     ]
    },
    {
     "data": {
      "application/vnd.jupyter.widget-view+json": {
       "model_id": "32d18069becd49238d53760c20f9cb26",
       "version_major": 2,
       "version_minor": 0
      },
      "text/plain": [
       "HBox(children=(IntProgress(value=0, max=96), HTML(value='')))"
      ]
     },
     "metadata": {},
     "output_type": "display_data"
    },
    {
     "name": "stdout",
     "output_type": "stream",
     "text": [
      "\n",
      "Epoch 0: Training MSE 13725.89420080185; Testing MSE 2283.8355660438538\n",
      "Epoch 0: Training R2 -0.17924990161569077; Testing R2 0.2484952594872991\n"
     ]
    },
    {
     "data": {
      "application/vnd.jupyter.widget-view+json": {
       "model_id": "7d6c16770e5d4f5eb18bc6aff6a7b01b",
       "version_major": 2,
       "version_minor": 0
      },
      "text/plain": [
       "HBox(children=(IntProgress(value=0, max=96), HTML(value='')))"
      ]
     },
     "metadata": {},
     "output_type": "display_data"
    },
    {
     "name": "stdout",
     "output_type": "stream",
     "text": [
      "\n",
      "Epoch 1: Training MSE 9146.174371242523; Testing MSE 2283.470603823662\n",
      "Epoch 1: Training R2 0.21421329134114886; Testing R2 0.24861535168774473\n"
     ]
    },
    {
     "data": {
      "application/vnd.jupyter.widget-view+json": {
       "model_id": "5e2f8e3131624ffead61dd88a7fcc46e",
       "version_major": 2,
       "version_minor": 0
      },
      "text/plain": [
       "HBox(children=(IntProgress(value=0, max=96), HTML(value='')))"
      ]
     },
     "metadata": {},
     "output_type": "display_data"
    },
    {
     "name": "stdout",
     "output_type": "stream",
     "text": [
      "\n",
      "Epoch 2: Training MSE 9004.518634080887; Testing MSE 2763.4383261203766\n",
      "Epoch 2: Training R2 0.2263835377139789; Testing R2 0.0906801553181219\n"
     ]
    },
    {
     "data": {
      "application/vnd.jupyter.widget-view+json": {
       "model_id": "2ffd872cae1a4489986983dba6044ece",
       "version_major": 2,
       "version_minor": 0
      },
      "text/plain": [
       "HBox(children=(IntProgress(value=0, max=96), HTML(value='')))"
      ]
     },
     "metadata": {},
     "output_type": "display_data"
    },
    {
     "name": "stdout",
     "output_type": "stream",
     "text": [
      "\n",
      "Epoch 3: Training MSE 8918.348050117493; Testing MSE 2161.319887638092\n",
      "Epoch 3: Training R2 0.23378681878072805; Testing R2 0.288809507359596\n"
     ]
    },
    {
     "data": {
      "application/vnd.jupyter.widget-view+json": {
       "model_id": "322651fb8fd7404da5087171a058468b",
       "version_major": 2,
       "version_minor": 0
      },
      "text/plain": [
       "HBox(children=(IntProgress(value=0, max=96), HTML(value='')))"
      ]
     },
     "metadata": {},
     "output_type": "display_data"
    },
    {
     "name": "stdout",
     "output_type": "stream",
     "text": [
      "\n",
      "Epoch 4: Training MSE 8653.98119688034; Testing MSE 2238.4271383285522\n",
      "Epoch 4: Training R2 0.25649969862007216; Testing R2 0.2634370745613105\n"
     ]
    },
    {
     "data": {
      "application/vnd.jupyter.widget-view+json": {
       "model_id": "daf614b8033a4c9fa5aea8673663fa3d",
       "version_major": 2,
       "version_minor": 0
      },
      "text/plain": [
       "HBox(children=(IntProgress(value=0, max=96), HTML(value='')))"
      ]
     },
     "metadata": {},
     "output_type": "display_data"
    },
    {
     "name": "stdout",
     "output_type": "stream",
     "text": [
      "\n",
      "Epoch 5: Training MSE 8453.361085057259; Testing MSE 2048.022946715355\n",
      "Epoch 5: Training R2 0.27373582500050697; Testing R2 0.32609029475731244\n"
     ]
    },
    {
     "data": {
      "application/vnd.jupyter.widget-view+json": {
       "model_id": "635259df2f4e48e8a638accdb951b2e0",
       "version_major": 2,
       "version_minor": 0
      },
      "text/plain": [
       "HBox(children=(IntProgress(value=0, max=96), HTML(value='')))"
      ]
     },
     "metadata": {},
     "output_type": "display_data"
    },
    {
     "name": "stdout",
     "output_type": "stream",
     "text": [
      "\n",
      "Epoch 6: Training MSE 8166.652327775955; Testing MSE 2225.19508600235\n",
      "Epoch 6: Training R2 0.29836819276249815; Testing R2 0.26779113148103806\n"
     ]
    },
    {
     "data": {
      "application/vnd.jupyter.widget-view+json": {
       "model_id": "b08b52d8bd434dd09e937b9e9e764ef2",
       "version_major": 2,
       "version_minor": 0
      },
      "text/plain": [
       "HBox(children=(IntProgress(value=0, max=96), HTML(value='')))"
      ]
     },
     "metadata": {},
     "output_type": "display_data"
    },
    {
     "name": "stdout",
     "output_type": "stream",
     "text": [
      "\n",
      "Epoch 7: Training MSE 8106.5434366464615; Testing MSE 2346.279853582382\n",
      "Epoch 7: Training R2 0.30353240304371565; Testing R2 0.22794773023394255\n"
     ]
    },
    {
     "data": {
      "application/vnd.jupyter.widget-view+json": {
       "model_id": "525a7547a7ef4f7ba5f5394b09cea654",
       "version_major": 2,
       "version_minor": 0
      },
      "text/plain": [
       "HBox(children=(IntProgress(value=0, max=96), HTML(value='')))"
      ]
     },
     "metadata": {},
     "output_type": "display_data"
    },
    {
     "name": "stdout",
     "output_type": "stream",
     "text": [
      "\n",
      "Epoch 8: Training MSE 7207.327029109001; Testing MSE 2263.2843792438507\n",
      "Epoch 8: Training R2 0.3807879060081649; Testing R2 0.2552577053187727\n"
     ]
    },
    {
     "data": {
      "application/vnd.jupyter.widget-view+json": {
       "model_id": "59aa2f66534541189771b985a8e9ead9",
       "version_major": 2,
       "version_minor": 0
      },
      "text/plain": [
       "HBox(children=(IntProgress(value=0, max=96), HTML(value='')))"
      ]
     },
     "metadata": {},
     "output_type": "display_data"
    },
    {
     "name": "stdout",
     "output_type": "stream",
     "text": [
      "\n",
      "Epoch 9: Training MSE 6560.543364286423; Testing MSE 2410.438573360443\n",
      "Epoch 9: Training R2 0.43635583928453425; Testing R2 0.2068360605606483\n"
     ]
    },
    {
     "data": {
      "application/vnd.jupyter.widget-view+json": {
       "model_id": "013a0dc2f97944dcb20305887ccb9982",
       "version_major": 2,
       "version_minor": 0
      },
      "text/plain": [
       "HBox(children=(IntProgress(value=0, max=96), HTML(value='')))"
      ]
     },
     "metadata": {},
     "output_type": "display_data"
    },
    {
     "name": "stdout",
     "output_type": "stream",
     "text": [
      "\n",
      "Epoch 10: Training MSE 5219.430768489838; Testing MSE 2367.5449073314667\n",
      "Epoch 10: Training R2 0.5515765217050863; Testing R2 0.22095038377989074\n"
     ]
    },
    {
     "data": {
      "application/vnd.jupyter.widget-view+json": {
       "model_id": "1bedab703d964d56b121d0282f44e9bc",
       "version_major": 2,
       "version_minor": 0
      },
      "text/plain": [
       "HBox(children=(IntProgress(value=0, max=96), HTML(value='')))"
      ]
     },
     "metadata": {},
     "output_type": "display_data"
    },
    {
     "name": "stdout",
     "output_type": "stream",
     "text": [
      "\n",
      "Epoch 11: Training MSE 4461.051334440708; Testing MSE 2514.6288752555847\n",
      "Epoch 11: Training R2 0.6167321217633728; Testing R2 0.17255184721630423\n"
     ]
    },
    {
     "data": {
      "application/vnd.jupyter.widget-view+json": {
       "model_id": "078a1b626293487bba6fc75542cb8275",
       "version_major": 2,
       "version_minor": 0
      },
      "text/plain": [
       "HBox(children=(IntProgress(value=0, max=96), HTML(value='')))"
      ]
     },
     "metadata": {},
     "output_type": "display_data"
    },
    {
     "name": "stdout",
     "output_type": "stream",
     "text": [
      "\n",
      "Epoch 12: Training MSE 3718.065884709358; Testing MSE 2668.5931503772736\n",
      "Epoch 12: Training R2 0.6805651592092246; Testing R2 0.12188931951778903\n"
     ]
    },
    {
     "data": {
      "application/vnd.jupyter.widget-view+json": {
       "model_id": "f9c0944ce0054bbda9e20a991e5987bb",
       "version_major": 2,
       "version_minor": 0
      },
      "text/plain": [
       "HBox(children=(IntProgress(value=0, max=96), HTML(value='')))"
      ]
     },
     "metadata": {},
     "output_type": "display_data"
    },
    {
     "name": "stdout",
     "output_type": "stream",
     "text": [
      "\n",
      "Epoch 13: Training MSE 3317.39065349102; Testing MSE 2619.6911334991455\n",
      "Epoch 13: Training R2 0.7149888710695758; Testing R2 0.13798071333394069\n"
     ]
    },
    {
     "data": {
      "application/vnd.jupyter.widget-view+json": {
       "model_id": "3488e8882b094f4dab55a34d0a0b0404",
       "version_major": 2,
       "version_minor": 0
      },
      "text/plain": [
       "HBox(children=(IntProgress(value=0, max=96), HTML(value='')))"
      ]
     },
     "metadata": {},
     "output_type": "display_data"
    },
    {
     "name": "stdout",
     "output_type": "stream",
     "text": [
      "\n",
      "Epoch 14: Training MSE 2550.241394340992; Testing MSE 2456.189316511154\n",
      "Epoch 14: Training R2 0.7808979240713374; Testing R2 0.1917816052964736\n"
     ]
    },
    {
     "data": {
      "application/vnd.jupyter.widget-view+json": {
       "model_id": "6cb0bff7329a4e90a288519470f58838",
       "version_major": 2,
       "version_minor": 0
      },
      "text/plain": [
       "HBox(children=(IntProgress(value=0, max=96), HTML(value='')))"
      ]
     },
     "metadata": {},
     "output_type": "display_data"
    },
    {
     "name": "stdout",
     "output_type": "stream",
     "text": [
      "\n",
      "Epoch 15: Training MSE 2157.28649944067; Testing MSE 2499.432522058487\n",
      "Epoch 15: Training R2 0.8146583490295553; Testing R2 0.1775522647752209\n"
     ]
    },
    {
     "data": {
      "application/vnd.jupyter.widget-view+json": {
       "model_id": "25d02b884e1e4c108e848e9d76cd2522",
       "version_major": 2,
       "version_minor": 0
      },
      "text/plain": [
       "HBox(children=(IntProgress(value=0, max=96), HTML(value='')))"
      ]
     },
     "metadata": {},
     "output_type": "display_data"
    },
    {
     "name": "stdout",
     "output_type": "stream",
     "text": [
      "\n",
      "Epoch 16: Training MSE 1866.8771795928478; Testing MSE 2434.265774488449\n",
      "Epoch 16: Training R2 0.8396086478478878; Testing R2 0.19899562981025765\n"
     ]
    },
    {
     "data": {
      "application/vnd.jupyter.widget-view+json": {
       "model_id": "9452345ba7074f47b4e5f45058e6d8bd",
       "version_major": 2,
       "version_minor": 0
      },
      "text/plain": [
       "HBox(children=(IntProgress(value=0, max=96), HTML(value='')))"
      ]
     },
     "metadata": {},
     "output_type": "display_data"
    },
    {
     "name": "stdout",
     "output_type": "stream",
     "text": [
      "\n",
      "Epoch 17: Training MSE 1682.0489522069693; Testing MSE 2380.079036951065\n",
      "Epoch 17: Training R2 0.8554880263256752; Testing R2 0.21682598096938288\n"
     ]
    },
    {
     "data": {
      "application/vnd.jupyter.widget-view+json": {
       "model_id": "86e8afe654664b159d4ca2264f5a4bbc",
       "version_major": 2,
       "version_minor": 0
      },
      "text/plain": [
       "HBox(children=(IntProgress(value=0, max=96), HTML(value='')))"
      ]
     },
     "metadata": {},
     "output_type": "display_data"
    },
    {
     "name": "stdout",
     "output_type": "stream",
     "text": [
      "\n",
      "Epoch 18: Training MSE 1583.3694495260715; Testing MSE 2398.5252618789673\n",
      "Epoch 18: Training R2 0.8639660017584988; Testing R2 0.21075618081214342\n"
     ]
    },
    {
     "data": {
      "application/vnd.jupyter.widget-view+json": {
       "model_id": "a665dea811f54992b1dd2d9371236e88",
       "version_major": 2,
       "version_minor": 0
      },
      "text/plain": [
       "HBox(children=(IntProgress(value=0, max=96), HTML(value='')))"
      ]
     },
     "metadata": {},
     "output_type": "display_data"
    },
    {
     "name": "stdout",
     "output_type": "stream",
     "text": [
      "\n",
      "Epoch 19: Training MSE 1562.9783250391483; Testing MSE 2438.1775200366974\n",
      "Epoch 19: Training R2 0.865717889919172; Testing R2 0.19770845512618862\n"
     ]
    },
    {
     "data": {
      "application/vnd.jupyter.widget-view+json": {
       "model_id": "a31e9f850ad14aaea67851ff5b432c3e",
       "version_major": 2,
       "version_minor": 0
      },
      "text/plain": [
       "HBox(children=(IntProgress(value=0, max=96), HTML(value='')))"
      ]
     },
     "metadata": {},
     "output_type": "display_data"
    },
    {
     "name": "stdout",
     "output_type": "stream",
     "text": [
      "\n",
      "Epoch 20: Training MSE 1448.8191336393356; Testing MSE 2343.6685264110565\n",
      "Epoch 20: Training R2 0.8755257911937492; Testing R2 0.22880699732718612\n"
     ]
    },
    {
     "data": {
      "application/vnd.jupyter.widget-view+json": {
       "model_id": "1fdcbdf447434dd1b5b8b02659a6e3fe",
       "version_major": 2,
       "version_minor": 0
      },
      "text/plain": [
       "HBox(children=(IntProgress(value=0, max=96), HTML(value='')))"
      ]
     },
     "metadata": {},
     "output_type": "display_data"
    },
    {
     "name": "stdout",
     "output_type": "stream",
     "text": [
      "\n",
      "Epoch 21: Training MSE 1392.327207699418; Testing MSE 2429.451882839203\n",
      "Epoch 21: Training R2 0.8803792526245415; Testing R2 0.2005796590847424\n"
     ]
    },
    {
     "data": {
      "application/vnd.jupyter.widget-view+json": {
       "model_id": "389bb61b67e244da98a9273a590b057d",
       "version_major": 2,
       "version_minor": 0
      },
      "text/plain": [
       "HBox(children=(IntProgress(value=0, max=96), HTML(value='')))"
      ]
     },
     "metadata": {},
     "output_type": "display_data"
    },
    {
     "name": "stdout",
     "output_type": "stream",
     "text": [
      "\n",
      "Epoch 22: Training MSE 1303.7259869277477; Testing MSE 2427.069240808487\n",
      "Epoch 22: Training R2 0.887991360028948; Testing R2 0.20136367646657594\n"
     ]
    },
    {
     "data": {
      "application/vnd.jupyter.widget-view+json": {
       "model_id": "3176d9cdf6e14670a83da84689acbffb",
       "version_major": 2,
       "version_minor": 0
      },
      "text/plain": [
       "HBox(children=(IntProgress(value=0, max=96), HTML(value='')))"
      ]
     },
     "metadata": {},
     "output_type": "display_data"
    },
    {
     "name": "stdout",
     "output_type": "stream",
     "text": [
      "\n",
      "Epoch 23: Training MSE 1321.748649328947; Testing MSE 2385.44242978096\n",
      "Epoch 23: Training R2 0.886442956511294; Testing R2 0.2150611362507765\n"
     ]
    },
    {
     "data": {
      "application/vnd.jupyter.widget-view+json": {
       "model_id": "d1b17327288f4eb8aca71d28b314d7f6",
       "version_major": 2,
       "version_minor": 0
      },
      "text/plain": [
       "HBox(children=(IntProgress(value=0, max=96), HTML(value='')))"
      ]
     },
     "metadata": {},
     "output_type": "display_data"
    },
    {
     "name": "stdout",
     "output_type": "stream",
     "text": [
      "\n",
      "Epoch 24: Training MSE 1260.2558508515358; Testing MSE 2318.5645163059235\n",
      "Epoch 24: Training R2 0.8917260641539513; Testing R2 0.23706756690600495\n",
      "Printing performance_continuous\n",
      "{'HHVEHCNT_mean_norm': {'mse_train_list': [12698.27309846878, 9758.412963151932, 9714.318877458572, 9523.651683330536, 9587.58698105812, 9450.506654381752, 9238.332736492157, 8830.137184262276, 8388.996928930283, 7773.921477794647, 6634.627676010132], 'mse_test_list': [2314.804685115814, 2336.7906153202057, 2354.092448949814, 2317.954343557358, 2328.8352251052856, 2286.034721136093, 2286.6768062114716, 2306.646591424942, 2450.3201246261597, 2528.3136904239655, 2665.255695581436], 'r_square_train_list': [-0.1867043487805331, 0.08803732517257479, 0.09215809362998972, 0.10997670460858078, 0.10400169562385098, 0.11681239976744973, 0.13664089999774864, 0.1747884050346724, 0.21601472418571965, 0.2734959822300771, 0.37996753931758553], 'r_square_test_list': [0.09203064848235809, 0.08340678880272612, 0.07662024013114554, 0.09079521235633903, 0.08652724667157197, 0.10331550793759392, 0.10306365361344327, 0.09523061566997892, 0.03887546587710067, 0.008282920503692948, -0.04543182459677042]}, 'HHVEHCNT_P_CAP_mean_norm': {'mse_train_list': [13178.774550557137, 9719.109898805618, 9641.036340594292, 9623.26552271843, 9596.776592731476, 9397.071981430054, 9086.2719476223, 8572.333234548569, 7629.321679472923, 6651.62670314312], 'mse_test_list': [2224.8687148094177, 2222.6975440979004, 2273.9757001399994, 2209.157007932663, 2219.0219402313232, 2253.542798757553, 2210.0871920585632, 2243.8052773475647, 2311.533111333847, 2502.2147059440613], 'r_square_train_list': [-0.2306376258657632, 0.0924268196932665, 0.09971735023170847, 0.10137679413801004, 0.10385033777333164, 0.12249880981324812, 0.15152140324611052, 0.1995131429386925, 0.2875718237250037, 0.37886925201590105], 'r_square_test_list': [0.09039273885642651, 0.09128039242053687, 0.07031601696616685, 0.09681625614754885, 0.09278311298282071, 0.07866973030663948, 0.0964359630410444, 0.08265078326545428, 0.05496118110359094, -0.022996390895772434]}, 'TRPTRANS_1_mean_norm': {'mse_train_list': [13725.89420080185, 9146.174371242523, 9004.518634080887, 8918.348050117493, 8653.98119688034, 8453.361085057259, 8166.652327775955, 8106.5434366464615, 7207.327029109001, 6560.543364286423, 5219.430768489838, 4461.051334440708, 3718.065884709358, 3317.39065349102, 2550.241394340992, 2157.28649944067, 1866.8771795928478, 1682.0489522069693, 1583.3694495260715, 1562.9783250391483, 1448.8191336393356, 1392.327207699418, 1303.7259869277477, 1321.748649328947, 1260.2558508515358], 'mse_test_list': [2283.8355660438538, 2283.470603823662, 2763.4383261203766, 2161.319887638092, 2238.4271383285522, 2048.022946715355, 2225.19508600235, 2346.279853582382, 2263.2843792438507, 2410.438573360443, 2367.5449073314667, 2514.6288752555847, 2668.5931503772736, 2619.6911334991455, 2456.189316511154, 2499.432522058487, 2434.265774488449, 2380.079036951065, 2398.5252618789673, 2438.1775200366974, 2343.6685264110565, 2429.451882839203, 2427.069240808487, 2385.44242978096, 2318.5645163059235], 'r_square_train_list': [-0.17924990161569077, 0.21421329134114886, 0.2263835377139789, 0.23378681878072805, 0.25649969862007216, 0.27373582500050697, 0.29836819276249815, 0.30353240304371565, 0.3807879060081649, 0.43635583928453425, 0.5515765217050863, 0.6167321217633728, 0.6805651592092246, 0.7149888710695758, 0.7808979240713374, 0.8146583490295553, 0.8396086478478878, 0.8554880263256752, 0.8639660017584988, 0.865717889919172, 0.8755257911937492, 0.8803792526245415, 0.887991360028948, 0.886442956511294, 0.8917260641539513], 'r_square_test_list': [0.2484952594872991, 0.24861535168774473, 0.0906801553181219, 0.288809507359596, 0.2634370745613105, 0.32609029475731244, 0.26779113148103806, 0.22794773023394255, 0.2552577053187727, 0.2068360605606483, 0.22095038377989074, 0.17255184721630423, 0.12188931951778903, 0.13798071333394069, 0.1917816052964736, 0.1775522647752209, 0.19899562981025765, 0.21682598096938288, 0.21075618081214342, 0.19770845512618862, 0.22880699732718612, 0.2005796590847424, 0.20136367646657594, 0.2150611362507765, 0.23706756690600495]}}\n",
      "Stored 'performance_continuous' (dict)\n",
      "TRPTRANS_2_mean_norm\n",
      "tensor(11690.4609)\n",
      "tensor(2961.9233)\n"
     ]
    },
    {
     "data": {
      "application/vnd.jupyter.widget-view+json": {
       "model_id": "8f833c61a40f4098a75049ec5edddc6b",
       "version_major": 2,
       "version_minor": 0
      },
      "text/plain": [
       "HBox(children=(IntProgress(value=0, max=96), HTML(value='')))"
      ]
     },
     "metadata": {},
     "output_type": "display_data"
    },
    {
     "name": "stdout",
     "output_type": "stream",
     "text": [
      "\n",
      "Epoch 0: Training MSE 11934.712228178978; Testing MSE 2172.9994982481003\n",
      "Epoch 0: Training R2 -0.020893213020838353; Testing R2 0.26635525335279875\n"
     ]
    },
    {
     "data": {
      "application/vnd.jupyter.widget-view+json": {
       "model_id": "11f976cbccaf458385efac34a0bc4597",
       "version_major": 2,
       "version_minor": 0
      },
      "text/plain": [
       "HBox(children=(IntProgress(value=0, max=96), HTML(value='')))"
      ]
     },
     "metadata": {},
     "output_type": "display_data"
    },
    {
     "name": "stdout",
     "output_type": "stream",
     "text": [
      "\n",
      "Epoch 1: Training MSE 8233.031541109085; Testing MSE 2082.991388440132\n",
      "Epoch 1: Training R2 0.2957479106149158; Testing R2 0.2967436528758992\n"
     ]
    },
    {
     "data": {
      "application/vnd.jupyter.widget-view+json": {
       "model_id": "2f3e906ec4184b2081fad041b20bc329",
       "version_major": 2,
       "version_minor": 0
      },
      "text/plain": [
       "HBox(children=(IntProgress(value=0, max=96), HTML(value='')))"
      ]
     },
     "metadata": {},
     "output_type": "display_data"
    },
    {
     "name": "stdout",
     "output_type": "stream",
     "text": [
      "\n",
      "Epoch 2: Training MSE 8156.334739923477; Testing MSE 1959.7169697284698\n",
      "Epoch 2: Training R2 0.3023085416794775; Testing R2 0.33836337241873027\n"
     ]
    },
    {
     "data": {
      "application/vnd.jupyter.widget-view+json": {
       "model_id": "522cb83a87744293a41650ed9ecc1e5a",
       "version_major": 2,
       "version_minor": 0
      },
      "text/plain": [
       "HBox(children=(IntProgress(value=0, max=96), HTML(value='')))"
      ]
     },
     "metadata": {},
     "output_type": "display_data"
    },
    {
     "name": "stdout",
     "output_type": "stream",
     "text": [
      "\n",
      "Epoch 3: Training MSE 7841.441988945007; Testing MSE 1881.4141035079956\n",
      "Epoch 3: Training R2 0.32924441295623574; Testing R2 0.3647998656146024\n"
     ]
    },
    {
     "data": {
      "application/vnd.jupyter.widget-view+json": {
       "model_id": "13aa4943a3ec4ec6a4b2243aee732629",
       "version_major": 2,
       "version_minor": 0
      },
      "text/plain": [
       "HBox(children=(IntProgress(value=0, max=96), HTML(value='')))"
      ]
     },
     "metadata": {},
     "output_type": "display_data"
    },
    {
     "name": "stdout",
     "output_type": "stream",
     "text": [
      "\n",
      "Epoch 4: Training MSE 7925.807556509972; Testing MSE 1808.6864858865738\n",
      "Epoch 4: Training R2 0.3220277969463108; Testing R2 0.3893540519580134\n"
     ]
    },
    {
     "data": {
      "application/vnd.jupyter.widget-view+json": {
       "model_id": "1b362528d6fd4f59b411704a83dc279e",
       "version_major": 2,
       "version_minor": 0
      },
      "text/plain": [
       "HBox(children=(IntProgress(value=0, max=96), HTML(value='')))"
      ]
     },
     "metadata": {},
     "output_type": "display_data"
    },
    {
     "name": "stdout",
     "output_type": "stream",
     "text": [
      "\n",
      "Epoch 5: Training MSE 7596.035286784172; Testing MSE 1929.945307970047\n",
      "Epoch 5: Training R2 0.3502364596747388; Testing R2 0.34841483504706194\n"
     ]
    },
    {
     "data": {
      "application/vnd.jupyter.widget-view+json": {
       "model_id": "d3429a2fc1e14d1aa045aaf3060537ba",
       "version_major": 2,
       "version_minor": 0
      },
      "text/plain": [
       "HBox(children=(IntProgress(value=0, max=96), HTML(value='')))"
      ]
     },
     "metadata": {},
     "output_type": "display_data"
    },
    {
     "name": "stdout",
     "output_type": "stream",
     "text": [
      "\n",
      "Epoch 6: Training MSE 7524.946087598801; Testing MSE 1839.4424229860306\n",
      "Epoch 6: Training R2 0.35631741743726253; Testing R2 0.378970279803708\n"
     ]
    },
    {
     "data": {
      "application/vnd.jupyter.widget-view+json": {
       "model_id": "7001de80c059450f8fd1d7ecbf44e8f2",
       "version_major": 2,
       "version_minor": 0
      },
      "text/plain": [
       "HBox(children=(IntProgress(value=0, max=96), HTML(value='')))"
      ]
     },
     "metadata": {},
     "output_type": "display_data"
    },
    {
     "name": "stdout",
     "output_type": "stream",
     "text": [
      "\n",
      "Epoch 7: Training MSE 7439.887264370918; Testing MSE 1854.7436714172363\n",
      "Epoch 7: Training R2 0.36359333441629593; Testing R2 0.37380429585490915\n"
     ]
    },
    {
     "data": {
      "application/vnd.jupyter.widget-view+json": {
       "model_id": "302f7ffaebec4eb6af24236030e2f013",
       "version_major": 2,
       "version_minor": 0
      },
      "text/plain": [
       "HBox(children=(IntProgress(value=0, max=96), HTML(value='')))"
      ]
     },
     "metadata": {},
     "output_type": "display_data"
    },
    {
     "name": "stdout",
     "output_type": "stream",
     "text": [
      "\n",
      "Epoch 8: Training MSE 7242.333588004112; Testing MSE 1947.5859016180038\n",
      "Epoch 8: Training R2 0.3804920416121007; Testing R2 0.34245904496611834\n"
     ]
    },
    {
     "data": {
      "application/vnd.jupyter.widget-view+json": {
       "model_id": "c4a4a0fd2cf44bb48068fad7e493b2a4",
       "version_major": 2,
       "version_minor": 0
      },
      "text/plain": [
       "HBox(children=(IntProgress(value=0, max=96), HTML(value='')))"
      ]
     },
     "metadata": {},
     "output_type": "display_data"
    },
    {
     "name": "stdout",
     "output_type": "stream",
     "text": [
      "\n",
      "Epoch 9: Training MSE 6941.767480969429; Testing MSE 1881.9247871637344\n",
      "Epoch 9: Training R2 0.40620241425194625; Testing R2 0.36462744938462477\n"
     ]
    },
    {
     "data": {
      "application/vnd.jupyter.widget-view+json": {
       "model_id": "7e5dbbe592a44dad968c0c9d857a0e26",
       "version_major": 2,
       "version_minor": 0
      },
      "text/plain": [
       "HBox(children=(IntProgress(value=0, max=96), HTML(value='')))"
      ]
     },
     "metadata": {},
     "output_type": "display_data"
    },
    {
     "name": "stdout",
     "output_type": "stream",
     "text": [
      "\n",
      "Epoch 10: Training MSE 6271.221801638603; Testing MSE 1987.9812180995941\n",
      "Epoch 10: Training R2 0.4635607753050923; Testing R2 0.32882084037851367\n"
     ]
    },
    {
     "data": {
      "application/vnd.jupyter.widget-view+json": {
       "model_id": "cb4daf617a504096941e803c9fa45f99",
       "version_major": 2,
       "version_minor": 0
      },
      "text/plain": [
       "HBox(children=(IntProgress(value=0, max=96), HTML(value='')))"
      ]
     },
     "metadata": {},
     "output_type": "display_data"
    },
    {
     "name": "stdout",
     "output_type": "stream",
     "text": [
      "\n",
      "Epoch 11: Training MSE 5706.1218827962875; Testing MSE 1963.9607429504395\n",
      "Epoch 11: Training R2 0.5118993243035856; Testing R2 0.3369305962341199\n"
     ]
    },
    {
     "data": {
      "application/vnd.jupyter.widget-view+json": {
       "model_id": "d880723118564515afea60019ee53e44",
       "version_major": 2,
       "version_minor": 0
      },
      "text/plain": [
       "HBox(children=(IntProgress(value=0, max=96), HTML(value='')))"
      ]
     },
     "metadata": {},
     "output_type": "display_data"
    },
    {
     "name": "stdout",
     "output_type": "stream",
     "text": [
      "\n",
      "Epoch 12: Training MSE 4830.140113830566; Testing MSE 2278.6487579345703\n",
      "Epoch 12: Training R2 0.5868306528156888; Testing R2 0.23068611287732532\n"
     ]
    },
    {
     "data": {
      "application/vnd.jupyter.widget-view+json": {
       "model_id": "69e0e4f231ab4590894c18f118b0ace6",
       "version_major": 2,
       "version_minor": 0
      },
      "text/plain": [
       "HBox(children=(IntProgress(value=0, max=96), HTML(value='')))"
      ]
     },
     "metadata": {},
     "output_type": "display_data"
    },
    {
     "name": "stdout",
     "output_type": "stream",
     "text": [
      "\n",
      "Epoch 13: Training MSE 4323.393513262272; Testing MSE 2109.8532795906067\n",
      "Epoch 13: Training R2 0.6301776690948144; Testing R2 0.287674582522481\n"
     ]
    },
    {
     "data": {
      "application/vnd.jupyter.widget-view+json": {
       "model_id": "def181402fbc459592f91b61b8667002",
       "version_major": 2,
       "version_minor": 0
      },
      "text/plain": [
       "HBox(children=(IntProgress(value=0, max=96), HTML(value='')))"
      ]
     },
     "metadata": {},
     "output_type": "display_data"
    },
    {
     "name": "stdout",
     "output_type": "stream",
     "text": [
      "\n",
      "Epoch 14: Training MSE 3458.4086060523987; Testing MSE 2081.510156393051\n",
      "Epoch 14: Training R2 0.7041683279605588; Testing R2 0.2972437441602196\n"
     ]
    },
    {
     "data": {
      "application/vnd.jupyter.widget-view+json": {
       "model_id": "2e10bae838d94797aa4f955cdae0a1ee",
       "version_major": 2,
       "version_minor": 0
      },
      "text/plain": [
       "HBox(children=(IntProgress(value=0, max=96), HTML(value='')))"
      ]
     },
     "metadata": {},
     "output_type": "display_data"
    },
    {
     "name": "stdout",
     "output_type": "stream",
     "text": [
      "\n",
      "Epoch 15: Training MSE 2858.09658318758; Testing MSE 2200.3845632076263\n",
      "Epoch 15: Training R2 0.755518914226937; Testing R2 0.257109549863062\n"
     ]
    },
    {
     "data": {
      "application/vnd.jupyter.widget-view+json": {
       "model_id": "e4228cd6310547749c11d523474e5b5d",
       "version_major": 2,
       "version_minor": 0
      },
      "text/plain": [
       "HBox(children=(IntProgress(value=0, max=96), HTML(value='')))"
      ]
     },
     "metadata": {},
     "output_type": "display_data"
    },
    {
     "name": "stdout",
     "output_type": "stream",
     "text": [
      "\n",
      "Epoch 16: Training MSE 2280.0650514662266; Testing MSE 2174.246710538864\n",
      "Epoch 16: Training R2 0.8049636311471379; Testing R2 0.2659341714584814\n"
     ]
    },
    {
     "data": {
      "application/vnd.jupyter.widget-view+json": {
       "model_id": "6a13e4c6078f42898368255660b8a14e",
       "version_major": 2,
       "version_minor": 0
      },
      "text/plain": [
       "HBox(children=(IntProgress(value=0, max=96), HTML(value='')))"
      ]
     },
     "metadata": {},
     "output_type": "display_data"
    },
    {
     "name": "stdout",
     "output_type": "stream",
     "text": [
      "\n",
      "Epoch 17: Training MSE 1966.5565438568592; Testing MSE 2057.4227571487427\n",
      "Epoch 17: Training R2 0.8317810944863047; Testing R2 0.3053760948258446\n"
     ]
    },
    {
     "data": {
      "application/vnd.jupyter.widget-view+json": {
       "model_id": "a7fbadc3c2164bd2898f38bd34433d81",
       "version_major": 2,
       "version_minor": 0
      },
      "text/plain": [
       "HBox(children=(IntProgress(value=0, max=96), HTML(value='')))"
      ]
     },
     "metadata": {},
     "output_type": "display_data"
    },
    {
     "name": "stdout",
     "output_type": "stream",
     "text": [
      "\n",
      "Epoch 18: Training MSE 1593.4222653508186; Testing MSE 2200.2430975437164\n",
      "Epoch 18: Training R2 0.8636989359213777; Testing R2 0.2571573112828147\n"
     ]
    },
    {
     "data": {
      "application/vnd.jupyter.widget-view+json": {
       "model_id": "2215a2de85804ad5ba4ca38fede78e3a",
       "version_major": 2,
       "version_minor": 0
      },
      "text/plain": [
       "HBox(children=(IntProgress(value=0, max=96), HTML(value='')))"
      ]
     },
     "metadata": {},
     "output_type": "display_data"
    },
    {
     "name": "stdout",
     "output_type": "stream",
     "text": [
      "\n",
      "Epoch 19: Training MSE 1439.3052078783512; Testing MSE 2035.923010110855\n",
      "Epoch 19: Training R2 0.8768820822743243; Testing R2 0.31263480633558327\n"
     ]
    },
    {
     "data": {
      "application/vnd.jupyter.widget-view+json": {
       "model_id": "6d36ebd0c5924d719b9595aed6f2e156",
       "version_major": 2,
       "version_minor": 0
      },
      "text/plain": [
       "HBox(children=(IntProgress(value=0, max=96), HTML(value='')))"
      ]
     },
     "metadata": {},
     "output_type": "display_data"
    },
    {
     "name": "stdout",
     "output_type": "stream",
     "text": [
      "\n",
      "Epoch 20: Training MSE 1380.7879984378815; Testing MSE 1969.185882806778\n",
      "Epoch 20: Training R2 0.8818876342156307; Testing R2 0.335166492556604\n"
     ]
    },
    {
     "data": {
      "application/vnd.jupyter.widget-view+json": {
       "model_id": "483d0f9471204d47a091b8a948a5f658",
       "version_major": 2,
       "version_minor": 0
      },
      "text/plain": [
       "HBox(children=(IntProgress(value=0, max=96), HTML(value='')))"
      ]
     },
     "metadata": {},
     "output_type": "display_data"
    },
    {
     "name": "stdout",
     "output_type": "stream",
     "text": [
      "\n",
      "Epoch 21: Training MSE 1257.6554600149393; Testing MSE 2084.0125739574432\n",
      "Epoch 21: Training R2 0.8924203701856868; Testing R2 0.29639888179301055\n"
     ]
    },
    {
     "data": {
      "application/vnd.jupyter.widget-view+json": {
       "model_id": "7b7e0eafff534caead29e7ca8f798cc9",
       "version_major": 2,
       "version_minor": 0
      },
      "text/plain": [
       "HBox(children=(IntProgress(value=0, max=96), HTML(value='')))"
      ]
     },
     "metadata": {},
     "output_type": "display_data"
    },
    {
     "name": "stdout",
     "output_type": "stream",
     "text": [
      "\n",
      "Epoch 22: Training MSE 1216.8292865157127; Testing MSE 2154.5680224895477\n",
      "Epoch 22: Training R2 0.895912633982426; Testing R2 0.2725780598348614\n"
     ]
    },
    {
     "data": {
      "application/vnd.jupyter.widget-view+json": {
       "model_id": "518971660c5f477e9f39a2782c3a1c20",
       "version_major": 2,
       "version_minor": 0
      },
      "text/plain": [
       "HBox(children=(IntProgress(value=0, max=96), HTML(value='')))"
      ]
     },
     "metadata": {},
     "output_type": "display_data"
    },
    {
     "name": "stdout",
     "output_type": "stream",
     "text": [
      "\n",
      "Epoch 23: Training MSE 1094.7719804942608; Testing MSE 2050.61793923378\n",
      "Epoch 23: Training R2 0.906353394759439; Testing R2 0.30767352697860306\n"
     ]
    },
    {
     "data": {
      "application/vnd.jupyter.widget-view+json": {
       "model_id": "7832e0e9de8e4d2581c47b7f299050dc",
       "version_major": 2,
       "version_minor": 0
      },
      "text/plain": [
       "HBox(children=(IntProgress(value=0, max=96), HTML(value='')))"
      ]
     },
     "metadata": {},
     "output_type": "display_data"
    },
    {
     "name": "stdout",
     "output_type": "stream",
     "text": [
      "\n",
      "Epoch 24: Training MSE 1010.9495084732771; Testing MSE 2109.115982055664\n",
      "Epoch 24: Training R2 0.9135235544707728; Testing R2 0.28792350778162745\n",
      "Printing performance_continuous\n",
      "{'HHVEHCNT_mean_norm': {'mse_train_list': [12698.27309846878, 9758.412963151932, 9714.318877458572, 9523.651683330536, 9587.58698105812, 9450.506654381752, 9238.332736492157, 8830.137184262276, 8388.996928930283, 7773.921477794647, 6634.627676010132], 'mse_test_list': [2314.804685115814, 2336.7906153202057, 2354.092448949814, 2317.954343557358, 2328.8352251052856, 2286.034721136093, 2286.6768062114716, 2306.646591424942, 2450.3201246261597, 2528.3136904239655, 2665.255695581436], 'r_square_train_list': [-0.1867043487805331, 0.08803732517257479, 0.09215809362998972, 0.10997670460858078, 0.10400169562385098, 0.11681239976744973, 0.13664089999774864, 0.1747884050346724, 0.21601472418571965, 0.2734959822300771, 0.37996753931758553], 'r_square_test_list': [0.09203064848235809, 0.08340678880272612, 0.07662024013114554, 0.09079521235633903, 0.08652724667157197, 0.10331550793759392, 0.10306365361344327, 0.09523061566997892, 0.03887546587710067, 0.008282920503692948, -0.04543182459677042]}, 'HHVEHCNT_P_CAP_mean_norm': {'mse_train_list': [13178.774550557137, 9719.109898805618, 9641.036340594292, 9623.26552271843, 9596.776592731476, 9397.071981430054, 9086.2719476223, 8572.333234548569, 7629.321679472923, 6651.62670314312], 'mse_test_list': [2224.8687148094177, 2222.6975440979004, 2273.9757001399994, 2209.157007932663, 2219.0219402313232, 2253.542798757553, 2210.0871920585632, 2243.8052773475647, 2311.533111333847, 2502.2147059440613], 'r_square_train_list': [-0.2306376258657632, 0.0924268196932665, 0.09971735023170847, 0.10137679413801004, 0.10385033777333164, 0.12249880981324812, 0.15152140324611052, 0.1995131429386925, 0.2875718237250037, 0.37886925201590105], 'r_square_test_list': [0.09039273885642651, 0.09128039242053687, 0.07031601696616685, 0.09681625614754885, 0.09278311298282071, 0.07866973030663948, 0.0964359630410444, 0.08265078326545428, 0.05496118110359094, -0.022996390895772434]}, 'TRPTRANS_1_mean_norm': {'mse_train_list': [13725.89420080185, 9146.174371242523, 9004.518634080887, 8918.348050117493, 8653.98119688034, 8453.361085057259, 8166.652327775955, 8106.5434366464615, 7207.327029109001, 6560.543364286423, 5219.430768489838, 4461.051334440708, 3718.065884709358, 3317.39065349102, 2550.241394340992, 2157.28649944067, 1866.8771795928478, 1682.0489522069693, 1583.3694495260715, 1562.9783250391483, 1448.8191336393356, 1392.327207699418, 1303.7259869277477, 1321.748649328947, 1260.2558508515358], 'mse_test_list': [2283.8355660438538, 2283.470603823662, 2763.4383261203766, 2161.319887638092, 2238.4271383285522, 2048.022946715355, 2225.19508600235, 2346.279853582382, 2263.2843792438507, 2410.438573360443, 2367.5449073314667, 2514.6288752555847, 2668.5931503772736, 2619.6911334991455, 2456.189316511154, 2499.432522058487, 2434.265774488449, 2380.079036951065, 2398.5252618789673, 2438.1775200366974, 2343.6685264110565, 2429.451882839203, 2427.069240808487, 2385.44242978096, 2318.5645163059235], 'r_square_train_list': [-0.17924990161569077, 0.21421329134114886, 0.2263835377139789, 0.23378681878072805, 0.25649969862007216, 0.27373582500050697, 0.29836819276249815, 0.30353240304371565, 0.3807879060081649, 0.43635583928453425, 0.5515765217050863, 0.6167321217633728, 0.6805651592092246, 0.7149888710695758, 0.7808979240713374, 0.8146583490295553, 0.8396086478478878, 0.8554880263256752, 0.8639660017584988, 0.865717889919172, 0.8755257911937492, 0.8803792526245415, 0.887991360028948, 0.886442956511294, 0.8917260641539513], 'r_square_test_list': [0.2484952594872991, 0.24861535168774473, 0.0906801553181219, 0.288809507359596, 0.2634370745613105, 0.32609029475731244, 0.26779113148103806, 0.22794773023394255, 0.2552577053187727, 0.2068360605606483, 0.22095038377989074, 0.17255184721630423, 0.12188931951778903, 0.13798071333394069, 0.1917816052964736, 0.1775522647752209, 0.19899562981025765, 0.21682598096938288, 0.21075618081214342, 0.19770845512618862, 0.22880699732718612, 0.2005796590847424, 0.20136367646657594, 0.2150611362507765, 0.23706756690600495]}, 'TRPTRANS_2_mean_norm': {'mse_train_list': [11934.712228178978, 8233.031541109085, 8156.334739923477, 7841.441988945007, 7925.807556509972, 7596.035286784172, 7524.946087598801, 7439.887264370918, 7242.333588004112, 6941.767480969429, 6271.221801638603, 5706.1218827962875, 4830.140113830566, 4323.393513262272, 3458.4086060523987, 2858.09658318758, 2280.0650514662266, 1966.5565438568592, 1593.4222653508186, 1439.3052078783512, 1380.7879984378815, 1257.6554600149393, 1216.8292865157127, 1094.7719804942608, 1010.9495084732771], 'mse_test_list': [2172.9994982481003, 2082.991388440132, 1959.7169697284698, 1881.4141035079956, 1808.6864858865738, 1929.945307970047, 1839.4424229860306, 1854.7436714172363, 1947.5859016180038, 1881.9247871637344, 1987.9812180995941, 1963.9607429504395, 2278.6487579345703, 2109.8532795906067, 2081.510156393051, 2200.3845632076263, 2174.246710538864, 2057.4227571487427, 2200.2430975437164, 2035.923010110855, 1969.185882806778, 2084.0125739574432, 2154.5680224895477, 2050.61793923378, 2109.115982055664], 'r_square_train_list': [-0.020893213020838353, 0.2957479106149158, 0.3023085416794775, 0.32924441295623574, 0.3220277969463108, 0.3502364596747388, 0.35631741743726253, 0.36359333441629593, 0.3804920416121007, 0.40620241425194625, 0.4635607753050923, 0.5118993243035856, 0.5868306528156888, 0.6301776690948144, 0.7041683279605588, 0.755518914226937, 0.8049636311471379, 0.8317810944863047, 0.8636989359213777, 0.8768820822743243, 0.8818876342156307, 0.8924203701856868, 0.895912633982426, 0.906353394759439, 0.9135235544707728], 'r_square_test_list': [0.26635525335279875, 0.2967436528758992, 0.33836337241873027, 0.3647998656146024, 0.3893540519580134, 0.34841483504706194, 0.378970279803708, 0.37380429585490915, 0.34245904496611834, 0.36462744938462477, 0.32882084037851367, 0.3369305962341199, 0.23068611287732532, 0.287674582522481, 0.2972437441602196, 0.257109549863062, 0.2659341714584814, 0.3053760948258446, 0.2571573112828147, 0.31263480633558327, 0.335166492556604, 0.29639888179301055, 0.2725780598348614, 0.30767352697860306, 0.28792350778162745]}}\n",
      "Stored 'performance_continuous' (dict)\n",
      "TRPTRANS_3_mean_norm\n",
      "tensor(11467.2451)\n",
      "tensor(2919.1924)\n"
     ]
    },
    {
     "data": {
      "application/vnd.jupyter.widget-view+json": {
       "model_id": "1b9f087ecf63449daf6486763ec8eb21",
       "version_major": 2,
       "version_minor": 0
      },
      "text/plain": [
       "HBox(children=(IntProgress(value=0, max=96), HTML(value='')))"
      ]
     },
     "metadata": {},
     "output_type": "display_data"
    },
    {
     "name": "stdout",
     "output_type": "stream",
     "text": [
      "\n",
      "Epoch 0: Training MSE 12725.117462873459; Testing MSE 2492.29052066803\n",
      "Epoch 0: Training R2 -0.10969263609797753; Testing R2 0.14623971501774435\n"
     ]
    },
    {
     "data": {
      "application/vnd.jupyter.widget-view+json": {
       "model_id": "86a8dea433f5411da5c4328dbf53fd9f",
       "version_major": 2,
       "version_minor": 0
      },
      "text/plain": [
       "HBox(children=(IntProgress(value=0, max=96), HTML(value='')))"
      ]
     },
     "metadata": {},
     "output_type": "display_data"
    },
    {
     "name": "stdout",
     "output_type": "stream",
     "text": [
      "\n",
      "Epoch 1: Training MSE 9510.696265101433; Testing MSE 2648.7089663743973\n",
      "Epoch 1: Training R2 0.1706206531814276; Testing R2 0.09265693416804033\n"
     ]
    },
    {
     "data": {
      "application/vnd.jupyter.widget-view+json": {
       "model_id": "a2fb97a2cf2749a0a378d6fb80a9f84f",
       "version_major": 2,
       "version_minor": 0
      },
      "text/plain": [
       "HBox(children=(IntProgress(value=0, max=96), HTML(value='')))"
      ]
     },
     "metadata": {},
     "output_type": "display_data"
    },
    {
     "name": "stdout",
     "output_type": "stream",
     "text": [
      "\n",
      "Epoch 2: Training MSE 9290.560698509216; Testing MSE 2532.785078883171\n",
      "Epoch 2: Training R2 0.18981755394901212; Testing R2 0.13236787893953195\n"
     ]
    },
    {
     "data": {
      "application/vnd.jupyter.widget-view+json": {
       "model_id": "c25fcf2fbd4240af8b1b9015a7718c5d",
       "version_major": 2,
       "version_minor": 0
      },
      "text/plain": [
       "HBox(children=(IntProgress(value=0, max=96), HTML(value='')))"
      ]
     },
     "metadata": {},
     "output_type": "display_data"
    },
    {
     "name": "stdout",
     "output_type": "stream",
     "text": [
      "\n",
      "Epoch 3: Training MSE 9162.933035194874; Testing MSE 2537.1327936649323\n",
      "Epoch 3: Training R2 0.20094731196936255; Testing R2 0.13087852359338914\n"
     ]
    },
    {
     "data": {
      "application/vnd.jupyter.widget-view+json": {
       "model_id": "58c5ca4d71684f7682f78ae25f60a30d",
       "version_major": 2,
       "version_minor": 0
      },
      "text/plain": [
       "HBox(children=(IntProgress(value=0, max=96), HTML(value='')))"
      ]
     },
     "metadata": {},
     "output_type": "display_data"
    },
    {
     "name": "stdout",
     "output_type": "stream",
     "text": [
      "\n",
      "Epoch 4: Training MSE 8825.788486003876; Testing MSE 2461.0778480768204\n",
      "Epoch 4: Training R2 0.2303479697337697; Testing R2 0.1569319437228418\n"
     ]
    },
    {
     "data": {
      "application/vnd.jupyter.widget-view+json": {
       "model_id": "f1c7a9f672344e9fac24c92d531f89d2",
       "version_major": 2,
       "version_minor": 0
      },
      "text/plain": [
       "HBox(children=(IntProgress(value=0, max=96), HTML(value='')))"
      ]
     },
     "metadata": {},
     "output_type": "display_data"
    },
    {
     "name": "stdout",
     "output_type": "stream",
     "text": [
      "\n",
      "Epoch 5: Training MSE 8655.535352230072; Testing MSE 2430.72871863842\n",
      "Epoch 5: Training R2 0.24519487777784932; Testing R2 0.1673283566544076\n"
     ]
    },
    {
     "data": {
      "application/vnd.jupyter.widget-view+json": {
       "model_id": "4c54ed964dd947c7ac1d37af9abd0d36",
       "version_major": 2,
       "version_minor": 0
      },
      "text/plain": [
       "HBox(children=(IntProgress(value=0, max=96), HTML(value='')))"
      ]
     },
     "metadata": {},
     "output_type": "display_data"
    },
    {
     "name": "stdout",
     "output_type": "stream",
     "text": [
      "\n",
      "Epoch 6: Training MSE 8374.01834577322; Testing MSE 2639.1855776309967\n",
      "Epoch 6: Training R2 0.26974454106488455; Testing R2 0.09591927097032582\n"
     ]
    },
    {
     "data": {
      "application/vnd.jupyter.widget-view+json": {
       "model_id": "05664fd52d2b4b9cb23db8302fa25bb8",
       "version_major": 2,
       "version_minor": 0
      },
      "text/plain": [
       "HBox(children=(IntProgress(value=0, max=96), HTML(value='')))"
      ]
     },
     "metadata": {},
     "output_type": "display_data"
    },
    {
     "name": "stdout",
     "output_type": "stream",
     "text": [
      "\n",
      "Epoch 7: Training MSE 8116.722932457924; Testing MSE 2544.516059756279\n",
      "Epoch 7: Training R2 0.29218196266753715; Testing R2 0.1283493082752013\n"
     ]
    },
    {
     "data": {
      "application/vnd.jupyter.widget-view+json": {
       "model_id": "f8eccd5a135d4f318b559b653d3d7130",
       "version_major": 2,
       "version_minor": 0
      },
      "text/plain": [
       "HBox(children=(IntProgress(value=0, max=96), HTML(value='')))"
      ]
     },
     "metadata": {},
     "output_type": "display_data"
    },
    {
     "name": "stdout",
     "output_type": "stream",
     "text": [
      "\n",
      "Epoch 8: Training MSE 7470.026263594627; Testing MSE 2483.2698851823807\n",
      "Epoch 8: Training R2 0.348577083052119; Testing R2 0.14932982841306586\n"
     ]
    },
    {
     "data": {
      "application/vnd.jupyter.widget-view+json": {
       "model_id": "47c118a3bb8047d2a1e7b322ecdb9b5b",
       "version_major": 2,
       "version_minor": 0
      },
      "text/plain": [
       "HBox(children=(IntProgress(value=0, max=96), HTML(value='')))"
      ]
     },
     "metadata": {},
     "output_type": "display_data"
    },
    {
     "name": "stdout",
     "output_type": "stream",
     "text": [
      "\n",
      "Epoch 9: Training MSE 7301.975579559803; Testing MSE 2501.9387274980545\n",
      "Epoch 9: Training R2 0.3632319266799877; Testing R2 0.1429346204693922\n"
     ]
    },
    {
     "data": {
      "application/vnd.jupyter.widget-view+json": {
       "model_id": "fdba96f2a6d14073bb1d2bc638bcdf5d",
       "version_major": 2,
       "version_minor": 0
      },
      "text/plain": [
       "HBox(children=(IntProgress(value=0, max=96), HTML(value='')))"
      ]
     },
     "metadata": {},
     "output_type": "display_data"
    },
    {
     "name": "stdout",
     "output_type": "stream",
     "text": [
      "\n",
      "Epoch 10: Training MSE 6697.233983874321; Testing MSE 2541.482964158058\n",
      "Epoch 10: Training R2 0.4159683589708676; Testing R2 0.12938832701753533\n"
     ]
    },
    {
     "data": {
      "application/vnd.jupyter.widget-view+json": {
       "model_id": "8ae6b160c0364902882b3a61737097d5",
       "version_major": 2,
       "version_minor": 0
      },
      "text/plain": [
       "HBox(children=(IntProgress(value=0, max=96), HTML(value='')))"
      ]
     },
     "metadata": {},
     "output_type": "display_data"
    },
    {
     "name": "stdout",
     "output_type": "stream",
     "text": [
      "\n",
      "Epoch 11: Training MSE 6579.5823857188225; Testing MSE 2750.6674259901047\n",
      "Epoch 11: Training R2 0.4262281551950853; Testing R2 0.05772999334152473\n"
     ]
    },
    {
     "data": {
      "application/vnd.jupyter.widget-view+json": {
       "model_id": "dbaef5871b29434d808594d8576d5751",
       "version_major": 2,
       "version_minor": 0
      },
      "text/plain": [
       "HBox(children=(IntProgress(value=0, max=96), HTML(value='')))"
      ]
     },
     "metadata": {},
     "output_type": "display_data"
    },
    {
     "name": "stdout",
     "output_type": "stream",
     "text": [
      "\n",
      "Epoch 12: Training MSE 6145.277214050293; Testing MSE 2784.6242010593414\n",
      "Epoch 12: Training R2 0.46410169563398096; Testing R2 0.04609774352162044\n"
     ]
    },
    {
     "data": {
      "application/vnd.jupyter.widget-view+json": {
       "model_id": "9653437ca37d44e1a842a1d0adab926a",
       "version_major": 2,
       "version_minor": 0
      },
      "text/plain": [
       "HBox(children=(IntProgress(value=0, max=96), HTML(value='')))"
      ]
     },
     "metadata": {},
     "output_type": "display_data"
    },
    {
     "name": "stdout",
     "output_type": "stream",
     "text": [
      "\n",
      "Epoch 13: Training MSE 5455.945283174515; Testing MSE 2799.0132957696915\n",
      "Epoch 13: Training R2 0.5242148199137249; Testing R2 0.041168608054198086\n"
     ]
    },
    {
     "data": {
      "application/vnd.jupyter.widget-view+json": {
       "model_id": "2d8d7bd85e734ae6aa1ccea552fc9185",
       "version_major": 2,
       "version_minor": 0
      },
      "text/plain": [
       "HBox(children=(IntProgress(value=0, max=96), HTML(value='')))"
      ]
     },
     "metadata": {},
     "output_type": "display_data"
    },
    {
     "name": "stdout",
     "output_type": "stream",
     "text": [
      "\n",
      "Epoch 14: Training MSE 5037.167744338512; Testing MSE 2816.4340794086456\n",
      "Epoch 14: Training R2 0.5607342746350967; Testing R2 0.03520093571388805\n"
     ]
    },
    {
     "data": {
      "application/vnd.jupyter.widget-view+json": {
       "model_id": "662bdf0e90d64d9cb60d2c8e79596a6f",
       "version_major": 2,
       "version_minor": 0
      },
      "text/plain": [
       "HBox(children=(IntProgress(value=0, max=96), HTML(value='')))"
      ]
     },
     "metadata": {},
     "output_type": "display_data"
    },
    {
     "name": "stdout",
     "output_type": "stream",
     "text": [
      "\n",
      "Epoch 15: Training MSE 4714.30324614048; Testing MSE 3012.7114057540894\n",
      "Epoch 15: Training R2 0.588889641935488; Testing R2 -0.03203592318622328\n",
      "Printing performance_continuous\n",
      "{'HHVEHCNT_mean_norm': {'mse_train_list': [12698.27309846878, 9758.412963151932, 9714.318877458572, 9523.651683330536, 9587.58698105812, 9450.506654381752, 9238.332736492157, 8830.137184262276, 8388.996928930283, 7773.921477794647, 6634.627676010132], 'mse_test_list': [2314.804685115814, 2336.7906153202057, 2354.092448949814, 2317.954343557358, 2328.8352251052856, 2286.034721136093, 2286.6768062114716, 2306.646591424942, 2450.3201246261597, 2528.3136904239655, 2665.255695581436], 'r_square_train_list': [-0.1867043487805331, 0.08803732517257479, 0.09215809362998972, 0.10997670460858078, 0.10400169562385098, 0.11681239976744973, 0.13664089999774864, 0.1747884050346724, 0.21601472418571965, 0.2734959822300771, 0.37996753931758553], 'r_square_test_list': [0.09203064848235809, 0.08340678880272612, 0.07662024013114554, 0.09079521235633903, 0.08652724667157197, 0.10331550793759392, 0.10306365361344327, 0.09523061566997892, 0.03887546587710067, 0.008282920503692948, -0.04543182459677042]}, 'HHVEHCNT_P_CAP_mean_norm': {'mse_train_list': [13178.774550557137, 9719.109898805618, 9641.036340594292, 9623.26552271843, 9596.776592731476, 9397.071981430054, 9086.2719476223, 8572.333234548569, 7629.321679472923, 6651.62670314312], 'mse_test_list': [2224.8687148094177, 2222.6975440979004, 2273.9757001399994, 2209.157007932663, 2219.0219402313232, 2253.542798757553, 2210.0871920585632, 2243.8052773475647, 2311.533111333847, 2502.2147059440613], 'r_square_train_list': [-0.2306376258657632, 0.0924268196932665, 0.09971735023170847, 0.10137679413801004, 0.10385033777333164, 0.12249880981324812, 0.15152140324611052, 0.1995131429386925, 0.2875718237250037, 0.37886925201590105], 'r_square_test_list': [0.09039273885642651, 0.09128039242053687, 0.07031601696616685, 0.09681625614754885, 0.09278311298282071, 0.07866973030663948, 0.0964359630410444, 0.08265078326545428, 0.05496118110359094, -0.022996390895772434]}, 'TRPTRANS_1_mean_norm': {'mse_train_list': [13725.89420080185, 9146.174371242523, 9004.518634080887, 8918.348050117493, 8653.98119688034, 8453.361085057259, 8166.652327775955, 8106.5434366464615, 7207.327029109001, 6560.543364286423, 5219.430768489838, 4461.051334440708, 3718.065884709358, 3317.39065349102, 2550.241394340992, 2157.28649944067, 1866.8771795928478, 1682.0489522069693, 1583.3694495260715, 1562.9783250391483, 1448.8191336393356, 1392.327207699418, 1303.7259869277477, 1321.748649328947, 1260.2558508515358], 'mse_test_list': [2283.8355660438538, 2283.470603823662, 2763.4383261203766, 2161.319887638092, 2238.4271383285522, 2048.022946715355, 2225.19508600235, 2346.279853582382, 2263.2843792438507, 2410.438573360443, 2367.5449073314667, 2514.6288752555847, 2668.5931503772736, 2619.6911334991455, 2456.189316511154, 2499.432522058487, 2434.265774488449, 2380.079036951065, 2398.5252618789673, 2438.1775200366974, 2343.6685264110565, 2429.451882839203, 2427.069240808487, 2385.44242978096, 2318.5645163059235], 'r_square_train_list': [-0.17924990161569077, 0.21421329134114886, 0.2263835377139789, 0.23378681878072805, 0.25649969862007216, 0.27373582500050697, 0.29836819276249815, 0.30353240304371565, 0.3807879060081649, 0.43635583928453425, 0.5515765217050863, 0.6167321217633728, 0.6805651592092246, 0.7149888710695758, 0.7808979240713374, 0.8146583490295553, 0.8396086478478878, 0.8554880263256752, 0.8639660017584988, 0.865717889919172, 0.8755257911937492, 0.8803792526245415, 0.887991360028948, 0.886442956511294, 0.8917260641539513], 'r_square_test_list': [0.2484952594872991, 0.24861535168774473, 0.0906801553181219, 0.288809507359596, 0.2634370745613105, 0.32609029475731244, 0.26779113148103806, 0.22794773023394255, 0.2552577053187727, 0.2068360605606483, 0.22095038377989074, 0.17255184721630423, 0.12188931951778903, 0.13798071333394069, 0.1917816052964736, 0.1775522647752209, 0.19899562981025765, 0.21682598096938288, 0.21075618081214342, 0.19770845512618862, 0.22880699732718612, 0.2005796590847424, 0.20136367646657594, 0.2150611362507765, 0.23706756690600495]}, 'TRPTRANS_2_mean_norm': {'mse_train_list': [11934.712228178978, 8233.031541109085, 8156.334739923477, 7841.441988945007, 7925.807556509972, 7596.035286784172, 7524.946087598801, 7439.887264370918, 7242.333588004112, 6941.767480969429, 6271.221801638603, 5706.1218827962875, 4830.140113830566, 4323.393513262272, 3458.4086060523987, 2858.09658318758, 2280.0650514662266, 1966.5565438568592, 1593.4222653508186, 1439.3052078783512, 1380.7879984378815, 1257.6554600149393, 1216.8292865157127, 1094.7719804942608, 1010.9495084732771], 'mse_test_list': [2172.9994982481003, 2082.991388440132, 1959.7169697284698, 1881.4141035079956, 1808.6864858865738, 1929.945307970047, 1839.4424229860306, 1854.7436714172363, 1947.5859016180038, 1881.9247871637344, 1987.9812180995941, 1963.9607429504395, 2278.6487579345703, 2109.8532795906067, 2081.510156393051, 2200.3845632076263, 2174.246710538864, 2057.4227571487427, 2200.2430975437164, 2035.923010110855, 1969.185882806778, 2084.0125739574432, 2154.5680224895477, 2050.61793923378, 2109.115982055664], 'r_square_train_list': [-0.020893213020838353, 0.2957479106149158, 0.3023085416794775, 0.32924441295623574, 0.3220277969463108, 0.3502364596747388, 0.35631741743726253, 0.36359333441629593, 0.3804920416121007, 0.40620241425194625, 0.4635607753050923, 0.5118993243035856, 0.5868306528156888, 0.6301776690948144, 0.7041683279605588, 0.755518914226937, 0.8049636311471379, 0.8317810944863047, 0.8636989359213777, 0.8768820822743243, 0.8818876342156307, 0.8924203701856868, 0.895912633982426, 0.906353394759439, 0.9135235544707728], 'r_square_test_list': [0.26635525335279875, 0.2967436528758992, 0.33836337241873027, 0.3647998656146024, 0.3893540519580134, 0.34841483504706194, 0.378970279803708, 0.37380429585490915, 0.34245904496611834, 0.36462744938462477, 0.32882084037851367, 0.3369305962341199, 0.23068611287732532, 0.287674582522481, 0.2972437441602196, 0.257109549863062, 0.2659341714584814, 0.3053760948258446, 0.2571573112828147, 0.31263480633558327, 0.335166492556604, 0.29639888179301055, 0.2725780598348614, 0.30767352697860306, 0.28792350778162745]}, 'TRPTRANS_3_mean_norm': {'mse_train_list': [12725.117462873459, 9510.696265101433, 9290.560698509216, 9162.933035194874, 8825.788486003876, 8655.535352230072, 8374.01834577322, 8116.722932457924, 7470.026263594627, 7301.975579559803, 6697.233983874321, 6579.5823857188225, 6145.277214050293, 5455.945283174515, 5037.167744338512, 4714.30324614048], 'mse_test_list': [2492.29052066803, 2648.7089663743973, 2532.785078883171, 2537.1327936649323, 2461.0778480768204, 2430.72871863842, 2639.1855776309967, 2544.516059756279, 2483.2698851823807, 2501.9387274980545, 2541.482964158058, 2750.6674259901047, 2784.6242010593414, 2799.0132957696915, 2816.4340794086456, 3012.7114057540894], 'r_square_train_list': [-0.10969263609797753, 0.1706206531814276, 0.18981755394901212, 0.20094731196936255, 0.2303479697337697, 0.24519487777784932, 0.26974454106488455, 0.29218196266753715, 0.348577083052119, 0.3632319266799877, 0.4159683589708676, 0.4262281551950853, 0.46410169563398096, 0.5242148199137249, 0.5607342746350967, 0.588889641935488], 'r_square_test_list': [0.14623971501774435, 0.09265693416804033, 0.13236787893953195, 0.13087852359338914, 0.1569319437228418, 0.1673283566544076, 0.09591927097032582, 0.1283493082752013, 0.14932982841306586, 0.1429346204693922, 0.12938832701753533, 0.05772999334152473, 0.04609774352162044, 0.041168608054198086, 0.03520093571388805, -0.03203592318622328]}}\n",
      "Stored 'performance_continuous' (dict)\n",
      "HHVEHCNT_mean_norm\n",
      "tensor(10700.4521)\n",
      "tensor(2549.4304)\n"
     ]
    },
    {
     "data": {
      "application/vnd.jupyter.widget-view+json": {
       "model_id": "0b9fe086e11048af9fa1736832ef1908",
       "version_major": 2,
       "version_minor": 0
      },
      "text/plain": [
       "HBox(children=(IntProgress(value=0, max=96), HTML(value='')))"
      ]
     },
     "metadata": {},
     "output_type": "display_data"
    },
    {
     "name": "stdout",
     "output_type": "stream",
     "text": [
      "\n",
      "Epoch 0: Training MSE 11315.364849567413; Testing MSE 2314.13556933403\n",
      "Epoch 0: Training R2 -0.05746604840616043; Testing R2 0.0922931054517876\n"
     ]
    },
    {
     "data": {
      "application/vnd.jupyter.widget-view+json": {
       "model_id": "bbae39c3452d4ba4a3b1db01856261a7",
       "version_major": 2,
       "version_minor": 0
      },
      "text/plain": [
       "HBox(children=(IntProgress(value=0, max=96), HTML(value='')))"
      ]
     },
     "metadata": {},
     "output_type": "display_data"
    },
    {
     "name": "stdout",
     "output_type": "stream",
     "text": [
      "\n",
      "Epoch 1: Training MSE 9530.11499941349; Testing MSE 2314.4658267498016\n",
      "Epoch 1: Training R2 0.10937268190063398; Testing R2 0.09216356380468449\n"
     ]
    },
    {
     "data": {
      "application/vnd.jupyter.widget-view+json": {
       "model_id": "64118d6e5f0741da8acc4d34ce1ed821",
       "version_major": 2,
       "version_minor": 0
      },
      "text/plain": [
       "HBox(children=(IntProgress(value=0, max=96), HTML(value='')))"
      ]
     },
     "metadata": {},
     "output_type": "display_data"
    },
    {
     "name": "stdout",
     "output_type": "stream",
     "text": [
      "\n",
      "Epoch 2: Training MSE 9370.144230127335; Testing MSE 2233.00239443779\n",
      "Epoch 2: Training R2 0.12432258935006024; Testing R2 0.12411714515188921\n"
     ]
    },
    {
     "data": {
      "application/vnd.jupyter.widget-view+json": {
       "model_id": "9f5b820f40a14e77aa0334fc4a9809d9",
       "version_major": 2,
       "version_minor": 0
      },
      "text/plain": [
       "HBox(children=(IntProgress(value=0, max=96), HTML(value='')))"
      ]
     },
     "metadata": {},
     "output_type": "display_data"
    },
    {
     "name": "stdout",
     "output_type": "stream",
     "text": [
      "\n",
      "Epoch 3: Training MSE 9313.716471195221; Testing MSE 2198.96337389946\n",
      "Epoch 3: Training R2 0.12959598884284274; Testing R2 0.1374687629377055\n"
     ]
    },
    {
     "data": {
      "application/vnd.jupyter.widget-view+json": {
       "model_id": "8751384f424c4f229d02454fb8b4de3e",
       "version_major": 2,
       "version_minor": 0
      },
      "text/plain": [
       "HBox(children=(IntProgress(value=0, max=96), HTML(value='')))"
      ]
     },
     "metadata": {},
     "output_type": "display_data"
    },
    {
     "name": "stdout",
     "output_type": "stream",
     "text": [
      "\n",
      "Epoch 4: Training MSE 8972.319748997688; Testing MSE 2207.430684566498\n",
      "Epoch 4: Training R2 0.16150087636176724; Testing R2 0.13414750709919643\n"
     ]
    },
    {
     "data": {
      "application/vnd.jupyter.widget-view+json": {
       "model_id": "7495816c17a149ccac5883165b8a344e",
       "version_major": 2,
       "version_minor": 0
      },
      "text/plain": [
       "HBox(children=(IntProgress(value=0, max=96), HTML(value='')))"
      ]
     },
     "metadata": {},
     "output_type": "display_data"
    },
    {
     "name": "stdout",
     "output_type": "stream",
     "text": [
      "\n",
      "Epoch 5: Training MSE 8564.183390140533; Testing MSE 2347.8362023830414\n",
      "Epoch 5: Training R2 0.199642849541541; Testing R2 0.07907421828951555\n"
     ]
    },
    {
     "data": {
      "application/vnd.jupyter.widget-view+json": {
       "model_id": "db4b3226d96f486d98dfe61d125e831e",
       "version_major": 2,
       "version_minor": 0
      },
      "text/plain": [
       "HBox(children=(IntProgress(value=0, max=96), HTML(value='')))"
      ]
     },
     "metadata": {},
     "output_type": "display_data"
    },
    {
     "name": "stdout",
     "output_type": "stream",
     "text": [
      "\n",
      "Epoch 6: Training MSE 7944.165068864822; Testing MSE 2313.728141784668\n",
      "Epoch 6: Training R2 0.25758603854652584; Testing R2 0.0924529166575293\n"
     ]
    },
    {
     "data": {
      "application/vnd.jupyter.widget-view+json": {
       "model_id": "ed61590629f9456ca5836aee5dc603b3",
       "version_major": 2,
       "version_minor": 0
      },
      "text/plain": [
       "HBox(children=(IntProgress(value=0, max=96), HTML(value='')))"
      ]
     },
     "metadata": {},
     "output_type": "display_data"
    },
    {
     "name": "stdout",
     "output_type": "stream",
     "text": [
      "\n",
      "Epoch 7: Training MSE 6337.693986296654; Testing MSE 2672.9079842567444\n",
      "Epoch 7: Training R2 0.4077171788276166; Testing R2 -0.048433392560936595\n",
      "Printing performance_continuous\n",
      "{'HHVEHCNT_mean_norm': {'mse_train_list': [11315.364849567413, 9530.11499941349, 9370.144230127335, 9313.716471195221, 8972.319748997688, 8564.183390140533, 7944.165068864822, 6337.693986296654], 'mse_test_list': [2314.13556933403, 2314.4658267498016, 2233.00239443779, 2198.96337389946, 2207.430684566498, 2347.8362023830414, 2313.728141784668, 2672.9079842567444], 'r_square_train_list': [-0.05746604840616043, 0.10937268190063398, 0.12432258935006024, 0.12959598884284274, 0.16150087636176724, 0.199642849541541, 0.25758603854652584, 0.4077171788276166], 'r_square_test_list': [0.0922931054517876, 0.09216356380468449, 0.12411714515188921, 0.1374687629377055, 0.13414750709919643, 0.07907421828951555, 0.0924529166575293, -0.048433392560936595]}}\n",
      "Stored 'performance_continuous' (dict)\n",
      "HHVEHCNT_P_CAP_mean_norm\n",
      "tensor(10708.8994)\n",
      "tensor(2445.9663)\n"
     ]
    },
    {
     "data": {
      "application/vnd.jupyter.widget-view+json": {
       "model_id": "db1f84129dca4777b3c2d73fbb9d9333",
       "version_major": 2,
       "version_minor": 0
      },
      "text/plain": [
       "HBox(children=(IntProgress(value=0, max=96), HTML(value='')))"
      ]
     },
     "metadata": {},
     "output_type": "display_data"
    },
    {
     "name": "stdout",
     "output_type": "stream",
     "text": [
      "\n",
      "Epoch 0: Training MSE 12089.893049001694; Testing MSE 2285.968017578125\n",
      "Epoch 0: Training R2 -0.12895756898470134; Testing R2 0.06541312137190158\n"
     ]
    },
    {
     "data": {
      "application/vnd.jupyter.widget-view+json": {
       "model_id": "6f5b4b23426244ed812617bcb3a1a5b2",
       "version_major": 2,
       "version_minor": 0
      },
      "text/plain": [
       "HBox(children=(IntProgress(value=0, max=96), HTML(value='')))"
      ]
     },
     "metadata": {},
     "output_type": "display_data"
    },
    {
     "name": "stdout",
     "output_type": "stream",
     "text": [
      "\n",
      "Epoch 1: Training MSE 9924.098697304726; Testing MSE 2210.679680109024\n",
      "Epoch 1: Training R2 0.07328490878597715; Testing R2 0.09619373237401552\n"
     ]
    },
    {
     "data": {
      "application/vnd.jupyter.widget-view+json": {
       "model_id": "2b4442ea55ad407db1acdea725410710",
       "version_major": 2,
       "version_minor": 0
      },
      "text/plain": [
       "HBox(children=(IntProgress(value=0, max=96), HTML(value='')))"
      ]
     },
     "metadata": {},
     "output_type": "display_data"
    },
    {
     "name": "stdout",
     "output_type": "stream",
     "text": [
      "\n",
      "Epoch 2: Training MSE 9766.016918420792; Testing MSE 2412.4809086322784\n",
      "Epoch 2: Training R2 0.08804662918054429; Testing R2 0.013690049549669903\n"
     ]
    },
    {
     "data": {
      "application/vnd.jupyter.widget-view+json": {
       "model_id": "a958d3f615e64dbc8be0fdf6d1fe71a5",
       "version_major": 2,
       "version_minor": 0
      },
      "text/plain": [
       "HBox(children=(IntProgress(value=0, max=96), HTML(value='')))"
      ]
     },
     "metadata": {},
     "output_type": "display_data"
    },
    {
     "name": "stdout",
     "output_type": "stream",
     "text": [
      "\n",
      "Epoch 3: Training MSE 9708.214098215103; Testing MSE 2235.312360525131\n",
      "Epoch 3: Training R2 0.09344427257700605; Testing R2 0.08612299659586453\n"
     ]
    },
    {
     "data": {
      "application/vnd.jupyter.widget-view+json": {
       "model_id": "9e28c5b5c0ff4c5e8e70989cd7d3c176",
       "version_major": 2,
       "version_minor": 0
      },
      "text/plain": [
       "HBox(children=(IntProgress(value=0, max=96), HTML(value='')))"
      ]
     },
     "metadata": {},
     "output_type": "display_data"
    },
    {
     "name": "stdout",
     "output_type": "stream",
     "text": [
      "\n",
      "Epoch 4: Training MSE 9515.746426582336; Testing MSE 2200.396704673767\n",
      "Epoch 4: Training R2 0.11141695718174016; Testing R2 0.1003977867794783\n"
     ]
    },
    {
     "data": {
      "application/vnd.jupyter.widget-view+json": {
       "model_id": "7e6ac105017647f99bc039cfc47dc9cd",
       "version_major": 2,
       "version_minor": 0
      },
      "text/plain": [
       "HBox(children=(IntProgress(value=0, max=96), HTML(value='')))"
      ]
     },
     "metadata": {},
     "output_type": "display_data"
    },
    {
     "name": "stdout",
     "output_type": "stream",
     "text": [
      "\n",
      "Epoch 5: Training MSE 9493.635547161102; Testing MSE 2193.8647150993347\n",
      "Epoch 5: Training R2 0.11348167723991898; Testing R2 0.10306830172135739\n"
     ]
    },
    {
     "data": {
      "application/vnd.jupyter.widget-view+json": {
       "model_id": "282d64e39f1e4b7eb5e5f00e27c09c37",
       "version_major": 2,
       "version_minor": 0
      },
      "text/plain": [
       "HBox(children=(IntProgress(value=0, max=96), HTML(value='')))"
      ]
     },
     "metadata": {},
     "output_type": "display_data"
    },
    {
     "name": "stdout",
     "output_type": "stream",
     "text": [
      "\n",
      "Epoch 6: Training MSE 9323.465648293495; Testing MSE 2190.6908571720123\n",
      "Epoch 6: Training R2 0.1293721896341382; Testing R2 0.10436589029245547\n"
     ]
    },
    {
     "data": {
      "application/vnd.jupyter.widget-view+json": {
       "model_id": "f6ae0ebba2d1413f93862154308e014a",
       "version_major": 2,
       "version_minor": 0
      },
      "text/plain": [
       "HBox(children=(IntProgress(value=0, max=96), HTML(value='')))"
      ]
     },
     "metadata": {},
     "output_type": "display_data"
    },
    {
     "name": "stdout",
     "output_type": "stream",
     "text": [
      "\n",
      "Epoch 7: Training MSE 9020.015114545822; Testing MSE 2227.9255390167236\n",
      "Epoch 7: Training R2 0.1577084847112209; Testing R2 0.08914299792722158\n"
     ]
    },
    {
     "data": {
      "application/vnd.jupyter.widget-view+json": {
       "model_id": "f0e7b5d816284416aa9e95b873e6072d",
       "version_major": 2,
       "version_minor": 0
      },
      "text/plain": [
       "HBox(children=(IntProgress(value=0, max=96), HTML(value='')))"
      ]
     },
     "metadata": {},
     "output_type": "display_data"
    },
    {
     "name": "stdout",
     "output_type": "stream",
     "text": [
      "\n",
      "Epoch 8: Training MSE 8374.292036890984; Testing MSE 2389.358991384506\n",
      "Epoch 8: Training R2 0.21800628495079555; Testing R2 0.02314313038996385\n"
     ]
    },
    {
     "data": {
      "application/vnd.jupyter.widget-view+json": {
       "model_id": "fa2dfc40cba34e8c94c01c7c3fb9ebbe",
       "version_major": 2,
       "version_minor": 0
      },
      "text/plain": [
       "HBox(children=(IntProgress(value=0, max=96), HTML(value='')))"
      ]
     },
     "metadata": {},
     "output_type": "display_data"
    },
    {
     "name": "stdout",
     "output_type": "stream",
     "text": [
      "\n",
      "Epoch 9: Training MSE 7027.830973267555; Testing MSE 2574.9546110630035\n",
      "Epoch 9: Training R2 0.34373919284003285; Testing R2 -0.052735110052849477\n",
      "Printing performance_continuous\n",
      "{'HHVEHCNT_mean_norm': {'mse_train_list': [11315.364849567413, 9530.11499941349, 9370.144230127335, 9313.716471195221, 8972.319748997688, 8564.183390140533, 7944.165068864822, 6337.693986296654], 'mse_test_list': [2314.13556933403, 2314.4658267498016, 2233.00239443779, 2198.96337389946, 2207.430684566498, 2347.8362023830414, 2313.728141784668, 2672.9079842567444], 'r_square_train_list': [-0.05746604840616043, 0.10937268190063398, 0.12432258935006024, 0.12959598884284274, 0.16150087636176724, 0.199642849541541, 0.25758603854652584, 0.4077171788276166], 'r_square_test_list': [0.0922931054517876, 0.09216356380468449, 0.12411714515188921, 0.1374687629377055, 0.13414750709919643, 0.07907421828951555, 0.0924529166575293, -0.048433392560936595]}, 'HHVEHCNT_P_CAP_mean_norm': {'mse_train_list': [12089.893049001694, 9924.098697304726, 9766.016918420792, 9708.214098215103, 9515.746426582336, 9493.635547161102, 9323.465648293495, 9020.015114545822, 8374.292036890984, 7027.830973267555], 'mse_test_list': [2285.968017578125, 2210.679680109024, 2412.4809086322784, 2235.312360525131, 2200.396704673767, 2193.8647150993347, 2190.6908571720123, 2227.9255390167236, 2389.358991384506, 2574.9546110630035], 'r_square_train_list': [-0.12895756898470134, 0.07328490878597715, 0.08804662918054429, 0.09344427257700605, 0.11141695718174016, 0.11348167723991898, 0.1293721896341382, 0.1577084847112209, 0.21800628495079555, 0.34373919284003285], 'r_square_test_list': [0.06541312137190158, 0.09619373237401552, 0.013690049549669903, 0.08612299659586453, 0.1003977867794783, 0.10306830172135739, 0.10436589029245547, 0.08914299792722158, 0.02314313038996385, -0.052735110052849477]}}\n",
      "Stored 'performance_continuous' (dict)\n",
      "TRPTRANS_1_mean_norm\n",
      "tensor(11639.5127)\n",
      "tensor(3039.0168)\n"
     ]
    },
    {
     "data": {
      "application/vnd.jupyter.widget-view+json": {
       "model_id": "6aa3a95c929e4b639169b852479f2006",
       "version_major": 2,
       "version_minor": 0
      },
      "text/plain": [
       "HBox(children=(IntProgress(value=0, max=96), HTML(value='')))"
      ]
     },
     "metadata": {},
     "output_type": "display_data"
    },
    {
     "name": "stdout",
     "output_type": "stream",
     "text": [
      "\n",
      "Epoch 0: Training MSE 12081.082955002785; Testing MSE 2342.55313873291\n",
      "Epoch 0: Training R2 -0.037937177547657575; Testing R2 0.22917401986597963\n"
     ]
    },
    {
     "data": {
      "application/vnd.jupyter.widget-view+json": {
       "model_id": "8d225a6f28324878b88a7b1bf20bd630",
       "version_major": 2,
       "version_minor": 0
      },
      "text/plain": [
       "HBox(children=(IntProgress(value=0, max=96), HTML(value='')))"
      ]
     },
     "metadata": {},
     "output_type": "display_data"
    },
    {
     "name": "stdout",
     "output_type": "stream",
     "text": [
      "\n",
      "Epoch 1: Training MSE 9169.74595785141; Testing MSE 2185.1834177970886\n",
      "Epoch 1: Training R2 0.21218815616359288; Testing R2 0.28095712240400184\n"
     ]
    },
    {
     "data": {
      "application/vnd.jupyter.widget-view+json": {
       "model_id": "debc5311cff64aa0ab92be88424fe618",
       "version_major": 2,
       "version_minor": 0
      },
      "text/plain": [
       "HBox(children=(IntProgress(value=0, max=96), HTML(value='')))"
      ]
     },
     "metadata": {},
     "output_type": "display_data"
    },
    {
     "name": "stdout",
     "output_type": "stream",
     "text": [
      "\n",
      "Epoch 2: Training MSE 8871.46013379097; Testing MSE 2161.8258327245712\n",
      "Epoch 2: Training R2 0.23781515893154948; Testing R2 0.28864302421318155\n"
     ]
    },
    {
     "data": {
      "application/vnd.jupyter.widget-view+json": {
       "model_id": "9a5fe59af2a445899916d859c4cab70d",
       "version_major": 2,
       "version_minor": 0
      },
      "text/plain": [
       "HBox(children=(IntProgress(value=0, max=96), HTML(value='')))"
      ]
     },
     "metadata": {},
     "output_type": "display_data"
    },
    {
     "name": "stdout",
     "output_type": "stream",
     "text": [
      "\n",
      "Epoch 3: Training MSE 8766.327074170113; Testing MSE 2310.176309943199\n",
      "Epoch 3: Training R2 0.24684758686671526; Testing R2 0.23982773797073076\n"
     ]
    },
    {
     "data": {
      "application/vnd.jupyter.widget-view+json": {
       "model_id": "716bf966cae544e3b8249325174a9904",
       "version_major": 2,
       "version_minor": 0
      },
      "text/plain": [
       "HBox(children=(IntProgress(value=0, max=96), HTML(value='')))"
      ]
     },
     "metadata": {},
     "output_type": "display_data"
    },
    {
     "name": "stdout",
     "output_type": "stream",
     "text": [
      "\n",
      "Epoch 4: Training MSE 8431.430971622467; Testing MSE 2464.9133145809174\n",
      "Epoch 4: Training R2 0.27561993424192077; Testing R2 0.1889109406991062\n"
     ]
    },
    {
     "data": {
      "application/vnd.jupyter.widget-view+json": {
       "model_id": "e81c4651b9e3497988ebd8d524579126",
       "version_major": 2,
       "version_minor": 0
      },
      "text/plain": [
       "HBox(children=(IntProgress(value=0, max=96), HTML(value='')))"
      ]
     },
     "metadata": {},
     "output_type": "display_data"
    },
    {
     "name": "stdout",
     "output_type": "stream",
     "text": [
      "\n",
      "Epoch 5: Training MSE 8147.319030761719; Testing MSE 2214.0186071395874\n",
      "Epoch 5: Training R2 0.3000291984695518; Testing R2 0.2714687941694055\n"
     ]
    },
    {
     "data": {
      "application/vnd.jupyter.widget-view+json": {
       "model_id": "528b8c8e2ccf4705b610c65153fe8fe3",
       "version_major": 2,
       "version_minor": 0
      },
      "text/plain": [
       "HBox(children=(IntProgress(value=0, max=96), HTML(value='')))"
      ]
     },
     "metadata": {},
     "output_type": "display_data"
    },
    {
     "name": "stdout",
     "output_type": "stream",
     "text": [
      "\n",
      "Epoch 6: Training MSE 7624.738058447838; Testing MSE 2250.3514796495438\n",
      "Epoch 6: Training R2 0.3449263506092918; Testing R2 0.2595133248993593\n"
     ]
    },
    {
     "data": {
      "application/vnd.jupyter.widget-view+json": {
       "model_id": "04ae045af0df429b9d1ec4a169ab284b",
       "version_major": 2,
       "version_minor": 0
      },
      "text/plain": [
       "HBox(children=(IntProgress(value=0, max=96), HTML(value='')))"
      ]
     },
     "metadata": {},
     "output_type": "display_data"
    },
    {
     "name": "stdout",
     "output_type": "stream",
     "text": [
      "\n",
      "Epoch 7: Training MSE 6796.907985210419; Testing MSE 2200.7143437862396\n",
      "Epoch 7: Training R2 0.4160487502240803; Testing R2 0.2758466124010348\n"
     ]
    },
    {
     "data": {
      "application/vnd.jupyter.widget-view+json": {
       "model_id": "d75268711f1244f69ce06ef1da08a2dc",
       "version_major": 2,
       "version_minor": 0
      },
      "text/plain": [
       "HBox(children=(IntProgress(value=0, max=96), HTML(value='')))"
      ]
     },
     "metadata": {},
     "output_type": "display_data"
    },
    {
     "name": "stdout",
     "output_type": "stream",
     "text": [
      "\n",
      "Epoch 8: Training MSE 5696.479028463364; Testing MSE 2507.744652032852\n",
      "Epoch 8: Training R2 0.5105912783825162; Testing R2 0.17481712693413998\n"
     ]
    },
    {
     "data": {
      "application/vnd.jupyter.widget-view+json": {
       "model_id": "76f20c0095ff41a6b70c0e82994149ed",
       "version_major": 2,
       "version_minor": 0
      },
      "text/plain": [
       "HBox(children=(IntProgress(value=0, max=96), HTML(value='')))"
      ]
     },
     "metadata": {},
     "output_type": "display_data"
    },
    {
     "name": "stdout",
     "output_type": "stream",
     "text": [
      "\n",
      "Epoch 9: Training MSE 4272.649231553078; Testing MSE 2561.1862659454346\n",
      "Epoch 9: Training R2 0.6329185470733864; Testing R2 0.15723196152508878\n"
     ]
    },
    {
     "data": {
      "application/vnd.jupyter.widget-view+json": {
       "model_id": "4abb3537fe0c406ba4d040ec401e7c45",
       "version_major": 2,
       "version_minor": 0
      },
      "text/plain": [
       "HBox(children=(IntProgress(value=0, max=96), HTML(value='')))"
      ]
     },
     "metadata": {},
     "output_type": "display_data"
    },
    {
     "name": "stdout",
     "output_type": "stream",
     "text": [
      "\n",
      "Epoch 10: Training MSE 2940.699829161167; Testing MSE 2507.2761833667755\n",
      "Epoch 10: Training R2 0.7473519806077917; Testing R2 0.17497127832252035\n"
     ]
    },
    {
     "data": {
      "application/vnd.jupyter.widget-view+json": {
       "model_id": "261b78b216034845bc47b73804afbf35",
       "version_major": 2,
       "version_minor": 0
      },
      "text/plain": [
       "HBox(children=(IntProgress(value=0, max=96), HTML(value='')))"
      ]
     },
     "metadata": {},
     "output_type": "display_data"
    },
    {
     "name": "stdout",
     "output_type": "stream",
     "text": [
      "\n",
      "Epoch 11: Training MSE 2097.396568953991; Testing MSE 2572.248423099518\n",
      "Epoch 11: Training R2 0.8198037474714331; Testing R2 0.15359191682782947\n"
     ]
    },
    {
     "data": {
      "application/vnd.jupyter.widget-view+json": {
       "model_id": "bd746e3ba7e94eb3b06b582508410f59",
       "version_major": 2,
       "version_minor": 0
      },
      "text/plain": [
       "HBox(children=(IntProgress(value=0, max=96), HTML(value='')))"
      ]
     },
     "metadata": {},
     "output_type": "display_data"
    },
    {
     "name": "stdout",
     "output_type": "stream",
     "text": [
      "\n",
      "Epoch 12: Training MSE 1511.0222727060318; Testing MSE 2541.576224565506\n",
      "Epoch 12: Training R2 0.8701816551723376; Testing R2 0.16368471989253752\n"
     ]
    },
    {
     "data": {
      "application/vnd.jupyter.widget-view+json": {
       "model_id": "c28a2393726040608191e54e514c6350",
       "version_major": 2,
       "version_minor": 0
      },
      "text/plain": [
       "HBox(children=(IntProgress(value=0, max=96), HTML(value='')))"
      ]
     },
     "metadata": {},
     "output_type": "display_data"
    },
    {
     "name": "stdout",
     "output_type": "stream",
     "text": [
      "\n",
      "Epoch 13: Training MSE 1068.6983332037926; Testing MSE 2442.3086524009705\n",
      "Epoch 13: Training R2 0.9081835845555474; Testing R2 0.19634909037962134\n"
     ]
    },
    {
     "data": {
      "application/vnd.jupyter.widget-view+json": {
       "model_id": "0aa6f51bcc1247658e63ecba94188be3",
       "version_major": 2,
       "version_minor": 0
      },
      "text/plain": [
       "HBox(children=(IntProgress(value=0, max=96), HTML(value='')))"
      ]
     },
     "metadata": {},
     "output_type": "display_data"
    },
    {
     "name": "stdout",
     "output_type": "stream",
     "text": [
      "\n",
      "Epoch 14: Training MSE 881.8659879267216; Testing MSE 2418.93327832222\n",
      "Epoch 14: Training R2 0.9242351453182512; Testing R2 0.20404084572865833\n"
     ]
    },
    {
     "data": {
      "application/vnd.jupyter.widget-view+json": {
       "model_id": "327fd46736a24f9a892c2f8da0c192c8",
       "version_major": 2,
       "version_minor": 0
      },
      "text/plain": [
       "HBox(children=(IntProgress(value=0, max=96), HTML(value='')))"
      ]
     },
     "metadata": {},
     "output_type": "display_data"
    },
    {
     "name": "stdout",
     "output_type": "stream",
     "text": [
      "\n",
      "Epoch 15: Training MSE 787.4497881159186; Testing MSE 2509.11505818367\n",
      "Epoch 15: Training R2 0.9323468422837803; Testing R2 0.1743661896013129\n"
     ]
    },
    {
     "data": {
      "application/vnd.jupyter.widget-view+json": {
       "model_id": "56d14d6a31ad41e290c4ed123c748227",
       "version_major": 2,
       "version_minor": 0
      },
      "text/plain": [
       "HBox(children=(IntProgress(value=0, max=96), HTML(value='')))"
      ]
     },
     "metadata": {},
     "output_type": "display_data"
    },
    {
     "name": "stdout",
     "output_type": "stream",
     "text": [
      "\n",
      "Epoch 16: Training MSE 727.6203881949186; Testing MSE 2396.529197692871\n",
      "Epoch 16: Training R2 0.9374870402875244; Testing R2 0.21141299329046792\n"
     ]
    },
    {
     "data": {
      "application/vnd.jupyter.widget-view+json": {
       "model_id": "a309724c7c014dfe82a1e7bae5395afa",
       "version_major": 2,
       "version_minor": 0
      },
      "text/plain": [
       "HBox(children=(IntProgress(value=0, max=96), HTML(value='')))"
      ]
     },
     "metadata": {},
     "output_type": "display_data"
    },
    {
     "name": "stdout",
     "output_type": "stream",
     "text": [
      "\n",
      "Epoch 17: Training MSE 653.984259814024; Testing MSE 2328.6290287971497\n",
      "Epoch 17: Training R2 0.9438134330076036; Testing R2 0.23375580096253656\n"
     ]
    },
    {
     "data": {
      "application/vnd.jupyter.widget-view+json": {
       "model_id": "1f5e27c9ec5a4439bee65fd99ba9ff45",
       "version_major": 2,
       "version_minor": 0
      },
      "text/plain": [
       "HBox(children=(IntProgress(value=0, max=96), HTML(value='')))"
      ]
     },
     "metadata": {},
     "output_type": "display_data"
    },
    {
     "name": "stdout",
     "output_type": "stream",
     "text": [
      "\n",
      "Epoch 18: Training MSE 538.3841747418046; Testing MSE 2416.928058862686\n",
      "Epoch 18: Training R2 0.9537451275809318; Testing R2 0.20470067078437293\n"
     ]
    },
    {
     "data": {
      "application/vnd.jupyter.widget-view+json": {
       "model_id": "1339c8c73aa34467b23223eb3040aeb6",
       "version_major": 2,
       "version_minor": 0
      },
      "text/plain": [
       "HBox(children=(IntProgress(value=0, max=96), HTML(value='')))"
      ]
     },
     "metadata": {},
     "output_type": "display_data"
    },
    {
     "name": "stdout",
     "output_type": "stream",
     "text": [
      "\n",
      "Epoch 19: Training MSE 557.7746534720063; Testing MSE 2424.6559977531433\n",
      "Epoch 19: Training R2 0.9520792091496549; Testing R2 0.20215776323143064\n"
     ]
    },
    {
     "data": {
      "application/vnd.jupyter.widget-view+json": {
       "model_id": "0235f94e90134e5ca6e30ba1dbe86def",
       "version_major": 2,
       "version_minor": 0
      },
      "text/plain": [
       "HBox(children=(IntProgress(value=0, max=96), HTML(value='')))"
      ]
     },
     "metadata": {},
     "output_type": "display_data"
    },
    {
     "name": "stdout",
     "output_type": "stream",
     "text": [
      "\n",
      "Epoch 20: Training MSE 606.5411075949669; Testing MSE 2375.6326615810394\n",
      "Epoch 20: Training R2 0.9478894758335342; Testing R2 0.218289077620628\n"
     ]
    },
    {
     "data": {
      "application/vnd.jupyter.widget-view+json": {
       "model_id": "284ab970b4424cbe8d29e05a5c806f05",
       "version_major": 2,
       "version_minor": 0
      },
      "text/plain": [
       "HBox(children=(IntProgress(value=0, max=96), HTML(value='')))"
      ]
     },
     "metadata": {},
     "output_type": "display_data"
    },
    {
     "name": "stdout",
     "output_type": "stream",
     "text": [
      "\n",
      "Epoch 21: Training MSE 455.4856387898326; Testing MSE 2363.4223103523254\n",
      "Epoch 21: Training R2 0.9608672930978229; Testing R2 0.22230693992566208\n"
     ]
    },
    {
     "data": {
      "application/vnd.jupyter.widget-view+json": {
       "model_id": "e43ba2a4fb7a40598b0f008d551f9709",
       "version_major": 2,
       "version_minor": 0
      },
      "text/plain": [
       "HBox(children=(IntProgress(value=0, max=96), HTML(value='')))"
      ]
     },
     "metadata": {},
     "output_type": "display_data"
    },
    {
     "name": "stdout",
     "output_type": "stream",
     "text": [
      "\n",
      "Epoch 22: Training MSE 485.4843504726887; Testing MSE 2318.0438578128815\n",
      "Epoch 22: Training R2 0.9582899762918593; Testing R2 0.23723889155455957\n"
     ]
    },
    {
     "data": {
      "application/vnd.jupyter.widget-view+json": {
       "model_id": "4570c590632c442e91cc570e2fa44878",
       "version_major": 2,
       "version_minor": 0
      },
      "text/plain": [
       "HBox(children=(IntProgress(value=0, max=96), HTML(value='')))"
      ]
     },
     "metadata": {},
     "output_type": "display_data"
    },
    {
     "name": "stdout",
     "output_type": "stream",
     "text": [
      "\n",
      "Epoch 23: Training MSE 459.2966862022877; Testing MSE 2547.314929962158\n",
      "Epoch 23: Training R2 0.9605398698188407; Testing R2 0.16179637715275763\n"
     ]
    },
    {
     "data": {
      "application/vnd.jupyter.widget-view+json": {
       "model_id": "ff9a7bb99b4246cc960d5c04dd3ffb4b",
       "version_major": 2,
       "version_minor": 0
      },
      "text/plain": [
       "HBox(children=(IntProgress(value=0, max=96), HTML(value='')))"
      ]
     },
     "metadata": {},
     "output_type": "display_data"
    },
    {
     "name": "stdout",
     "output_type": "stream",
     "text": [
      "\n",
      "Epoch 24: Training MSE 529.2788427323103; Testing MSE 2412.6693785190582\n",
      "Epoch 24: Training R2 0.9545274053487254; Testing R2 0.20610200567649417\n",
      "Printing performance_continuous\n",
      "{'HHVEHCNT_mean_norm': {'mse_train_list': [11315.364849567413, 9530.11499941349, 9370.144230127335, 9313.716471195221, 8972.319748997688, 8564.183390140533, 7944.165068864822, 6337.693986296654], 'mse_test_list': [2314.13556933403, 2314.4658267498016, 2233.00239443779, 2198.96337389946, 2207.430684566498, 2347.8362023830414, 2313.728141784668, 2672.9079842567444], 'r_square_train_list': [-0.05746604840616043, 0.10937268190063398, 0.12432258935006024, 0.12959598884284274, 0.16150087636176724, 0.199642849541541, 0.25758603854652584, 0.4077171788276166], 'r_square_test_list': [0.0922931054517876, 0.09216356380468449, 0.12411714515188921, 0.1374687629377055, 0.13414750709919643, 0.07907421828951555, 0.0924529166575293, -0.048433392560936595]}, 'HHVEHCNT_P_CAP_mean_norm': {'mse_train_list': [12089.893049001694, 9924.098697304726, 9766.016918420792, 9708.214098215103, 9515.746426582336, 9493.635547161102, 9323.465648293495, 9020.015114545822, 8374.292036890984, 7027.830973267555], 'mse_test_list': [2285.968017578125, 2210.679680109024, 2412.4809086322784, 2235.312360525131, 2200.396704673767, 2193.8647150993347, 2190.6908571720123, 2227.9255390167236, 2389.358991384506, 2574.9546110630035], 'r_square_train_list': [-0.12895756898470134, 0.07328490878597715, 0.08804662918054429, 0.09344427257700605, 0.11141695718174016, 0.11348167723991898, 0.1293721896341382, 0.1577084847112209, 0.21800628495079555, 0.34373919284003285], 'r_square_test_list': [0.06541312137190158, 0.09619373237401552, 0.013690049549669903, 0.08612299659586453, 0.1003977867794783, 0.10306830172135739, 0.10436589029245547, 0.08914299792722158, 0.02314313038996385, -0.052735110052849477]}, 'TRPTRANS_1_mean_norm': {'mse_train_list': [12081.082955002785, 9169.74595785141, 8871.46013379097, 8766.327074170113, 8431.430971622467, 8147.319030761719, 7624.738058447838, 6796.907985210419, 5696.479028463364, 4272.649231553078, 2940.699829161167, 2097.396568953991, 1511.0222727060318, 1068.6983332037926, 881.8659879267216, 787.4497881159186, 727.6203881949186, 653.984259814024, 538.3841747418046, 557.7746534720063, 606.5411075949669, 455.4856387898326, 485.4843504726887, 459.2966862022877, 529.2788427323103], 'mse_test_list': [2342.55313873291, 2185.1834177970886, 2161.8258327245712, 2310.176309943199, 2464.9133145809174, 2214.0186071395874, 2250.3514796495438, 2200.7143437862396, 2507.744652032852, 2561.1862659454346, 2507.2761833667755, 2572.248423099518, 2541.576224565506, 2442.3086524009705, 2418.93327832222, 2509.11505818367, 2396.529197692871, 2328.6290287971497, 2416.928058862686, 2424.6559977531433, 2375.6326615810394, 2363.4223103523254, 2318.0438578128815, 2547.314929962158, 2412.6693785190582], 'r_square_train_list': [-0.037937177547657575, 0.21218815616359288, 0.23781515893154948, 0.24684758686671526, 0.27561993424192077, 0.3000291984695518, 0.3449263506092918, 0.4160487502240803, 0.5105912783825162, 0.6329185470733864, 0.7473519806077917, 0.8198037474714331, 0.8701816551723376, 0.9081835845555474, 0.9242351453182512, 0.9323468422837803, 0.9374870402875244, 0.9438134330076036, 0.9537451275809318, 0.9520792091496549, 0.9478894758335342, 0.9608672930978229, 0.9582899762918593, 0.9605398698188407, 0.9545274053487254], 'r_square_test_list': [0.22917401986597963, 0.28095712240400184, 0.28864302421318155, 0.23982773797073076, 0.1889109406991062, 0.2714687941694055, 0.2595133248993593, 0.2758466124010348, 0.17481712693413998, 0.15723196152508878, 0.17497127832252035, 0.15359191682782947, 0.16368471989253752, 0.19634909037962134, 0.20404084572865833, 0.1743661896013129, 0.21141299329046792, 0.23375580096253656, 0.20470067078437293, 0.20215776323143064, 0.218289077620628, 0.22230693992566208, 0.23723889155455957, 0.16179637715275763, 0.20610200567649417]}}\n",
      "Stored 'performance_continuous' (dict)\n",
      "TRPTRANS_2_mean_norm\n",
      "tensor(11690.4609)\n",
      "tensor(2961.9233)\n"
     ]
    },
    {
     "data": {
      "application/vnd.jupyter.widget-view+json": {
       "model_id": "d42998db3a854fb4951f5e4e2b7a59ba",
       "version_major": 2,
       "version_minor": 0
      },
      "text/plain": [
       "HBox(children=(IntProgress(value=0, max=96), HTML(value='')))"
      ]
     },
     "metadata": {},
     "output_type": "display_data"
    },
    {
     "name": "stdout",
     "output_type": "stream",
     "text": [
      "\n",
      "Epoch 0: Training MSE 11786.737409234047; Testing MSE 2251.1132657527924\n",
      "Epoch 0: Training R2 -0.008235472685701906; Testing R2 0.23998260337435162\n"
     ]
    },
    {
     "data": {
      "application/vnd.jupyter.widget-view+json": {
       "model_id": "5d0c58a3b0dd4784a40ac84b13fa5fef",
       "version_major": 2,
       "version_minor": 0
      },
      "text/plain": [
       "HBox(children=(IntProgress(value=0, max=96), HTML(value='')))"
      ]
     },
     "metadata": {},
     "output_type": "display_data"
    },
    {
     "name": "stdout",
     "output_type": "stream",
     "text": [
      "\n",
      "Epoch 1: Training MSE 8238.061627745628; Testing MSE 1904.3690502643585\n",
      "Epoch 1: Training R2 0.2953176378768745; Testing R2 0.35704985181526694\n"
     ]
    },
    {
     "data": {
      "application/vnd.jupyter.widget-view+json": {
       "model_id": "6650d2bde0b247749b9e0d639bdddd8c",
       "version_major": 2,
       "version_minor": 0
      },
      "text/plain": [
       "HBox(children=(IntProgress(value=0, max=96), HTML(value='')))"
      ]
     },
     "metadata": {},
     "output_type": "display_data"
    },
    {
     "name": "stdout",
     "output_type": "stream",
     "text": [
      "\n",
      "Epoch 2: Training MSE 7950.699400901794; Testing MSE 1880.74049949646\n",
      "Epoch 2: Training R2 0.31989855289640545; Testing R2 0.3650272867643919\n"
     ]
    },
    {
     "data": {
      "application/vnd.jupyter.widget-view+json": {
       "model_id": "462551b25c24425d8a4c1d29aff5b660",
       "version_major": 2,
       "version_minor": 0
      },
      "text/plain": [
       "HBox(children=(IntProgress(value=0, max=96), HTML(value='')))"
      ]
     },
     "metadata": {},
     "output_type": "display_data"
    },
    {
     "name": "stdout",
     "output_type": "stream",
     "text": [
      "\n",
      "Epoch 3: Training MSE 7802.119779586792; Testing MSE 1952.2163212299347\n",
      "Epoch 3: Training R2 0.33260802792132915; Testing R2 0.34089572982232563\n"
     ]
    },
    {
     "data": {
      "application/vnd.jupyter.widget-view+json": {
       "model_id": "b91704918bc040d5b539e477902e820b",
       "version_major": 2,
       "version_minor": 0
      },
      "text/plain": [
       "HBox(children=(IntProgress(value=0, max=96), HTML(value='')))"
      ]
     },
     "metadata": {},
     "output_type": "display_data"
    },
    {
     "name": "stdout",
     "output_type": "stream",
     "text": [
      "\n",
      "Epoch 4: Training MSE 7607.433521747589; Testing MSE 2024.9466925859451\n",
      "Epoch 4: Training R2 0.3492614566338532; Testing R2 0.3163406137672804\n"
     ]
    },
    {
     "data": {
      "application/vnd.jupyter.widget-view+json": {
       "model_id": "07e952492a524c319c1294d59b4af218",
       "version_major": 2,
       "version_minor": 0
      },
      "text/plain": [
       "HBox(children=(IntProgress(value=0, max=96), HTML(value='')))"
      ]
     },
     "metadata": {},
     "output_type": "display_data"
    },
    {
     "name": "stdout",
     "output_type": "stream",
     "text": [
      "\n",
      "Epoch 5: Training MSE 7035.550817847252; Testing MSE 2112.403178215027\n",
      "Epoch 5: Training R2 0.39818020388922304; Testing R2 0.28681368967285215\n"
     ]
    },
    {
     "data": {
      "application/vnd.jupyter.widget-view+json": {
       "model_id": "d601ac19c1db434191d49c2bb9e81da6",
       "version_major": 2,
       "version_minor": 0
      },
      "text/plain": [
       "HBox(children=(IntProgress(value=0, max=96), HTML(value='')))"
      ]
     },
     "metadata": {},
     "output_type": "display_data"
    },
    {
     "name": "stdout",
     "output_type": "stream",
     "text": [
      "\n",
      "Epoch 6: Training MSE 6508.9185655117035; Testing MSE 2091.420656442642\n",
      "Epoch 6: Training R2 0.4432282353698508; Testing R2 0.2938977763843913\n"
     ]
    },
    {
     "data": {
      "application/vnd.jupyter.widget-view+json": {
       "model_id": "3991be7834e349dd96624218b82d192d",
       "version_major": 2,
       "version_minor": 0
      },
      "text/plain": [
       "HBox(children=(IntProgress(value=0, max=96), HTML(value='')))"
      ]
     },
     "metadata": {},
     "output_type": "display_data"
    },
    {
     "name": "stdout",
     "output_type": "stream",
     "text": [
      "\n",
      "Epoch 7: Training MSE 5563.46572637558; Testing MSE 2025.5631268024445\n",
      "Epoch 7: Training R2 0.5241021071693239; Testing R2 0.31613249419571443\n"
     ]
    },
    {
     "data": {
      "application/vnd.jupyter.widget-view+json": {
       "model_id": "8378051fafff4d899771be0becd5ef57",
       "version_major": 2,
       "version_minor": 0
      },
      "text/plain": [
       "HBox(children=(IntProgress(value=0, max=96), HTML(value='')))"
      ]
     },
     "metadata": {},
     "output_type": "display_data"
    },
    {
     "name": "stdout",
     "output_type": "stream",
     "text": [
      "\n",
      "Epoch 8: Training MSE 4632.918290793896; Testing MSE 2032.4881464242935\n",
      "Epoch 8: Training R2 0.6037009733352188; Testing R2 0.3137944797276512\n"
     ]
    },
    {
     "data": {
      "application/vnd.jupyter.widget-view+json": {
       "model_id": "0e810d717a004acb9c80eecb244ffbe7",
       "version_major": 2,
       "version_minor": 0
      },
      "text/plain": [
       "HBox(children=(IntProgress(value=0, max=96), HTML(value='')))"
      ]
     },
     "metadata": {},
     "output_type": "display_data"
    },
    {
     "name": "stdout",
     "output_type": "stream",
     "text": [
      "\n",
      "Epoch 9: Training MSE 3441.931375861168; Testing MSE 2122.828283905983\n",
      "Epoch 9: Training R2 0.705577787371896; Testing R2 0.28329398153229435\n"
     ]
    },
    {
     "data": {
      "application/vnd.jupyter.widget-view+json": {
       "model_id": "85f93d6e49324798b7ff5bb4b9e9978a",
       "version_major": 2,
       "version_minor": 0
      },
      "text/plain": [
       "HBox(children=(IntProgress(value=0, max=96), HTML(value='')))"
      ]
     },
     "metadata": {},
     "output_type": "display_data"
    },
    {
     "name": "stdout",
     "output_type": "stream",
     "text": [
      "\n",
      "Epoch 10: Training MSE 2415.608775615692; Testing MSE 2188.968950510025\n",
      "Epoch 10: Training R2 0.7933692445036928; Testing R2 0.2609636714549475\n"
     ]
    },
    {
     "data": {
      "application/vnd.jupyter.widget-view+json": {
       "model_id": "b10e25aa383d40f1af167d3a734f5949",
       "version_major": 2,
       "version_minor": 0
      },
      "text/plain": [
       "HBox(children=(IntProgress(value=0, max=96), HTML(value='')))"
      ]
     },
     "metadata": {},
     "output_type": "display_data"
    },
    {
     "name": "stdout",
     "output_type": "stream",
     "text": [
      "\n",
      "Epoch 11: Training MSE 1676.484253257513; Testing MSE 2110.3115022182465\n",
      "Epoch 11: Training R2 0.8565938278892168; Testing R2 0.28751987810407964\n"
     ]
    },
    {
     "data": {
      "application/vnd.jupyter.widget-view+json": {
       "model_id": "c5d48558dee345efa3e6ffa579e9fc6b",
       "version_major": 2,
       "version_minor": 0
      },
      "text/plain": [
       "HBox(children=(IntProgress(value=0, max=96), HTML(value='')))"
      ]
     },
     "metadata": {},
     "output_type": "display_data"
    },
    {
     "name": "stdout",
     "output_type": "stream",
     "text": [
      "\n",
      "Epoch 12: Training MSE 1270.9576830267906; Testing MSE 2073.750653862953\n",
      "Epoch 12: Training R2 0.8912825003375286; Testing R2 0.29986349546361\n"
     ]
    },
    {
     "data": {
      "application/vnd.jupyter.widget-view+json": {
       "model_id": "14d3f6ef6e2b46468f7e8db1131491fb",
       "version_major": 2,
       "version_minor": 0
      },
      "text/plain": [
       "HBox(children=(IntProgress(value=0, max=96), HTML(value='')))"
      ]
     },
     "metadata": {},
     "output_type": "display_data"
    },
    {
     "name": "stdout",
     "output_type": "stream",
     "text": [
      "\n",
      "Epoch 13: Training MSE 980.6191146373749; Testing MSE 2185.4078888893127\n",
      "Epoch 13: Training R2 0.9161180110963973; Testing R2 0.26216595159934175\n"
     ]
    },
    {
     "data": {
      "application/vnd.jupyter.widget-view+json": {
       "model_id": "1b0f9bf42f74478eaf7bd22018f7677c",
       "version_major": 2,
       "version_minor": 0
      },
      "text/plain": [
       "HBox(children=(IntProgress(value=0, max=96), HTML(value='')))"
      ]
     },
     "metadata": {},
     "output_type": "display_data"
    },
    {
     "name": "stdout",
     "output_type": "stream",
     "text": [
      "\n",
      "Epoch 14: Training MSE 836.2754434347153; Testing MSE 2183.969485759735\n",
      "Epoch 14: Training R2 0.9284651436837569; Testing R2 0.26265158305044256\n"
     ]
    },
    {
     "data": {
      "application/vnd.jupyter.widget-view+json": {
       "model_id": "fb717de90e3c4fea9b80f5b5d469e158",
       "version_major": 2,
       "version_minor": 0
      },
      "text/plain": [
       "HBox(children=(IntProgress(value=0, max=96), HTML(value='')))"
      ]
     },
     "metadata": {},
     "output_type": "display_data"
    },
    {
     "name": "stdout",
     "output_type": "stream",
     "text": [
      "\n",
      "Epoch 15: Training MSE 703.1042858958244; Testing MSE 2125.586900115013\n",
      "Epoch 15: Training R2 0.9398565813910342; Testing R2 0.2823626217729376\n"
     ]
    },
    {
     "data": {
      "application/vnd.jupyter.widget-view+json": {
       "model_id": "fba1dfa7bfba4d8fbdfec9fdf36b8631",
       "version_major": 2,
       "version_minor": 0
      },
      "text/plain": [
       "HBox(children=(IntProgress(value=0, max=96), HTML(value='')))"
      ]
     },
     "metadata": {},
     "output_type": "display_data"
    },
    {
     "name": "stdout",
     "output_type": "stream",
     "text": [
      "\n",
      "Epoch 16: Training MSE 628.2416695728898; Testing MSE 2167.712962627411\n",
      "Epoch 16: Training R2 0.9462603166007209; Testing R2 0.26814008537379497\n"
     ]
    },
    {
     "data": {
      "application/vnd.jupyter.widget-view+json": {
       "model_id": "3db868d919ed43f381f0e0ed39e1311f",
       "version_major": 2,
       "version_minor": 0
      },
      "text/plain": [
       "HBox(children=(IntProgress(value=0, max=96), HTML(value='')))"
      ]
     },
     "metadata": {},
     "output_type": "display_data"
    },
    {
     "name": "stdout",
     "output_type": "stream",
     "text": [
      "\n",
      "Epoch 17: Training MSE 552.0787814632058; Testing MSE 2087.5828832387924\n",
      "Epoch 17: Training R2 0.9527752768334157; Testing R2 0.29519347946766294\n"
     ]
    },
    {
     "data": {
      "application/vnd.jupyter.widget-view+json": {
       "model_id": "8c973016105c46c0a947f815a0cf3349",
       "version_major": 2,
       "version_minor": 0
      },
      "text/plain": [
       "HBox(children=(IntProgress(value=0, max=96), HTML(value='')))"
      ]
     },
     "metadata": {},
     "output_type": "display_data"
    },
    {
     "name": "stdout",
     "output_type": "stream",
     "text": [
      "\n",
      "Epoch 18: Training MSE 541.7395975440741; Testing MSE 2076.9554555416107\n",
      "Epoch 18: Training R2 0.9536596888317455; Testing R2 0.29878149525261644\n"
     ]
    },
    {
     "data": {
      "application/vnd.jupyter.widget-view+json": {
       "model_id": "735261ea07ac4510b90bc51d78cc4e59",
       "version_major": 2,
       "version_minor": 0
      },
      "text/plain": [
       "HBox(children=(IntProgress(value=0, max=96), HTML(value='')))"
      ]
     },
     "metadata": {},
     "output_type": "display_data"
    },
    {
     "name": "stdout",
     "output_type": "stream",
     "text": [
      "\n",
      "Epoch 19: Training MSE 475.5193680524826; Testing MSE 2064.626330137253\n",
      "Epoch 19: Training R2 0.959324155771554; Testing R2 0.302944035598785\n"
     ]
    },
    {
     "data": {
      "application/vnd.jupyter.widget-view+json": {
       "model_id": "23d6ff8cf29d4191b5882b1425604d97",
       "version_major": 2,
       "version_minor": 0
      },
      "text/plain": [
       "HBox(children=(IntProgress(value=0, max=96), HTML(value='')))"
      ]
     },
     "metadata": {},
     "output_type": "display_data"
    },
    {
     "name": "stdout",
     "output_type": "stream",
     "text": [
      "\n",
      "Epoch 20: Training MSE 454.1709257289767; Testing MSE 1991.4639711380005\n",
      "Epoch 20: Training R2 0.9611502978234063; Testing R2 0.3276449986571712\n"
     ]
    },
    {
     "data": {
      "application/vnd.jupyter.widget-view+json": {
       "model_id": "5ef4954edde4474c800405010c17b46c",
       "version_major": 2,
       "version_minor": 0
      },
      "text/plain": [
       "HBox(children=(IntProgress(value=0, max=96), HTML(value='')))"
      ]
     },
     "metadata": {},
     "output_type": "display_data"
    },
    {
     "name": "stdout",
     "output_type": "stream",
     "text": [
      "\n",
      "Epoch 21: Training MSE 459.2134917154908; Testing MSE 2007.756644487381\n",
      "Epoch 21: Training R2 0.960718957603934; Testing R2 0.32214429135316647\n"
     ]
    },
    {
     "data": {
      "application/vnd.jupyter.widget-view+json": {
       "model_id": "5ceedb6f2c9242dda0aa1586832318f2",
       "version_major": 2,
       "version_minor": 0
      },
      "text/plain": [
       "HBox(children=(IntProgress(value=0, max=96), HTML(value='')))"
      ]
     },
     "metadata": {},
     "output_type": "display_data"
    },
    {
     "name": "stdout",
     "output_type": "stream",
     "text": [
      "\n",
      "Epoch 22: Training MSE 430.5494261905551; Testing MSE 2055.334413051605\n",
      "Epoch 22: Training R2 0.963170876794989; Testing R2 0.30608115834624194\n"
     ]
    },
    {
     "data": {
      "application/vnd.jupyter.widget-view+json": {
       "model_id": "055afde39de342d385207e82ddddd074",
       "version_major": 2,
       "version_minor": 0
      },
      "text/plain": [
       "HBox(children=(IntProgress(value=0, max=96), HTML(value='')))"
      ]
     },
     "metadata": {},
     "output_type": "display_data"
    },
    {
     "name": "stdout",
     "output_type": "stream",
     "text": [
      "\n",
      "Epoch 23: Training MSE 381.53140414506197; Testing MSE 2013.556146621704\n",
      "Epoch 23: Training R2 0.967363869894881; Testing R2 0.3201862723672231\n"
     ]
    },
    {
     "data": {
      "application/vnd.jupyter.widget-view+json": {
       "model_id": "a7f2a47ebf2c4effa9a3ba857e808440",
       "version_major": 2,
       "version_minor": 0
      },
      "text/plain": [
       "HBox(children=(IntProgress(value=0, max=96), HTML(value='')))"
      ]
     },
     "metadata": {},
     "output_type": "display_data"
    },
    {
     "name": "stdout",
     "output_type": "stream",
     "text": [
      "\n",
      "Epoch 24: Training MSE 421.34439181536436; Testing MSE 2004.977634549141\n",
      "Epoch 24: Training R2 0.9639582738381341; Testing R2 0.323082536411996\n",
      "Printing performance_continuous\n",
      "{'HHVEHCNT_mean_norm': {'mse_train_list': [11315.364849567413, 9530.11499941349, 9370.144230127335, 9313.716471195221, 8972.319748997688, 8564.183390140533, 7944.165068864822, 6337.693986296654], 'mse_test_list': [2314.13556933403, 2314.4658267498016, 2233.00239443779, 2198.96337389946, 2207.430684566498, 2347.8362023830414, 2313.728141784668, 2672.9079842567444], 'r_square_train_list': [-0.05746604840616043, 0.10937268190063398, 0.12432258935006024, 0.12959598884284274, 0.16150087636176724, 0.199642849541541, 0.25758603854652584, 0.4077171788276166], 'r_square_test_list': [0.0922931054517876, 0.09216356380468449, 0.12411714515188921, 0.1374687629377055, 0.13414750709919643, 0.07907421828951555, 0.0924529166575293, -0.048433392560936595]}, 'HHVEHCNT_P_CAP_mean_norm': {'mse_train_list': [12089.893049001694, 9924.098697304726, 9766.016918420792, 9708.214098215103, 9515.746426582336, 9493.635547161102, 9323.465648293495, 9020.015114545822, 8374.292036890984, 7027.830973267555], 'mse_test_list': [2285.968017578125, 2210.679680109024, 2412.4809086322784, 2235.312360525131, 2200.396704673767, 2193.8647150993347, 2190.6908571720123, 2227.9255390167236, 2389.358991384506, 2574.9546110630035], 'r_square_train_list': [-0.12895756898470134, 0.07328490878597715, 0.08804662918054429, 0.09344427257700605, 0.11141695718174016, 0.11348167723991898, 0.1293721896341382, 0.1577084847112209, 0.21800628495079555, 0.34373919284003285], 'r_square_test_list': [0.06541312137190158, 0.09619373237401552, 0.013690049549669903, 0.08612299659586453, 0.1003977867794783, 0.10306830172135739, 0.10436589029245547, 0.08914299792722158, 0.02314313038996385, -0.052735110052849477]}, 'TRPTRANS_1_mean_norm': {'mse_train_list': [12081.082955002785, 9169.74595785141, 8871.46013379097, 8766.327074170113, 8431.430971622467, 8147.319030761719, 7624.738058447838, 6796.907985210419, 5696.479028463364, 4272.649231553078, 2940.699829161167, 2097.396568953991, 1511.0222727060318, 1068.6983332037926, 881.8659879267216, 787.4497881159186, 727.6203881949186, 653.984259814024, 538.3841747418046, 557.7746534720063, 606.5411075949669, 455.4856387898326, 485.4843504726887, 459.2966862022877, 529.2788427323103], 'mse_test_list': [2342.55313873291, 2185.1834177970886, 2161.8258327245712, 2310.176309943199, 2464.9133145809174, 2214.0186071395874, 2250.3514796495438, 2200.7143437862396, 2507.744652032852, 2561.1862659454346, 2507.2761833667755, 2572.248423099518, 2541.576224565506, 2442.3086524009705, 2418.93327832222, 2509.11505818367, 2396.529197692871, 2328.6290287971497, 2416.928058862686, 2424.6559977531433, 2375.6326615810394, 2363.4223103523254, 2318.0438578128815, 2547.314929962158, 2412.6693785190582], 'r_square_train_list': [-0.037937177547657575, 0.21218815616359288, 0.23781515893154948, 0.24684758686671526, 0.27561993424192077, 0.3000291984695518, 0.3449263506092918, 0.4160487502240803, 0.5105912783825162, 0.6329185470733864, 0.7473519806077917, 0.8198037474714331, 0.8701816551723376, 0.9081835845555474, 0.9242351453182512, 0.9323468422837803, 0.9374870402875244, 0.9438134330076036, 0.9537451275809318, 0.9520792091496549, 0.9478894758335342, 0.9608672930978229, 0.9582899762918593, 0.9605398698188407, 0.9545274053487254], 'r_square_test_list': [0.22917401986597963, 0.28095712240400184, 0.28864302421318155, 0.23982773797073076, 0.1889109406991062, 0.2714687941694055, 0.2595133248993593, 0.2758466124010348, 0.17481712693413998, 0.15723196152508878, 0.17497127832252035, 0.15359191682782947, 0.16368471989253752, 0.19634909037962134, 0.20404084572865833, 0.1743661896013129, 0.21141299329046792, 0.23375580096253656, 0.20470067078437293, 0.20215776323143064, 0.218289077620628, 0.22230693992566208, 0.23723889155455957, 0.16179637715275763, 0.20610200567649417]}, 'TRPTRANS_2_mean_norm': {'mse_train_list': [11786.737409234047, 8238.061627745628, 7950.699400901794, 7802.119779586792, 7607.433521747589, 7035.550817847252, 6508.9185655117035, 5563.46572637558, 4632.918290793896, 3441.931375861168, 2415.608775615692, 1676.484253257513, 1270.9576830267906, 980.6191146373749, 836.2754434347153, 703.1042858958244, 628.2416695728898, 552.0787814632058, 541.7395975440741, 475.5193680524826, 454.1709257289767, 459.2134917154908, 430.5494261905551, 381.53140414506197, 421.34439181536436], 'mse_test_list': [2251.1132657527924, 1904.3690502643585, 1880.74049949646, 1952.2163212299347, 2024.9466925859451, 2112.403178215027, 2091.420656442642, 2025.5631268024445, 2032.4881464242935, 2122.828283905983, 2188.968950510025, 2110.3115022182465, 2073.750653862953, 2185.4078888893127, 2183.969485759735, 2125.586900115013, 2167.712962627411, 2087.5828832387924, 2076.9554555416107, 2064.626330137253, 1991.4639711380005, 2007.756644487381, 2055.334413051605, 2013.556146621704, 2004.977634549141], 'r_square_train_list': [-0.008235472685701906, 0.2953176378768745, 0.31989855289640545, 0.33260802792132915, 0.3492614566338532, 0.39818020388922304, 0.4432282353698508, 0.5241021071693239, 0.6037009733352188, 0.705577787371896, 0.7933692445036928, 0.8565938278892168, 0.8912825003375286, 0.9161180110963973, 0.9284651436837569, 0.9398565813910342, 0.9462603166007209, 0.9527752768334157, 0.9536596888317455, 0.959324155771554, 0.9611502978234063, 0.960718957603934, 0.963170876794989, 0.967363869894881, 0.9639582738381341], 'r_square_test_list': [0.23998260337435162, 0.35704985181526694, 0.3650272867643919, 0.34089572982232563, 0.3163406137672804, 0.28681368967285215, 0.2938977763843913, 0.31613249419571443, 0.3137944797276512, 0.28329398153229435, 0.2609636714549475, 0.28751987810407964, 0.29986349546361, 0.26216595159934175, 0.26265158305044256, 0.2823626217729376, 0.26814008537379497, 0.29519347946766294, 0.29878149525261644, 0.302944035598785, 0.3276449986571712, 0.32214429135316647, 0.30608115834624194, 0.3201862723672231, 0.323082536411996]}}\n",
      "Stored 'performance_continuous' (dict)\n",
      "TRPTRANS_3_mean_norm\n",
      "tensor(11467.2451)\n",
      "tensor(2919.1924)\n"
     ]
    },
    {
     "data": {
      "application/vnd.jupyter.widget-view+json": {
       "model_id": "5ee68b2a34ca4733a4768c98c6477c27",
       "version_major": 2,
       "version_minor": 0
      },
      "text/plain": [
       "HBox(children=(IntProgress(value=0, max=96), HTML(value='')))"
      ]
     },
     "metadata": {},
     "output_type": "display_data"
    },
    {
     "name": "stdout",
     "output_type": "stream",
     "text": [
      "\n",
      "Epoch 0: Training MSE 12649.357032775879; Testing MSE 2627.3732900619507\n",
      "Epoch 0: Training R2 -0.10308595512766949; Testing R2 0.09996569409700773\n"
     ]
    },
    {
     "data": {
      "application/vnd.jupyter.widget-view+json": {
       "model_id": "b0cfacf53e304ba2af8ba4a3cda0c107",
       "version_major": 2,
       "version_minor": 0
      },
      "text/plain": [
       "HBox(children=(IntProgress(value=0, max=96), HTML(value='')))"
      ]
     },
     "metadata": {},
     "output_type": "display_data"
    },
    {
     "name": "stdout",
     "output_type": "stream",
     "text": [
      "\n",
      "Epoch 1: Training MSE 9815.56729376316; Testing MSE 2437.652140855789\n",
      "Epoch 1: Training R2 0.14403440464953066; Testing R2 0.16495666568325662\n"
     ]
    },
    {
     "data": {
      "application/vnd.jupyter.widget-view+json": {
       "model_id": "2cc33bb338a3403b9e1efa46af18a7bf",
       "version_major": 2,
       "version_minor": 0
      },
      "text/plain": [
       "HBox(children=(IntProgress(value=0, max=96), HTML(value='')))"
      ]
     },
     "metadata": {},
     "output_type": "display_data"
    },
    {
     "name": "stdout",
     "output_type": "stream",
     "text": [
      "\n",
      "Epoch 2: Training MSE 8959.015733003616; Testing MSE 2743.63195002079\n",
      "Epoch 2: Training R2 0.21872990056037644; Testing R2 0.060140069501882554\n"
     ]
    },
    {
     "data": {
      "application/vnd.jupyter.widget-view+json": {
       "model_id": "17e88174b75e41ffa33765870f59ac23",
       "version_major": 2,
       "version_minor": 0
      },
      "text/plain": [
       "HBox(children=(IntProgress(value=0, max=96), HTML(value='')))"
      ]
     },
     "metadata": {},
     "output_type": "display_data"
    },
    {
     "name": "stdout",
     "output_type": "stream",
     "text": [
      "\n",
      "Epoch 3: Training MSE 8987.874254584312; Testing MSE 2460.9507143497467\n",
      "Epoch 3: Training R2 0.2162132959804811; Testing R2 0.15697549471585692\n"
     ]
    },
    {
     "data": {
      "application/vnd.jupyter.widget-view+json": {
       "model_id": "14abcccf7c6a4a169cf38aee2dfd0700",
       "version_major": 2,
       "version_minor": 0
      },
      "text/plain": [
       "HBox(children=(IntProgress(value=0, max=96), HTML(value='')))"
      ]
     },
     "metadata": {},
     "output_type": "display_data"
    },
    {
     "name": "stdout",
     "output_type": "stream",
     "text": [
      "\n",
      "Epoch 4: Training MSE 8916.17025732994; Testing MSE 2416.213721036911\n",
      "Epoch 4: Training R2 0.2224662361175066; Testing R2 0.17230062147907965\n"
     ]
    },
    {
     "data": {
      "application/vnd.jupyter.widget-view+json": {
       "model_id": "45281b3e6aa943b98666bc67cd0c9c40",
       "version_major": 2,
       "version_minor": 0
      },
      "text/plain": [
       "HBox(children=(IntProgress(value=0, max=96), HTML(value='')))"
      ]
     },
     "metadata": {},
     "output_type": "display_data"
    },
    {
     "name": "stdout",
     "output_type": "stream",
     "text": [
      "\n",
      "Epoch 5: Training MSE 8353.138320147991; Testing MSE 2389.2938047647476\n",
      "Epoch 5: Training R2 0.2715653816775905; Testing R2 0.18152232143645863\n"
     ]
    },
    {
     "data": {
      "application/vnd.jupyter.widget-view+json": {
       "model_id": "b00d3e6b11ef498cae093ede9a1f79a1",
       "version_major": 2,
       "version_minor": 0
      },
      "text/plain": [
       "HBox(children=(IntProgress(value=0, max=96), HTML(value='')))"
      ]
     },
     "metadata": {},
     "output_type": "display_data"
    },
    {
     "name": "stdout",
     "output_type": "stream",
     "text": [
      "\n",
      "Epoch 6: Training MSE 8251.626248657703; Testing MSE 2634.13989841938\n",
      "Epoch 6: Training R2 0.2804177320418587; Testing R2 0.09764772136000355\n"
     ]
    },
    {
     "data": {
      "application/vnd.jupyter.widget-view+json": {
       "model_id": "39b1051cfd554614a46e4a14cc7d615b",
       "version_major": 2,
       "version_minor": 0
      },
      "text/plain": [
       "HBox(children=(IntProgress(value=0, max=96), HTML(value='')))"
      ]
     },
     "metadata": {},
     "output_type": "display_data"
    },
    {
     "name": "stdout",
     "output_type": "stream",
     "text": [
      "\n",
      "Epoch 7: Training MSE 7879.798702895641; Testing MSE 2502.523100376129\n",
      "Epoch 7: Training R2 0.3128429171636762; Testing R2 0.1427344374045435\n"
     ]
    },
    {
     "data": {
      "application/vnd.jupyter.widget-view+json": {
       "model_id": "8bb9092170c54f8db34d8a75580de5c2",
       "version_major": 2,
       "version_minor": 0
      },
      "text/plain": [
       "HBox(children=(IntProgress(value=0, max=96), HTML(value='')))"
      ]
     },
     "metadata": {},
     "output_type": "display_data"
    },
    {
     "name": "stdout",
     "output_type": "stream",
     "text": [
      "\n",
      "Epoch 8: Training MSE 6805.358597636223; Testing MSE 2533.20609331131\n",
      "Epoch 8: Training R2 0.4065393624981367; Testing R2 0.13222365602684638\n"
     ]
    },
    {
     "data": {
      "application/vnd.jupyter.widget-view+json": {
       "model_id": "65592530e3394ea294248f32afe0ad4e",
       "version_major": 2,
       "version_minor": 0
      },
      "text/plain": [
       "HBox(children=(IntProgress(value=0, max=96), HTML(value='')))"
      ]
     },
     "metadata": {},
     "output_type": "display_data"
    },
    {
     "name": "stdout",
     "output_type": "stream",
     "text": [
      "\n",
      "Epoch 9: Training MSE 6148.814527690411; Testing MSE 2779.785943031311\n",
      "Epoch 9: Training R2 0.4637932245405344; Testing R2 0.04775513960709832\n"
     ]
    },
    {
     "data": {
      "application/vnd.jupyter.widget-view+json": {
       "model_id": "060964fde9d843b5889e294cfd23da9b",
       "version_major": 2,
       "version_minor": 0
      },
      "text/plain": [
       "HBox(children=(IntProgress(value=0, max=96), HTML(value='')))"
      ]
     },
     "metadata": {},
     "output_type": "display_data"
    },
    {
     "name": "stdout",
     "output_type": "stream",
     "text": [
      "\n",
      "Epoch 10: Training MSE 5251.576536893845; Testing MSE 2691.6738122701645\n",
      "Epoch 10: Training R2 0.5420367766428398; Testing R2 0.077938875108715\n"
     ]
    },
    {
     "data": {
      "application/vnd.jupyter.widget-view+json": {
       "model_id": "944af204a57a4cb9820d8ed740d7d8e7",
       "version_major": 2,
       "version_minor": 0
      },
      "text/plain": [
       "HBox(children=(IntProgress(value=0, max=96), HTML(value='')))"
      ]
     },
     "metadata": {},
     "output_type": "display_data"
    },
    {
     "name": "stdout",
     "output_type": "stream",
     "text": [
      "\n",
      "Epoch 11: Training MSE 4182.086662948132; Testing MSE 2863.98703455925\n",
      "Epoch 11: Training R2 0.6353015375349502; Testing R2 0.018911171657711168\n"
     ]
    },
    {
     "data": {
      "application/vnd.jupyter.widget-view+json": {
       "model_id": "712698a2122a4a68b69a65af05ec7988",
       "version_major": 2,
       "version_minor": 0
      },
      "text/plain": [
       "HBox(children=(IntProgress(value=0, max=96), HTML(value='')))"
      ]
     },
     "metadata": {},
     "output_type": "display_data"
    },
    {
     "name": "stdout",
     "output_type": "stream",
     "text": [
      "\n",
      "Epoch 12: Training MSE 3158.3401016891003; Testing MSE 2804.2855501174927\n",
      "Epoch 12: Training R2 0.7245772572738267; Testing R2 0.03936254197275624\n"
     ]
    },
    {
     "data": {
      "application/vnd.jupyter.widget-view+json": {
       "model_id": "3e5901dfb81140bca9cc7e47c9d6ff27",
       "version_major": 2,
       "version_minor": 0
      },
      "text/plain": [
       "HBox(children=(IntProgress(value=0, max=96), HTML(value='')))"
      ]
     },
     "metadata": {},
     "output_type": "display_data"
    },
    {
     "name": "stdout",
     "output_type": "stream",
     "text": [
      "\n",
      "Epoch 13: Training MSE 2560.92569231987; Testing MSE 2639.2540335655212\n",
      "Epoch 13: Training R2 0.7766747229915347; Testing R2 0.09589582067121993\n"
     ]
    },
    {
     "data": {
      "application/vnd.jupyter.widget-view+json": {
       "model_id": "d7a9419c36c845e580a3705475bd7867",
       "version_major": 2,
       "version_minor": 0
      },
      "text/plain": [
       "HBox(children=(IntProgress(value=0, max=96), HTML(value='')))"
      ]
     },
     "metadata": {},
     "output_type": "display_data"
    },
    {
     "name": "stdout",
     "output_type": "stream",
     "text": [
      "\n",
      "Epoch 14: Training MSE 2079.849884659052; Testing MSE 2695.367230474949\n",
      "Epoch 14: Training R2 0.8186268922130476; Testing R2 0.07667365592462472\n"
     ]
    },
    {
     "data": {
      "application/vnd.jupyter.widget-view+json": {
       "model_id": "6c575716794041579cc56471e9158d03",
       "version_major": 2,
       "version_minor": 0
      },
      "text/plain": [
       "HBox(children=(IntProgress(value=0, max=96), HTML(value='')))"
      ]
     },
     "metadata": {},
     "output_type": "display_data"
    },
    {
     "name": "stdout",
     "output_type": "stream",
     "text": [
      "\n",
      "Epoch 15: Training MSE 1577.329396829009; Testing MSE 2612.1334552764893\n",
      "Epoch 15: Training R2 0.8624491426920966; Testing R2 0.10518625950927374\n"
     ]
    },
    {
     "data": {
      "application/vnd.jupyter.widget-view+json": {
       "model_id": "99a712fce5264bd1a2d14e1b583cc8e5",
       "version_major": 2,
       "version_minor": 0
      },
      "text/plain": [
       "HBox(children=(IntProgress(value=0, max=96), HTML(value='')))"
      ]
     },
     "metadata": {},
     "output_type": "display_data"
    },
    {
     "name": "stdout",
     "output_type": "stream",
     "text": [
      "\n",
      "Epoch 16: Training MSE 1389.2657026648521; Testing MSE 2737.867718935013\n",
      "Epoch 16: Training R2 0.8788492189303102; Testing R2 0.06211466738029425\n"
     ]
    },
    {
     "data": {
      "application/vnd.jupyter.widget-view+json": {
       "model_id": "00980bd508884d18b93ad3515cc2d8e1",
       "version_major": 2,
       "version_minor": 0
      },
      "text/plain": [
       "HBox(children=(IntProgress(value=0, max=96), HTML(value='')))"
      ]
     },
     "metadata": {},
     "output_type": "display_data"
    },
    {
     "name": "stdout",
     "output_type": "stream",
     "text": [
      "\n",
      "Epoch 17: Training MSE 1108.765833079815; Testing MSE 2538.216444849968\n",
      "Epoch 17: Training R2 0.9033101828949345; Testing R2 0.13050730750245387\n"
     ]
    },
    {
     "data": {
      "application/vnd.jupyter.widget-view+json": {
       "model_id": "da875cbfdb224ac486a07b283bac804d",
       "version_major": 2,
       "version_minor": 0
      },
      "text/plain": [
       "HBox(children=(IntProgress(value=0, max=96), HTML(value='')))"
      ]
     },
     "metadata": {},
     "output_type": "display_data"
    },
    {
     "name": "stdout",
     "output_type": "stream",
     "text": [
      "\n",
      "Epoch 18: Training MSE 994.5759326219559; Testing MSE 2628.644350171089\n",
      "Epoch 18: Training R2 0.9132681021066471; Testing R2 0.09953027911147194\n"
     ]
    },
    {
     "data": {
      "application/vnd.jupyter.widget-view+json": {
       "model_id": "4fe2cee168e44fa18e47fa1641882678",
       "version_major": 2,
       "version_minor": 0
      },
      "text/plain": [
       "HBox(children=(IntProgress(value=0, max=96), HTML(value='')))"
      ]
     },
     "metadata": {},
     "output_type": "display_data"
    },
    {
     "name": "stdout",
     "output_type": "stream",
     "text": [
      "\n",
      "Epoch 19: Training MSE 980.3209878504276; Testing MSE 2731.090968847275\n",
      "Epoch 19: Training R2 0.9145112031850536; Testing R2 0.06443611427349594\n"
     ]
    },
    {
     "data": {
      "application/vnd.jupyter.widget-view+json": {
       "model_id": "14277b8d16f74331bca59751d51eb5d6",
       "version_major": 2,
       "version_minor": 0
      },
      "text/plain": [
       "HBox(children=(IntProgress(value=0, max=96), HTML(value='')))"
      ]
     },
     "metadata": {},
     "output_type": "display_data"
    },
    {
     "name": "stdout",
     "output_type": "stream",
     "text": [
      "\n",
      "Epoch 20: Training MSE 840.8327758312225; Testing MSE 2526.717147231102\n",
      "Epoch 20: Training R2 0.9266752592066814; Testing R2 0.13444651263554863\n"
     ]
    },
    {
     "data": {
      "application/vnd.jupyter.widget-view+json": {
       "model_id": "cd750c21445e44c4b7a830b5efbf660e",
       "version_major": 2,
       "version_minor": 0
      },
      "text/plain": [
       "HBox(children=(IntProgress(value=0, max=96), HTML(value='')))"
      ]
     },
     "metadata": {},
     "output_type": "display_data"
    },
    {
     "name": "stdout",
     "output_type": "stream",
     "text": [
      "\n",
      "Epoch 21: Training MSE 679.7834578901529; Testing MSE 2602.0015090703964\n",
      "Epoch 21: Training R2 0.9407195493823298; Testing R2 0.10865706405978826\n"
     ]
    },
    {
     "data": {
      "application/vnd.jupyter.widget-view+json": {
       "model_id": "e6fe6ce0de71480ba4d31c15b7e99496",
       "version_major": 2,
       "version_minor": 0
      },
      "text/plain": [
       "HBox(children=(IntProgress(value=0, max=96), HTML(value='')))"
      ]
     },
     "metadata": {},
     "output_type": "display_data"
    },
    {
     "name": "stdout",
     "output_type": "stream",
     "text": [
      "\n",
      "Epoch 22: Training MSE 657.7570198103786; Testing MSE 2534.174147248268\n",
      "Epoch 22: Training R2 0.9426403627821202; Testing R2 0.13189203898692192\n"
     ]
    },
    {
     "data": {
      "application/vnd.jupyter.widget-view+json": {
       "model_id": "7bf69c8f5dbd4ebfbb72adc7ad8b015e",
       "version_major": 2,
       "version_minor": 0
      },
      "text/plain": [
       "HBox(children=(IntProgress(value=0, max=96), HTML(value='')))"
      ]
     },
     "metadata": {},
     "output_type": "display_data"
    },
    {
     "name": "stdout",
     "output_type": "stream",
     "text": [
      "\n",
      "Epoch 23: Training MSE 503.67720536887646; Testing MSE 2547.534403204918\n",
      "Epoch 23: Training R2 0.9560768780799891; Testing R2 0.12731534303659275\n"
     ]
    },
    {
     "data": {
      "application/vnd.jupyter.widget-view+json": {
       "model_id": "ad52b855cde44d508f28ba9208379a14",
       "version_major": 2,
       "version_minor": 0
      },
      "text/plain": [
       "HBox(children=(IntProgress(value=0, max=96), HTML(value='')))"
      ]
     },
     "metadata": {},
     "output_type": "display_data"
    },
    {
     "name": "stdout",
     "output_type": "stream",
     "text": [
      "\n",
      "Epoch 24: Training MSE 456.79870741441846; Testing MSE 2495.8090037107468\n",
      "Epoch 24: Training R2 0.9601649129545724; Testing R2 0.1450344217101046\n",
      "Printing performance_continuous\n",
      "{'HHVEHCNT_mean_norm': {'mse_train_list': [11315.364849567413, 9530.11499941349, 9370.144230127335, 9313.716471195221, 8972.319748997688, 8564.183390140533, 7944.165068864822, 6337.693986296654], 'mse_test_list': [2314.13556933403, 2314.4658267498016, 2233.00239443779, 2198.96337389946, 2207.430684566498, 2347.8362023830414, 2313.728141784668, 2672.9079842567444], 'r_square_train_list': [-0.05746604840616043, 0.10937268190063398, 0.12432258935006024, 0.12959598884284274, 0.16150087636176724, 0.199642849541541, 0.25758603854652584, 0.4077171788276166], 'r_square_test_list': [0.0922931054517876, 0.09216356380468449, 0.12411714515188921, 0.1374687629377055, 0.13414750709919643, 0.07907421828951555, 0.0924529166575293, -0.048433392560936595]}, 'HHVEHCNT_P_CAP_mean_norm': {'mse_train_list': [12089.893049001694, 9924.098697304726, 9766.016918420792, 9708.214098215103, 9515.746426582336, 9493.635547161102, 9323.465648293495, 9020.015114545822, 8374.292036890984, 7027.830973267555], 'mse_test_list': [2285.968017578125, 2210.679680109024, 2412.4809086322784, 2235.312360525131, 2200.396704673767, 2193.8647150993347, 2190.6908571720123, 2227.9255390167236, 2389.358991384506, 2574.9546110630035], 'r_square_train_list': [-0.12895756898470134, 0.07328490878597715, 0.08804662918054429, 0.09344427257700605, 0.11141695718174016, 0.11348167723991898, 0.1293721896341382, 0.1577084847112209, 0.21800628495079555, 0.34373919284003285], 'r_square_test_list': [0.06541312137190158, 0.09619373237401552, 0.013690049549669903, 0.08612299659586453, 0.1003977867794783, 0.10306830172135739, 0.10436589029245547, 0.08914299792722158, 0.02314313038996385, -0.052735110052849477]}, 'TRPTRANS_1_mean_norm': {'mse_train_list': [12081.082955002785, 9169.74595785141, 8871.46013379097, 8766.327074170113, 8431.430971622467, 8147.319030761719, 7624.738058447838, 6796.907985210419, 5696.479028463364, 4272.649231553078, 2940.699829161167, 2097.396568953991, 1511.0222727060318, 1068.6983332037926, 881.8659879267216, 787.4497881159186, 727.6203881949186, 653.984259814024, 538.3841747418046, 557.7746534720063, 606.5411075949669, 455.4856387898326, 485.4843504726887, 459.2966862022877, 529.2788427323103], 'mse_test_list': [2342.55313873291, 2185.1834177970886, 2161.8258327245712, 2310.176309943199, 2464.9133145809174, 2214.0186071395874, 2250.3514796495438, 2200.7143437862396, 2507.744652032852, 2561.1862659454346, 2507.2761833667755, 2572.248423099518, 2541.576224565506, 2442.3086524009705, 2418.93327832222, 2509.11505818367, 2396.529197692871, 2328.6290287971497, 2416.928058862686, 2424.6559977531433, 2375.6326615810394, 2363.4223103523254, 2318.0438578128815, 2547.314929962158, 2412.6693785190582], 'r_square_train_list': [-0.037937177547657575, 0.21218815616359288, 0.23781515893154948, 0.24684758686671526, 0.27561993424192077, 0.3000291984695518, 0.3449263506092918, 0.4160487502240803, 0.5105912783825162, 0.6329185470733864, 0.7473519806077917, 0.8198037474714331, 0.8701816551723376, 0.9081835845555474, 0.9242351453182512, 0.9323468422837803, 0.9374870402875244, 0.9438134330076036, 0.9537451275809318, 0.9520792091496549, 0.9478894758335342, 0.9608672930978229, 0.9582899762918593, 0.9605398698188407, 0.9545274053487254], 'r_square_test_list': [0.22917401986597963, 0.28095712240400184, 0.28864302421318155, 0.23982773797073076, 0.1889109406991062, 0.2714687941694055, 0.2595133248993593, 0.2758466124010348, 0.17481712693413998, 0.15723196152508878, 0.17497127832252035, 0.15359191682782947, 0.16368471989253752, 0.19634909037962134, 0.20404084572865833, 0.1743661896013129, 0.21141299329046792, 0.23375580096253656, 0.20470067078437293, 0.20215776323143064, 0.218289077620628, 0.22230693992566208, 0.23723889155455957, 0.16179637715275763, 0.20610200567649417]}, 'TRPTRANS_2_mean_norm': {'mse_train_list': [11786.737409234047, 8238.061627745628, 7950.699400901794, 7802.119779586792, 7607.433521747589, 7035.550817847252, 6508.9185655117035, 5563.46572637558, 4632.918290793896, 3441.931375861168, 2415.608775615692, 1676.484253257513, 1270.9576830267906, 980.6191146373749, 836.2754434347153, 703.1042858958244, 628.2416695728898, 552.0787814632058, 541.7395975440741, 475.5193680524826, 454.1709257289767, 459.2134917154908, 430.5494261905551, 381.53140414506197, 421.34439181536436], 'mse_test_list': [2251.1132657527924, 1904.3690502643585, 1880.74049949646, 1952.2163212299347, 2024.9466925859451, 2112.403178215027, 2091.420656442642, 2025.5631268024445, 2032.4881464242935, 2122.828283905983, 2188.968950510025, 2110.3115022182465, 2073.750653862953, 2185.4078888893127, 2183.969485759735, 2125.586900115013, 2167.712962627411, 2087.5828832387924, 2076.9554555416107, 2064.626330137253, 1991.4639711380005, 2007.756644487381, 2055.334413051605, 2013.556146621704, 2004.977634549141], 'r_square_train_list': [-0.008235472685701906, 0.2953176378768745, 0.31989855289640545, 0.33260802792132915, 0.3492614566338532, 0.39818020388922304, 0.4432282353698508, 0.5241021071693239, 0.6037009733352188, 0.705577787371896, 0.7933692445036928, 0.8565938278892168, 0.8912825003375286, 0.9161180110963973, 0.9284651436837569, 0.9398565813910342, 0.9462603166007209, 0.9527752768334157, 0.9536596888317455, 0.959324155771554, 0.9611502978234063, 0.960718957603934, 0.963170876794989, 0.967363869894881, 0.9639582738381341], 'r_square_test_list': [0.23998260337435162, 0.35704985181526694, 0.3650272867643919, 0.34089572982232563, 0.3163406137672804, 0.28681368967285215, 0.2938977763843913, 0.31613249419571443, 0.3137944797276512, 0.28329398153229435, 0.2609636714549475, 0.28751987810407964, 0.29986349546361, 0.26216595159934175, 0.26265158305044256, 0.2823626217729376, 0.26814008537379497, 0.29519347946766294, 0.29878149525261644, 0.302944035598785, 0.3276449986571712, 0.32214429135316647, 0.30608115834624194, 0.3201862723672231, 0.323082536411996]}, 'TRPTRANS_3_mean_norm': {'mse_train_list': [12649.357032775879, 9815.56729376316, 8959.015733003616, 8987.874254584312, 8916.17025732994, 8353.138320147991, 8251.626248657703, 7879.798702895641, 6805.358597636223, 6148.814527690411, 5251.576536893845, 4182.086662948132, 3158.3401016891003, 2560.92569231987, 2079.849884659052, 1577.329396829009, 1389.2657026648521, 1108.765833079815, 994.5759326219559, 980.3209878504276, 840.8327758312225, 679.7834578901529, 657.7570198103786, 503.67720536887646, 456.79870741441846], 'mse_test_list': [2627.3732900619507, 2437.652140855789, 2743.63195002079, 2460.9507143497467, 2416.213721036911, 2389.2938047647476, 2634.13989841938, 2502.523100376129, 2533.20609331131, 2779.785943031311, 2691.6738122701645, 2863.98703455925, 2804.2855501174927, 2639.2540335655212, 2695.367230474949, 2612.1334552764893, 2737.867718935013, 2538.216444849968, 2628.644350171089, 2731.090968847275, 2526.717147231102, 2602.0015090703964, 2534.174147248268, 2547.534403204918, 2495.8090037107468], 'r_square_train_list': [-0.10308595512766949, 0.14403440464953066, 0.21872990056037644, 0.2162132959804811, 0.2224662361175066, 0.2715653816775905, 0.2804177320418587, 0.3128429171636762, 0.4065393624981367, 0.4637932245405344, 0.5420367766428398, 0.6353015375349502, 0.7245772572738267, 0.7766747229915347, 0.8186268922130476, 0.8624491426920966, 0.8788492189303102, 0.9033101828949345, 0.9132681021066471, 0.9145112031850536, 0.9266752592066814, 0.9407195493823298, 0.9426403627821202, 0.9560768780799891, 0.9601649129545724], 'r_square_test_list': [0.09996569409700773, 0.16495666568325662, 0.060140069501882554, 0.15697549471585692, 0.17230062147907965, 0.18152232143645863, 0.09764772136000355, 0.1427344374045435, 0.13222365602684638, 0.04775513960709832, 0.077938875108715, 0.018911171657711168, 0.03936254197275624, 0.09589582067121993, 0.07667365592462472, 0.10518625950927374, 0.06211466738029425, 0.13050730750245387, 0.09953027911147194, 0.06443611427349594, 0.13444651263554863, 0.10865706405978826, 0.13189203898692192, 0.12731534303659275, 0.1450344217101046]}}\n",
      "Stored 'performance_continuous' (dict)\n",
      "HHVEHCNT_mean_norm\n"
     ]
    },
    {
     "name": "stdout",
     "output_type": "stream",
     "text": [
      "tensor(10700.4521)\n",
      "tensor(2549.4304)\n"
     ]
    },
    {
     "data": {
      "application/vnd.jupyter.widget-view+json": {
       "model_id": "ebef09bfb2c14778aa9eb87b9f594349",
       "version_major": 2,
       "version_minor": 0
      },
      "text/plain": [
       "HBox(children=(IntProgress(value=0, max=96), HTML(value='')))"
      ]
     },
     "metadata": {},
     "output_type": "display_data"
    },
    {
     "name": "stdout",
     "output_type": "stream",
     "text": [
      "\n",
      "Epoch 0: Training MSE 12289.831066131592; Testing MSE 2252.972501516342\n",
      "Epoch 0: Training R2 -0.1485338091929298; Testing R2 0.11628398095862424\n"
     ]
    },
    {
     "data": {
      "application/vnd.jupyter.widget-view+json": {
       "model_id": "0413aa3b15e04fca9c161b9a31b5f282",
       "version_major": 2,
       "version_minor": 0
      },
      "text/plain": [
       "HBox(children=(IntProgress(value=0, max=96), HTML(value='')))"
      ]
     },
     "metadata": {},
     "output_type": "display_data"
    },
    {
     "name": "stdout",
     "output_type": "stream",
     "text": [
      "\n",
      "Epoch 1: Training MSE 9480.62248826027; Testing MSE 2213.598781824112\n",
      "Epoch 1: Training R2 0.11399795478318664; Testing R2 0.13172810502043597\n"
     ]
    },
    {
     "data": {
      "application/vnd.jupyter.widget-view+json": {
       "model_id": "42fe6437372e4fb28d622f95dc74fd38",
       "version_major": 2,
       "version_minor": 0
      },
      "text/plain": [
       "HBox(children=(IntProgress(value=0, max=96), HTML(value='')))"
      ]
     },
     "metadata": {},
     "output_type": "display_data"
    },
    {
     "name": "stdout",
     "output_type": "stream",
     "text": [
      "\n",
      "Epoch 2: Training MSE 9419.594323635101; Testing MSE 2448.0222284793854\n",
      "Epoch 2: Training R2 0.11970128056592744; Testing R2 0.03977680294785102\n"
     ]
    },
    {
     "data": {
      "application/vnd.jupyter.widget-view+json": {
       "model_id": "afcd16bd3fb64bd0acb44bffe5e14356",
       "version_major": 2,
       "version_minor": 0
      },
      "text/plain": [
       "HBox(children=(IntProgress(value=0, max=96), HTML(value='')))"
      ]
     },
     "metadata": {},
     "output_type": "display_data"
    },
    {
     "name": "stdout",
     "output_type": "stream",
     "text": [
      "\n",
      "Epoch 3: Training MSE 9423.573732376099; Testing MSE 2383.0234944820404\n",
      "Epoch 3: Training R2 0.11932938892193012; Testing R2 0.06527219732670086\n"
     ]
    },
    {
     "data": {
      "application/vnd.jupyter.widget-view+json": {
       "model_id": "9099557478bf48019ab08745b51e55be",
       "version_major": 2,
       "version_minor": 0
      },
      "text/plain": [
       "HBox(children=(IntProgress(value=0, max=96), HTML(value='')))"
      ]
     },
     "metadata": {},
     "output_type": "display_data"
    },
    {
     "name": "stdout",
     "output_type": "stream",
     "text": [
      "\n",
      "Epoch 4: Training MSE 9390.378141403198; Testing MSE 2293.3943271636963\n",
      "Epoch 4: Training R2 0.12243164950983887; Testing R2 0.10042874312530747\n"
     ]
    },
    {
     "data": {
      "application/vnd.jupyter.widget-view+json": {
       "model_id": "a254f14950cf4d479e6774dc700db094",
       "version_major": 2,
       "version_minor": 0
      },
      "text/plain": [
       "HBox(children=(IntProgress(value=0, max=96), HTML(value='')))"
      ]
     },
     "metadata": {},
     "output_type": "display_data"
    },
    {
     "name": "stdout",
     "output_type": "stream",
     "text": [
      "\n",
      "Epoch 5: Training MSE 9189.957186579704; Testing MSE 2247.4409699440002\n",
      "Epoch 5: Training R2 0.14116178839025606; Testing R2 0.11845369366351599\n"
     ]
    },
    {
     "data": {
      "application/vnd.jupyter.widget-view+json": {
       "model_id": "ada50efa6da24e3488297f7aead7453e",
       "version_major": 2,
       "version_minor": 0
      },
      "text/plain": [
       "HBox(children=(IntProgress(value=0, max=96), HTML(value='')))"
      ]
     },
     "metadata": {},
     "output_type": "display_data"
    },
    {
     "name": "stdout",
     "output_type": "stream",
     "text": [
      "\n",
      "Epoch 6: Training MSE 9208.962392807007; Testing MSE 2479.7330141067505\n",
      "Epoch 6: Training R2 0.13938567594531814; Testing R2 0.02733842244545759\n"
     ]
    },
    {
     "data": {
      "application/vnd.jupyter.widget-view+json": {
       "model_id": "3e2904fbb36e4dca9b4d902d48f659e1",
       "version_major": 2,
       "version_minor": 0
      },
      "text/plain": [
       "HBox(children=(IntProgress(value=0, max=96), HTML(value='')))"
      ]
     },
     "metadata": {},
     "output_type": "display_data"
    },
    {
     "name": "stdout",
     "output_type": "stream",
     "text": [
      "\n",
      "Epoch 7: Training MSE 9008.318811655045; Testing MSE 2231.999635696411\n",
      "Epoch 7: Training R2 0.15813662014549024; Testing R2 0.12451047172928575\n"
     ]
    },
    {
     "data": {
      "application/vnd.jupyter.widget-view+json": {
       "model_id": "933d32f690c847c09af6959a2a99d205",
       "version_major": 2,
       "version_minor": 0
      },
      "text/plain": [
       "HBox(children=(IntProgress(value=0, max=96), HTML(value='')))"
      ]
     },
     "metadata": {},
     "output_type": "display_data"
    },
    {
     "name": "stdout",
     "output_type": "stream",
     "text": [
      "\n",
      "Epoch 8: Training MSE 8940.918028354645; Testing MSE 2276.9818365573883\n",
      "Epoch 8: Training R2 0.16443549260110335; Testing R2 0.10686645190843669\n"
     ]
    },
    {
     "data": {
      "application/vnd.jupyter.widget-view+json": {
       "model_id": "6b9b1224802c41b2ac88f1f2485e2058",
       "version_major": 2,
       "version_minor": 0
      },
      "text/plain": [
       "HBox(children=(IntProgress(value=0, max=96), HTML(value='')))"
      ]
     },
     "metadata": {},
     "output_type": "display_data"
    },
    {
     "name": "stdout",
     "output_type": "stream",
     "text": [
      "\n",
      "Epoch 9: Training MSE 8769.993835687637; Testing MSE 2412.8169894218445\n",
      "Epoch 9: Training R2 0.18040904122278156; Testing R2 0.05358586350602068\n"
     ]
    },
    {
     "data": {
      "application/vnd.jupyter.widget-view+json": {
       "model_id": "1926fc5c52d846f88051fe6d7d1ffe63",
       "version_major": 2,
       "version_minor": 0
      },
      "text/plain": [
       "HBox(children=(IntProgress(value=0, max=96), HTML(value='')))"
      ]
     },
     "metadata": {},
     "output_type": "display_data"
    },
    {
     "name": "stdout",
     "output_type": "stream",
     "text": [
      "\n",
      "Epoch 10: Training MSE 8458.903816342354; Testing MSE 2458.054429292679\n",
      "Epoch 10: Training R2 0.2094816462893544; Testing R2 0.03584172759341131\n"
     ]
    },
    {
     "data": {
      "application/vnd.jupyter.widget-view+json": {
       "model_id": "8d0faa99ea0a440faae8e6487d1220fb",
       "version_major": 2,
       "version_minor": 0
      },
      "text/plain": [
       "HBox(children=(IntProgress(value=0, max=96), HTML(value='')))"
      ]
     },
     "metadata": {},
     "output_type": "display_data"
    },
    {
     "name": "stdout",
     "output_type": "stream",
     "text": [
      "\n",
      "Epoch 11: Training MSE 7779.080682992935; Testing MSE 2273.6178278923035\n",
      "Epoch 11: Training R2 0.2730138338940331; Testing R2 0.10818596572563988\n"
     ]
    },
    {
     "data": {
      "application/vnd.jupyter.widget-view+json": {
       "model_id": "d9a5be825bb3465f8c4e787be6ad9494",
       "version_major": 2,
       "version_minor": 0
      },
      "text/plain": [
       "HBox(children=(IntProgress(value=0, max=96), HTML(value='')))"
      ]
     },
     "metadata": {},
     "output_type": "display_data"
    },
    {
     "name": "stdout",
     "output_type": "stream",
     "text": [
      "\n",
      "Epoch 12: Training MSE 7207.260704040527; Testing MSE 2583.915901184082\n",
      "Epoch 12: Training R2 0.32645269526363474; Testing R2 -0.013526739538654908\n",
      "Printing performance_continuous\n",
      "{'HHVEHCNT_mean_norm': {'mse_train_list': [12289.831066131592, 9480.62248826027, 9419.594323635101, 9423.573732376099, 9390.378141403198, 9189.957186579704, 9208.962392807007, 9008.318811655045, 8940.918028354645, 8769.993835687637, 8458.903816342354, 7779.080682992935, 7207.260704040527], 'mse_test_list': [2252.972501516342, 2213.598781824112, 2448.0222284793854, 2383.0234944820404, 2293.3943271636963, 2247.4409699440002, 2479.7330141067505, 2231.999635696411, 2276.9818365573883, 2412.8169894218445, 2458.054429292679, 2273.6178278923035, 2583.915901184082], 'r_square_train_list': [-0.1485338091929298, 0.11399795478318664, 0.11970128056592744, 0.11932938892193012, 0.12243164950983887, 0.14116178839025606, 0.13938567594531814, 0.15813662014549024, 0.16443549260110335, 0.18040904122278156, 0.2094816462893544, 0.2730138338940331, 0.32645269526363474], 'r_square_test_list': [0.11628398095862424, 0.13172810502043597, 0.03977680294785102, 0.06527219732670086, 0.10042874312530747, 0.11845369366351599, 0.02733842244545759, 0.12451047172928575, 0.10686645190843669, 0.05358586350602068, 0.03584172759341131, 0.10818596572563988, -0.013526739538654908]}}\n",
      "Stored 'performance_continuous' (dict)\n",
      "HHVEHCNT_P_CAP_mean_norm\n",
      "tensor(10708.8994)\n",
      "tensor(2445.9663)\n"
     ]
    },
    {
     "data": {
      "application/vnd.jupyter.widget-view+json": {
       "model_id": "4dc7f62306cb4464b1d89cafb7c526fb",
       "version_major": 2,
       "version_minor": 0
      },
      "text/plain": [
       "HBox(children=(IntProgress(value=0, max=96), HTML(value='')))"
      ]
     },
     "metadata": {},
     "output_type": "display_data"
    },
    {
     "name": "stdout",
     "output_type": "stream",
     "text": [
      "\n",
      "Epoch 0: Training MSE 13540.380555391312; Testing MSE 2281.4390897750854\n",
      "Epoch 0: Training R2 -0.26440449497645147; Testing R2 0.06726471179942606\n"
     ]
    },
    {
     "data": {
      "application/vnd.jupyter.widget-view+json": {
       "model_id": "f9f76923f61c40e795a04808da6faedb",
       "version_major": 2,
       "version_minor": 0
      },
      "text/plain": [
       "HBox(children=(IntProgress(value=0, max=96), HTML(value='')))"
      ]
     },
     "metadata": {},
     "output_type": "display_data"
    },
    {
     "name": "stdout",
     "output_type": "stream",
     "text": [
      "\n",
      "Epoch 1: Training MSE 9735.587310791016; Testing MSE 2164.970076084137\n",
      "Epoch 1: Training R2 0.09088815438805686; Testing R2 0.11488148120534214\n"
     ]
    },
    {
     "data": {
      "application/vnd.jupyter.widget-view+json": {
       "model_id": "adda86734a884799b9389d50fb70be80",
       "version_major": 2,
       "version_minor": 0
      },
      "text/plain": [
       "HBox(children=(IntProgress(value=0, max=96), HTML(value='')))"
      ]
     },
     "metadata": {},
     "output_type": "display_data"
    },
    {
     "name": "stdout",
     "output_type": "stream",
     "text": [
      "\n",
      "Epoch 2: Training MSE 9618.94556581974; Testing MSE 2197.1999406814575\n",
      "Epoch 2: Training R2 0.10178019291239915; Testing R2 0.10170474018316089\n"
     ]
    },
    {
     "data": {
      "application/vnd.jupyter.widget-view+json": {
       "model_id": "d40c25e93e744f1380cfb79f1c5de88d",
       "version_major": 2,
       "version_minor": 0
      },
      "text/plain": [
       "HBox(children=(IntProgress(value=0, max=96), HTML(value='')))"
      ]
     },
     "metadata": {},
     "output_type": "display_data"
    },
    {
     "name": "stdout",
     "output_type": "stream",
     "text": [
      "\n",
      "Epoch 3: Training MSE 9510.758924484253; Testing MSE 2190.2142107486725\n",
      "Epoch 3: Training R2 0.11188269151215458; Testing R2 0.10456076068852971\n"
     ]
    },
    {
     "data": {
      "application/vnd.jupyter.widget-view+json": {
       "model_id": "80545eb6504c458b874ef5c168c050f4",
       "version_major": 2,
       "version_minor": 0
      },
      "text/plain": [
       "HBox(children=(IntProgress(value=0, max=96), HTML(value='')))"
      ]
     },
     "metadata": {},
     "output_type": "display_data"
    },
    {
     "name": "stdout",
     "output_type": "stream",
     "text": [
      "\n",
      "Epoch 4: Training MSE 9490.629184246063; Testing MSE 2234.970724582672\n",
      "Epoch 4: Training R2 0.11376241224347039; Testing R2 0.08626266979629194\n"
     ]
    },
    {
     "data": {
      "application/vnd.jupyter.widget-view+json": {
       "model_id": "d6740f0bf97c40a1be04e654e9a98799",
       "version_major": 2,
       "version_minor": 0
      },
      "text/plain": [
       "HBox(children=(IntProgress(value=0, max=96), HTML(value='')))"
      ]
     },
     "metadata": {},
     "output_type": "display_data"
    },
    {
     "name": "stdout",
     "output_type": "stream",
     "text": [
      "\n",
      "Epoch 5: Training MSE 9593.11273097992; Testing MSE 2149.606055021286\n",
      "Epoch 5: Training R2 0.10419247020075417; Testing R2 0.12116285188852383\n"
     ]
    },
    {
     "data": {
      "application/vnd.jupyter.widget-view+json": {
       "model_id": "654144106e6a414085fd287d96b2981a",
       "version_major": 2,
       "version_minor": 0
      },
      "text/plain": [
       "HBox(children=(IntProgress(value=0, max=96), HTML(value='')))"
      ]
     },
     "metadata": {},
     "output_type": "display_data"
    },
    {
     "name": "stdout",
     "output_type": "stream",
     "text": [
      "\n",
      "Epoch 6: Training MSE 9410.212725400925; Testing MSE 2204.2458415031433\n",
      "Epoch 6: Training R2 0.12127172349347048; Testing R2 0.0988241196296682\n"
     ]
    },
    {
     "data": {
      "application/vnd.jupyter.widget-view+json": {
       "model_id": "bc86d6454abf469ba78d562f18caed13",
       "version_major": 2,
       "version_minor": 0
      },
      "text/plain": [
       "HBox(children=(IntProgress(value=0, max=96), HTML(value='')))"
      ]
     },
     "metadata": {},
     "output_type": "display_data"
    },
    {
     "name": "stdout",
     "output_type": "stream",
     "text": [
      "\n",
      "Epoch 7: Training MSE 9397.264230251312; Testing MSE 2185.689878463745\n",
      "Epoch 7: Training R2 0.12248085756495208; Testing R2 0.10641047230108602\n"
     ]
    },
    {
     "data": {
      "application/vnd.jupyter.widget-view+json": {
       "model_id": "4f05ae931a1f4d8da8c793c58e09d09f",
       "version_major": 2,
       "version_minor": 0
      },
      "text/plain": [
       "HBox(children=(IntProgress(value=0, max=96), HTML(value='')))"
      ]
     },
     "metadata": {},
     "output_type": "display_data"
    },
    {
     "name": "stdout",
     "output_type": "stream",
     "text": [
      "\n",
      "Epoch 8: Training MSE 9295.734244585037; Testing MSE 2200.8840322494507\n",
      "Epoch 8: Training R2 0.13196175581047576; Testing R2 0.10019854953979457\n"
     ]
    },
    {
     "data": {
      "application/vnd.jupyter.widget-view+json": {
       "model_id": "61bd457f00f94f28bfa797da19c10d72",
       "version_major": 2,
       "version_minor": 0
      },
      "text/plain": [
       "HBox(children=(IntProgress(value=0, max=96), HTML(value='')))"
      ]
     },
     "metadata": {},
     "output_type": "display_data"
    },
    {
     "name": "stdout",
     "output_type": "stream",
     "text": [
      "\n",
      "Epoch 9: Training MSE 9178.00213098526; Testing MSE 2227.311858534813\n",
      "Epoch 9: Training R2 0.14295561326002626; Testing R2 0.08939389283111066\n"
     ]
    },
    {
     "data": {
      "application/vnd.jupyter.widget-view+json": {
       "model_id": "6770dd4ce13c4836bf0cf9d2d3992aff",
       "version_major": 2,
       "version_minor": 0
      },
      "text/plain": [
       "HBox(children=(IntProgress(value=0, max=96), HTML(value='')))"
      ]
     },
     "metadata": {},
     "output_type": "display_data"
    },
    {
     "name": "stdout",
     "output_type": "stream",
     "text": [
      "\n",
      "Epoch 10: Training MSE 8911.69028878212; Testing MSE 2508.815550804138\n",
      "Epoch 10: Training R2 0.16782388701124196; Testing R2 -0.025695056383062687\n",
      "Printing performance_continuous\n",
      "{'HHVEHCNT_mean_norm': {'mse_train_list': [12289.831066131592, 9480.62248826027, 9419.594323635101, 9423.573732376099, 9390.378141403198, 9189.957186579704, 9208.962392807007, 9008.318811655045, 8940.918028354645, 8769.993835687637, 8458.903816342354, 7779.080682992935, 7207.260704040527], 'mse_test_list': [2252.972501516342, 2213.598781824112, 2448.0222284793854, 2383.0234944820404, 2293.3943271636963, 2247.4409699440002, 2479.7330141067505, 2231.999635696411, 2276.9818365573883, 2412.8169894218445, 2458.054429292679, 2273.6178278923035, 2583.915901184082], 'r_square_train_list': [-0.1485338091929298, 0.11399795478318664, 0.11970128056592744, 0.11932938892193012, 0.12243164950983887, 0.14116178839025606, 0.13938567594531814, 0.15813662014549024, 0.16443549260110335, 0.18040904122278156, 0.2094816462893544, 0.2730138338940331, 0.32645269526363474], 'r_square_test_list': [0.11628398095862424, 0.13172810502043597, 0.03977680294785102, 0.06527219732670086, 0.10042874312530747, 0.11845369366351599, 0.02733842244545759, 0.12451047172928575, 0.10686645190843669, 0.05358586350602068, 0.03584172759341131, 0.10818596572563988, -0.013526739538654908]}, 'HHVEHCNT_P_CAP_mean_norm': {'mse_train_list': [13540.380555391312, 9735.587310791016, 9618.94556581974, 9510.758924484253, 9490.629184246063, 9593.11273097992, 9410.212725400925, 9397.264230251312, 9295.734244585037, 9178.00213098526, 8911.69028878212], 'mse_test_list': [2281.4390897750854, 2164.970076084137, 2197.1999406814575, 2190.2142107486725, 2234.970724582672, 2149.606055021286, 2204.2458415031433, 2185.689878463745, 2200.8840322494507, 2227.311858534813, 2508.815550804138], 'r_square_train_list': [-0.26440449497645147, 0.09088815438805686, 0.10178019291239915, 0.11188269151215458, 0.11376241224347039, 0.10419247020075417, 0.12127172349347048, 0.12248085756495208, 0.13196175581047576, 0.14295561326002626, 0.16782388701124196], 'r_square_test_list': [0.06726471179942606, 0.11488148120534214, 0.10170474018316089, 0.10456076068852971, 0.08626266979629194, 0.12116285188852383, 0.0988241196296682, 0.10641047230108602, 0.10019854953979457, 0.08939389283111066, -0.025695056383062687]}}\n",
      "Stored 'performance_continuous' (dict)\n",
      "TRPTRANS_1_mean_norm\n",
      "tensor(11639.5127)\n",
      "tensor(3039.0168)\n"
     ]
    },
    {
     "data": {
      "application/vnd.jupyter.widget-view+json": {
       "model_id": "89fea0a11f7341f88f0c6d8ef98cbdd7",
       "version_major": 2,
       "version_minor": 0
      },
      "text/plain": [
       "HBox(children=(IntProgress(value=0, max=96), HTML(value='')))"
      ]
     },
     "metadata": {},
     "output_type": "display_data"
    },
    {
     "name": "stdout",
     "output_type": "stream",
     "text": [
      "\n",
      "Epoch 0: Training MSE 11589.290422201157; Testing MSE 2117.0675933361053\n",
      "Epoch 0: Training R2 0.004314808912195156; Testing R2 0.30337089235637715\n"
     ]
    },
    {
     "data": {
      "application/vnd.jupyter.widget-view+json": {
       "model_id": "4d5a138c930f481e84c835eb91fa4268",
       "version_major": 2,
       "version_minor": 0
      },
      "text/plain": [
       "HBox(children=(IntProgress(value=0, max=96), HTML(value='')))"
      ]
     },
     "metadata": {},
     "output_type": "display_data"
    },
    {
     "name": "stdout",
     "output_type": "stream",
     "text": [
      "\n",
      "Epoch 1: Training MSE 8945.562520623207; Testing MSE 2170.309364795685\n",
      "Epoch 1: Training R2 0.23144870796646055; Testing R2 0.28585148586316933\n"
     ]
    },
    {
     "data": {
      "application/vnd.jupyter.widget-view+json": {
       "model_id": "fcb50a2b0b98460cb5e79e802611dddb",
       "version_major": 2,
       "version_minor": 0
      },
      "text/plain": [
       "HBox(children=(IntProgress(value=0, max=96), HTML(value='')))"
      ]
     },
     "metadata": {},
     "output_type": "display_data"
    },
    {
     "name": "stdout",
     "output_type": "stream",
     "text": [
      "\n",
      "Epoch 2: Training MSE 8658.142161369324; Testing MSE 2129.5178294181824\n",
      "Epoch 2: Training R2 0.2561422124780054; Testing R2 0.29927409503204494\n"
     ]
    },
    {
     "data": {
      "application/vnd.jupyter.widget-view+json": {
       "model_id": "e25063a8189c40e086040c0bf7c1b4e4",
       "version_major": 2,
       "version_minor": 0
      },
      "text/plain": [
       "HBox(children=(IntProgress(value=0, max=96), HTML(value='')))"
      ]
     },
     "metadata": {},
     "output_type": "display_data"
    },
    {
     "name": "stdout",
     "output_type": "stream",
     "text": [
      "\n",
      "Epoch 3: Training MSE 8583.106908202171; Testing MSE 2090.3336107730865\n",
      "Epoch 3: Training R2 0.26258880995432166; Testing R2 0.3121678105441845\n"
     ]
    },
    {
     "data": {
      "application/vnd.jupyter.widget-view+json": {
       "model_id": "a69e2b6e95ef43609a8f01224a8d8b8e",
       "version_major": 2,
       "version_minor": 0
      },
      "text/plain": [
       "HBox(children=(IntProgress(value=0, max=96), HTML(value='')))"
      ]
     },
     "metadata": {},
     "output_type": "display_data"
    },
    {
     "name": "stdout",
     "output_type": "stream",
     "text": [
      "\n",
      "Epoch 4: Training MSE 8551.913020014763; Testing MSE 2200.423604249954\n",
      "Epoch 4: Training R2 0.26526880945292364; Testing R2 0.2759422813463046\n"
     ]
    },
    {
     "data": {
      "application/vnd.jupyter.widget-view+json": {
       "model_id": "5c6557cc27bb4c36a8e33e37f60cfd53",
       "version_major": 2,
       "version_minor": 0
      },
      "text/plain": [
       "HBox(children=(IntProgress(value=0, max=96), HTML(value='')))"
      ]
     },
     "metadata": {},
     "output_type": "display_data"
    },
    {
     "name": "stdout",
     "output_type": "stream",
     "text": [
      "\n",
      "Epoch 5: Training MSE 8333.581930398941; Testing MSE 2115.4613733291626\n",
      "Epoch 5: Training R2 0.28402656120173597; Testing R2 0.30389942513144674\n"
     ]
    },
    {
     "data": {
      "application/vnd.jupyter.widget-view+json": {
       "model_id": "438512ee049a4350a436f0ae39029b46",
       "version_major": 2,
       "version_minor": 0
      },
      "text/plain": [
       "HBox(children=(IntProgress(value=0, max=96), HTML(value='')))"
      ]
     },
     "metadata": {},
     "output_type": "display_data"
    },
    {
     "name": "stdout",
     "output_type": "stream",
     "text": [
      "\n",
      "Epoch 6: Training MSE 8071.595141291618; Testing MSE 2079.396069049835\n",
      "Epoch 6: Training R2 0.3065349596171465; Testing R2 0.31576685006208516\n"
     ]
    },
    {
     "data": {
      "application/vnd.jupyter.widget-view+json": {
       "model_id": "25fb67d7e11347c68515bbb610b53cc9",
       "version_major": 2,
       "version_minor": 0
      },
      "text/plain": [
       "HBox(children=(IntProgress(value=0, max=96), HTML(value='')))"
      ]
     },
     "metadata": {},
     "output_type": "display_data"
    },
    {
     "name": "stdout",
     "output_type": "stream",
     "text": [
      "\n",
      "Epoch 7: Training MSE 7543.664637207985; Testing MSE 2220.050159096718\n",
      "Epoch 7: Training R2 0.3518917127650891; Testing R2 0.26948408916006716\n"
     ]
    },
    {
     "data": {
      "application/vnd.jupyter.widget-view+json": {
       "model_id": "cc453aa1b03a4d02beb671ac03c395ba",
       "version_major": 2,
       "version_minor": 0
      },
      "text/plain": [
       "HBox(children=(IntProgress(value=0, max=96), HTML(value='')))"
      ]
     },
     "metadata": {},
     "output_type": "display_data"
    },
    {
     "name": "stdout",
     "output_type": "stream",
     "text": [
      "\n",
      "Epoch 8: Training MSE 6944.561877846718; Testing MSE 2277.8170585632324\n",
      "Epoch 8: Training R2 0.4033631768241077; Testing R2 0.25047567216225053\n"
     ]
    },
    {
     "data": {
      "application/vnd.jupyter.widget-view+json": {
       "model_id": "efc47ad23fa640c2a964a54af7738a79",
       "version_major": 2,
       "version_minor": 0
      },
      "text/plain": [
       "HBox(children=(IntProgress(value=0, max=96), HTML(value='')))"
      ]
     },
     "metadata": {},
     "output_type": "display_data"
    },
    {
     "name": "stdout",
     "output_type": "stream",
     "text": [
      "\n",
      "Epoch 9: Training MSE 6217.7868485450745; Testing MSE 2250.7968842983246\n",
      "Epoch 9: Training R2 0.4658035081615469; Testing R2 0.2593667628131996\n"
     ]
    },
    {
     "data": {
      "application/vnd.jupyter.widget-view+json": {
       "model_id": "b714cf112dd84c75ba09fa64d08db53f",
       "version_major": 2,
       "version_minor": 0
      },
      "text/plain": [
       "HBox(children=(IntProgress(value=0, max=96), HTML(value='')))"
      ]
     },
     "metadata": {},
     "output_type": "display_data"
    },
    {
     "name": "stdout",
     "output_type": "stream",
     "text": [
      "\n",
      "Epoch 10: Training MSE 5625.437590479851; Testing MSE 2213.0647599697113\n",
      "Epoch 10: Training R2 0.516694750223921; Testing R2 0.27178266119229644\n"
     ]
    },
    {
     "data": {
      "application/vnd.jupyter.widget-view+json": {
       "model_id": "70f3dcf3a4e24930979ae6c7105ed256",
       "version_major": 2,
       "version_minor": 0
      },
      "text/plain": [
       "HBox(children=(IntProgress(value=0, max=96), HTML(value='')))"
      ]
     },
     "metadata": {},
     "output_type": "display_data"
    },
    {
     "name": "stdout",
     "output_type": "stream",
     "text": [
      "\n",
      "Epoch 11: Training MSE 4941.749545931816; Testing MSE 2299.4918435811996\n",
      "Epoch 11: Training R2 0.575433295594757; Testing R2 0.243343502082768\n"
     ]
    },
    {
     "data": {
      "application/vnd.jupyter.widget-view+json": {
       "model_id": "e71d1e461e5d4d8e89afec1542ae8aa7",
       "version_major": 2,
       "version_minor": 0
      },
      "text/plain": [
       "HBox(children=(IntProgress(value=0, max=96), HTML(value='')))"
      ]
     },
     "metadata": {},
     "output_type": "display_data"
    },
    {
     "name": "stdout",
     "output_type": "stream",
     "text": [
      "\n",
      "Epoch 12: Training MSE 4544.346979260445; Testing MSE 2484.0884804725647\n",
      "Epoch 12: Training R2 0.6095758389360615; Testing R2 0.18260127975768714\n"
     ]
    },
    {
     "data": {
      "application/vnd.jupyter.widget-view+json": {
       "model_id": "b95391474a904c17bafe35dbbf33fe10",
       "version_major": 2,
       "version_minor": 0
      },
      "text/plain": [
       "HBox(children=(IntProgress(value=0, max=96), HTML(value='')))"
      ]
     },
     "metadata": {},
     "output_type": "display_data"
    },
    {
     "name": "stdout",
     "output_type": "stream",
     "text": [
      "\n",
      "Epoch 13: Training MSE 4108.480057120323; Testing MSE 2270.719599723816\n",
      "Epoch 13: Training R2 0.6470230185173558; Testing R2 0.2528111178671506\n"
     ]
    },
    {
     "data": {
      "application/vnd.jupyter.widget-view+json": {
       "model_id": "c51ec4cd594441f09613cdad5848ac6a",
       "version_major": 2,
       "version_minor": 0
      },
      "text/plain": [
       "HBox(children=(IntProgress(value=0, max=96), HTML(value='')))"
      ]
     },
     "metadata": {},
     "output_type": "display_data"
    },
    {
     "name": "stdout",
     "output_type": "stream",
     "text": [
      "\n",
      "Epoch 14: Training MSE 3782.21971988678; Testing MSE 2441.2298917770386\n",
      "Epoch 14: Training R2 0.6750534305950826; Testing R2 0.1967040606475411\n"
     ]
    },
    {
     "data": {
      "application/vnd.jupyter.widget-view+json": {
       "model_id": "59af28c6cd164952a36117d1439a2be9",
       "version_major": 2,
       "version_minor": 0
      },
      "text/plain": [
       "HBox(children=(IntProgress(value=0, max=96), HTML(value='')))"
      ]
     },
     "metadata": {},
     "output_type": "display_data"
    },
    {
     "name": "stdout",
     "output_type": "stream",
     "text": [
      "\n",
      "Epoch 15: Training MSE 3348.8546445965767; Testing MSE 2447.4378407001495\n",
      "Epoch 15: Training R2 0.7122856658814215; Testing R2 0.19466131154863808\n"
     ]
    },
    {
     "data": {
      "application/vnd.jupyter.widget-view+json": {
       "model_id": "3a8db3b366f246679df99a6e9eeaaf6c",
       "version_major": 2,
       "version_minor": 0
      },
      "text/plain": [
       "HBox(children=(IntProgress(value=0, max=96), HTML(value='')))"
      ]
     },
     "metadata": {},
     "output_type": "display_data"
    },
    {
     "name": "stdout",
     "output_type": "stream",
     "text": [
      "\n",
      "Epoch 16: Training MSE 2775.9963780641556; Testing MSE 2565.4694736003876\n",
      "Epoch 16: Training R2 0.7615023540304988; Testing R2 0.15582255582830595\n"
     ]
    },
    {
     "data": {
      "application/vnd.jupyter.widget-view+json": {
       "model_id": "f706d139eacf4304949fc928d9d87010",
       "version_major": 2,
       "version_minor": 0
      },
      "text/plain": [
       "HBox(children=(IntProgress(value=0, max=96), HTML(value='')))"
      ]
     },
     "metadata": {},
     "output_type": "display_data"
    },
    {
     "name": "stdout",
     "output_type": "stream",
     "text": [
      "\n",
      "Epoch 17: Training MSE 2441.845463216305; Testing MSE 2512.2011244297028\n",
      "Epoch 17: Training R2 0.7902106791635966; Testing R2 0.17335070781798678\n"
     ]
    },
    {
     "data": {
      "application/vnd.jupyter.widget-view+json": {
       "model_id": "924dedae705d4ab7a7a46ab906b3bf09",
       "version_major": 2,
       "version_minor": 0
      },
      "text/plain": [
       "HBox(children=(IntProgress(value=0, max=96), HTML(value='')))"
      ]
     },
     "metadata": {},
     "output_type": "display_data"
    },
    {
     "name": "stdout",
     "output_type": "stream",
     "text": [
      "\n",
      "Epoch 18: Training MSE 1967.9514281451702; Testing MSE 2462.160551548004\n",
      "Epoch 18: Training R2 0.8309249296203174; Testing R2 0.1898167477981373\n"
     ]
    },
    {
     "data": {
      "application/vnd.jupyter.widget-view+json": {
       "model_id": "3cf52c6fe5cc4015b7af948509240e00",
       "version_major": 2,
       "version_minor": 0
      },
      "text/plain": [
       "HBox(children=(IntProgress(value=0, max=96), HTML(value='')))"
      ]
     },
     "metadata": {},
     "output_type": "display_data"
    },
    {
     "name": "stdout",
     "output_type": "stream",
     "text": [
      "\n",
      "Epoch 19: Training MSE 1700.1413457095623; Testing MSE 2557.1705639362335\n",
      "Epoch 19: Training R2 0.8539336319127648; Testing R2 0.1585533434762546\n"
     ]
    },
    {
     "data": {
      "application/vnd.jupyter.widget-view+json": {
       "model_id": "4ef8bdfc9ec249feae73fd2f9bd98dca",
       "version_major": 2,
       "version_minor": 0
      },
      "text/plain": [
       "HBox(children=(IntProgress(value=0, max=96), HTML(value='')))"
      ]
     },
     "metadata": {},
     "output_type": "display_data"
    },
    {
     "name": "stdout",
     "output_type": "stream",
     "text": [
      "\n",
      "Epoch 20: Training MSE 1278.2281830906868; Testing MSE 2497.9071736335754\n",
      "Epoch 20: Training R2 0.8901819847144066; Testing R2 0.17805418645001136\n"
     ]
    },
    {
     "data": {
      "application/vnd.jupyter.widget-view+json": {
       "model_id": "8ee2cd1a59e549fe9183029e483621c0",
       "version_major": 2,
       "version_minor": 0
      },
      "text/plain": [
       "HBox(children=(IntProgress(value=0, max=96), HTML(value='')))"
      ]
     },
     "metadata": {},
     "output_type": "display_data"
    },
    {
     "name": "stdout",
     "output_type": "stream",
     "text": [
      "\n",
      "Epoch 21: Training MSE 1181.6141374409199; Testing MSE 2348.490169644356\n",
      "Epoch 21: Training R2 0.8984825079561292; Testing R2 0.22722041736461807\n"
     ]
    },
    {
     "data": {
      "application/vnd.jupyter.widget-view+json": {
       "model_id": "2eb71d1d585d4de7af316bc661ac38e3",
       "version_major": 2,
       "version_minor": 0
      },
      "text/plain": [
       "HBox(children=(IntProgress(value=0, max=96), HTML(value='')))"
      ]
     },
     "metadata": {},
     "output_type": "display_data"
    },
    {
     "name": "stdout",
     "output_type": "stream",
     "text": [
      "\n",
      "Epoch 22: Training MSE 970.6743523478508; Testing MSE 2398.120477795601\n",
      "Epoch 22: Training R2 0.9166052413226231; Testing R2 0.210889376547448\n"
     ]
    },
    {
     "data": {
      "application/vnd.jupyter.widget-view+json": {
       "model_id": "2562d64f469b4845afb722370d9eb630",
       "version_major": 2,
       "version_minor": 0
      },
      "text/plain": [
       "HBox(children=(IntProgress(value=0, max=96), HTML(value='')))"
      ]
     },
     "metadata": {},
     "output_type": "display_data"
    },
    {
     "name": "stdout",
     "output_type": "stream",
     "text": [
      "\n",
      "Epoch 23: Training MSE 789.4730728119612; Testing MSE 2343.8899874687195\n",
      "Epoch 23: Training R2 0.9321730132972061; Testing R2 0.2287341247276229\n"
     ]
    },
    {
     "data": {
      "application/vnd.jupyter.widget-view+json": {
       "model_id": "1162f2f4cd8344fc98b460040d3ef12c",
       "version_major": 2,
       "version_minor": 0
      },
      "text/plain": [
       "HBox(children=(IntProgress(value=0, max=96), HTML(value='')))"
      ]
     },
     "metadata": {},
     "output_type": "display_data"
    },
    {
     "name": "stdout",
     "output_type": "stream",
     "text": [
      "\n",
      "Epoch 24: Training MSE 779.5168777927756; Testing MSE 2401.253205537796\n",
      "Epoch 24: Training R2 0.9330283923220681; Testing R2 0.20985854062213072\n",
      "Printing performance_continuous\n",
      "{'HHVEHCNT_mean_norm': {'mse_train_list': [12289.831066131592, 9480.62248826027, 9419.594323635101, 9423.573732376099, 9390.378141403198, 9189.957186579704, 9208.962392807007, 9008.318811655045, 8940.918028354645, 8769.993835687637, 8458.903816342354, 7779.080682992935, 7207.260704040527], 'mse_test_list': [2252.972501516342, 2213.598781824112, 2448.0222284793854, 2383.0234944820404, 2293.3943271636963, 2247.4409699440002, 2479.7330141067505, 2231.999635696411, 2276.9818365573883, 2412.8169894218445, 2458.054429292679, 2273.6178278923035, 2583.915901184082], 'r_square_train_list': [-0.1485338091929298, 0.11399795478318664, 0.11970128056592744, 0.11932938892193012, 0.12243164950983887, 0.14116178839025606, 0.13938567594531814, 0.15813662014549024, 0.16443549260110335, 0.18040904122278156, 0.2094816462893544, 0.2730138338940331, 0.32645269526363474], 'r_square_test_list': [0.11628398095862424, 0.13172810502043597, 0.03977680294785102, 0.06527219732670086, 0.10042874312530747, 0.11845369366351599, 0.02733842244545759, 0.12451047172928575, 0.10686645190843669, 0.05358586350602068, 0.03584172759341131, 0.10818596572563988, -0.013526739538654908]}, 'HHVEHCNT_P_CAP_mean_norm': {'mse_train_list': [13540.380555391312, 9735.587310791016, 9618.94556581974, 9510.758924484253, 9490.629184246063, 9593.11273097992, 9410.212725400925, 9397.264230251312, 9295.734244585037, 9178.00213098526, 8911.69028878212], 'mse_test_list': [2281.4390897750854, 2164.970076084137, 2197.1999406814575, 2190.2142107486725, 2234.970724582672, 2149.606055021286, 2204.2458415031433, 2185.689878463745, 2200.8840322494507, 2227.311858534813, 2508.815550804138], 'r_square_train_list': [-0.26440449497645147, 0.09088815438805686, 0.10178019291239915, 0.11188269151215458, 0.11376241224347039, 0.10419247020075417, 0.12127172349347048, 0.12248085756495208, 0.13196175581047576, 0.14295561326002626, 0.16782388701124196], 'r_square_test_list': [0.06726471179942606, 0.11488148120534214, 0.10170474018316089, 0.10456076068852971, 0.08626266979629194, 0.12116285188852383, 0.0988241196296682, 0.10641047230108602, 0.10019854953979457, 0.08939389283111066, -0.025695056383062687]}, 'TRPTRANS_1_mean_norm': {'mse_train_list': [11589.290422201157, 8945.562520623207, 8658.142161369324, 8583.106908202171, 8551.913020014763, 8333.581930398941, 8071.595141291618, 7543.664637207985, 6944.561877846718, 6217.7868485450745, 5625.437590479851, 4941.749545931816, 4544.346979260445, 4108.480057120323, 3782.21971988678, 3348.8546445965767, 2775.9963780641556, 2441.845463216305, 1967.9514281451702, 1700.1413457095623, 1278.2281830906868, 1181.6141374409199, 970.6743523478508, 789.4730728119612, 779.5168777927756], 'mse_test_list': [2117.0675933361053, 2170.309364795685, 2129.5178294181824, 2090.3336107730865, 2200.423604249954, 2115.4613733291626, 2079.396069049835, 2220.050159096718, 2277.8170585632324, 2250.7968842983246, 2213.0647599697113, 2299.4918435811996, 2484.0884804725647, 2270.719599723816, 2441.2298917770386, 2447.4378407001495, 2565.4694736003876, 2512.2011244297028, 2462.160551548004, 2557.1705639362335, 2497.9071736335754, 2348.490169644356, 2398.120477795601, 2343.8899874687195, 2401.253205537796], 'r_square_train_list': [0.004314808912195156, 0.23144870796646055, 0.2561422124780054, 0.26258880995432166, 0.26526880945292364, 0.28402656120173597, 0.3065349596171465, 0.3518917127650891, 0.4033631768241077, 0.4658035081615469, 0.516694750223921, 0.575433295594757, 0.6095758389360615, 0.6470230185173558, 0.6750534305950826, 0.7122856658814215, 0.7615023540304988, 0.7902106791635966, 0.8309249296203174, 0.8539336319127648, 0.8901819847144066, 0.8984825079561292, 0.9166052413226231, 0.9321730132972061, 0.9330283923220681], 'r_square_test_list': [0.30337089235637715, 0.28585148586316933, 0.29927409503204494, 0.3121678105441845, 0.2759422813463046, 0.30389942513144674, 0.31576685006208516, 0.26948408916006716, 0.25047567216225053, 0.2593667628131996, 0.27178266119229644, 0.243343502082768, 0.18260127975768714, 0.2528111178671506, 0.1967040606475411, 0.19466131154863808, 0.15582255582830595, 0.17335070781798678, 0.1898167477981373, 0.1585533434762546, 0.17805418645001136, 0.22722041736461807, 0.210889376547448, 0.2287341247276229, 0.20985854062213072]}}\n",
      "Stored 'performance_continuous' (dict)\n",
      "TRPTRANS_2_mean_norm\n",
      "tensor(11690.4609)\n",
      "tensor(2961.9233)\n"
     ]
    },
    {
     "data": {
      "application/vnd.jupyter.widget-view+json": {
       "model_id": "adbdc744a54341339be7ff61ad89e317",
       "version_major": 2,
       "version_minor": 0
      },
      "text/plain": [
       "HBox(children=(IntProgress(value=0, max=96), HTML(value='')))"
      ]
     },
     "metadata": {},
     "output_type": "display_data"
    },
    {
     "name": "stdout",
     "output_type": "stream",
     "text": [
      "\n",
      "Epoch 0: Training MSE 12354.858168959618; Testing MSE 1917.7852928638458\n",
      "Epoch 0: Training R2 -0.05683242388915577; Testing R2 0.3525202806346046\n"
     ]
    },
    {
     "data": {
      "application/vnd.jupyter.widget-view+json": {
       "model_id": "b6cc372001494f93aa440b17ebb0c522",
       "version_major": 2,
       "version_minor": 0
      },
      "text/plain": [
       "HBox(children=(IntProgress(value=0, max=96), HTML(value='')))"
      ]
     },
     "metadata": {},
     "output_type": "display_data"
    },
    {
     "name": "stdout",
     "output_type": "stream",
     "text": [
      "\n",
      "Epoch 1: Training MSE 8083.891075849533; Testing MSE 1827.8386652469635\n",
      "Epoch 1: Training R2 0.3085053601335356; Testing R2 0.3828879226349635\n"
     ]
    },
    {
     "data": {
      "application/vnd.jupyter.widget-view+json": {
       "model_id": "4786ebd6ecab4221a2f0ccebea76114d",
       "version_major": 2,
       "version_minor": 0
      },
      "text/plain": [
       "HBox(children=(IntProgress(value=0, max=96), HTML(value='')))"
      ]
     },
     "metadata": {},
     "output_type": "display_data"
    },
    {
     "name": "stdout",
     "output_type": "stream",
     "text": [
      "\n",
      "Epoch 2: Training MSE 7986.111298203468; Testing MSE 1910.0234299898148\n",
      "Epoch 2: Training R2 0.31686942534608953; Testing R2 0.3551408288336815\n"
     ]
    },
    {
     "data": {
      "application/vnd.jupyter.widget-view+json": {
       "model_id": "83f9a719997b4c37a16f506a9923f2bd",
       "version_major": 2,
       "version_minor": 0
      },
      "text/plain": [
       "HBox(children=(IntProgress(value=0, max=96), HTML(value='')))"
      ]
     },
     "metadata": {},
     "output_type": "display_data"
    },
    {
     "name": "stdout",
     "output_type": "stream",
     "text": [
      "\n",
      "Epoch 3: Training MSE 7964.319717884064; Testing MSE 1952.5537848472595\n",
      "Epoch 3: Training R2 0.3187334733452153; Testing R2 0.3407817958751551\n"
     ]
    },
    {
     "data": {
      "application/vnd.jupyter.widget-view+json": {
       "model_id": "18b06319ff034907a69c8d35cb709880",
       "version_major": 2,
       "version_minor": 0
      },
      "text/plain": [
       "HBox(children=(IntProgress(value=0, max=96), HTML(value='')))"
      ]
     },
     "metadata": {},
     "output_type": "display_data"
    },
    {
     "name": "stdout",
     "output_type": "stream",
     "text": [
      "\n",
      "Epoch 4: Training MSE 7891.997271776199; Testing MSE 1793.386685848236\n",
      "Epoch 4: Training R2 0.3249199228354892; Testing R2 0.3945195469026411\n"
     ]
    },
    {
     "data": {
      "application/vnd.jupyter.widget-view+json": {
       "model_id": "dd3a6234cb45421d8f9de02cead48c55",
       "version_major": 2,
       "version_minor": 0
      },
      "text/plain": [
       "HBox(children=(IntProgress(value=0, max=96), HTML(value='')))"
      ]
     },
     "metadata": {},
     "output_type": "display_data"
    },
    {
     "name": "stdout",
     "output_type": "stream",
     "text": [
      "\n",
      "Epoch 5: Training MSE 7652.407121658325; Testing MSE 1848.8260984420776\n",
      "Epoch 5: Training R2 0.34541442270155776; Testing R2 0.37580217773644053\n"
     ]
    },
    {
     "data": {
      "application/vnd.jupyter.widget-view+json": {
       "model_id": "9631840de4844d89b7626593299ed4f3",
       "version_major": 2,
       "version_minor": 0
      },
      "text/plain": [
       "HBox(children=(IntProgress(value=0, max=96), HTML(value='')))"
      ]
     },
     "metadata": {},
     "output_type": "display_data"
    },
    {
     "name": "stdout",
     "output_type": "stream",
     "text": [
      "\n",
      "Epoch 6: Training MSE 7680.348724126816; Testing MSE 1705.4666101932526\n",
      "Epoch 6: Training R2 0.3430243028749853; Testing R2 0.4242029875482122\n"
     ]
    },
    {
     "data": {
      "application/vnd.jupyter.widget-view+json": {
       "model_id": "2a4baccb804740ff9ea3aee6b229cb59",
       "version_major": 2,
       "version_minor": 0
      },
      "text/plain": [
       "HBox(children=(IntProgress(value=0, max=96), HTML(value='')))"
      ]
     },
     "metadata": {},
     "output_type": "display_data"
    },
    {
     "name": "stdout",
     "output_type": "stream",
     "text": [
      "\n",
      "Epoch 7: Training MSE 7397.751063108444; Testing MSE 1757.7032774686813\n",
      "Epoch 7: Training R2 0.3671976577605801; Testing R2 0.4065669243278237\n"
     ]
    },
    {
     "data": {
      "application/vnd.jupyter.widget-view+json": {
       "model_id": "daf6b8aa64084be39173656a83a8f697",
       "version_major": 2,
       "version_minor": 0
      },
      "text/plain": [
       "HBox(children=(IntProgress(value=0, max=96), HTML(value='')))"
      ]
     },
     "metadata": {},
     "output_type": "display_data"
    },
    {
     "name": "stdout",
     "output_type": "stream",
     "text": [
      "\n",
      "Epoch 8: Training MSE 7254.348391294479; Testing MSE 1811.5449845790863\n",
      "Epoch 8: Training R2 0.37946429742351817; Testing R2 0.388388970028289\n"
     ]
    },
    {
     "data": {
      "application/vnd.jupyter.widget-view+json": {
       "model_id": "3fe02acf5ce849619d988aa79e7afba3",
       "version_major": 2,
       "version_minor": 0
      },
      "text/plain": [
       "HBox(children=(IntProgress(value=0, max=96), HTML(value='')))"
      ]
     },
     "metadata": {},
     "output_type": "display_data"
    },
    {
     "name": "stdout",
     "output_type": "stream",
     "text": [
      "\n",
      "Epoch 9: Training MSE 6922.560986876488; Testing MSE 1908.9200019836426\n",
      "Epoch 9: Training R2 0.40784533442383886; Testing R2 0.35551336649909937\n"
     ]
    },
    {
     "data": {
      "application/vnd.jupyter.widget-view+json": {
       "model_id": "ac231b43278842ab841b39430e7fa7a0",
       "version_major": 2,
       "version_minor": 0
      },
      "text/plain": [
       "HBox(children=(IntProgress(value=0, max=96), HTML(value='')))"
      ]
     },
     "metadata": {},
     "output_type": "display_data"
    },
    {
     "name": "stdout",
     "output_type": "stream",
     "text": [
      "\n",
      "Epoch 10: Training MSE 6935.7991099357605; Testing MSE 1855.3449243307114\n",
      "Epoch 10: Training R2 0.4067129476745014; Testing R2 0.3736013017715083\n"
     ]
    },
    {
     "data": {
      "application/vnd.jupyter.widget-view+json": {
       "model_id": "976879df128d43b09e8ce5f7cc712114",
       "version_major": 2,
       "version_minor": 0
      },
      "text/plain": [
       "HBox(children=(IntProgress(value=0, max=96), HTML(value='')))"
      ]
     },
     "metadata": {},
     "output_type": "display_data"
    },
    {
     "name": "stdout",
     "output_type": "stream",
     "text": [
      "\n",
      "Epoch 11: Training MSE 6725.269651412964; Testing MSE 2138.31946849823\n",
      "Epoch 11: Training R2 0.4247216010242998; Testing R2 0.27806387162909063\n"
     ]
    },
    {
     "data": {
      "application/vnd.jupyter.widget-view+json": {
       "model_id": "5d400a9a0a444a288919ed6885c54500",
       "version_major": 2,
       "version_minor": 0
      },
      "text/plain": [
       "HBox(children=(IntProgress(value=0, max=96), HTML(value='')))"
      ]
     },
     "metadata": {},
     "output_type": "display_data"
    },
    {
     "name": "stdout",
     "output_type": "stream",
     "text": [
      "\n",
      "Epoch 12: Training MSE 6508.821114897728; Testing MSE 1937.5603079795837\n",
      "Epoch 12: Training R2 0.44323657127846006; Testing R2 0.3458438704622937\n"
     ]
    },
    {
     "data": {
      "application/vnd.jupyter.widget-view+json": {
       "model_id": "003d3ff9b2ad4c88a89e2244aeedb227",
       "version_major": 2,
       "version_minor": 0
      },
      "text/plain": [
       "HBox(children=(IntProgress(value=0, max=96), HTML(value='')))"
      ]
     },
     "metadata": {},
     "output_type": "display_data"
    },
    {
     "name": "stdout",
     "output_type": "stream",
     "text": [
      "\n",
      "Epoch 13: Training MSE 5722.982302308083; Testing MSE 1991.997516155243\n",
      "Epoch 13: Training R2 0.5104570869442604; Testing R2 0.32746486400950314\n"
     ]
    },
    {
     "data": {
      "application/vnd.jupyter.widget-view+json": {
       "model_id": "597b5382d466477ab9963d9816c3f77b",
       "version_major": 2,
       "version_minor": 0
      },
      "text/plain": [
       "HBox(children=(IntProgress(value=0, max=96), HTML(value='')))"
      ]
     },
     "metadata": {},
     "output_type": "display_data"
    },
    {
     "name": "stdout",
     "output_type": "stream",
     "text": [
      "\n",
      "Epoch 14: Training MSE 5292.420035600662; Testing MSE 2047.58979678154\n",
      "Epoch 14: Training R2 0.5472873085248557; Testing R2 0.30869588377342805\n"
     ]
    },
    {
     "data": {
      "application/vnd.jupyter.widget-view+json": {
       "model_id": "418a6a9e9ec242368a12bc5f6c581b6f",
       "version_major": 2,
       "version_minor": 0
      },
      "text/plain": [
       "HBox(children=(IntProgress(value=0, max=96), HTML(value='')))"
      ]
     },
     "metadata": {},
     "output_type": "display_data"
    },
    {
     "name": "stdout",
     "output_type": "stream",
     "text": [
      "\n",
      "Epoch 15: Training MSE 4638.540598750114; Testing MSE 1941.484248638153\n",
      "Epoch 15: Training R2 0.603220042088258; Testing R2 0.3445190756555597\n"
     ]
    },
    {
     "data": {
      "application/vnd.jupyter.widget-view+json": {
       "model_id": "df7eb31d48dd41bb80609b588ce7be64",
       "version_major": 2,
       "version_minor": 0
      },
      "text/plain": [
       "HBox(children=(IntProgress(value=0, max=96), HTML(value='')))"
      ]
     },
     "metadata": {},
     "output_type": "display_data"
    },
    {
     "name": "stdout",
     "output_type": "stream",
     "text": [
      "\n",
      "Epoch 16: Training MSE 4100.440895557404; Testing MSE 2043.9857006072998\n",
      "Epoch 16: Training R2 0.6492489973253115; Testing R2 0.3099126931775601\n"
     ]
    },
    {
     "data": {
      "application/vnd.jupyter.widget-view+json": {
       "model_id": "fda5ec178e8449cca66a784e4a2913e8",
       "version_major": 2,
       "version_minor": 0
      },
      "text/plain": [
       "HBox(children=(IntProgress(value=0, max=96), HTML(value='')))"
      ]
     },
     "metadata": {},
     "output_type": "display_data"
    },
    {
     "name": "stdout",
     "output_type": "stream",
     "text": [
      "\n",
      "Epoch 17: Training MSE 3060.4637518525124; Testing MSE 2150.8102416992188\n",
      "Epoch 17: Training R2 0.7382084617352145; Testing R2 0.2738467560025777\n"
     ]
    },
    {
     "data": {
      "application/vnd.jupyter.widget-view+json": {
       "model_id": "02d4ebb022994459a6dfec8fa23cc935",
       "version_major": 2,
       "version_minor": 0
      },
      "text/plain": [
       "HBox(children=(IntProgress(value=0, max=96), HTML(value='')))"
      ]
     },
     "metadata": {},
     "output_type": "display_data"
    },
    {
     "name": "stdout",
     "output_type": "stream",
     "text": [
      "\n",
      "Epoch 18: Training MSE 2494.528353214264; Testing MSE 2206.7391872406006\n",
      "Epoch 18: Training R2 0.7866184775304748; Testing R2 0.2549641114759532\n"
     ]
    },
    {
     "data": {
      "application/vnd.jupyter.widget-view+json": {
       "model_id": "187e628e478548f0abcbae1df9c78a72",
       "version_major": 2,
       "version_minor": 0
      },
      "text/plain": [
       "HBox(children=(IntProgress(value=0, max=96), HTML(value='')))"
      ]
     },
     "metadata": {},
     "output_type": "display_data"
    },
    {
     "name": "stdout",
     "output_type": "stream",
     "text": [
      "\n",
      "Epoch 19: Training MSE 1874.480029195547; Testing MSE 2340.996688604355\n",
      "Epoch 19: Training R2 0.8396573035728048; Testing R2 0.20963630046959647\n"
     ]
    },
    {
     "data": {
      "application/vnd.jupyter.widget-view+json": {
       "model_id": "66317abb078f4328a85ae5d388e7a778",
       "version_major": 2,
       "version_minor": 0
      },
      "text/plain": [
       "HBox(children=(IntProgress(value=0, max=96), HTML(value='')))"
      ]
     },
     "metadata": {},
     "output_type": "display_data"
    },
    {
     "name": "stdout",
     "output_type": "stream",
     "text": [
      "\n",
      "Epoch 20: Training MSE 1582.7989727258682; Testing MSE 2361.891895532608\n",
      "Epoch 20: Training R2 0.8646076505291032; Testing R2 0.2025816928613674\n"
     ]
    },
    {
     "data": {
      "application/vnd.jupyter.widget-view+json": {
       "model_id": "1221c1a760dd4d19bb31003c1448ff52",
       "version_major": 2,
       "version_minor": 0
      },
      "text/plain": [
       "HBox(children=(IntProgress(value=0, max=96), HTML(value='')))"
      ]
     },
     "metadata": {},
     "output_type": "display_data"
    },
    {
     "name": "stdout",
     "output_type": "stream",
     "text": [
      "\n",
      "Epoch 21: Training MSE 1250.1707941293716; Testing MSE 2147.7686166763306\n",
      "Epoch 21: Training R2 0.8930606072067574; Testing R2 0.274873664762157\n"
     ]
    },
    {
     "data": {
      "application/vnd.jupyter.widget-view+json": {
       "model_id": "d5df3b2e170e4ab99badeacf4a20a07a",
       "version_major": 2,
       "version_minor": 0
      },
      "text/plain": [
       "HBox(children=(IntProgress(value=0, max=96), HTML(value='')))"
      ]
     },
     "metadata": {},
     "output_type": "display_data"
    },
    {
     "name": "stdout",
     "output_type": "stream",
     "text": [
      "\n",
      "Epoch 22: Training MSE 980.292809009552; Testing MSE 2228.0475854873657\n",
      "Epoch 22: Training R2 0.916145923223179; Testing R2 0.24777000285061335\n"
     ]
    },
    {
     "data": {
      "application/vnd.jupyter.widget-view+json": {
       "model_id": "0e1a91126d7a4fb8bb183330f8aba1a4",
       "version_major": 2,
       "version_minor": 0
      },
      "text/plain": [
       "HBox(children=(IntProgress(value=0, max=96), HTML(value='')))"
      ]
     },
     "metadata": {},
     "output_type": "display_data"
    },
    {
     "name": "stdout",
     "output_type": "stream",
     "text": [
      "\n",
      "Epoch 23: Training MSE 866.4809342473745; Testing MSE 2023.9900648593903\n",
      "Epoch 23: Training R2 0.9258813712410666; Testing R2 0.31666358894819957\n"
     ]
    },
    {
     "data": {
      "application/vnd.jupyter.widget-view+json": {
       "model_id": "8ee8788b6488413ab4cb6bbad606701c",
       "version_major": 2,
       "version_minor": 0
      },
      "text/plain": [
       "HBox(children=(IntProgress(value=0, max=96), HTML(value='')))"
      ]
     },
     "metadata": {},
     "output_type": "display_data"
    },
    {
     "name": "stdout",
     "output_type": "stream",
     "text": [
      "\n",
      "Epoch 24: Training MSE 816.2217736244202; Testing MSE 2107.584375143051\n",
      "Epoch 24: Training R2 0.9301805311195053; Testing R2 0.2884406065505286\n",
      "Printing performance_continuous\n",
      "{'HHVEHCNT_mean_norm': {'mse_train_list': [12289.831066131592, 9480.62248826027, 9419.594323635101, 9423.573732376099, 9390.378141403198, 9189.957186579704, 9208.962392807007, 9008.318811655045, 8940.918028354645, 8769.993835687637, 8458.903816342354, 7779.080682992935, 7207.260704040527], 'mse_test_list': [2252.972501516342, 2213.598781824112, 2448.0222284793854, 2383.0234944820404, 2293.3943271636963, 2247.4409699440002, 2479.7330141067505, 2231.999635696411, 2276.9818365573883, 2412.8169894218445, 2458.054429292679, 2273.6178278923035, 2583.915901184082], 'r_square_train_list': [-0.1485338091929298, 0.11399795478318664, 0.11970128056592744, 0.11932938892193012, 0.12243164950983887, 0.14116178839025606, 0.13938567594531814, 0.15813662014549024, 0.16443549260110335, 0.18040904122278156, 0.2094816462893544, 0.2730138338940331, 0.32645269526363474], 'r_square_test_list': [0.11628398095862424, 0.13172810502043597, 0.03977680294785102, 0.06527219732670086, 0.10042874312530747, 0.11845369366351599, 0.02733842244545759, 0.12451047172928575, 0.10686645190843669, 0.05358586350602068, 0.03584172759341131, 0.10818596572563988, -0.013526739538654908]}, 'HHVEHCNT_P_CAP_mean_norm': {'mse_train_list': [13540.380555391312, 9735.587310791016, 9618.94556581974, 9510.758924484253, 9490.629184246063, 9593.11273097992, 9410.212725400925, 9397.264230251312, 9295.734244585037, 9178.00213098526, 8911.69028878212], 'mse_test_list': [2281.4390897750854, 2164.970076084137, 2197.1999406814575, 2190.2142107486725, 2234.970724582672, 2149.606055021286, 2204.2458415031433, 2185.689878463745, 2200.8840322494507, 2227.311858534813, 2508.815550804138], 'r_square_train_list': [-0.26440449497645147, 0.09088815438805686, 0.10178019291239915, 0.11188269151215458, 0.11376241224347039, 0.10419247020075417, 0.12127172349347048, 0.12248085756495208, 0.13196175581047576, 0.14295561326002626, 0.16782388701124196], 'r_square_test_list': [0.06726471179942606, 0.11488148120534214, 0.10170474018316089, 0.10456076068852971, 0.08626266979629194, 0.12116285188852383, 0.0988241196296682, 0.10641047230108602, 0.10019854953979457, 0.08939389283111066, -0.025695056383062687]}, 'TRPTRANS_1_mean_norm': {'mse_train_list': [11589.290422201157, 8945.562520623207, 8658.142161369324, 8583.106908202171, 8551.913020014763, 8333.581930398941, 8071.595141291618, 7543.664637207985, 6944.561877846718, 6217.7868485450745, 5625.437590479851, 4941.749545931816, 4544.346979260445, 4108.480057120323, 3782.21971988678, 3348.8546445965767, 2775.9963780641556, 2441.845463216305, 1967.9514281451702, 1700.1413457095623, 1278.2281830906868, 1181.6141374409199, 970.6743523478508, 789.4730728119612, 779.5168777927756], 'mse_test_list': [2117.0675933361053, 2170.309364795685, 2129.5178294181824, 2090.3336107730865, 2200.423604249954, 2115.4613733291626, 2079.396069049835, 2220.050159096718, 2277.8170585632324, 2250.7968842983246, 2213.0647599697113, 2299.4918435811996, 2484.0884804725647, 2270.719599723816, 2441.2298917770386, 2447.4378407001495, 2565.4694736003876, 2512.2011244297028, 2462.160551548004, 2557.1705639362335, 2497.9071736335754, 2348.490169644356, 2398.120477795601, 2343.8899874687195, 2401.253205537796], 'r_square_train_list': [0.004314808912195156, 0.23144870796646055, 0.2561422124780054, 0.26258880995432166, 0.26526880945292364, 0.28402656120173597, 0.3065349596171465, 0.3518917127650891, 0.4033631768241077, 0.4658035081615469, 0.516694750223921, 0.575433295594757, 0.6095758389360615, 0.6470230185173558, 0.6750534305950826, 0.7122856658814215, 0.7615023540304988, 0.7902106791635966, 0.8309249296203174, 0.8539336319127648, 0.8901819847144066, 0.8984825079561292, 0.9166052413226231, 0.9321730132972061, 0.9330283923220681], 'r_square_test_list': [0.30337089235637715, 0.28585148586316933, 0.29927409503204494, 0.3121678105441845, 0.2759422813463046, 0.30389942513144674, 0.31576685006208516, 0.26948408916006716, 0.25047567216225053, 0.2593667628131996, 0.27178266119229644, 0.243343502082768, 0.18260127975768714, 0.2528111178671506, 0.1967040606475411, 0.19466131154863808, 0.15582255582830595, 0.17335070781798678, 0.1898167477981373, 0.1585533434762546, 0.17805418645001136, 0.22722041736461807, 0.210889376547448, 0.2287341247276229, 0.20985854062213072]}, 'TRPTRANS_2_mean_norm': {'mse_train_list': [12354.858168959618, 8083.891075849533, 7986.111298203468, 7964.319717884064, 7891.997271776199, 7652.407121658325, 7680.348724126816, 7397.751063108444, 7254.348391294479, 6922.560986876488, 6935.7991099357605, 6725.269651412964, 6508.821114897728, 5722.982302308083, 5292.420035600662, 4638.540598750114, 4100.440895557404, 3060.4637518525124, 2494.528353214264, 1874.480029195547, 1582.7989727258682, 1250.1707941293716, 980.292809009552, 866.4809342473745, 816.2217736244202], 'mse_test_list': [1917.7852928638458, 1827.8386652469635, 1910.0234299898148, 1952.5537848472595, 1793.386685848236, 1848.8260984420776, 1705.4666101932526, 1757.7032774686813, 1811.5449845790863, 1908.9200019836426, 1855.3449243307114, 2138.31946849823, 1937.5603079795837, 1991.997516155243, 2047.58979678154, 1941.484248638153, 2043.9857006072998, 2150.8102416992188, 2206.7391872406006, 2340.996688604355, 2361.891895532608, 2147.7686166763306, 2228.0475854873657, 2023.9900648593903, 2107.584375143051], 'r_square_train_list': [-0.05683242388915577, 0.3085053601335356, 0.31686942534608953, 0.3187334733452153, 0.3249199228354892, 0.34541442270155776, 0.3430243028749853, 0.3671976577605801, 0.37946429742351817, 0.40784533442383886, 0.4067129476745014, 0.4247216010242998, 0.44323657127846006, 0.5104570869442604, 0.5472873085248557, 0.603220042088258, 0.6492489973253115, 0.7382084617352145, 0.7866184775304748, 0.8396573035728048, 0.8646076505291032, 0.8930606072067574, 0.916145923223179, 0.9258813712410666, 0.9301805311195053], 'r_square_test_list': [0.3525202806346046, 0.3828879226349635, 0.3551408288336815, 0.3407817958751551, 0.3945195469026411, 0.37580217773644053, 0.4242029875482122, 0.4065669243278237, 0.388388970028289, 0.35551336649909937, 0.3736013017715083, 0.27806387162909063, 0.3458438704622937, 0.32746486400950314, 0.30869588377342805, 0.3445190756555597, 0.3099126931775601, 0.2738467560025777, 0.2549641114759532, 0.20963630046959647, 0.2025816928613674, 0.274873664762157, 0.24777000285061335, 0.31666358894819957, 0.2884406065505286]}}\n",
      "Stored 'performance_continuous' (dict)\n",
      "TRPTRANS_3_mean_norm\n",
      "tensor(11467.2451)\n",
      "tensor(2919.1924)\n"
     ]
    },
    {
     "data": {
      "application/vnd.jupyter.widget-view+json": {
       "model_id": "8ad58737704741aa81bafcb46481b2cf",
       "version_major": 2,
       "version_minor": 0
      },
      "text/plain": [
       "HBox(children=(IntProgress(value=0, max=96), HTML(value='')))"
      ]
     },
     "metadata": {},
     "output_type": "display_data"
    },
    {
     "name": "stdout",
     "output_type": "stream",
     "text": [
      "\n",
      "Epoch 0: Training MSE 12221.366964280605; Testing MSE 2434.195813536644\n",
      "Epoch 0: Training R2 -0.06576312264946726; Testing R2 0.1661406668951998\n"
     ]
    },
    {
     "data": {
      "application/vnd.jupyter.widget-view+json": {
       "model_id": "7ba049adaf4341f4984c6b2d2f1bbde2",
       "version_major": 2,
       "version_minor": 0
      },
      "text/plain": [
       "HBox(children=(IntProgress(value=0, max=96), HTML(value='')))"
      ]
     },
     "metadata": {},
     "output_type": "display_data"
    },
    {
     "name": "stdout",
     "output_type": "stream",
     "text": [
      "\n",
      "Epoch 1: Training MSE 9284.279108047485; Testing MSE 2318.77281665802\n",
      "Epoch 1: Training R2 0.190365339436942; Testing R2 0.20568002632837956\n"
     ]
    },
    {
     "data": {
      "application/vnd.jupyter.widget-view+json": {
       "model_id": "35ce7baa2aef4f0db29052682e950651",
       "version_major": 2,
       "version_minor": 0
      },
      "text/plain": [
       "HBox(children=(IntProgress(value=0, max=96), HTML(value='')))"
      ]
     },
     "metadata": {},
     "output_type": "display_data"
    },
    {
     "name": "stdout",
     "output_type": "stream",
     "text": [
      "\n",
      "Epoch 2: Training MSE 8985.270258784294; Testing MSE 2349.91497695446\n",
      "Epoch 2: Training R2 0.21644037718206066; Testing R2 0.1950119523501801\n"
     ]
    },
    {
     "data": {
      "application/vnd.jupyter.widget-view+json": {
       "model_id": "de521d2693454e24aa654c164f2d6a80",
       "version_major": 2,
       "version_minor": 0
      },
      "text/plain": [
       "HBox(children=(IntProgress(value=0, max=96), HTML(value='')))"
      ]
     },
     "metadata": {},
     "output_type": "display_data"
    },
    {
     "name": "stdout",
     "output_type": "stream",
     "text": [
      "\n",
      "Epoch 3: Training MSE 8789.655330777168; Testing MSE 2419.274690747261\n",
      "Epoch 3: Training R2 0.2334989580363176; Testing R2 0.17125205416697908\n"
     ]
    },
    {
     "data": {
      "application/vnd.jupyter.widget-view+json": {
       "model_id": "7486f22303ae452f837ef75883f65078",
       "version_major": 2,
       "version_minor": 0
      },
      "text/plain": [
       "HBox(children=(IntProgress(value=0, max=96), HTML(value='')))"
      ]
     },
     "metadata": {},
     "output_type": "display_data"
    },
    {
     "name": "stdout",
     "output_type": "stream",
     "text": [
      "\n",
      "Epoch 4: Training MSE 9078.52722555399; Testing MSE 2341.0926580429077\n",
      "Epoch 4: Training R2 0.2083079124255588; Testing R2 0.1980341303208737\n"
     ]
    },
    {
     "data": {
      "application/vnd.jupyter.widget-view+json": {
       "model_id": "c36b4d8db63840b38ecffa9412c75b61",
       "version_major": 2,
       "version_minor": 0
      },
      "text/plain": [
       "HBox(children=(IntProgress(value=0, max=96), HTML(value='')))"
      ]
     },
     "metadata": {},
     "output_type": "display_data"
    },
    {
     "name": "stdout",
     "output_type": "stream",
     "text": [
      "\n",
      "Epoch 5: Training MSE 8953.550997376442; Testing MSE 2418.983170390129\n",
      "Epoch 5: Training R2 0.21920645230156; Testing R2 0.1713519175260534\n"
     ]
    },
    {
     "data": {
      "application/vnd.jupyter.widget-view+json": {
       "model_id": "eb48ab4e46ea4834aa5b0ca26756d002",
       "version_major": 2,
       "version_minor": 0
      },
      "text/plain": [
       "HBox(children=(IntProgress(value=0, max=96), HTML(value='')))"
      ]
     },
     "metadata": {},
     "output_type": "display_data"
    },
    {
     "name": "stdout",
     "output_type": "stream",
     "text": [
      "\n",
      "Epoch 6: Training MSE 8693.798604607582; Testing MSE 2356.831109523773\n",
      "Epoch 6: Training R2 0.2418581345595361; Testing R2 0.1926427585245064\n"
     ]
    },
    {
     "data": {
      "application/vnd.jupyter.widget-view+json": {
       "model_id": "3dd130beef24410aa411d795219fe9bc",
       "version_major": 2,
       "version_minor": 0
      },
      "text/plain": [
       "HBox(children=(IntProgress(value=0, max=96), HTML(value='')))"
      ]
     },
     "metadata": {},
     "output_type": "display_data"
    },
    {
     "name": "stdout",
     "output_type": "stream",
     "text": [
      "\n",
      "Epoch 7: Training MSE 8784.278130531311; Testing MSE 2414.697849750519\n",
      "Epoch 7: Training R2 0.23396787626304993; Testing R2 0.1728198991037121\n"
     ]
    },
    {
     "data": {
      "application/vnd.jupyter.widget-view+json": {
       "model_id": "06da6640a5324b30b908257b416d24e1",
       "version_major": 2,
       "version_minor": 0
      },
      "text/plain": [
       "HBox(children=(IntProgress(value=0, max=96), HTML(value='')))"
      ]
     },
     "metadata": {},
     "output_type": "display_data"
    },
    {
     "name": "stdout",
     "output_type": "stream",
     "text": [
      "\n",
      "Epoch 8: Training MSE 8640.774777531624; Testing MSE 2374.1650879383087\n",
      "Epoch 8: Training R2 0.24648207226506957; Testing R2 0.18670482222520868\n"
     ]
    },
    {
     "data": {
      "application/vnd.jupyter.widget-view+json": {
       "model_id": "cfaed099025046e3b72d3360e15489c5",
       "version_major": 2,
       "version_minor": 0
      },
      "text/plain": [
       "HBox(children=(IntProgress(value=0, max=96), HTML(value='')))"
      ]
     },
     "metadata": {},
     "output_type": "display_data"
    },
    {
     "name": "stdout",
     "output_type": "stream",
     "text": [
      "\n",
      "Epoch 9: Training MSE 8533.23737680912; Testing MSE 2534.981232881546\n",
      "Epoch 9: Training R2 0.2558598608815633; Testing R2 0.13161556332946622\n"
     ]
    },
    {
     "data": {
      "application/vnd.jupyter.widget-view+json": {
       "model_id": "636421886d324544ab74a2601daa523e",
       "version_major": 2,
       "version_minor": 0
      },
      "text/plain": [
       "HBox(children=(IntProgress(value=0, max=96), HTML(value='')))"
      ]
     },
     "metadata": {},
     "output_type": "display_data"
    },
    {
     "name": "stdout",
     "output_type": "stream",
     "text": [
      "\n",
      "Epoch 10: Training MSE 8358.53601694107; Testing MSE 2625.91512799263\n",
      "Epoch 10: Training R2 0.27109467605144233; Testing R2 0.10046520282343008\n"
     ]
    },
    {
     "data": {
      "application/vnd.jupyter.widget-view+json": {
       "model_id": "45d86cac5f0a4228829a6df301f1ac8e",
       "version_major": 2,
       "version_minor": 0
      },
      "text/plain": [
       "HBox(children=(IntProgress(value=0, max=96), HTML(value='')))"
      ]
     },
     "metadata": {},
     "output_type": "display_data"
    },
    {
     "name": "stdout",
     "output_type": "stream",
     "text": [
      "\n",
      "Epoch 11: Training MSE 7860.521158576012; Testing MSE 2450.1741141080856\n",
      "Epoch 11: Training R2 0.3145240135493055; Testing R2 0.16066713227462526\n"
     ]
    },
    {
     "data": {
      "application/vnd.jupyter.widget-view+json": {
       "model_id": "b2786bf10e8649218c099b6d060db151",
       "version_major": 2,
       "version_minor": 0
      },
      "text/plain": [
       "HBox(children=(IntProgress(value=0, max=96), HTML(value='')))"
      ]
     },
     "metadata": {},
     "output_type": "display_data"
    },
    {
     "name": "stdout",
     "output_type": "stream",
     "text": [
      "\n",
      "Epoch 12: Training MSE 6942.787021398544; Testing MSE 2564.8618668317795\n",
      "Epoch 12: Training R2 0.3945549301119885; Testing R2 0.12137963844621313\n"
     ]
    },
    {
     "data": {
      "application/vnd.jupyter.widget-view+json": {
       "model_id": "ea6acb5ac2d94379a78b55bc1402c80e",
       "version_major": 2,
       "version_minor": 0
      },
      "text/plain": [
       "HBox(children=(IntProgress(value=0, max=96), HTML(value='')))"
      ]
     },
     "metadata": {},
     "output_type": "display_data"
    },
    {
     "name": "stdout",
     "output_type": "stream",
     "text": [
      "\n",
      "Epoch 13: Training MSE 6337.767417728901; Testing MSE 2568.4024930000305\n",
      "Epoch 13: Training R2 0.447315606062206; Testing R2 0.12016675977843583\n"
     ]
    },
    {
     "data": {
      "application/vnd.jupyter.widget-view+json": {
       "model_id": "7edc1e31eaaf45258cd6a7f4f9a9f4ae",
       "version_major": 2,
       "version_minor": 0
      },
      "text/plain": [
       "HBox(children=(IntProgress(value=0, max=96), HTML(value='')))"
      ]
     },
     "metadata": {},
     "output_type": "display_data"
    },
    {
     "name": "stdout",
     "output_type": "stream",
     "text": [
      "\n",
      "Epoch 14: Training MSE 5950.50647854805; Testing MSE 2669.2791879177094\n",
      "Epoch 14: Training R2 0.48108665876259793; Testing R2 0.08561038880692451\n"
     ]
    },
    {
     "data": {
      "application/vnd.jupyter.widget-view+json": {
       "model_id": "71833e0d34bd43c89c60f75c284de03c",
       "version_major": 2,
       "version_minor": 0
      },
      "text/plain": [
       "HBox(children=(IntProgress(value=0, max=96), HTML(value='')))"
      ]
     },
     "metadata": {},
     "output_type": "display_data"
    },
    {
     "name": "stdout",
     "output_type": "stream",
     "text": [
      "\n",
      "Epoch 15: Training MSE 5471.460755169392; Testing MSE 2806.922161579132\n",
      "Epoch 15: Training R2 0.5228617946808707; Testing R2 0.038459343034185745\n"
     ]
    },
    {
     "data": {
      "application/vnd.jupyter.widget-view+json": {
       "model_id": "f5ce20dade5d4e058e96245d4f83704f",
       "version_major": 2,
       "version_minor": 0
      },
      "text/plain": [
       "HBox(children=(IntProgress(value=0, max=96), HTML(value='')))"
      ]
     },
     "metadata": {},
     "output_type": "display_data"
    },
    {
     "name": "stdout",
     "output_type": "stream",
     "text": [
      "\n",
      "Epoch 16: Training MSE 5030.691860616207; Testing MSE 2852.891978621483\n",
      "Epoch 16: Training R2 0.5612990034480004; Testing R2 0.02271189955871966\n"
     ]
    },
    {
     "data": {
      "application/vnd.jupyter.widget-view+json": {
       "model_id": "2ffccce19dcb42fbaf4336fe0d185141",
       "version_major": 2,
       "version_minor": 0
      },
      "text/plain": [
       "HBox(children=(IntProgress(value=0, max=96), HTML(value='')))"
      ]
     },
     "metadata": {},
     "output_type": "display_data"
    },
    {
     "name": "stdout",
     "output_type": "stream",
     "text": [
      "\n",
      "Epoch 17: Training MSE 4827.313807606697; Testing MSE 2748.250252008438\n",
      "Epoch 17: Training R2 0.5790345668663388; Testing R2 0.05855802166740631\n"
     ]
    },
    {
     "data": {
      "application/vnd.jupyter.widget-view+json": {
       "model_id": "b5fb917726b946a19e9e9fc358ff1a7a",
       "version_major": 2,
       "version_minor": 0
      },
      "text/plain": [
       "HBox(children=(IntProgress(value=0, max=96), HTML(value='')))"
      ]
     },
     "metadata": {},
     "output_type": "display_data"
    },
    {
     "name": "stdout",
     "output_type": "stream",
     "text": [
      "\n",
      "Epoch 18: Training MSE 4774.267952144146; Testing MSE 2902.468317747116\n",
      "Epoch 18: Training R2 0.583660425555192; Testing R2 0.005729004077926203\n"
     ]
    },
    {
     "data": {
      "application/vnd.jupyter.widget-view+json": {
       "model_id": "712567b0d7ad4f31a97cae53f945ebd6",
       "version_major": 2,
       "version_minor": 0
      },
      "text/plain": [
       "HBox(children=(IntProgress(value=0, max=96), HTML(value='')))"
      ]
     },
     "metadata": {},
     "output_type": "display_data"
    },
    {
     "name": "stdout",
     "output_type": "stream",
     "text": [
      "\n",
      "Epoch 19: Training MSE 4238.681660592556; Testing MSE 2865.4274731874466\n",
      "Epoch 19: Training R2 0.6303661762458121; Testing R2 0.01841773428212823\n"
     ]
    },
    {
     "data": {
      "application/vnd.jupyter.widget-view+json": {
       "model_id": "68e9b907f5054e398d9dbf5ddbde5ba3",
       "version_major": 2,
       "version_minor": 0
      },
      "text/plain": [
       "HBox(children=(IntProgress(value=0, max=96), HTML(value='')))"
      ]
     },
     "metadata": {},
     "output_type": "display_data"
    },
    {
     "name": "stdout",
     "output_type": "stream",
     "text": [
      "\n",
      "Epoch 20: Training MSE 4036.992648243904; Testing MSE 2739.799642562866\n",
      "Epoch 20: Training R2 0.6479544470368805; Testing R2 0.061452866657865646\n"
     ]
    },
    {
     "data": {
      "application/vnd.jupyter.widget-view+json": {
       "model_id": "a5f5e3a50a1f47b59cdf20ad0329a52e",
       "version_major": 2,
       "version_minor": 0
      },
      "text/plain": [
       "HBox(children=(IntProgress(value=0, max=96), HTML(value='')))"
      ]
     },
     "metadata": {},
     "output_type": "display_data"
    },
    {
     "name": "stdout",
     "output_type": "stream",
     "text": [
      "\n",
      "Epoch 21: Training MSE 3608.556942641735; Testing MSE 2919.481974840164\n",
      "Epoch 21: Training R2 0.6853161412558361; Testing R2 -9.920278956920825e-05\n",
      "Printing performance_continuous\n",
      "{'HHVEHCNT_mean_norm': {'mse_train_list': [12289.831066131592, 9480.62248826027, 9419.594323635101, 9423.573732376099, 9390.378141403198, 9189.957186579704, 9208.962392807007, 9008.318811655045, 8940.918028354645, 8769.993835687637, 8458.903816342354, 7779.080682992935, 7207.260704040527], 'mse_test_list': [2252.972501516342, 2213.598781824112, 2448.0222284793854, 2383.0234944820404, 2293.3943271636963, 2247.4409699440002, 2479.7330141067505, 2231.999635696411, 2276.9818365573883, 2412.8169894218445, 2458.054429292679, 2273.6178278923035, 2583.915901184082], 'r_square_train_list': [-0.1485338091929298, 0.11399795478318664, 0.11970128056592744, 0.11932938892193012, 0.12243164950983887, 0.14116178839025606, 0.13938567594531814, 0.15813662014549024, 0.16443549260110335, 0.18040904122278156, 0.2094816462893544, 0.2730138338940331, 0.32645269526363474], 'r_square_test_list': [0.11628398095862424, 0.13172810502043597, 0.03977680294785102, 0.06527219732670086, 0.10042874312530747, 0.11845369366351599, 0.02733842244545759, 0.12451047172928575, 0.10686645190843669, 0.05358586350602068, 0.03584172759341131, 0.10818596572563988, -0.013526739538654908]}, 'HHVEHCNT_P_CAP_mean_norm': {'mse_train_list': [13540.380555391312, 9735.587310791016, 9618.94556581974, 9510.758924484253, 9490.629184246063, 9593.11273097992, 9410.212725400925, 9397.264230251312, 9295.734244585037, 9178.00213098526, 8911.69028878212], 'mse_test_list': [2281.4390897750854, 2164.970076084137, 2197.1999406814575, 2190.2142107486725, 2234.970724582672, 2149.606055021286, 2204.2458415031433, 2185.689878463745, 2200.8840322494507, 2227.311858534813, 2508.815550804138], 'r_square_train_list': [-0.26440449497645147, 0.09088815438805686, 0.10178019291239915, 0.11188269151215458, 0.11376241224347039, 0.10419247020075417, 0.12127172349347048, 0.12248085756495208, 0.13196175581047576, 0.14295561326002626, 0.16782388701124196], 'r_square_test_list': [0.06726471179942606, 0.11488148120534214, 0.10170474018316089, 0.10456076068852971, 0.08626266979629194, 0.12116285188852383, 0.0988241196296682, 0.10641047230108602, 0.10019854953979457, 0.08939389283111066, -0.025695056383062687]}, 'TRPTRANS_1_mean_norm': {'mse_train_list': [11589.290422201157, 8945.562520623207, 8658.142161369324, 8583.106908202171, 8551.913020014763, 8333.581930398941, 8071.595141291618, 7543.664637207985, 6944.561877846718, 6217.7868485450745, 5625.437590479851, 4941.749545931816, 4544.346979260445, 4108.480057120323, 3782.21971988678, 3348.8546445965767, 2775.9963780641556, 2441.845463216305, 1967.9514281451702, 1700.1413457095623, 1278.2281830906868, 1181.6141374409199, 970.6743523478508, 789.4730728119612, 779.5168777927756], 'mse_test_list': [2117.0675933361053, 2170.309364795685, 2129.5178294181824, 2090.3336107730865, 2200.423604249954, 2115.4613733291626, 2079.396069049835, 2220.050159096718, 2277.8170585632324, 2250.7968842983246, 2213.0647599697113, 2299.4918435811996, 2484.0884804725647, 2270.719599723816, 2441.2298917770386, 2447.4378407001495, 2565.4694736003876, 2512.2011244297028, 2462.160551548004, 2557.1705639362335, 2497.9071736335754, 2348.490169644356, 2398.120477795601, 2343.8899874687195, 2401.253205537796], 'r_square_train_list': [0.004314808912195156, 0.23144870796646055, 0.2561422124780054, 0.26258880995432166, 0.26526880945292364, 0.28402656120173597, 0.3065349596171465, 0.3518917127650891, 0.4033631768241077, 0.4658035081615469, 0.516694750223921, 0.575433295594757, 0.6095758389360615, 0.6470230185173558, 0.6750534305950826, 0.7122856658814215, 0.7615023540304988, 0.7902106791635966, 0.8309249296203174, 0.8539336319127648, 0.8901819847144066, 0.8984825079561292, 0.9166052413226231, 0.9321730132972061, 0.9330283923220681], 'r_square_test_list': [0.30337089235637715, 0.28585148586316933, 0.29927409503204494, 0.3121678105441845, 0.2759422813463046, 0.30389942513144674, 0.31576685006208516, 0.26948408916006716, 0.25047567216225053, 0.2593667628131996, 0.27178266119229644, 0.243343502082768, 0.18260127975768714, 0.2528111178671506, 0.1967040606475411, 0.19466131154863808, 0.15582255582830595, 0.17335070781798678, 0.1898167477981373, 0.1585533434762546, 0.17805418645001136, 0.22722041736461807, 0.210889376547448, 0.2287341247276229, 0.20985854062213072]}, 'TRPTRANS_2_mean_norm': {'mse_train_list': [12354.858168959618, 8083.891075849533, 7986.111298203468, 7964.319717884064, 7891.997271776199, 7652.407121658325, 7680.348724126816, 7397.751063108444, 7254.348391294479, 6922.560986876488, 6935.7991099357605, 6725.269651412964, 6508.821114897728, 5722.982302308083, 5292.420035600662, 4638.540598750114, 4100.440895557404, 3060.4637518525124, 2494.528353214264, 1874.480029195547, 1582.7989727258682, 1250.1707941293716, 980.292809009552, 866.4809342473745, 816.2217736244202], 'mse_test_list': [1917.7852928638458, 1827.8386652469635, 1910.0234299898148, 1952.5537848472595, 1793.386685848236, 1848.8260984420776, 1705.4666101932526, 1757.7032774686813, 1811.5449845790863, 1908.9200019836426, 1855.3449243307114, 2138.31946849823, 1937.5603079795837, 1991.997516155243, 2047.58979678154, 1941.484248638153, 2043.9857006072998, 2150.8102416992188, 2206.7391872406006, 2340.996688604355, 2361.891895532608, 2147.7686166763306, 2228.0475854873657, 2023.9900648593903, 2107.584375143051], 'r_square_train_list': [-0.05683242388915577, 0.3085053601335356, 0.31686942534608953, 0.3187334733452153, 0.3249199228354892, 0.34541442270155776, 0.3430243028749853, 0.3671976577605801, 0.37946429742351817, 0.40784533442383886, 0.4067129476745014, 0.4247216010242998, 0.44323657127846006, 0.5104570869442604, 0.5472873085248557, 0.603220042088258, 0.6492489973253115, 0.7382084617352145, 0.7866184775304748, 0.8396573035728048, 0.8646076505291032, 0.8930606072067574, 0.916145923223179, 0.9258813712410666, 0.9301805311195053], 'r_square_test_list': [0.3525202806346046, 0.3828879226349635, 0.3551408288336815, 0.3407817958751551, 0.3945195469026411, 0.37580217773644053, 0.4242029875482122, 0.4065669243278237, 0.388388970028289, 0.35551336649909937, 0.3736013017715083, 0.27806387162909063, 0.3458438704622937, 0.32746486400950314, 0.30869588377342805, 0.3445190756555597, 0.3099126931775601, 0.2738467560025777, 0.2549641114759532, 0.20963630046959647, 0.2025816928613674, 0.274873664762157, 0.24777000285061335, 0.31666358894819957, 0.2884406065505286]}, 'TRPTRANS_3_mean_norm': {'mse_train_list': [12221.366964280605, 9284.279108047485, 8985.270258784294, 8789.655330777168, 9078.52722555399, 8953.550997376442, 8693.798604607582, 8784.278130531311, 8640.774777531624, 8533.23737680912, 8358.53601694107, 7860.521158576012, 6942.787021398544, 6337.767417728901, 5950.50647854805, 5471.460755169392, 5030.691860616207, 4827.313807606697, 4774.267952144146, 4238.681660592556, 4036.992648243904, 3608.556942641735], 'mse_test_list': [2434.195813536644, 2318.77281665802, 2349.91497695446, 2419.274690747261, 2341.0926580429077, 2418.983170390129, 2356.831109523773, 2414.697849750519, 2374.1650879383087, 2534.981232881546, 2625.91512799263, 2450.1741141080856, 2564.8618668317795, 2568.4024930000305, 2669.2791879177094, 2806.922161579132, 2852.891978621483, 2748.250252008438, 2902.468317747116, 2865.4274731874466, 2739.799642562866, 2919.481974840164], 'r_square_train_list': [-0.06576312264946726, 0.190365339436942, 0.21644037718206066, 0.2334989580363176, 0.2083079124255588, 0.21920645230156, 0.2418581345595361, 0.23396787626304993, 0.24648207226506957, 0.2558598608815633, 0.27109467605144233, 0.3145240135493055, 0.3945549301119885, 0.447315606062206, 0.48108665876259793, 0.5228617946808707, 0.5612990034480004, 0.5790345668663388, 0.583660425555192, 0.6303661762458121, 0.6479544470368805, 0.6853161412558361], 'r_square_test_list': [0.1661406668951998, 0.20568002632837956, 0.1950119523501801, 0.17125205416697908, 0.1980341303208737, 0.1713519175260534, 0.1926427585245064, 0.1728198991037121, 0.18670482222520868, 0.13161556332946622, 0.10046520282343008, 0.16066713227462526, 0.12137963844621313, 0.12016675977843583, 0.08561038880692451, 0.038459343034185745, 0.02271189955871966, 0.05855802166740631, 0.005729004077926203, 0.01841773428212823, 0.061452866657865646, -9.920278956920825e-05]}}\n",
      "Stored 'performance_continuous' (dict)\n"
     ]
    }
   ],
   "source": [
    "for image_type in image_types:\n",
    "    performance_continuous = {}\n",
    "    \n",
    "    for output_var in output_list:\n",
    "\n",
    "        print(output_var)\n",
    "\n",
    "        # data set up\n",
    "        y_train,y_test,BE_train,BE_test,x_train,x_test,x_train_images,x_test_images = \\\n",
    "            initialize_data(image_type, output_var, output_type, input_var, BE_var, num_categories, size)\n",
    "\n",
    "        # process data\n",
    "        x_train_images_norm = x_train_images/255 # very crude processing. It is improvable.\n",
    "        x_test_images_norm = x_test_images/255\n",
    "\n",
    "        x_train_torch = torch.from_numpy(x_train_images_norm)\n",
    "        x_test_torch = torch.from_numpy(x_test_images_norm)\n",
    "        y_train_torch = torch.from_numpy(y_train)\n",
    "        y_test_torch = torch.from_numpy(y_test)\n",
    "\n",
    "        # create data loader: train and test. \n",
    "        train_ds = TensorDataset(x_train_torch, y_train_torch)\n",
    "        batch_size = 100\n",
    "        train_dl = DataLoader(train_ds, batch_size, shuffle = True)\n",
    "\n",
    "        test_ds = TensorDataset(x_test_torch, y_test_torch)\n",
    "        batch_size = 100\n",
    "        test_dl = DataLoader(test_ds, batch_size, shuffle = True)\n",
    "\n",
    "        # model set up \n",
    "        #TODO: Change use_pretrained, full_training as needed\n",
    "        input_channels = 4 # 4 for BW images; 3 for RGB images; 7 for merged images.\n",
    "        use_pretrained = True # unclear whether True or False is better.\n",
    "        full_training = True # Fully retraining the network seems to work better.\n",
    "    #     num_bottleneck = 3 # Used for the bottleneck model\n",
    "\n",
    "        if model_name == 'bottleneck_resnet18': # It does not work.\n",
    "            model = bottleneck_resnet18(num_categories, num_bottleneck, input_channels, use_pretrained, full_training)\n",
    "            model.to(device)\n",
    "        else: \n",
    "            # 'resnet18' and others works\n",
    "            if image_type == \"rgb\":\n",
    "                input_channels = 3\n",
    "            elif image_type == \"bw\":\n",
    "                input_channels = 4\n",
    "            elif image_type == \"merge\":\n",
    "                input_channels = 7\n",
    "            model = initialize_model(model_name, num_categories, input_channels, use_pretrained, full_training)\n",
    "            model.to(device)\n",
    "\n",
    "        # training set up\n",
    "        criterion = nn.MSELoss(reduction='mean')\n",
    "        optimizer = optim.Adam(model.parameters(), lr=0.001)\n",
    "        n_epoch = 25\n",
    "\n",
    "        # create baseline mse\n",
    "        total_mse_train = criterion(y_train_torch.mean().repeat(y_train_torch.size()), y_train_torch)*y_train_torch.size()[0]\n",
    "        total_mse_test = criterion(y_test_torch.mean().repeat(y_test_torch.size()), y_test_torch)*y_test_torch.size()[0]\n",
    "        print(total_mse_train)\n",
    "        print(total_mse_test)\n",
    "\n",
    "        # training here.\n",
    "        model, mse_train_list, mse_test_list, r_square_train_list, r_square_test_list = \\\n",
    "            train_continuous_model(model, train_dl, test_dl, criterion, optimizer, device, total_mse_train, total_mse_test, n_epoch)\n",
    "\n",
    "        # save models.\n",
    "        PATH = './models/'+model_name+'_'+output_var+'_'+image_type+'.pth'\n",
    "        torch.save(model.state_dict(), PATH)\n",
    "        model_dic[output_var]=model.state_dict()\n",
    "\n",
    "        # save performance\n",
    "        performance_continuous[output_var] = {}\n",
    "        performance_continuous[output_var]['mse_train_list']=mse_train_list\n",
    "        performance_continuous[output_var]['mse_test_list']=mse_test_list\n",
    "        performance_continuous[output_var]['r_square_train_list']=r_square_train_list\n",
    "        performance_continuous[output_var]['r_square_test_list']=r_square_test_list\n",
    "\n",
    "        print(\"Printing performance_continuous\")\n",
    "        print(performance_continuous)\n",
    "        %store performance_continuous\n",
    "        \n",
    "                \n",
    "        with open('outputs/performance_continuous_'+image_type+'_'+model_name+'.pickle', 'wb') as h:\n",
    "            pickle.dump(performance_continuous, h, protocol=pickle.HIGHEST_PROTOCOL)\n"
   ]
  },
  {
   "cell_type": "markdown",
   "metadata": {},
   "source": [
    "## Store and save resnet's last layer"
   ]
  },
  {
   "cell_type": "code",
   "execution_count": 11,
   "metadata": {},
   "outputs": [],
   "source": [
    "### \n",
    "def return_last_layer_resnet(model,device,x_train_images,x_test_images,y_train,y_test):\n",
    "    ###  \n",
    "    # \n",
    "    from sklearn.preprocessing import MinMaxScaler\n",
    "\n",
    "    image_train_hidden_list = []\n",
    "    image_test_hidden_list = []\n",
    "\n",
    "    # return values in the last layer.\n",
    "    model_no_last_layer = nn.Sequential(*list(model.children())[:-1]).to(device)\n",
    "\n",
    "    # process data\n",
    "    x_train_images_norm = x_train_images/255\n",
    "    x_test_images_norm = x_test_images/255\n",
    "\n",
    "    x_train_torch = torch.from_numpy(x_train_images_norm)\n",
    "    x_test_torch = torch.from_numpy(x_test_images_norm)\n",
    "    y_train_torch = torch.from_numpy(y_train)\n",
    "    y_test_torch = torch.from_numpy(y_test)\n",
    "\n",
    "    # create data loader: train and test. \n",
    "    train_ds = TensorDataset(x_train_torch, y_train_torch)\n",
    "    batch_size = 100\n",
    "    train_dl_no_shuffle = DataLoader(train_ds, batch_size, shuffle = False) # important: NO SHUFFLE!!!\n",
    "\n",
    "    test_ds = TensorDataset(x_test_torch, y_test_torch)\n",
    "    batch_size = 100\n",
    "    test_dl_no_shuffle = DataLoader(test_ds, batch_size, shuffle = False)\n",
    "\n",
    "    for inputs, labels in train_dl_no_shuffle:\n",
    "        # to device\n",
    "        inputs = inputs.to(device)\n",
    "        labels = labels.to(device)\n",
    "        image_train_hidden_vector_batch = model_no_last_layer(inputs)\n",
    "        image_train_hidden_list.append(image_train_hidden_vector_batch.squeeze().cpu().detach().numpy())\n",
    "\n",
    "    for inputs, labels in test_dl_no_shuffle:\n",
    "        inputs = inputs.to(device)\n",
    "        labels = labels.to(device)\n",
    "        # forward + backward\n",
    "        image_test_hidden_vector_batch = model_no_last_layer(inputs)\n",
    "        image_test_hidden_list.append(image_test_hidden_vector_batch.squeeze().cpu().detach().numpy())\n",
    "\n",
    "    # vectorize\n",
    "    image_train_hidden_vector=np.array(image_train_hidden_list).reshape(-1,512) # 512, resnet architecture   \n",
    "    image_test_hidden_vector=np.array(image_test_hidden_list).reshape(-1,512) # 512, resnet architecture\n",
    "\n",
    "    # scale\n",
    "    scaler = MinMaxScaler()\n",
    "    image_train_hidden_vector_norm = scaler.fit_transform(image_train_hidden_vector)\n",
    "    image_test_hidden_vector_norm = scaler.fit_transform(image_test_hidden_vector)\n",
    "    \n",
    "    return image_train_hidden_vector_norm,image_test_hidden_vector_norm\n"
   ]
  },
  {
   "cell_type": "code",
   "execution_count": 12,
   "metadata": {
    "scrolled": false
   },
   "outputs": [
    {
     "name": "stdout",
     "output_type": "stream",
     "text": [
      "HHVEHCNT_mean_norm\n",
      "HHVEHCNT_P_CAP_mean_norm\n",
      "TRPTRANS_1_mean_norm\n",
      "TRPTRANS_2_mean_norm\n",
      "TRPTRANS_3_mean_norm\n"
     ]
    }
   ],
   "source": [
    "# load model dictionary for all the output variables\n",
    "model_dic = {}\n",
    "model_name = 'resnet18'\n",
    "if image_type == \"rgb\":\n",
    "    input_channels = 3\n",
    "elif image_type == \"bw\":\n",
    "    input_channels = 4\n",
    "elif image_type == \"merge\":\n",
    "    input_channels = 7\n",
    "use_pretrained = True # unclear True vs False is better\n",
    "full_training = True\n",
    "last_layer_dic_train = {}\n",
    "last_layer_dic_test = {}\n",
    "\n",
    "for output_var in output_list:\n",
    "    print(output_var)\n",
    "    # read models\n",
    "    model = initialize_model(model_name, num_categories, input_channels, use_pretrained, full_training)\n",
    "    PATH = './models/'+model_name+'_'+output_var+'_'+image_type+'.pth'\n",
    "    model.load_state_dict(torch.load(PATH))\n",
    "    model_dic[output_var]=model.state_dict()\n",
    "    \n",
    "    # initialize data. \n",
    "    y_train,y_test,BE_train,BE_test,x_train,x_test,x_train_images,x_test_images = \\\n",
    "        initialize_data(image_type, output_var, output_type, input_var, BE_var, num_categories, size)\n",
    "    \n",
    "    # obtain the last layer\n",
    "    image_train_hidden_vector_norm,image_test_hidden_vector_norm = \\\n",
    "        return_last_layer_resnet(model,device,x_train_images,x_test_images,y_train,y_test)\n",
    "\n",
    "    # \n",
    "    last_layer_dic_train[output_var]=image_train_hidden_vector_norm \n",
    "    last_layer_dic_test[output_var]=image_test_hidden_vector_norm\n",
    "    \n",
    "\n"
   ]
  },
  {
   "cell_type": "code",
   "execution_count": 13,
   "metadata": {},
   "outputs": [],
   "source": [
    "with open('last_layer/last_layer_dic_train.pickle', 'wb') as h:\n",
    "    pickle.dump(last_layer_dic_train, h, protocol=pickle.HIGHEST_PROTOCOL)\n",
    "\n",
    "with open('last_layer/last_layer_dic_test.pickle', 'wb') as h:\n",
    "    pickle.dump(last_layer_dic_test, h, protocol=pickle.HIGHEST_PROTOCOL)\n",
    "\n"
   ]
  },
  {
   "cell_type": "code",
   "execution_count": null,
   "metadata": {},
   "outputs": [],
   "source": []
  },
  {
   "cell_type": "code",
   "execution_count": null,
   "metadata": {},
   "outputs": [],
   "source": []
  },
  {
   "cell_type": "code",
   "execution_count": null,
   "metadata": {},
   "outputs": [],
   "source": []
  },
  {
   "cell_type": "code",
   "execution_count": null,
   "metadata": {},
   "outputs": [],
   "source": []
  },
  {
   "cell_type": "code",
   "execution_count": null,
   "metadata": {},
   "outputs": [],
   "source": []
  },
  {
   "cell_type": "code",
   "execution_count": null,
   "metadata": {},
   "outputs": [],
   "source": []
  },
  {
   "cell_type": "code",
   "execution_count": null,
   "metadata": {},
   "outputs": [],
   "source": []
  },
  {
   "cell_type": "code",
   "execution_count": null,
   "metadata": {},
   "outputs": [],
   "source": []
  }
 ],
 "metadata": {
  "kernelspec": {
   "display_name": "Python 3",
   "language": "python",
   "name": "python3"
  },
  "language_info": {
   "codemirror_mode": {
    "name": "ipython",
    "version": 3
   },
   "file_extension": ".py",
   "mimetype": "text/x-python",
   "name": "python",
   "nbconvert_exporter": "python",
   "pygments_lexer": "ipython3",
   "version": "3.7.4"
  }
 },
 "nbformat": 4,
 "nbformat_minor": 2
}
