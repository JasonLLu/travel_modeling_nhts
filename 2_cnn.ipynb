{
 "cells": [
  {
   "cell_type": "markdown",
   "metadata": {},
   "source": [
    "# CNN\n",
    "\n",
    "Use Resnet to train models to fit five travel behavioral variables by using images. The default is using only the black and white images with resnet18 to fit continous outputs, but the codes leave the flexibility of using other models, images, and output types. Several functions are not useful yet: bottleneck_resnet18, return_bottleneck_resnet18, and train_discrete_model. \n",
    "\n",
    "#### To be done: adjustment along many dimensions - hyperparameters, model choice, etc."
   ]
  },
  {
   "cell_type": "code",
   "execution_count": 1,
   "metadata": {},
   "outputs": [],
   "source": [
    "import torch\n",
    "import torch.nn as nn\n",
    "import torch.nn.functional as F\n",
    "import torchvision\n",
    "from torchvision import datasets, models, transforms\n",
    "from torch.utils.data import TensorDataset, DataLoader\n",
    "import torch.optim as optim\n",
    "\n",
    "from tqdm.notebook import tqdm\n",
    "\n",
    "import pickle\n",
    "\n",
    "import numpy as np\n",
    "import pandas as pd\n",
    "from matplotlib import pyplot as plt\n",
    "import util\n",
    "import statsmodels.api as sm\n",
    "from scipy import stats\n",
    "import copy\n",
    "\n",
    "from sklearn.metrics import accuracy_score\n",
    "from sklearn.metrics import confusion_matrix\n",
    "from sklearn.metrics import log_loss\n",
    "from sklearn.metrics import r2_score\n",
    "from sklearn.metrics import mean_squared_error\n",
    "from sklearn.preprocessing import PolynomialFeatures"
   ]
  },
  {
   "cell_type": "code",
   "execution_count": 2,
   "metadata": {},
   "outputs": [],
   "source": [
    "# ALWAYS choose devise first.\n",
    "# device = torch.device(\"cuda:0\" if torch.cuda.is_available() else \"cpu\")\n",
    "device = torch.device(\"cuda:0\" if torch.cuda.is_available() else \"cpu\")"
   ]
  },
  {
   "cell_type": "markdown",
   "metadata": {},
   "source": [
    "## Helper Functions"
   ]
  },
  {
   "cell_type": "code",
   "execution_count": 3,
   "metadata": {},
   "outputs": [],
   "source": [
    "def initialize_data(image_type, output_var, output_type, input_var, BE_var, num_categories, size):\n",
    "    # outputs: randonmized training and testing sets for NHTS, BE, images, and y.\n",
    "    \n",
    "    ### read image array\n",
    "    if image_type == 'rgb':\n",
    "        image_array_ = np.load(\"data_process/image_array_rgb_tract_large.npy\", mmap_mode='r')\n",
    "        image_array = image_array_[:size,]\n",
    "    elif image_type == 'bw':\n",
    "        image_array_ = np.load(\"data_process/image_array_bw_tract_large.npy\", mmap_mode='r')\n",
    "        image_array = image_array_[:size,]        \n",
    "    elif image_type == 'merge':\n",
    "        bw_image_array_ = np.load(\"data_process/image_array_bw_tract_large.npy\", mmap_mode='r')\n",
    "        rgb_image_array_ = np.load(\"data_process/image_array_rgb_tract_large.npy\", mmap_mode='r')\n",
    "        bw_image_array = bw_image_array_[:size,]\n",
    "        rgb_image_array = rgb_image_array_[:size,]        \n",
    "        image_array = np.concatenate([rgb_image_array, bw_image_array], axis=1)\n",
    "    \n",
    "    ### create output array\n",
    "    df_ = pd.read_csv(\"data_process/df_merged_tract_large.csv\")\n",
    "    df = df_.iloc[:size,]\n",
    "    y_ = df[output_var].values \n",
    "    # cut y into categories for discrete variables\n",
    "    if output_type == 'continuous':\n",
    "        y = copy.deepcopy(y_)\n",
    "    elif output_type == 'discrete':\n",
    "        y = np.array(pd.qcut(y_, q = num_categories, labels=np.arange(num_categories))) \n",
    "    x = df[input_var]\n",
    "    BE = df[BE_var]\n",
    "            \n",
    "    ### randomization\n",
    "    shuffle_idx = np.arange(size)\n",
    "    np.random.seed(0) # important: don't change the seed number, unless the seed number across scripts are all changed.\n",
    "    np.random.shuffle(shuffle_idx)\n",
    "    train_ratio = 0.8\n",
    "\n",
    "    ###\n",
    "    # y\n",
    "    if output_type == 'discrete':\n",
    "        y_train = y[shuffle_idx[:int(train_ratio*size)]].astype(\"int\")\n",
    "        y_test = y[shuffle_idx[int(train_ratio*size):]].astype(\"int\")\n",
    "    elif output_type == 'continuous':\n",
    "        y_train = y[shuffle_idx[:int(train_ratio*size)]].astype(\"float32\")\n",
    "        y_test = y[shuffle_idx[int(train_ratio*size):]].astype(\"float32\")\n",
    "    # BE\n",
    "    BE_train = BE.values[shuffle_idx[:int(train_ratio*size)]].astype(\"float32\")\n",
    "    BE_test = BE.values[shuffle_idx[int(train_ratio*size):]].astype(\"float32\")        \n",
    "    # image array\n",
    "    x_train_images = image_array[shuffle_idx[:int(train_ratio*size)],].astype(\"float32\")\n",
    "    x_test_images = image_array[shuffle_idx[int(train_ratio*size):],].astype(\"float32\")\n",
    "    # NHTS\n",
    "    x_train = x.values[shuffle_idx[:int(train_ratio*size)]].astype(\"float32\")\n",
    "    x_test = x.values[shuffle_idx[int(train_ratio*size):]].astype(\"float32\")\n",
    "    \n",
    "    return y_train,y_test,BE_train,BE_test,x_train,x_test,x_train_images,x_test_images\n",
    "\n",
    "# # test \n",
    "# image_type = 'bw'\n",
    "# output_var = 'HHFAMINC_mean'\n",
    "# output_type = 'continuous'\n",
    "# input_var=['R_AGE_IMP_mean', 'HHSIZE_mean', 'HHFAMINC_mean', 'HBHTNRNT_mean', 'HBPPOPDN_mean', 'HBRESDN_mean', \n",
    "#            'R_SEX_IMP_2_mean', 'EDUC_2_mean', 'HH_RACE_2_mean', 'HOMEOWN_1_mean', 'HOMEOWN_2_mean',\n",
    "#            'HBHUR_R_mean', 'HBHUR_S_mean', 'HBHUR_T_mean','HBHUR_U_mean']\n",
    "# BE_var = ['density', 'diversity', 'design']\n",
    "# num_categories = 1 # (1) certain category values can cause errors. (2) when output_type = 'continuous', this value needs to be 1.\n",
    "# size = 10000 # size needs to be smaller than the max\n",
    "# # \n",
    "# y_train,y_test,BE_train,BE_test,x_train,x_test,x_train_images,x_test_images = \\\n",
    "#     initialize_data(image_type, output_var, output_type, input_var, BE_var, num_categories, size)\n",
    "\n",
    "# print(y_train.shape)\n",
    "# print(y_test.shape)\n",
    "# print(x_train_images.shape)\n",
    "# print(x_test_images.shape)\n",
    "# plt.figure()\n",
    "# plt.boxplot(y_train)\n",
    "# plt.figure()\n",
    "# plt.boxplot(y_test)"
   ]
  },
  {
   "cell_type": "code",
   "execution_count": 4,
   "metadata": {},
   "outputs": [],
   "source": [
    "def initialize_model(model_name, num_categories, input_channels = 3, use_pretrained=True, full_training=False):\n",
    "    # initliaze the CNN model.\n",
    "    # default input image size = 3*224*224, but inputs and output channels can be changed. \n",
    "    # num_categories: output channels. For continuous varialbes, use num_categories = 1.\n",
    "    # return the model\n",
    "\n",
    "    if model_name == 'resnet18':\n",
    "        \"\"\" resnet 18\"\"\"\n",
    "        model_ft = models.resnet18(pretrained=use_pretrained)\n",
    "        # train only the last layer.\n",
    "        for param in model_ft.parameters():\n",
    "            param.requires_grad=full_training\n",
    "        if input_channels != 3:\n",
    "            # Edit the input channels.\n",
    "            model_ft.conv1 = nn.Conv2d(input_channels, 64, kernel_size=(7, 7), stride=(2, 2), padding=(3, 3), bias=False)\n",
    "        num_ftrs = model_ft.fc.in_features\n",
    "        model_ft.fc = nn.Linear(num_ftrs, num_categories) # if output_type == continuous, then num_categories = 1.\n",
    "\n",
    "    elif model_name == 'alexnet':\n",
    "        \"\"\" alexnet \"\"\"\n",
    "        model_ft = models.alexnet(pretrained=use_pretrained)\n",
    "        for param in model_ft.parameters():\n",
    "            param.requires_grad = full_training \n",
    "        if input_channels != 3:\n",
    "            model_ft.features[0] = nn.Conv2d(input_channels, 64, kernel_size=(11, 11), stride=(4, 4), padding=(2, 2))    \n",
    "        num_ftrs = model_ft.classifier[6].in_features\n",
    "        model_ft.classifier[6] = nn.Linear(num_ftrs, num_categories) # if output_type == continuous, then num_categories = 1.\n",
    "\n",
    "    elif model_name == 'vgg':\n",
    "        model_ft = models.vgg11_bn(pretrained=use_pretrained)\n",
    "        for param in model_ft.parameters():\n",
    "            param.requires_grad = full_training \n",
    "        if input_channels != 3:\n",
    "            model_ft.features[0] = nn.Conv2d(input_channels, 64, kernel_size=(3, 3), stride=(1, 1), padding=(1, 1))\n",
    "        num_ftrs = model_ft.classifier[6].in_features\n",
    "        model_ft.classifier[6] = nn.Linear(num_ftrs, num_categories) # if output_type == continuous, then num_categories = 1.\n",
    "\n",
    "    elif model_name == 'squeezenet':\n",
    "        model_ft = models.squeezenet1_0(pretrained=use_pretrained)\n",
    "        for param in model_ft.parameters():\n",
    "            param.requires_grad = full_training \n",
    "        if input_channels != 3:\n",
    "            model_ft.features[0] = nn.Conv2d(input_channels, 96, kernel_size=(7, 7), stride=(2, 2))\n",
    "        model_ft.classifier[1] = nn.Conv2d(512, num_categories, kernel_size=(1,1), stride=(1,1))\n",
    "\n",
    "    elif model_name == 'densenet':\n",
    "        model_ft = models.densenet121(pretrained=use_pretrained)\n",
    "        for param in model_ft.parameters():\n",
    "            param.requires_grad = full_training\n",
    "        if input_channels != 3:\n",
    "            model_ft.features[0] = nn.Conv2d(input_channels, 64, kernel_size=(7, 7), stride=(2, 2), padding=(3, 3), bias=False)\n",
    "        num_ftrs = model_ft.classifier.in_features\n",
    "        model_ft.classifier = nn.Linear(num_ftrs, num_categories)\n",
    "\n",
    "    elif model_name == 'wide_resnet':\n",
    "        model_ft = models.wide_resnet50_2(pretrained=use_pretrained)\n",
    "        for param in model_ft.parameters():\n",
    "            param.requires_grad = full_training \n",
    "        if input_channels != 3:\n",
    "            model_ft.conv1 = nn.Conv2d(input_channels, 64, kernel_size=(7, 7), stride=(2, 2), padding=(3, 3), bias=False)\n",
    "        num_ftrs = model_ft.fc.in_features\n",
    "        model_ft.fc = nn.Linear(num_ftrs, num_categories)\n",
    "        \n",
    "    elif model_name == 'mnasnet':\n",
    "        model_ft = models.mnasnet1_0(pretrained=use_pretrained)\n",
    "        for param in model_ft.parameters():\n",
    "            param.requires_grad = full_training\n",
    "        if input_channels != 3:\n",
    "            model_ft.layers[0] = nn.Conv2d(input_channels, 32, kernel_size=(3, 3), stride=(2, 2), padding=(1, 1), bias=False)\n",
    "        num_ftrs = model_ft.classifier[1].in_features\n",
    "        model_ft.classifier[1] = nn.Linear(num_ftrs, num_categories)\n",
    "        \n",
    "    return model_ft\n",
    "\n",
    "# # test 1. initialize model for continuous var\n",
    "# model_name = 'resnet18'\n",
    "# num_categories = 1 \n",
    "# input_channels = 4\n",
    "# use_pretrained = True\n",
    "# full_training = True\n",
    "# model = initialize_model(model_name, num_categories, input_channels, use_pretrained, full_training)\n",
    "# model.to(device)\n",
    "\n",
    "# # test 2. initialize model for discrete var\n",
    "# model_name = 'resnet18'\n",
    "# # num_categories = 1 \n",
    "# input_channels = 4\n",
    "# use_pretrained = True\n",
    "# full_training = True\n",
    "# model = initialize_model(model_name, num_categories, input_channels, use_pretrained, full_training)\n",
    "# model.to(device)\n",
    "\n",
    "# # test 3. initialize model for continuous var\n",
    "# model_name = 'bottleneck_resnet18'\n",
    "# num_categories = 1 \n",
    "# input_channels = 4\n",
    "# use_pretrained = True\n",
    "# full_training = True\n",
    "# model = initialize_model(model_name, num_categories, input_channels, use_pretrained, full_training)\n",
    "# model.to(device)\n"
   ]
  },
  {
   "cell_type": "code",
   "execution_count": 5,
   "metadata": {},
   "outputs": [],
   "source": [
    "# class bottleneck_resnet18(nn.Module):\n",
    "#     # This model does NOT work yet. It seems that the fc layer or the upsampling do not work...\n",
    "#     # Goal: create a resnet architecture with bottleneck in the middle that reduces information into several nodes.\n",
    "#     def __init__(self, num_categories, num_bottleneck, input_channels = 3, use_pretrained=True, full_training=False):\n",
    "#         super(bottleneck_resnet18, self).__init__()\n",
    "#         ref = models.resnet18(pretrained=use_pretrained)\n",
    "#         self.sequence1 = nn.Sequential(ref.conv1, ref.bn1, ref.relu, ref.maxpool, ref.layer1,\n",
    "#                                        ref.layer2)\n",
    "#         ### condense \n",
    "#         if num_bottleneck == 1:\n",
    "#             self.condense = nn.AvgPool3d((128,28,28))\n",
    "#         elif num_bottleneck == 2:\n",
    "#             self.condense = nn.AvgPool3d((128,28,14))\n",
    "#         elif num_bottleneck == 3:\n",
    "#             self.condense = nn.AvgPool3d((128,28,9))\n",
    "\n",
    "#         ### upsampling\n",
    "#         self.upsample = nn.Sequential(nn.Conv2d(num_bottleneck, 128, kernel_size=(3, 3), stride=(2, 2), padding=(1, 1), bias=False),\n",
    "#                                       nn.Upsample((28, 28)))\n",
    "#         self.sequence2 = nn.Sequential(ref.layer3, ref.layer4, ref.avgpool)\n",
    "#         self.fc = ref.fc\n",
    "        \n",
    "#         ### edit parameters\n",
    "#         for param in self.parameters():\n",
    "#             param.requires_grad=full_training\n",
    "#         if input_channels != 3:\n",
    "#             self.sequence1[0]=nn.Conv2d(input_channels, 64, kernel_size=(7, 7), stride=(2, 2), padding=(3, 3), bias=False)\n",
    "#         num_ftrs=self.fc.in_features\n",
    "#         self.fc=nn.Linear(num_ftrs, num_categories)\n",
    "        \n",
    "#     def forward(self, x):\n",
    "#         x=self.sequence1(x)\n",
    "#         x=self.condense(x)\n",
    "#         x=self.upsample(x)\n",
    "#         x=self.sequence2(x)\n",
    "#         x=x.squeeze() # sw: this line is important, but I don't understand why resnet18 does not need it...\n",
    "#         out=self.fc(x)\n",
    "#         return out"
   ]
  },
  {
   "cell_type": "code",
   "execution_count": 6,
   "metadata": {},
   "outputs": [],
   "source": [
    "# def return_bottleneck_renset(model,device,x_train_images,x_test_images,y_train,y_test):\n",
    "#     # This function does not work yet.\n",
    "#     # Goal: return the several nodes' values from the bottleneck resnet architecture.\n",
    "#     from sklearn.preprocessing import MinMaxScaler\n",
    "\n",
    "#     bottleneck_train_list = []\n",
    "#     def hook_train(module,inputs,outputs):\n",
    "#         bottleneck_train_list.append(outputs)\n",
    "        \n",
    "#     bottleneck_test_list = []\n",
    "#     def hook_test(module,inputs,outputs):\n",
    "#         bottleneck_test_list.append(outputs)\n",
    "\n",
    "#     x_train_images_norm = x_train_images/255\n",
    "#     x_test_images_norm = x_test_images/255\n",
    "\n",
    "#     x_train_torch = torch.from_numpy(x_train_images_norm)\n",
    "#     x_test_torch = torch.from_numpy(x_test_images_norm)\n",
    "#     y_train_torch = torch.from_numpy(y_train)\n",
    "#     y_test_torch = torch.from_numpy(y_test)\n",
    "\n",
    "#     # create data loader: train and test. \n",
    "#     train_ds = TensorDataset(x_train_torch, y_train_torch)\n",
    "#     batch_size = 50\n",
    "#     train_dl_no_shuffle = DataLoader(train_ds, batch_size, shuffle = False) # important: NO SHUFFLE.\n",
    "\n",
    "#     test_ds = TensorDataset(x_test_torch, y_test_torch)\n",
    "#     batch_size = 50\n",
    "#     test_dl_no_shuffle = DataLoader(test_ds, batch_size, shuffle = False) # important: NO SHUFFLE.\n",
    "\n",
    "#     for param in model.parameters():\n",
    "#         param.requires_grad=False # save space\n",
    "    \n",
    "#     for inputs, labels in train_dl_no_shuffle:\n",
    "#         # to device\n",
    "#         inputs = inputs.to(device)\n",
    "#         labels = labels.to(device)\n",
    "#         outputs = model(inputs)\n",
    "#         bottleneck_train_list = model.layer3[1].conv1.register_forward_hook(hook_train)\n",
    "\n",
    "#     for inputs, labels in test_dl_no_shuffle:\n",
    "#         inputs = inputs.to(device)\n",
    "#         labels = labels.to(device)\n",
    "#         outputs = model(inputs)\n",
    "#         bottleneck_test_list = model.layer3[1].conv1.register_forward_hook(hook_test)\n",
    "\n",
    "#     return bottleneck_train_list,bottleneck_test_list\n"
   ]
  },
  {
   "cell_type": "code",
   "execution_count": 7,
   "metadata": {},
   "outputs": [],
   "source": [
    "# def train_discrete_model(model, train_dl, test_dl, criterion, optimizer, device, n_epoch = 25):\n",
    "#     # Train a model with discrete outputs.\n",
    "#     # Outputs: model; training and testing accuracy/log-loss.\n",
    "#     # But so far this function is not used because of bad performance on discrete outputs.\n",
    "#     log_loss_train_list=[]\n",
    "#     log_loss_test_list=[]\n",
    "#     accuracy_train_list=[]\n",
    "#     accuracy_test_list=[]\n",
    "\n",
    "#     # automatic model searching.\n",
    "#     best_model_wts = copy.deepcopy(model.state_dict())\n",
    "#     best_acc = 0.0\n",
    "    \n",
    "#     # iterate\n",
    "#     for epoch in range(n_epoch):\n",
    "    \n",
    "#         running_log_loss_train = 0.0\n",
    "#         running_log_loss_test = 0.0\n",
    "#         correct_train = 0\n",
    "#         total_train = 0\n",
    "#         correct_test = 0\n",
    "#         total_test = 0\n",
    "\n",
    "#         # training    \n",
    "#         for inputs, labels in tqdm(train_dl):\n",
    "#             # to device\n",
    "#             inputs = inputs.to(device)\n",
    "#             labels = labels.to(device)\n",
    "\n",
    "#             # forward + backward\n",
    "#             outputs = model(inputs)\n",
    "#             loss = criterion(outputs, labels)\n",
    "#             loss.backward()\n",
    "\n",
    "#             # evaluate prediction\n",
    "#             _, predicted = torch.max(outputs.data, 1)\n",
    "#             total_train += labels.size(0)\n",
    "#             correct_train += (predicted == labels).sum().item()\n",
    "\n",
    "#             # evaluate log loss\n",
    "#             running_log_loss_train += loss.item()\n",
    "\n",
    "#             # optimize\n",
    "#             with torch.no_grad():\n",
    "#                 optimizer.step()\n",
    "#                 optimizer.zero_grad()\n",
    "\n",
    "#         # testing\n",
    "#         for inputs, labels in test_dl:\n",
    "#             # to device\n",
    "#             inputs = inputs.to(device)\n",
    "#             labels = labels.to(device)\n",
    "\n",
    "#             # forward + backward\n",
    "#             outputs = model(inputs)\n",
    "#             loss = criterion(outputs, labels)\n",
    "\n",
    "#             # evaluate log loss\n",
    "#             running_log_loss_test += loss.item()\n",
    "\n",
    "#             # evaluate prediction\n",
    "#             _, predicted = torch.max(outputs.data, 1)\n",
    "#             total_test += labels.size(0)\n",
    "#             correct_test += (predicted == labels).sum().item()\n",
    "        \n",
    "#         # print\n",
    "#         print(\"Epoch {}: Training Loss {}; Testing Loss {}\".format(epoch, running_log_loss_train, running_log_loss_test))\n",
    "#         print(\"Epoch {}: Training Accuracy {}; Testing Accuracy {}\".format(epoch, correct_train/total_train, correct_test/total_test))\n",
    "\n",
    "#         # append loss here.\n",
    "#         log_loss_train_list.append(running_log_loss_train)\n",
    "#         log_loss_test_list.append(running_log_loss_test)\n",
    "#         accuracy_train_list.append(correct_train/total_train)\n",
    "#         accuracy_test_list.append(correct_test/total_test)\n",
    "        \n",
    "#         if correct_test/total_test > best_acc:\n",
    "#             best_acc = correct_test/total_test\n",
    "#             best_model_wts = copy.deepcopy(model.state_dict())\n",
    "\n",
    "#     # load the best model weights\n",
    "#     model.load_state_dict(best_model_wts)\n",
    "#     return model, log_loss_train_list, log_loss_test_list, accuracy_train_list, accuracy_test_list\n"
   ]
  },
  {
   "cell_type": "code",
   "execution_count": 8,
   "metadata": {},
   "outputs": [],
   "source": [
    "def train_continuous_model(model, train_dl, test_dl, criterion, optimizer, device, total_mse_train, total_mse_test, n_epoch = 25):\n",
    "    # This function trains the model with continous outputs.\n",
    "    # outputs: model, and R2 and MSE for training and testing\n",
    "    mse_train_list = []\n",
    "    mse_test_list = []\n",
    "    r_square_train_list = []\n",
    "    r_square_test_list = []\n",
    "\n",
    "    # automatic model searching.\n",
    "    best_model_wts = copy.deepcopy(model.state_dict())\n",
    "    best_r_square = 0.0\n",
    "    \n",
    "    for epoch in range(n_epoch): \n",
    "        running_mse_train = 0.0\n",
    "        running_mse_test = 0.0\n",
    "        \n",
    "        # training\n",
    "        for inputs, labels in tqdm(train_dl):\n",
    "            # to device\n",
    "            inputs = inputs.to(device)\n",
    "            labels = labels.to(device)\n",
    "\n",
    "            # forward + backward\n",
    "            outputs = model(inputs)\n",
    "            # sw: be careful about the dimension matching at this point...\n",
    "            loss = criterion(outputs.view(-1), labels) # this .view(-1) seems specific to continuous variables\n",
    "            loss.backward()\n",
    "\n",
    "            # performance\n",
    "            running_mse_train += loss.item()*batch_size\n",
    "\n",
    "            # optimize\n",
    "            with torch.no_grad():\n",
    "                optimizer.step()\n",
    "                optimizer.zero_grad()\n",
    "\n",
    "        # testing\n",
    "        for inputs, labels in test_dl:\n",
    "            # to device\n",
    "            inputs = inputs.to(device)\n",
    "            labels = labels.to(device)\n",
    "\n",
    "            # forward + backward        \n",
    "            outputs = model(inputs)\n",
    "            loss = criterion(outputs.view(-1), labels) # this .view(-1) is specific to continuous variables\n",
    "            running_mse_test += loss.item()*batch_size # this *batch_size is specific to continuous variables.\n",
    "\n",
    "        # R square for a batch\n",
    "        running_r_square_train = 1-running_mse_train/total_mse_train.item()\n",
    "        running_r_square_test = 1-running_mse_test/total_mse_test.item()\n",
    "        \n",
    "        print(\"Epoch {}: Training MSE {}; Testing MSE {}\".format(epoch, running_mse_train, running_mse_test))\n",
    "        print(\"Epoch {}: Training R2 {}; Testing R2 {}\".format(epoch, running_r_square_train, running_r_square_test))\n",
    "\n",
    "        mse_train_list.append(running_mse_train)\n",
    "        mse_test_list.append(running_mse_test)\n",
    "        r_square_train_list.append(running_r_square_train)\n",
    "        r_square_test_list.append(running_r_square_test)\n",
    "\n",
    "        # check overfitting for early stopping. This is designed in an ad-hoc way.\n",
    "        if epoch > 5 and running_r_square_test < 0.0:\n",
    "            break # break the for loop.\n",
    "        \n",
    "        # store the best performance.\n",
    "        if running_r_square_test > best_r_square:\n",
    "            best_r_square = running_r_square_test\n",
    "            best_model_wts = copy.deepcopy(model.state_dict())\n",
    "\n",
    "    # load the weights of the best model\n",
    "    model.load_state_dict(best_model_wts)\n",
    "    return model, mse_train_list, mse_test_list, r_square_train_list, r_square_test_list\n"
   ]
  },
  {
   "cell_type": "markdown",
   "metadata": {},
   "source": [
    "## Train resnet18 for continous outputs."
   ]
  },
  {
   "cell_type": "code",
   "execution_count": 13,
   "metadata": {},
   "outputs": [],
   "source": [
    "# set up.\n",
    "output_list = ['HHVEHCNT_mean_norm', 'HHVEHCNT_P_CAP_mean_norm', 'TRPTRANS_1_mean_norm', 'TRPTRANS_2_mean_norm', 'TRPTRANS_3_mean_norm']\n",
    "input_var=['R_AGE_IMP_mean', 'HHSIZE_mean', 'HHFAMINC_mean', 'HBHTNRNT_mean', 'HBPPOPDN_mean', 'HBRESDN_mean', \n",
    "           'R_SEX_IMP_2_mean', 'EDUC_2_mean', 'HH_RACE_2_mean', 'HOMEOWN_1_mean', 'HOMEOWN_2_mean',\n",
    "           'HBHUR_R_mean', 'HBHUR_S_mean', 'HBHUR_T_mean','HBHUR_U_mean']\n",
    "BE_var = ['density', 'diversity', 'design']\n",
    "image_type = ['bw', 'rgb', 'merge'] # It can be 'rgb', 'bw', 'merge'\n",
    "output_type = 'continuous' \n",
    "num_categories = 1 # Certain category values can cause errors. When output_type = 'continuous', this value needs to be 1.\n",
    "size = 12000 # size needs to be smaller than the max (18491).\n",
    "\n",
    "model_name = 'resnet18' \n",
    "model_dic = {}\n"
   ]
  },
  {
   "cell_type": "code",
   "execution_count": 17,
   "metadata": {
    "scrolled": true
   },
   "outputs": [
    {
     "name": "stdout",
     "output_type": "stream",
     "text": [
      "HHVEHCNT_mean_norm\n",
      "tensor(10700.4521)\n",
      "tensor(2549.4304)\n"
     ]
    },
    {
     "data": {
      "application/vnd.jupyter.widget-view+json": {
       "model_id": "611c9780375d4cf4a65b0132300611fc",
       "version_major": 2,
       "version_minor": 0
      },
      "text/plain": [
       "HBox(children=(IntProgress(value=0, max=96), HTML(value='')))"
      ]
     },
     "metadata": {},
     "output_type": "display_data"
    },
    {
     "name": "stdout",
     "output_type": "stream",
     "text": [
      "\n",
      "Epoch 0: Training MSE 12968.76671910286; Testing MSE 2314.4653499126434\n",
      "Epoch 0: Training R2 -0.211983058210917; Testing R2 0.09216375084142592\n"
     ]
    },
    {
     "data": {
      "application/vnd.jupyter.widget-view+json": {
       "model_id": "bd6ba38ae62f411d8ddc7018474be012",
       "version_major": 2,
       "version_minor": 0
      },
      "text/plain": [
       "HBox(children=(IntProgress(value=0, max=96), HTML(value='')))"
      ]
     },
     "metadata": {},
     "output_type": "display_data"
    },
    {
     "name": "stdout",
     "output_type": "stream",
     "text": [
      "\n",
      "Epoch 1: Training MSE 9803.879088163376; Testing MSE 2293.4097290039062\n",
      "Epoch 1: Training R2 0.08378833415979003; Testing R2 0.10042270183855984\n"
     ]
    },
    {
     "data": {
      "application/vnd.jupyter.widget-view+json": {
       "model_id": "c4185e0cd7b2498fb8d0000c15c674c6",
       "version_major": 2,
       "version_minor": 0
      },
      "text/plain": [
       "HBox(children=(IntProgress(value=0, max=96), HTML(value='')))"
      ]
     },
     "metadata": {},
     "output_type": "display_data"
    },
    {
     "name": "stdout",
     "output_type": "stream",
     "text": [
      "\n",
      "Epoch 2: Training MSE 9795.471370220184; Testing MSE 2329.2478561401367\n",
      "Epoch 2: Training R2 0.08457406898917474; Testing R2 0.08636539442738966\n"
     ]
    },
    {
     "data": {
      "application/vnd.jupyter.widget-view+json": {
       "model_id": "734de87dbec64678998a921196e2b0d2",
       "version_major": 2,
       "version_minor": 0
      },
      "text/plain": [
       "HBox(children=(IntProgress(value=0, max=96), HTML(value='')))"
      ]
     },
     "metadata": {},
     "output_type": "display_data"
    },
    {
     "name": "stdout",
     "output_type": "stream",
     "text": [
      "\n",
      "Epoch 3: Training MSE 9716.708314418793; Testing MSE 2347.6718723773956\n",
      "Epoch 3: Training R2 0.09193479120060877; Testing R2 0.07913867582652523\n"
     ]
    },
    {
     "data": {
      "application/vnd.jupyter.widget-view+json": {
       "model_id": "ccb271fbd86f42de981cdac79faf1e57",
       "version_major": 2,
       "version_minor": 0
      },
      "text/plain": [
       "HBox(children=(IntProgress(value=0, max=96), HTML(value='')))"
      ]
     },
     "metadata": {},
     "output_type": "display_data"
    },
    {
     "name": "stdout",
     "output_type": "stream",
     "text": [
      "\n",
      "Epoch 4: Training MSE 9511.821076273918; Testing MSE 2339.412635564804\n",
      "Epoch 4: Training R2 0.11108232209955238; Testing R2 0.08237831584495914\n"
     ]
    },
    {
     "data": {
      "application/vnd.jupyter.widget-view+json": {
       "model_id": "02ca4f041af6457a9469e6f704f72d07",
       "version_major": 2,
       "version_minor": 0
      },
      "text/plain": [
       "HBox(children=(IntProgress(value=0, max=96), HTML(value='')))"
      ]
     },
     "metadata": {},
     "output_type": "display_data"
    },
    {
     "name": "stdout",
     "output_type": "stream",
     "text": [
      "\n",
      "Epoch 5: Training MSE 9420.36070227623; Testing MSE 2312.281894683838\n",
      "Epoch 5: Training R2 0.11962965942034431; Testing R2 0.09302019909423698\n"
     ]
    },
    {
     "data": {
      "application/vnd.jupyter.widget-view+json": {
       "model_id": "2f8abdfbb6304d8cb240b3551a6dad6d",
       "version_major": 2,
       "version_minor": 0
      },
      "text/plain": [
       "HBox(children=(IntProgress(value=0, max=96), HTML(value='')))"
      ]
     },
     "metadata": {},
     "output_type": "display_data"
    },
    {
     "name": "stdout",
     "output_type": "stream",
     "text": [
      "\n",
      "Epoch 6: Training MSE 9256.327441334724; Testing MSE 2332.5907111167908\n",
      "Epoch 6: Training R2 0.1349592229440183; Testing R2 0.08505417802762749\n"
     ]
    },
    {
     "data": {
      "application/vnd.jupyter.widget-view+json": {
       "model_id": "4eb6ff630de94d5fa3ebfe81c4ae99e3",
       "version_major": 2,
       "version_minor": 0
      },
      "text/plain": [
       "HBox(children=(IntProgress(value=0, max=96), HTML(value='')))"
      ]
     },
     "metadata": {},
     "output_type": "display_data"
    },
    {
     "name": "stdout",
     "output_type": "stream",
     "text": [
      "\n",
      "Epoch 7: Training MSE 9344.197827577591; Testing MSE 2260.4303300380707\n",
      "Epoch 7: Training R2 0.12674738432038613; Testing R2 0.11335868891556589\n"
     ]
    },
    {
     "data": {
      "application/vnd.jupyter.widget-view+json": {
       "model_id": "ac3e7efe23714fc6869af0c263ed25af",
       "version_major": 2,
       "version_minor": 0
      },
      "text/plain": [
       "HBox(children=(IntProgress(value=0, max=96), HTML(value='')))"
      ]
     },
     "metadata": {},
     "output_type": "display_data"
    },
    {
     "name": "stdout",
     "output_type": "stream",
     "text": [
      "\n",
      "Epoch 8: Training MSE 8872.700893878937; Testing MSE 2326.6711831092834\n",
      "Epoch 8: Training R2 0.17081065633525172; Testing R2 0.08737608019104826\n"
     ]
    },
    {
     "data": {
      "application/vnd.jupyter.widget-view+json": {
       "model_id": "ab3ac21fb8dc4e0996385aeebb79d365",
       "version_major": 2,
       "version_minor": 0
      },
      "text/plain": [
       "HBox(children=(IntProgress(value=0, max=96), HTML(value='')))"
      ]
     },
     "metadata": {},
     "output_type": "display_data"
    },
    {
     "name": "stdout",
     "output_type": "stream",
     "text": [
      "\n",
      "Epoch 9: Training MSE 8167.845937609673; Testing MSE 2359.0803802013397\n",
      "Epoch 9: Training R2 0.23668216779023155; Testing R2 0.07466375164942463\n"
     ]
    },
    {
     "data": {
      "application/vnd.jupyter.widget-view+json": {
       "model_id": "c1d0df2f6420498ebd35796ba38bbf9f",
       "version_major": 2,
       "version_minor": 0
      },
      "text/plain": [
       "HBox(children=(IntProgress(value=0, max=96), HTML(value='')))"
      ]
     },
     "metadata": {},
     "output_type": "display_data"
    },
    {
     "name": "stdout",
     "output_type": "stream",
     "text": [
      "\n",
      "Epoch 10: Training MSE 7423.487824201584; Testing MSE 2771.1448907852173\n",
      "Epoch 10: Training R2 0.3062454070891224; Testing R2 -0.08696627651839828\n",
      "Printing performance_continuous\n",
      "{'HHVEHCNT_mean_norm': {'mse_train_list': [12968.76671910286, 9803.879088163376, 9795.471370220184, 9716.708314418793, 9511.821076273918, 9420.36070227623, 9256.327441334724, 9344.197827577591, 8872.700893878937, 8167.845937609673, 7423.487824201584], 'mse_test_list': [2314.4653499126434, 2293.4097290039062, 2329.2478561401367, 2347.6718723773956, 2339.412635564804, 2312.281894683838, 2332.5907111167908, 2260.4303300380707, 2326.6711831092834, 2359.0803802013397, 2771.1448907852173], 'r_square_train_list': [-0.211983058210917, 0.08378833415979003, 0.08457406898917474, 0.09193479120060877, 0.11108232209955238, 0.11962965942034431, 0.1349592229440183, 0.12674738432038613, 0.17081065633525172, 0.23668216779023155, 0.3062454070891224], 'r_square_test_list': [0.09216375084142592, 0.10042270183855984, 0.08636539442738966, 0.07913867582652523, 0.08237831584495914, 0.09302019909423698, 0.08505417802762749, 0.11335868891556589, 0.08737608019104826, 0.07466375164942463, -0.08696627651839828]}}\n",
      "Stored 'performance_continuous' (dict)\n",
      "HHVEHCNT_P_CAP_mean_norm\n",
      "tensor(10708.8994)\n",
      "tensor(2445.9663)\n"
     ]
    },
    {
     "data": {
      "application/vnd.jupyter.widget-view+json": {
       "model_id": "881793619b39441ba09ab88ac92fa5ef",
       "version_major": 2,
       "version_minor": 0
      },
      "text/plain": [
       "HBox(children=(IntProgress(value=0, max=96), HTML(value='')))"
      ]
     },
     "metadata": {},
     "output_type": "display_data"
    },
    {
     "name": "stdout",
     "output_type": "stream",
     "text": [
      "\n",
      "Epoch 0: Training MSE 11759.440505504608; Testing MSE 2224.727487564087\n",
      "Epoch 0: Training R2 -0.0980998187416513; Testing R2 0.09045047769151782\n"
     ]
    },
    {
     "data": {
      "application/vnd.jupyter.widget-view+json": {
       "model_id": "62760f55ea1240fbb0391deaaf6f78d4",
       "version_major": 2,
       "version_minor": 0
      },
      "text/plain": [
       "HBox(children=(IntProgress(value=0, max=96), HTML(value='')))"
      ]
     },
     "metadata": {},
     "output_type": "display_data"
    },
    {
     "name": "stdout",
     "output_type": "stream",
     "text": [
      "\n",
      "Epoch 1: Training MSE 9766.517919301987; Testing MSE 2219.6477830410004\n",
      "Epoch 1: Training R2 0.08799984557918394; Testing R2 0.09252724567693082\n"
     ]
    },
    {
     "data": {
      "application/vnd.jupyter.widget-view+json": {
       "model_id": "20b689bad4734b52b78194aa1e1ed7c2",
       "version_major": 2,
       "version_minor": 0
      },
      "text/plain": [
       "HBox(children=(IntProgress(value=0, max=96), HTML(value='')))"
      ]
     },
     "metadata": {},
     "output_type": "display_data"
    },
    {
     "name": "stdout",
     "output_type": "stream",
     "text": [
      "\n",
      "Epoch 2: Training MSE 9711.34986281395; Testing MSE 2270.866107940674\n",
      "Epoch 2: Training R2 0.09315145400829972; Testing R2 0.0715873313699672\n"
     ]
    },
    {
     "data": {
      "application/vnd.jupyter.widget-view+json": {
       "model_id": "8b7d9e1ce35c4ec29d39ab69104ab3c3",
       "version_major": 2,
       "version_minor": 0
      },
      "text/plain": [
       "HBox(children=(IntProgress(value=0, max=96), HTML(value='')))"
      ]
     },
     "metadata": {},
     "output_type": "display_data"
    },
    {
     "name": "stdout",
     "output_type": "stream",
     "text": [
      "\n",
      "Epoch 3: Training MSE 9565.398448705673; Testing MSE 2290.711635351181\n",
      "Epoch 3: Training R2 0.1067804375728123; Testing R2 0.06347375787519693\n"
     ]
    },
    {
     "data": {
      "application/vnd.jupyter.widget-view+json": {
       "model_id": "8da3743d72c7471fbe6701fdb0955370",
       "version_major": 2,
       "version_minor": 0
      },
      "text/plain": [
       "HBox(children=(IntProgress(value=0, max=96), HTML(value='')))"
      ]
     },
     "metadata": {},
     "output_type": "display_data"
    },
    {
     "name": "stdout",
     "output_type": "stream",
     "text": [
      "\n",
      "Epoch 4: Training MSE 9640.703243017197; Testing MSE 2168.278819322586\n",
      "Epoch 4: Training R2 0.09974845497592322; Testing R2 0.11352874661254586\n"
     ]
    },
    {
     "data": {
      "application/vnd.jupyter.widget-view+json": {
       "model_id": "3c5d0de4e27346378d7345d34cd6debb",
       "version_major": 2,
       "version_minor": 0
      },
      "text/plain": [
       "HBox(children=(IntProgress(value=0, max=96), HTML(value='')))"
      ]
     },
     "metadata": {},
     "output_type": "display_data"
    },
    {
     "name": "stdout",
     "output_type": "stream",
     "text": [
      "\n",
      "Epoch 5: Training MSE 9334.938263893127; Testing MSE 2170.409804582596\n",
      "Epoch 5: Training R2 0.12830087360472742; Testing R2 0.11265752232277426\n"
     ]
    },
    {
     "data": {
      "application/vnd.jupyter.widget-view+json": {
       "model_id": "4a5af05586a243d29aacebae04ed4de2",
       "version_major": 2,
       "version_minor": 0
      },
      "text/plain": [
       "HBox(children=(IntProgress(value=0, max=96), HTML(value='')))"
      ]
     },
     "metadata": {},
     "output_type": "display_data"
    },
    {
     "name": "stdout",
     "output_type": "stream",
     "text": [
      "\n",
      "Epoch 6: Training MSE 8970.03358900547; Testing MSE 2249.590343236923\n",
      "Epoch 6: Training R2 0.16237577344069742; Testing R2 0.08028563789569465\n"
     ]
    },
    {
     "data": {
      "application/vnd.jupyter.widget-view+json": {
       "model_id": "dd8373a29fb34525862da67cb6c6b892",
       "version_major": 2,
       "version_minor": 0
      },
      "text/plain": [
       "HBox(children=(IntProgress(value=0, max=96), HTML(value='')))"
      ]
     },
     "metadata": {},
     "output_type": "display_data"
    },
    {
     "name": "stdout",
     "output_type": "stream",
     "text": [
      "\n",
      "Epoch 7: Training MSE 8505.051308870316; Testing MSE 2264.1828775405884\n",
      "Epoch 7: Training R2 0.20579594783551514; Testing R2 0.07431967906282144\n"
     ]
    },
    {
     "data": {
      "application/vnd.jupyter.widget-view+json": {
       "model_id": "ecc8fe76239c480f817622beccaec1a7",
       "version_major": 2,
       "version_minor": 0
      },
      "text/plain": [
       "HBox(children=(IntProgress(value=0, max=96), HTML(value='')))"
      ]
     },
     "metadata": {},
     "output_type": "display_data"
    },
    {
     "name": "stdout",
     "output_type": "stream",
     "text": [
      "\n",
      "Epoch 8: Training MSE 7827.041923999786; Testing MSE 2289.709311723709\n",
      "Epoch 8: Training R2 0.26910865240534176; Testing R2 0.0638835442340484\n"
     ]
    },
    {
     "data": {
      "application/vnd.jupyter.widget-view+json": {
       "model_id": "49ab9142ac2343319db087be932182d7",
       "version_major": 2,
       "version_minor": 0
      },
      "text/plain": [
       "HBox(children=(IntProgress(value=0, max=96), HTML(value='')))"
      ]
     },
     "metadata": {},
     "output_type": "display_data"
    },
    {
     "name": "stdout",
     "output_type": "stream",
     "text": [
      "\n",
      "Epoch 9: Training MSE 6664.316242933273; Testing MSE 2373.796057701111\n",
      "Epoch 9: Training R2 0.3776842992677699; Testing R2 0.029505823787953855\n"
     ]
    },
    {
     "data": {
      "application/vnd.jupyter.widget-view+json": {
       "model_id": "b3eeedcabb664e79bfd63270dceb8901",
       "version_major": 2,
       "version_minor": 0
      },
      "text/plain": [
       "HBox(children=(IntProgress(value=0, max=96), HTML(value='')))"
      ]
     },
     "metadata": {},
     "output_type": "display_data"
    },
    {
     "name": "stdout",
     "output_type": "stream",
     "text": [
      "\n",
      "Epoch 10: Training MSE 5663.7800842523575; Testing MSE 2566.187047958374\n",
      "Epoch 10: Training R2 0.4711146435071649; Testing R2 -0.04915061133190424\n",
      "Printing performance_continuous\n",
      "{'HHVEHCNT_mean_norm': {'mse_train_list': [12968.76671910286, 9803.879088163376, 9795.471370220184, 9716.708314418793, 9511.821076273918, 9420.36070227623, 9256.327441334724, 9344.197827577591, 8872.700893878937, 8167.845937609673, 7423.487824201584], 'mse_test_list': [2314.4653499126434, 2293.4097290039062, 2329.2478561401367, 2347.6718723773956, 2339.412635564804, 2312.281894683838, 2332.5907111167908, 2260.4303300380707, 2326.6711831092834, 2359.0803802013397, 2771.1448907852173], 'r_square_train_list': [-0.211983058210917, 0.08378833415979003, 0.08457406898917474, 0.09193479120060877, 0.11108232209955238, 0.11962965942034431, 0.1349592229440183, 0.12674738432038613, 0.17081065633525172, 0.23668216779023155, 0.3062454070891224], 'r_square_test_list': [0.09216375084142592, 0.10042270183855984, 0.08636539442738966, 0.07913867582652523, 0.08237831584495914, 0.09302019909423698, 0.08505417802762749, 0.11335868891556589, 0.08737608019104826, 0.07466375164942463, -0.08696627651839828]}, 'HHVEHCNT_P_CAP_mean_norm': {'mse_train_list': [11759.440505504608, 9766.517919301987, 9711.34986281395, 9565.398448705673, 9640.703243017197, 9334.938263893127, 8970.03358900547, 8505.051308870316, 7827.041923999786, 6664.316242933273, 5663.7800842523575], 'mse_test_list': [2224.727487564087, 2219.6477830410004, 2270.866107940674, 2290.711635351181, 2168.278819322586, 2170.409804582596, 2249.590343236923, 2264.1828775405884, 2289.709311723709, 2373.796057701111, 2566.187047958374], 'r_square_train_list': [-0.0980998187416513, 0.08799984557918394, 0.09315145400829972, 0.1067804375728123, 0.09974845497592322, 0.12830087360472742, 0.16237577344069742, 0.20579594783551514, 0.26910865240534176, 0.3776842992677699, 0.4711146435071649], 'r_square_test_list': [0.09045047769151782, 0.09252724567693082, 0.0715873313699672, 0.06347375787519693, 0.11352874661254586, 0.11265752232277426, 0.08028563789569465, 0.07431967906282144, 0.0638835442340484, 0.029505823787953855, -0.04915061133190424]}}\n",
      "Stored 'performance_continuous' (dict)\n",
      "TRPTRANS_1_mean_norm\n",
      "tensor(11639.5127)\n",
      "tensor(3039.0168)\n"
     ]
    },
    {
     "data": {
      "application/vnd.jupyter.widget-view+json": {
       "model_id": "d44eb84731ff416b9674167de38cc39e",
       "version_major": 2,
       "version_minor": 0
      },
      "text/plain": [
       "HBox(children=(IntProgress(value=0, max=96), HTML(value='')))"
      ]
     },
     "metadata": {},
     "output_type": "display_data"
    },
    {
     "name": "stdout",
     "output_type": "stream",
     "text": [
      "\n",
      "Epoch 0: Training MSE 12230.166044831276; Testing MSE 2291.6292428970337\n",
      "Epoch 0: Training R2 -0.0507455393520595; Testing R2 0.24593072060881294\n"
     ]
    },
    {
     "data": {
      "application/vnd.jupyter.widget-view+json": {
       "model_id": "c4492d574acc475b919f5d1883140ef8",
       "version_major": 2,
       "version_minor": 0
      },
      "text/plain": [
       "HBox(children=(IntProgress(value=0, max=96), HTML(value='')))"
      ]
     },
     "metadata": {},
     "output_type": "display_data"
    },
    {
     "name": "stdout",
     "output_type": "stream",
     "text": [
      "\n",
      "Epoch 1: Training MSE 9215.357342362404; Testing MSE 2255.251407623291\n",
      "Epoch 1: Training R2 0.20826948828591074; Testing R2 0.2579009850465298\n"
     ]
    },
    {
     "data": {
      "application/vnd.jupyter.widget-view+json": {
       "model_id": "7be1ff9632684d60a0bb31020bd5ea5a",
       "version_major": 2,
       "version_minor": 0
      },
      "text/plain": [
       "HBox(children=(IntProgress(value=0, max=96), HTML(value='')))"
      ]
     },
     "metadata": {},
     "output_type": "display_data"
    },
    {
     "name": "stdout",
     "output_type": "stream",
     "text": [
      "\n",
      "Epoch 2: Training MSE 8983.33434164524; Testing MSE 2160.932868719101\n",
      "Epoch 2: Training R2 0.22820357030384641; Testing R2 0.28893685740029695\n"
     ]
    },
    {
     "data": {
      "application/vnd.jupyter.widget-view+json": {
       "model_id": "104b85f700ab44bbae0ffd391bc9a099",
       "version_major": 2,
       "version_minor": 0
      },
      "text/plain": [
       "HBox(children=(IntProgress(value=0, max=96), HTML(value='')))"
      ]
     },
     "metadata": {},
     "output_type": "display_data"
    },
    {
     "name": "stdout",
     "output_type": "stream",
     "text": [
      "\n",
      "Epoch 3: Training MSE 8734.77349281311; Testing MSE 2111.8488252162933\n",
      "Epoch 3: Training R2 0.24955848913410228; Testing R2 0.3050881477665244\n"
     ]
    },
    {
     "data": {
      "application/vnd.jupyter.widget-view+json": {
       "model_id": "d47986192506488a9182d15a0765309b",
       "version_major": 2,
       "version_minor": 0
      },
      "text/plain": [
       "HBox(children=(IntProgress(value=0, max=96), HTML(value='')))"
      ]
     },
     "metadata": {},
     "output_type": "display_data"
    },
    {
     "name": "stdout",
     "output_type": "stream",
     "text": [
      "\n",
      "Epoch 4: Training MSE 8743.052563071251; Testing MSE 2120.903104543686\n",
      "Epoch 4: Training R2 0.24884719902472552; Testing R2 0.30210880287075825\n"
     ]
    },
    {
     "data": {
      "application/vnd.jupyter.widget-view+json": {
       "model_id": "3249ae38a9264dcc8d12f1e7465b752c",
       "version_major": 2,
       "version_minor": 0
      },
      "text/plain": [
       "HBox(children=(IntProgress(value=0, max=96), HTML(value='')))"
      ]
     },
     "metadata": {},
     "output_type": "display_data"
    },
    {
     "name": "stdout",
     "output_type": "stream",
     "text": [
      "\n",
      "Epoch 5: Training MSE 8348.892933130264; Testing MSE 2233.1446170806885\n",
      "Epoch 5: Training R2 0.28271112789003994; Testing R2 0.26517530817963764\n"
     ]
    },
    {
     "data": {
      "application/vnd.jupyter.widget-view+json": {
       "model_id": "de364e13d8144e9890e732137e0a12f0",
       "version_major": 2,
       "version_minor": 0
      },
      "text/plain": [
       "HBox(children=(IntProgress(value=0, max=96), HTML(value='')))"
      ]
     },
     "metadata": {},
     "output_type": "display_data"
    },
    {
     "name": "stdout",
     "output_type": "stream",
     "text": [
      "\n",
      "Epoch 6: Training MSE 8404.468074440956; Testing MSE 2196.3607251644135\n",
      "Epoch 6: Training R2 0.2779364313227968; Testing R2 0.2772791870930711\n"
     ]
    },
    {
     "data": {
      "application/vnd.jupyter.widget-view+json": {
       "model_id": "cc31b3b5ee2943a9926226f4c049a014",
       "version_major": 2,
       "version_minor": 0
      },
      "text/plain": [
       "HBox(children=(IntProgress(value=0, max=96), HTML(value='')))"
      ]
     },
     "metadata": {},
     "output_type": "display_data"
    },
    {
     "name": "stdout",
     "output_type": "stream",
     "text": [
      "\n",
      "Epoch 7: Training MSE 8076.0271191596985; Testing MSE 2259.3310326337814\n",
      "Epoch 7: Training R2 0.30615418956395823; Testing R2 0.25655856898975193\n"
     ]
    },
    {
     "data": {
      "application/vnd.jupyter.widget-view+json": {
       "model_id": "63480c0f76704a0da1d41b9110e15642",
       "version_major": 2,
       "version_minor": 0
      },
      "text/plain": [
       "HBox(children=(IntProgress(value=0, max=96), HTML(value='')))"
      ]
     },
     "metadata": {},
     "output_type": "display_data"
    },
    {
     "name": "stdout",
     "output_type": "stream",
     "text": [
      "\n",
      "Epoch 8: Training MSE 7642.847928404808; Testing MSE 2159.1048181056976\n",
      "Epoch 8: Training R2 0.34337045471991634; Testing R2 0.2895383843763609\n"
     ]
    },
    {
     "data": {
      "application/vnd.jupyter.widget-view+json": {
       "model_id": "c111d20aef6b4219ab4fa4a97fe23468",
       "version_major": 2,
       "version_minor": 0
      },
      "text/plain": [
       "HBox(children=(IntProgress(value=0, max=96), HTML(value='')))"
      ]
     },
     "metadata": {},
     "output_type": "display_data"
    },
    {
     "name": "stdout",
     "output_type": "stream",
     "text": [
      "\n",
      "Epoch 9: Training MSE 6612.923592329025; Testing MSE 2267.4333304166794\n",
      "Epoch 9: Training R2 0.4318556312935504; Testing R2 0.253892477225781\n"
     ]
    },
    {
     "data": {
      "application/vnd.jupyter.widget-view+json": {
       "model_id": "c3b7f3fc017a482aa36a042b8d60c732",
       "version_major": 2,
       "version_minor": 0
      },
      "text/plain": [
       "HBox(children=(IntProgress(value=0, max=96), HTML(value='')))"
      ]
     },
     "metadata": {},
     "output_type": "display_data"
    },
    {
     "name": "stdout",
     "output_type": "stream",
     "text": [
      "\n",
      "Epoch 10: Training MSE 5841.098818182945; Testing MSE 2376.7027139663696\n",
      "Epoch 10: Training R2 0.4981663776581222; Testing R2 0.21793697283159297\n"
     ]
    },
    {
     "data": {
      "application/vnd.jupyter.widget-view+json": {
       "model_id": "0594470329e1475cb72123dd4280ef3a",
       "version_major": 2,
       "version_minor": 0
      },
      "text/plain": [
       "HBox(children=(IntProgress(value=0, max=96), HTML(value='')))"
      ]
     },
     "metadata": {},
     "output_type": "display_data"
    },
    {
     "name": "stdout",
     "output_type": "stream",
     "text": [
      "\n",
      "Epoch 11: Training MSE 4618.132694065571; Testing MSE 2496.234178543091\n",
      "Epoch 11: Training R2 0.6032365946105802; Testing R2 0.17860469181915728\n"
     ]
    },
    {
     "data": {
      "application/vnd.jupyter.widget-view+json": {
       "model_id": "a7b07123cb4d479483dcbe67a89d7fe2",
       "version_major": 2,
       "version_minor": 0
      },
      "text/plain": [
       "HBox(children=(IntProgress(value=0, max=96), HTML(value='')))"
      ]
     },
     "metadata": {},
     "output_type": "display_data"
    },
    {
     "name": "stdout",
     "output_type": "stream",
     "text": [
      "\n",
      "Epoch 12: Training MSE 3747.4667713046074; Testing MSE 2488.228678703308\n",
      "Epoch 12: Training R2 0.6780392040971097; Testing R2 0.18123893185343076\n"
     ]
    },
    {
     "data": {
      "application/vnd.jupyter.widget-view+json": {
       "model_id": "d89ab3940e604fe7a2c8727a9e0e35c2",
       "version_major": 2,
       "version_minor": 0
      },
      "text/plain": [
       "HBox(children=(IntProgress(value=0, max=96), HTML(value='')))"
      ]
     },
     "metadata": {},
     "output_type": "display_data"
    },
    {
     "name": "stdout",
     "output_type": "stream",
     "text": [
      "\n",
      "Epoch 13: Training MSE 2860.5041205883026; Testing MSE 2548.551285266876\n",
      "Epoch 13: Training R2 0.7542419347383595; Testing R2 0.16138954975840936\n"
     ]
    },
    {
     "data": {
      "application/vnd.jupyter.widget-view+json": {
       "model_id": "f0a943b913fc4c9b82328a3ed3ac5dd9",
       "version_major": 2,
       "version_minor": 0
      },
      "text/plain": [
       "HBox(children=(IntProgress(value=0, max=96), HTML(value='')))"
      ]
     },
     "metadata": {},
     "output_type": "display_data"
    },
    {
     "name": "stdout",
     "output_type": "stream",
     "text": [
      "\n",
      "Epoch 14: Training MSE 2252.7525819838047; Testing MSE 2403.438013792038\n",
      "Epoch 14: Training R2 0.8064564521768132; Testing R2 0.20913962119352314\n"
     ]
    },
    {
     "data": {
      "application/vnd.jupyter.widget-view+json": {
       "model_id": "cd8f713b02804ea891bf59dbc69f1b1e",
       "version_major": 2,
       "version_minor": 0
      },
      "text/plain": [
       "HBox(children=(IntProgress(value=0, max=96), HTML(value='')))"
      ]
     },
     "metadata": {},
     "output_type": "display_data"
    },
    {
     "name": "stdout",
     "output_type": "stream",
     "text": [
      "\n",
      "Epoch 15: Training MSE 2153.988979756832; Testing MSE 2819.208914041519\n",
      "Epoch 15: Training R2 0.8149416529590373; Testing R2 0.07232863219313601\n"
     ]
    },
    {
     "data": {
      "application/vnd.jupyter.widget-view+json": {
       "model_id": "67ba22f884984a88a6f1b98e36643cec",
       "version_major": 2,
       "version_minor": 0
      },
      "text/plain": [
       "HBox(children=(IntProgress(value=0, max=96), HTML(value='')))"
      ]
     },
     "metadata": {},
     "output_type": "display_data"
    },
    {
     "name": "stdout",
     "output_type": "stream",
     "text": [
      "\n",
      "Epoch 16: Training MSE 2071.227313578129; Testing MSE 2561.3675355911255\n",
      "Epoch 16: Training R2 0.8220520594120526; Testing R2 0.15717231406181553\n"
     ]
    },
    {
     "data": {
      "application/vnd.jupyter.widget-view+json": {
       "model_id": "ae86744b1473468d93662e695eff872e",
       "version_major": 2,
       "version_minor": 0
      },
      "text/plain": [
       "HBox(children=(IntProgress(value=0, max=96), HTML(value='')))"
      ]
     },
     "metadata": {},
     "output_type": "display_data"
    },
    {
     "name": "stdout",
     "output_type": "stream",
     "text": [
      "\n",
      "Epoch 17: Training MSE 1795.3870363533497; Testing MSE 2548.621815443039\n",
      "Epoch 17: Training R2 0.8457506698646935; Testing R2 0.1613663415368879\n"
     ]
    },
    {
     "data": {
      "application/vnd.jupyter.widget-view+json": {
       "model_id": "fae4234a3fe14d5484b3a53a90273a80",
       "version_major": 2,
       "version_minor": 0
      },
      "text/plain": [
       "HBox(children=(IntProgress(value=0, max=96), HTML(value='')))"
      ]
     },
     "metadata": {},
     "output_type": "display_data"
    },
    {
     "name": "stdout",
     "output_type": "stream",
     "text": [
      "\n",
      "Epoch 18: Training MSE 1558.6245216429234; Testing MSE 2426.9540190696716\n",
      "Epoch 18: Training R2 0.8660919436712657; Testing R2 0.20140159061600826\n"
     ]
    },
    {
     "data": {
      "application/vnd.jupyter.widget-view+json": {
       "model_id": "21ca4343ee6c4b2ea4492fb3a7a0e98e",
       "version_major": 2,
       "version_minor": 0
      },
      "text/plain": [
       "HBox(children=(IntProgress(value=0, max=96), HTML(value='')))"
      ]
     },
     "metadata": {},
     "output_type": "display_data"
    },
    {
     "name": "stdout",
     "output_type": "stream",
     "text": [
      "\n",
      "Epoch 19: Training MSE 1301.457180455327; Testing MSE 2490.904539823532\n",
      "Epoch 19: Training R2 0.8881862828347227; Testing R2 0.18035842961995108\n"
     ]
    },
    {
     "data": {
      "application/vnd.jupyter.widget-view+json": {
       "model_id": "22bfe6194b8448b09abe3337dc1a7e04",
       "version_major": 2,
       "version_minor": 0
      },
      "text/plain": [
       "HBox(children=(IntProgress(value=0, max=96), HTML(value='')))"
      ]
     },
     "metadata": {},
     "output_type": "display_data"
    },
    {
     "name": "stdout",
     "output_type": "stream",
     "text": [
      "\n",
      "Epoch 20: Training MSE 1224.8165853321552; Testing MSE 2415.772485733032\n",
      "Epoch 20: Training R2 0.8947708020606896; Testing R2 0.20508091649814308\n"
     ]
    },
    {
     "data": {
      "application/vnd.jupyter.widget-view+json": {
       "model_id": "863a9439ee3c47429375d48e6b42486f",
       "version_major": 2,
       "version_minor": 0
      },
      "text/plain": [
       "HBox(children=(IntProgress(value=0, max=96), HTML(value='')))"
      ]
     },
     "metadata": {},
     "output_type": "display_data"
    },
    {
     "name": "stdout",
     "output_type": "stream",
     "text": [
      "\n",
      "Epoch 21: Training MSE 1115.707864239812; Testing MSE 2576.003336906433\n",
      "Epoch 21: Training R2 0.9041447959682081; Testing R2 0.15235634822207322\n"
     ]
    },
    {
     "data": {
      "application/vnd.jupyter.widget-view+json": {
       "model_id": "e4898b5f265847f99056509e218ac6f8",
       "version_major": 2,
       "version_minor": 0
      },
      "text/plain": [
       "HBox(children=(IntProgress(value=0, max=96), HTML(value='')))"
      ]
     },
     "metadata": {},
     "output_type": "display_data"
    },
    {
     "name": "stdout",
     "output_type": "stream",
     "text": [
      "\n",
      "Epoch 22: Training MSE 1086.6693586111069; Testing MSE 2410.4267060756683\n",
      "Epoch 22: Training R2 0.9066396173914795; Testing R2 0.20683996553563766\n"
     ]
    },
    {
     "data": {
      "application/vnd.jupyter.widget-view+json": {
       "model_id": "a4df28026ecc4d9797fecccd9288e9d2",
       "version_major": 2,
       "version_minor": 0
      },
      "text/plain": [
       "HBox(children=(IntProgress(value=0, max=96), HTML(value='')))"
      ]
     },
     "metadata": {},
     "output_type": "display_data"
    },
    {
     "name": "stdout",
     "output_type": "stream",
     "text": [
      "\n",
      "Epoch 23: Training MSE 1030.8579668402672; Testing MSE 2424.946653842926\n",
      "Epoch 23: Training R2 0.9114346112397457; Testing R2 0.20206212174454863\n"
     ]
    },
    {
     "data": {
      "application/vnd.jupyter.widget-view+json": {
       "model_id": "5146db79e4904907b4dcc4515aa4d7fd",
       "version_major": 2,
       "version_minor": 0
      },
      "text/plain": [
       "HBox(children=(IntProgress(value=0, max=96), HTML(value='')))"
      ]
     },
     "metadata": {},
     "output_type": "display_data"
    },
    {
     "name": "stdout",
     "output_type": "stream",
     "text": [
      "\n",
      "Epoch 24: Training MSE 1061.6857629269361; Testing MSE 2459.397292137146\n",
      "Epoch 24: Training R2 0.908786064269297; Testing R2 0.19072600877007473\n",
      "Printing performance_continuous\n",
      "{'HHVEHCNT_mean_norm': {'mse_train_list': [12968.76671910286, 9803.879088163376, 9795.471370220184, 9716.708314418793, 9511.821076273918, 9420.36070227623, 9256.327441334724, 9344.197827577591, 8872.700893878937, 8167.845937609673, 7423.487824201584], 'mse_test_list': [2314.4653499126434, 2293.4097290039062, 2329.2478561401367, 2347.6718723773956, 2339.412635564804, 2312.281894683838, 2332.5907111167908, 2260.4303300380707, 2326.6711831092834, 2359.0803802013397, 2771.1448907852173], 'r_square_train_list': [-0.211983058210917, 0.08378833415979003, 0.08457406898917474, 0.09193479120060877, 0.11108232209955238, 0.11962965942034431, 0.1349592229440183, 0.12674738432038613, 0.17081065633525172, 0.23668216779023155, 0.3062454070891224], 'r_square_test_list': [0.09216375084142592, 0.10042270183855984, 0.08636539442738966, 0.07913867582652523, 0.08237831584495914, 0.09302019909423698, 0.08505417802762749, 0.11335868891556589, 0.08737608019104826, 0.07466375164942463, -0.08696627651839828]}, 'HHVEHCNT_P_CAP_mean_norm': {'mse_train_list': [11759.440505504608, 9766.517919301987, 9711.34986281395, 9565.398448705673, 9640.703243017197, 9334.938263893127, 8970.03358900547, 8505.051308870316, 7827.041923999786, 6664.316242933273, 5663.7800842523575], 'mse_test_list': [2224.727487564087, 2219.6477830410004, 2270.866107940674, 2290.711635351181, 2168.278819322586, 2170.409804582596, 2249.590343236923, 2264.1828775405884, 2289.709311723709, 2373.796057701111, 2566.187047958374], 'r_square_train_list': [-0.0980998187416513, 0.08799984557918394, 0.09315145400829972, 0.1067804375728123, 0.09974845497592322, 0.12830087360472742, 0.16237577344069742, 0.20579594783551514, 0.26910865240534176, 0.3776842992677699, 0.4711146435071649], 'r_square_test_list': [0.09045047769151782, 0.09252724567693082, 0.0715873313699672, 0.06347375787519693, 0.11352874661254586, 0.11265752232277426, 0.08028563789569465, 0.07431967906282144, 0.0638835442340484, 0.029505823787953855, -0.04915061133190424]}, 'TRPTRANS_1_mean_norm': {'mse_train_list': [12230.166044831276, 9215.357342362404, 8983.33434164524, 8734.77349281311, 8743.052563071251, 8348.892933130264, 8404.468074440956, 8076.0271191596985, 7642.847928404808, 6612.923592329025, 5841.098818182945, 4618.132694065571, 3747.4667713046074, 2860.5041205883026, 2252.7525819838047, 2153.988979756832, 2071.227313578129, 1795.3870363533497, 1558.6245216429234, 1301.457180455327, 1224.8165853321552, 1115.707864239812, 1086.6693586111069, 1030.8579668402672, 1061.6857629269361], 'mse_test_list': [2291.6292428970337, 2255.251407623291, 2160.932868719101, 2111.8488252162933, 2120.903104543686, 2233.1446170806885, 2196.3607251644135, 2259.3310326337814, 2159.1048181056976, 2267.4333304166794, 2376.7027139663696, 2496.234178543091, 2488.228678703308, 2548.551285266876, 2403.438013792038, 2819.208914041519, 2561.3675355911255, 2548.621815443039, 2426.9540190696716, 2490.904539823532, 2415.772485733032, 2576.003336906433, 2410.4267060756683, 2424.946653842926, 2459.397292137146], 'r_square_train_list': [-0.0507455393520595, 0.20826948828591074, 0.22820357030384641, 0.24955848913410228, 0.24884719902472552, 0.28271112789003994, 0.2779364313227968, 0.30615418956395823, 0.34337045471991634, 0.4318556312935504, 0.4981663776581222, 0.6032365946105802, 0.6780392040971097, 0.7542419347383595, 0.8064564521768132, 0.8149416529590373, 0.8220520594120526, 0.8457506698646935, 0.8660919436712657, 0.8881862828347227, 0.8947708020606896, 0.9041447959682081, 0.9066396173914795, 0.9114346112397457, 0.908786064269297], 'r_square_test_list': [0.24593072060881294, 0.2579009850465298, 0.28893685740029695, 0.3050881477665244, 0.30210880287075825, 0.26517530817963764, 0.2772791870930711, 0.25655856898975193, 0.2895383843763609, 0.253892477225781, 0.21793697283159297, 0.17860469181915728, 0.18123893185343076, 0.16138954975840936, 0.20913962119352314, 0.07232863219313601, 0.15717231406181553, 0.1613663415368879, 0.20140159061600826, 0.18035842961995108, 0.20508091649814308, 0.15235634822207322, 0.20683996553563766, 0.20206212174454863, 0.19072600877007473]}}\n",
      "Stored 'performance_continuous' (dict)\n",
      "TRPTRANS_2_mean_norm\n",
      "tensor(11690.4609)\n",
      "tensor(2961.9233)\n"
     ]
    },
    {
     "data": {
      "application/vnd.jupyter.widget-view+json": {
       "model_id": "1762f65a5a72475cb44ac851c62738e8",
       "version_major": 2,
       "version_minor": 0
      },
      "text/plain": [
       "HBox(children=(IntProgress(value=0, max=96), HTML(value='')))"
      ]
     },
     "metadata": {},
     "output_type": "display_data"
    },
    {
     "name": "stdout",
     "output_type": "stream",
     "text": [
      "\n",
      "Epoch 0: Training MSE 11870.062518119812; Testing MSE 2270.030653476715\n",
      "Epoch 0: Training R2 -0.015363088040754258; Testing R2 0.23359574404229322\n"
     ]
    },
    {
     "data": {
      "application/vnd.jupyter.widget-view+json": {
       "model_id": "b9528f15e27246a196f0f6dc47dc8ee9",
       "version_major": 2,
       "version_minor": 0
      },
      "text/plain": [
       "HBox(children=(IntProgress(value=0, max=96), HTML(value='')))"
      ]
     },
     "metadata": {},
     "output_type": "display_data"
    },
    {
     "name": "stdout",
     "output_type": "stream",
     "text": [
      "\n",
      "Epoch 1: Training MSE 8421.525579690933; Testing MSE 2003.9832383394241\n",
      "Epoch 1: Training R2 0.27962416326315764; Testing R2 0.3234182629300797\n"
     ]
    },
    {
     "data": {
      "application/vnd.jupyter.widget-view+json": {
       "model_id": "eea40d14fa6e4ff6a847b8c7c39abd1f",
       "version_major": 2,
       "version_minor": 0
      },
      "text/plain": [
       "HBox(children=(IntProgress(value=0, max=96), HTML(value='')))"
      ]
     },
     "metadata": {},
     "output_type": "display_data"
    },
    {
     "name": "stdout",
     "output_type": "stream",
     "text": [
      "\n",
      "Epoch 2: Training MSE 8144.220009446144; Testing MSE 1945.943021774292\n",
      "Epoch 2: Training R2 0.30334483362229325; Testing R2 0.3430137115307832\n"
     ]
    },
    {
     "data": {
      "application/vnd.jupyter.widget-view+json": {
       "model_id": "e62ed7a4654a4c87be6205838bfc9b1b",
       "version_major": 2,
       "version_minor": 0
      },
      "text/plain": [
       "HBox(children=(IntProgress(value=0, max=96), HTML(value='')))"
      ]
     },
     "metadata": {},
     "output_type": "display_data"
    },
    {
     "name": "stdout",
     "output_type": "stream",
     "text": [
      "\n",
      "Epoch 3: Training MSE 8039.416149258614; Testing MSE 1873.7303376197815\n",
      "Epoch 3: Training R2 0.3123097376365863; Testing R2 0.3673940468295084\n"
     ]
    },
    {
     "data": {
      "application/vnd.jupyter.widget-view+json": {
       "model_id": "a2c268858a3e40dc9d3ebd83c7b4d276",
       "version_major": 2,
       "version_minor": 0
      },
      "text/plain": [
       "HBox(children=(IntProgress(value=0, max=96), HTML(value='')))"
      ]
     },
     "metadata": {},
     "output_type": "display_data"
    },
    {
     "name": "stdout",
     "output_type": "stream",
     "text": [
      "\n",
      "Epoch 4: Training MSE 7723.625993728638; Testing MSE 1780.141305923462\n",
      "Epoch 4: Training R2 0.33932237274295773; Testing R2 0.3989914316900013\n"
     ]
    },
    {
     "data": {
      "application/vnd.jupyter.widget-view+json": {
       "model_id": "8836c4ae31d04445bb9fafa5bf99fb5f",
       "version_major": 2,
       "version_minor": 0
      },
      "text/plain": [
       "HBox(children=(IntProgress(value=0, max=96), HTML(value='')))"
      ]
     },
     "metadata": {},
     "output_type": "display_data"
    },
    {
     "name": "stdout",
     "output_type": "stream",
     "text": [
      "\n",
      "Epoch 5: Training MSE 7568.865957856178; Testing MSE 1856.9938123226166\n",
      "Epoch 5: Training R2 0.35256051935666644; Testing R2 0.3730446067450961\n"
     ]
    },
    {
     "data": {
      "application/vnd.jupyter.widget-view+json": {
       "model_id": "1a0bbcc1d509410c8349276ef5e14158",
       "version_major": 2,
       "version_minor": 0
      },
      "text/plain": [
       "HBox(children=(IntProgress(value=0, max=96), HTML(value='')))"
      ]
     },
     "metadata": {},
     "output_type": "display_data"
    },
    {
     "name": "stdout",
     "output_type": "stream",
     "text": [
      "\n",
      "Epoch 6: Training MSE 7380.3219348192215; Testing MSE 1905.3146809339523\n",
      "Epoch 6: Training R2 0.368688542370041; Testing R2 0.356730589443796\n"
     ]
    },
    {
     "data": {
      "application/vnd.jupyter.widget-view+json": {
       "model_id": "26a52f893f2c43afa3bd1f8bd51eaab3",
       "version_major": 2,
       "version_minor": 0
      },
      "text/plain": [
       "HBox(children=(IntProgress(value=0, max=96), HTML(value='')))"
      ]
     },
     "metadata": {},
     "output_type": "display_data"
    },
    {
     "name": "stdout",
     "output_type": "stream",
     "text": [
      "\n",
      "Epoch 7: Training MSE 6994.640618562698; Testing MSE 1922.438132762909\n",
      "Epoch 7: Training R2 0.4016796552370586; Testing R2 0.35094939598797215\n"
     ]
    },
    {
     "data": {
      "application/vnd.jupyter.widget-view+json": {
       "model_id": "2b07e54218494bfaa47e6da297601a78",
       "version_major": 2,
       "version_minor": 0
      },
      "text/plain": [
       "HBox(children=(IntProgress(value=0, max=96), HTML(value='')))"
      ]
     },
     "metadata": {},
     "output_type": "display_data"
    },
    {
     "name": "stdout",
     "output_type": "stream",
     "text": [
      "\n",
      "Epoch 8: Training MSE 6499.428540468216; Testing MSE 2004.2107075452805\n",
      "Epoch 8: Training R2 0.44404001046530883; Testing R2 0.3233414651268428\n"
     ]
    },
    {
     "data": {
      "application/vnd.jupyter.widget-view+json": {
       "model_id": "2236e4062f794c529770a828618ddbdd",
       "version_major": 2,
       "version_minor": 0
      },
      "text/plain": [
       "HBox(children=(IntProgress(value=0, max=96), HTML(value='')))"
      ]
     },
     "metadata": {},
     "output_type": "display_data"
    },
    {
     "name": "stdout",
     "output_type": "stream",
     "text": [
      "\n",
      "Epoch 9: Training MSE 5671.397563815117; Testing MSE 2065.1791632175446\n",
      "Epoch 9: Training R2 0.5148696365236782; Testing R2 0.30275738894495197\n"
     ]
    },
    {
     "data": {
      "application/vnd.jupyter.widget-view+json": {
       "model_id": "cdd4121ece6b4123bff05c1de351c803",
       "version_major": 2,
       "version_minor": 0
      },
      "text/plain": [
       "HBox(children=(IntProgress(value=0, max=96), HTML(value='')))"
      ]
     },
     "metadata": {},
     "output_type": "display_data"
    },
    {
     "name": "stdout",
     "output_type": "stream",
     "text": [
      "\n",
      "Epoch 10: Training MSE 4566.176956892014; Testing MSE 2363.508051633835\n",
      "Epoch 10: Training R2 0.6094100154558586; Testing R2 0.20203604872551606\n"
     ]
    },
    {
     "data": {
      "application/vnd.jupyter.widget-view+json": {
       "model_id": "eda6ffb3706f4eeea56cfa5450df42f2",
       "version_major": 2,
       "version_minor": 0
      },
      "text/plain": [
       "HBox(children=(IntProgress(value=0, max=96), HTML(value='')))"
      ]
     },
     "metadata": {},
     "output_type": "display_data"
    },
    {
     "name": "stdout",
     "output_type": "stream",
     "text": [
      "\n",
      "Epoch 11: Training MSE 3977.96171605587; Testing MSE 2052.280533313751\n",
      "Epoch 11: Training R2 0.6597258450866048; Testing R2 0.3071122045238298\n"
     ]
    },
    {
     "data": {
      "application/vnd.jupyter.widget-view+json": {
       "model_id": "31975e6e47fc4d498bea878a30983c03",
       "version_major": 2,
       "version_minor": 0
      },
      "text/plain": [
       "HBox(children=(IntProgress(value=0, max=96), HTML(value='')))"
      ]
     },
     "metadata": {},
     "output_type": "display_data"
    },
    {
     "name": "stdout",
     "output_type": "stream",
     "text": [
      "\n",
      "Epoch 12: Training MSE 3142.7128225564957; Testing MSE 2198.265951871872\n",
      "Epoch 12: Training R2 0.7311728904995115; Testing R2 0.25782483216198404\n"
     ]
    },
    {
     "data": {
      "application/vnd.jupyter.widget-view+json": {
       "model_id": "beb70869cfd74436a08ffbfb6c1176b7",
       "version_major": 2,
       "version_minor": 0
      },
      "text/plain": [
       "HBox(children=(IntProgress(value=0, max=96), HTML(value='')))"
      ]
     },
     "metadata": {},
     "output_type": "display_data"
    },
    {
     "name": "stdout",
     "output_type": "stream",
     "text": [
      "\n",
      "Epoch 13: Training MSE 2404.581528902054; Testing MSE 2169.135242700577\n",
      "Epoch 13: Training R2 0.7943125132740684; Testing R2 0.2676598973641887\n"
     ]
    },
    {
     "data": {
      "application/vnd.jupyter.widget-view+json": {
       "model_id": "2bae162e903b461da97eed8cb28fed93",
       "version_major": 2,
       "version_minor": 0
      },
      "text/plain": [
       "HBox(children=(IntProgress(value=0, max=96), HTML(value='')))"
      ]
     },
     "metadata": {},
     "output_type": "display_data"
    },
    {
     "name": "stdout",
     "output_type": "stream",
     "text": [
      "\n",
      "Epoch 14: Training MSE 2014.2502509057522; Testing MSE 2142.5213515758514\n",
      "Epoch 14: Training R2 0.8277013830614194; Testing R2 0.2766452383305519\n"
     ]
    },
    {
     "data": {
      "application/vnd.jupyter.widget-view+json": {
       "model_id": "ad150a130c85422190277b4fa74b1a7d",
       "version_major": 2,
       "version_minor": 0
      },
      "text/plain": [
       "HBox(children=(IntProgress(value=0, max=96), HTML(value='')))"
      ]
     },
     "metadata": {},
     "output_type": "display_data"
    },
    {
     "name": "stdout",
     "output_type": "stream",
     "text": [
      "\n",
      "Epoch 15: Training MSE 1770.815448462963; Testing MSE 2203.953433036804\n",
      "Epoch 15: Training R2 0.8485247538202159; Testing R2 0.25590463352334125\n"
     ]
    },
    {
     "data": {
      "application/vnd.jupyter.widget-view+json": {
       "model_id": "867e0d2cdf1c439faff4f7108e205ace",
       "version_major": 2,
       "version_minor": 0
      },
      "text/plain": [
       "HBox(children=(IntProgress(value=0, max=96), HTML(value='')))"
      ]
     },
     "metadata": {},
     "output_type": "display_data"
    },
    {
     "name": "stdout",
     "output_type": "stream",
     "text": [
      "\n",
      "Epoch 16: Training MSE 1487.9779882729053; Testing MSE 2095.045620203018\n",
      "Epoch 16: Training R2 0.8727186210853455; Testing R2 0.2926739216979404\n"
     ]
    },
    {
     "data": {
      "application/vnd.jupyter.widget-view+json": {
       "model_id": "57b58b637193428a99d645899b402a9f",
       "version_major": 2,
       "version_minor": 0
      },
      "text/plain": [
       "HBox(children=(IntProgress(value=0, max=96), HTML(value='')))"
      ]
     },
     "metadata": {},
     "output_type": "display_data"
    },
    {
     "name": "stdout",
     "output_type": "stream",
     "text": [
      "\n",
      "Epoch 17: Training MSE 1417.8446125239134; Testing MSE 2128.606081008911\n",
      "Epoch 17: Training R2 0.8787178178769811; Testing R2 0.28134329056564944\n"
     ]
    },
    {
     "data": {
      "application/vnd.jupyter.widget-view+json": {
       "model_id": "c6f91dc81ea3419498a34b059d682512",
       "version_major": 2,
       "version_minor": 0
      },
      "text/plain": [
       "HBox(children=(IntProgress(value=0, max=96), HTML(value='')))"
      ]
     },
     "metadata": {},
     "output_type": "display_data"
    },
    {
     "name": "stdout",
     "output_type": "stream",
     "text": [
      "\n",
      "Epoch 18: Training MSE 1313.2252871990204; Testing MSE 2082.340317964554\n",
      "Epoch 18: Training R2 0.8876669368111457; Testing R2 0.2969634662879549\n"
     ]
    },
    {
     "data": {
      "application/vnd.jupyter.widget-view+json": {
       "model_id": "e8cafe083b914ababdd466a4f561266e",
       "version_major": 2,
       "version_minor": 0
      },
      "text/plain": [
       "HBox(children=(IntProgress(value=0, max=96), HTML(value='')))"
      ]
     },
     "metadata": {},
     "output_type": "display_data"
    },
    {
     "name": "stdout",
     "output_type": "stream",
     "text": [
      "\n",
      "Epoch 19: Training MSE 1116.0281911492348; Testing MSE 2052.898386120796\n",
      "Epoch 19: Training R2 0.9045351421885084; Testing R2 0.30690360600990685\n"
     ]
    },
    {
     "data": {
      "application/vnd.jupyter.widget-view+json": {
       "model_id": "56cd23ba324e409d9baacf655aff9f49",
       "version_major": 2,
       "version_minor": 0
      },
      "text/plain": [
       "HBox(children=(IntProgress(value=0, max=96), HTML(value='')))"
      ]
     },
     "metadata": {},
     "output_type": "display_data"
    },
    {
     "name": "stdout",
     "output_type": "stream",
     "text": [
      "\n",
      "Epoch 20: Training MSE 1164.945562928915; Testing MSE 2145.699602365494\n",
      "Epoch 20: Training R2 0.9003507586948887; Testing R2 0.27557220218984946\n"
     ]
    },
    {
     "data": {
      "application/vnd.jupyter.widget-view+json": {
       "model_id": "2615cc037d474c15804551738e87651e",
       "version_major": 2,
       "version_minor": 0
      },
      "text/plain": [
       "HBox(children=(IntProgress(value=0, max=96), HTML(value='')))"
      ]
     },
     "metadata": {},
     "output_type": "display_data"
    },
    {
     "name": "stdout",
     "output_type": "stream",
     "text": [
      "\n",
      "Epoch 21: Training MSE 1181.1119575053453; Testing MSE 2096.388679742813\n",
      "Epoch 21: Training R2 0.8989678881081035; Testing R2 0.29222048000290124\n"
     ]
    },
    {
     "data": {
      "application/vnd.jupyter.widget-view+json": {
       "model_id": "a4bd516c53d04c0e96d0f532efc6c76f",
       "version_major": 2,
       "version_minor": 0
      },
      "text/plain": [
       "HBox(children=(IntProgress(value=0, max=96), HTML(value='')))"
      ]
     },
     "metadata": {},
     "output_type": "display_data"
    },
    {
     "name": "stdout",
     "output_type": "stream",
     "text": [
      "\n",
      "Epoch 22: Training MSE 1110.7569471001625; Testing MSE 2064.2991721630096\n",
      "Epoch 22: Training R2 0.9049860434897704; Testing R2 0.30305449017059727\n"
     ]
    },
    {
     "data": {
      "application/vnd.jupyter.widget-view+json": {
       "model_id": "cccc5adec0434f2b9432ec70393a56e4",
       "version_major": 2,
       "version_minor": 0
      },
      "text/plain": [
       "HBox(children=(IntProgress(value=0, max=96), HTML(value='')))"
      ]
     },
     "metadata": {},
     "output_type": "display_data"
    },
    {
     "name": "stdout",
     "output_type": "stream",
     "text": [
      "\n",
      "Epoch 23: Training MSE 1063.326845318079; Testing MSE 2023.5982239246368\n",
      "Epoch 23: Training R2 0.909043206165875; Testing R2 0.316795881681601\n"
     ]
    },
    {
     "data": {
      "application/vnd.jupyter.widget-view+json": {
       "model_id": "82628a5a8e1648abac78c77f18585332",
       "version_major": 2,
       "version_minor": 0
      },
      "text/plain": [
       "HBox(children=(IntProgress(value=0, max=96), HTML(value='')))"
      ]
     },
     "metadata": {},
     "output_type": "display_data"
    },
    {
     "name": "stdout",
     "output_type": "stream",
     "text": [
      "\n",
      "Epoch 24: Training MSE 904.2911317199469; Testing MSE 2103.645047545433\n",
      "Epoch 24: Training R2 0.9226470935102984; Testing R2 0.2897705962719459\n",
      "Printing performance_continuous\n",
      "{'HHVEHCNT_mean_norm': {'mse_train_list': [12968.76671910286, 9803.879088163376, 9795.471370220184, 9716.708314418793, 9511.821076273918, 9420.36070227623, 9256.327441334724, 9344.197827577591, 8872.700893878937, 8167.845937609673, 7423.487824201584], 'mse_test_list': [2314.4653499126434, 2293.4097290039062, 2329.2478561401367, 2347.6718723773956, 2339.412635564804, 2312.281894683838, 2332.5907111167908, 2260.4303300380707, 2326.6711831092834, 2359.0803802013397, 2771.1448907852173], 'r_square_train_list': [-0.211983058210917, 0.08378833415979003, 0.08457406898917474, 0.09193479120060877, 0.11108232209955238, 0.11962965942034431, 0.1349592229440183, 0.12674738432038613, 0.17081065633525172, 0.23668216779023155, 0.3062454070891224], 'r_square_test_list': [0.09216375084142592, 0.10042270183855984, 0.08636539442738966, 0.07913867582652523, 0.08237831584495914, 0.09302019909423698, 0.08505417802762749, 0.11335868891556589, 0.08737608019104826, 0.07466375164942463, -0.08696627651839828]}, 'HHVEHCNT_P_CAP_mean_norm': {'mse_train_list': [11759.440505504608, 9766.517919301987, 9711.34986281395, 9565.398448705673, 9640.703243017197, 9334.938263893127, 8970.03358900547, 8505.051308870316, 7827.041923999786, 6664.316242933273, 5663.7800842523575], 'mse_test_list': [2224.727487564087, 2219.6477830410004, 2270.866107940674, 2290.711635351181, 2168.278819322586, 2170.409804582596, 2249.590343236923, 2264.1828775405884, 2289.709311723709, 2373.796057701111, 2566.187047958374], 'r_square_train_list': [-0.0980998187416513, 0.08799984557918394, 0.09315145400829972, 0.1067804375728123, 0.09974845497592322, 0.12830087360472742, 0.16237577344069742, 0.20579594783551514, 0.26910865240534176, 0.3776842992677699, 0.4711146435071649], 'r_square_test_list': [0.09045047769151782, 0.09252724567693082, 0.0715873313699672, 0.06347375787519693, 0.11352874661254586, 0.11265752232277426, 0.08028563789569465, 0.07431967906282144, 0.0638835442340484, 0.029505823787953855, -0.04915061133190424]}, 'TRPTRANS_1_mean_norm': {'mse_train_list': [12230.166044831276, 9215.357342362404, 8983.33434164524, 8734.77349281311, 8743.052563071251, 8348.892933130264, 8404.468074440956, 8076.0271191596985, 7642.847928404808, 6612.923592329025, 5841.098818182945, 4618.132694065571, 3747.4667713046074, 2860.5041205883026, 2252.7525819838047, 2153.988979756832, 2071.227313578129, 1795.3870363533497, 1558.6245216429234, 1301.457180455327, 1224.8165853321552, 1115.707864239812, 1086.6693586111069, 1030.8579668402672, 1061.6857629269361], 'mse_test_list': [2291.6292428970337, 2255.251407623291, 2160.932868719101, 2111.8488252162933, 2120.903104543686, 2233.1446170806885, 2196.3607251644135, 2259.3310326337814, 2159.1048181056976, 2267.4333304166794, 2376.7027139663696, 2496.234178543091, 2488.228678703308, 2548.551285266876, 2403.438013792038, 2819.208914041519, 2561.3675355911255, 2548.621815443039, 2426.9540190696716, 2490.904539823532, 2415.772485733032, 2576.003336906433, 2410.4267060756683, 2424.946653842926, 2459.397292137146], 'r_square_train_list': [-0.0507455393520595, 0.20826948828591074, 0.22820357030384641, 0.24955848913410228, 0.24884719902472552, 0.28271112789003994, 0.2779364313227968, 0.30615418956395823, 0.34337045471991634, 0.4318556312935504, 0.4981663776581222, 0.6032365946105802, 0.6780392040971097, 0.7542419347383595, 0.8064564521768132, 0.8149416529590373, 0.8220520594120526, 0.8457506698646935, 0.8660919436712657, 0.8881862828347227, 0.8947708020606896, 0.9041447959682081, 0.9066396173914795, 0.9114346112397457, 0.908786064269297], 'r_square_test_list': [0.24593072060881294, 0.2579009850465298, 0.28893685740029695, 0.3050881477665244, 0.30210880287075825, 0.26517530817963764, 0.2772791870930711, 0.25655856898975193, 0.2895383843763609, 0.253892477225781, 0.21793697283159297, 0.17860469181915728, 0.18123893185343076, 0.16138954975840936, 0.20913962119352314, 0.07232863219313601, 0.15717231406181553, 0.1613663415368879, 0.20140159061600826, 0.18035842961995108, 0.20508091649814308, 0.15235634822207322, 0.20683996553563766, 0.20206212174454863, 0.19072600877007473]}, 'TRPTRANS_2_mean_norm': {'mse_train_list': [11870.062518119812, 8421.525579690933, 8144.220009446144, 8039.416149258614, 7723.625993728638, 7568.865957856178, 7380.3219348192215, 6994.640618562698, 6499.428540468216, 5671.397563815117, 4566.176956892014, 3977.96171605587, 3142.7128225564957, 2404.581528902054, 2014.2502509057522, 1770.815448462963, 1487.9779882729053, 1417.8446125239134, 1313.2252871990204, 1116.0281911492348, 1164.945562928915, 1181.1119575053453, 1110.7569471001625, 1063.326845318079, 904.2911317199469], 'mse_test_list': [2270.030653476715, 2003.9832383394241, 1945.943021774292, 1873.7303376197815, 1780.141305923462, 1856.9938123226166, 1905.3146809339523, 1922.438132762909, 2004.2107075452805, 2065.1791632175446, 2363.508051633835, 2052.280533313751, 2198.265951871872, 2169.135242700577, 2142.5213515758514, 2203.953433036804, 2095.045620203018, 2128.606081008911, 2082.340317964554, 2052.898386120796, 2145.699602365494, 2096.388679742813, 2064.2991721630096, 2023.5982239246368, 2103.645047545433], 'r_square_train_list': [-0.015363088040754258, 0.27962416326315764, 0.30334483362229325, 0.3123097376365863, 0.33932237274295773, 0.35256051935666644, 0.368688542370041, 0.4016796552370586, 0.44404001046530883, 0.5148696365236782, 0.6094100154558586, 0.6597258450866048, 0.7311728904995115, 0.7943125132740684, 0.8277013830614194, 0.8485247538202159, 0.8727186210853455, 0.8787178178769811, 0.8876669368111457, 0.9045351421885084, 0.9003507586948887, 0.8989678881081035, 0.9049860434897704, 0.909043206165875, 0.9226470935102984], 'r_square_test_list': [0.23359574404229322, 0.3234182629300797, 0.3430137115307832, 0.3673940468295084, 0.3989914316900013, 0.3730446067450961, 0.356730589443796, 0.35094939598797215, 0.3233414651268428, 0.30275738894495197, 0.20203604872551606, 0.3071122045238298, 0.25782483216198404, 0.2676598973641887, 0.2766452383305519, 0.25590463352334125, 0.2926739216979404, 0.28134329056564944, 0.2969634662879549, 0.30690360600990685, 0.27557220218984946, 0.29222048000290124, 0.30305449017059727, 0.316795881681601, 0.2897705962719459]}}\n",
      "Stored 'performance_continuous' (dict)\n",
      "TRPTRANS_3_mean_norm\n",
      "tensor(11467.2451)\n",
      "tensor(2919.1924)\n"
     ]
    },
    {
     "data": {
      "application/vnd.jupyter.widget-view+json": {
       "model_id": "0d7993718a8144708eaf17bc73faaa10",
       "version_major": 2,
       "version_minor": 0
      },
      "text/plain": [
       "HBox(children=(IntProgress(value=0, max=96), HTML(value='')))"
      ]
     },
     "metadata": {},
     "output_type": "display_data"
    },
    {
     "name": "stdout",
     "output_type": "stream",
     "text": [
      "\n",
      "Epoch 0: Training MSE 12753.823333978653; Testing MSE 2612.2389376163483\n",
      "Epoch 0: Training R2 -0.11219592880793883; Testing R2 0.10515012542627189\n"
     ]
    },
    {
     "data": {
      "application/vnd.jupyter.widget-view+json": {
       "model_id": "14da9980c0f54e10a9e371b31cc0a7ca",
       "version_major": 2,
       "version_minor": 0
      },
      "text/plain": [
       "HBox(children=(IntProgress(value=0, max=96), HTML(value='')))"
      ]
     },
     "metadata": {},
     "output_type": "display_data"
    },
    {
     "name": "stdout",
     "output_type": "stream",
     "text": [
      "\n",
      "Epoch 1: Training MSE 9213.852804899216; Testing MSE 2603.7721902132034\n",
      "Epoch 1: Training R2 0.19650685838317195; Testing R2 0.10805049864353389\n"
     ]
    },
    {
     "data": {
      "application/vnd.jupyter.widget-view+json": {
       "model_id": "0ad62eec97dc4686bceb385f39d54b2e",
       "version_major": 2,
       "version_minor": 0
      },
      "text/plain": [
       "HBox(children=(IntProgress(value=0, max=96), HTML(value='')))"
      ]
     },
     "metadata": {},
     "output_type": "display_data"
    },
    {
     "name": "stdout",
     "output_type": "stream",
     "text": [
      "\n",
      "Epoch 2: Training MSE 9033.557894825935; Testing MSE 2483.541724085808\n",
      "Epoch 2: Training R2 0.21222945855704012; Testing R2 0.14923670714259807\n"
     ]
    },
    {
     "data": {
      "application/vnd.jupyter.widget-view+json": {
       "model_id": "4547b58c7a034d2b88f1b519c54a5650",
       "version_major": 2,
       "version_minor": 0
      },
      "text/plain": [
       "HBox(children=(IntProgress(value=0, max=96), HTML(value='')))"
      ]
     },
     "metadata": {},
     "output_type": "display_data"
    },
    {
     "name": "stdout",
     "output_type": "stream",
     "text": [
      "\n",
      "Epoch 3: Training MSE 9198.729892075062; Testing MSE 2431.369113922119\n",
      "Epoch 3: Training R2 0.19782565053155698; Testing R2 0.16710898252632012\n"
     ]
    },
    {
     "data": {
      "application/vnd.jupyter.widget-view+json": {
       "model_id": "9efffaddaf56431b8f433908564fb1cf",
       "version_major": 2,
       "version_minor": 0
      },
      "text/plain": [
       "HBox(children=(IntProgress(value=0, max=96), HTML(value='')))"
      ]
     },
     "metadata": {},
     "output_type": "display_data"
    },
    {
     "name": "stdout",
     "output_type": "stream",
     "text": [
      "\n",
      "Epoch 4: Training MSE 8874.68115389347; Testing MSE 2445.860806107521\n",
      "Epoch 4: Training R2 0.22608428936503722; Testing R2 0.1621447012166245\n"
     ]
    },
    {
     "data": {
      "application/vnd.jupyter.widget-view+json": {
       "model_id": "d78b43a75f284c6f9d9c3b1785ac5b39",
       "version_major": 2,
       "version_minor": 0
      },
      "text/plain": [
       "HBox(children=(IntProgress(value=0, max=96), HTML(value='')))"
      ]
     },
     "metadata": {},
     "output_type": "display_data"
    },
    {
     "name": "stdout",
     "output_type": "stream",
     "text": [
      "\n",
      "Epoch 5: Training MSE 8611.23317182064; Testing MSE 2563.7428492307663\n",
      "Epoch 5: Training R2 0.24905824513039931; Testing R2 0.12176296967426148\n"
     ]
    },
    {
     "data": {
      "application/vnd.jupyter.widget-view+json": {
       "model_id": "b56a23caef7a47399adce34de6f79874",
       "version_major": 2,
       "version_minor": 0
      },
      "text/plain": [
       "HBox(children=(IntProgress(value=0, max=96), HTML(value='')))"
      ]
     },
     "metadata": {},
     "output_type": "display_data"
    },
    {
     "name": "stdout",
     "output_type": "stream",
     "text": [
      "\n",
      "Epoch 6: Training MSE 8459.611907601357; Testing MSE 2516.6953921318054\n",
      "Epoch 6: Training R2 0.2622803627942164; Testing R2 0.13787957006550844\n"
     ]
    },
    {
     "data": {
      "application/vnd.jupyter.widget-view+json": {
       "model_id": "10cb6044e01e4f97867898a3810a0f49",
       "version_major": 2,
       "version_minor": 0
      },
      "text/plain": [
       "HBox(children=(IntProgress(value=0, max=96), HTML(value='')))"
      ]
     },
     "metadata": {},
     "output_type": "display_data"
    },
    {
     "name": "stdout",
     "output_type": "stream",
     "text": [
      "\n",
      "Epoch 7: Training MSE 8097.447144985199; Testing MSE 2671.098831295967\n",
      "Epoch 7: Training R2 0.2938629058475023; Testing R2 0.08498705086285097\n"
     ]
    },
    {
     "data": {
      "application/vnd.jupyter.widget-view+json": {
       "model_id": "5002712c392a455092fa5742f4b9f0e0",
       "version_major": 2,
       "version_minor": 0
      },
      "text/plain": [
       "HBox(children=(IntProgress(value=0, max=96), HTML(value='')))"
      ]
     },
     "metadata": {},
     "output_type": "display_data"
    },
    {
     "name": "stdout",
     "output_type": "stream",
     "text": [
      "\n",
      "Epoch 8: Training MSE 7451.7426908016205; Testing MSE 2693.216636776924\n",
      "Epoch 8: Training R2 0.3501715002470216; Testing R2 0.07741036437545756\n"
     ]
    },
    {
     "data": {
      "application/vnd.jupyter.widget-view+json": {
       "model_id": "f1f9ad81b0454abf88b2c09abece0d2a",
       "version_major": 2,
       "version_minor": 0
      },
      "text/plain": [
       "HBox(children=(IntProgress(value=0, max=96), HTML(value='')))"
      ]
     },
     "metadata": {},
     "output_type": "display_data"
    },
    {
     "name": "stdout",
     "output_type": "stream",
     "text": [
      "\n",
      "Epoch 9: Training MSE 7231.0048609972; Testing MSE 2715.747219324112\n",
      "Epoch 9: Training R2 0.3694209213197055; Testing R2 0.06969227677018619\n"
     ]
    },
    {
     "data": {
      "application/vnd.jupyter.widget-view+json": {
       "model_id": "cc9f4e9c7a7941a4a230d7905ed23724",
       "version_major": 2,
       "version_minor": 0
      },
      "text/plain": [
       "HBox(children=(IntProgress(value=0, max=96), HTML(value='')))"
      ]
     },
     "metadata": {},
     "output_type": "display_data"
    },
    {
     "name": "stdout",
     "output_type": "stream",
     "text": [
      "\n",
      "Epoch 10: Training MSE 6841.959276795387; Testing MSE 2812.7094835042953\n",
      "Epoch 10: Training R2 0.40334760381633217; Testing R2 0.036476835146306286\n"
     ]
    },
    {
     "data": {
      "application/vnd.jupyter.widget-view+json": {
       "model_id": "d37b9c64ca444d849097417b16a3c4ac",
       "version_major": 2,
       "version_minor": 0
      },
      "text/plain": [
       "HBox(children=(IntProgress(value=0, max=96), HTML(value='')))"
      ]
     },
     "metadata": {},
     "output_type": "display_data"
    },
    {
     "name": "stdout",
     "output_type": "stream",
     "text": [
      "\n",
      "Epoch 11: Training MSE 6345.289148390293; Testing MSE 2805.4447889328003\n",
      "Epoch 11: Training R2 0.44665967426825504; Testing R2 0.03896543254545948\n"
     ]
    },
    {
     "data": {
      "application/vnd.jupyter.widget-view+json": {
       "model_id": "f71116757021407ba9d580c16fbdcc41",
       "version_major": 2,
       "version_minor": 0
      },
      "text/plain": [
       "HBox(children=(IntProgress(value=0, max=96), HTML(value='')))"
      ]
     },
     "metadata": {},
     "output_type": "display_data"
    },
    {
     "name": "stdout",
     "output_type": "stream",
     "text": [
      "\n",
      "Epoch 12: Training MSE 5898.714861273766; Testing MSE 2821.4260637760162\n",
      "Epoch 12: Training R2 0.48560314173169894; Testing R2 0.0334908790568611\n"
     ]
    },
    {
     "data": {
      "application/vnd.jupyter.widget-view+json": {
       "model_id": "460088d16e834527b9e0180bcdcde340",
       "version_major": 2,
       "version_minor": 0
      },
      "text/plain": [
       "HBox(children=(IntProgress(value=0, max=96), HTML(value='')))"
      ]
     },
     "metadata": {},
     "output_type": "display_data"
    },
    {
     "name": "stdout",
     "output_type": "stream",
     "text": [
      "\n",
      "Epoch 13: Training MSE 5369.727790355682; Testing MSE 3083.9070945978165\n",
      "Epoch 13: Training R2 0.5317334080260174; Testing R2 -0.05642475389944046\n",
      "Printing performance_continuous\n",
      "{'HHVEHCNT_mean_norm': {'mse_train_list': [12968.76671910286, 9803.879088163376, 9795.471370220184, 9716.708314418793, 9511.821076273918, 9420.36070227623, 9256.327441334724, 9344.197827577591, 8872.700893878937, 8167.845937609673, 7423.487824201584], 'mse_test_list': [2314.4653499126434, 2293.4097290039062, 2329.2478561401367, 2347.6718723773956, 2339.412635564804, 2312.281894683838, 2332.5907111167908, 2260.4303300380707, 2326.6711831092834, 2359.0803802013397, 2771.1448907852173], 'r_square_train_list': [-0.211983058210917, 0.08378833415979003, 0.08457406898917474, 0.09193479120060877, 0.11108232209955238, 0.11962965942034431, 0.1349592229440183, 0.12674738432038613, 0.17081065633525172, 0.23668216779023155, 0.3062454070891224], 'r_square_test_list': [0.09216375084142592, 0.10042270183855984, 0.08636539442738966, 0.07913867582652523, 0.08237831584495914, 0.09302019909423698, 0.08505417802762749, 0.11335868891556589, 0.08737608019104826, 0.07466375164942463, -0.08696627651839828]}, 'HHVEHCNT_P_CAP_mean_norm': {'mse_train_list': [11759.440505504608, 9766.517919301987, 9711.34986281395, 9565.398448705673, 9640.703243017197, 9334.938263893127, 8970.03358900547, 8505.051308870316, 7827.041923999786, 6664.316242933273, 5663.7800842523575], 'mse_test_list': [2224.727487564087, 2219.6477830410004, 2270.866107940674, 2290.711635351181, 2168.278819322586, 2170.409804582596, 2249.590343236923, 2264.1828775405884, 2289.709311723709, 2373.796057701111, 2566.187047958374], 'r_square_train_list': [-0.0980998187416513, 0.08799984557918394, 0.09315145400829972, 0.1067804375728123, 0.09974845497592322, 0.12830087360472742, 0.16237577344069742, 0.20579594783551514, 0.26910865240534176, 0.3776842992677699, 0.4711146435071649], 'r_square_test_list': [0.09045047769151782, 0.09252724567693082, 0.0715873313699672, 0.06347375787519693, 0.11352874661254586, 0.11265752232277426, 0.08028563789569465, 0.07431967906282144, 0.0638835442340484, 0.029505823787953855, -0.04915061133190424]}, 'TRPTRANS_1_mean_norm': {'mse_train_list': [12230.166044831276, 9215.357342362404, 8983.33434164524, 8734.77349281311, 8743.052563071251, 8348.892933130264, 8404.468074440956, 8076.0271191596985, 7642.847928404808, 6612.923592329025, 5841.098818182945, 4618.132694065571, 3747.4667713046074, 2860.5041205883026, 2252.7525819838047, 2153.988979756832, 2071.227313578129, 1795.3870363533497, 1558.6245216429234, 1301.457180455327, 1224.8165853321552, 1115.707864239812, 1086.6693586111069, 1030.8579668402672, 1061.6857629269361], 'mse_test_list': [2291.6292428970337, 2255.251407623291, 2160.932868719101, 2111.8488252162933, 2120.903104543686, 2233.1446170806885, 2196.3607251644135, 2259.3310326337814, 2159.1048181056976, 2267.4333304166794, 2376.7027139663696, 2496.234178543091, 2488.228678703308, 2548.551285266876, 2403.438013792038, 2819.208914041519, 2561.3675355911255, 2548.621815443039, 2426.9540190696716, 2490.904539823532, 2415.772485733032, 2576.003336906433, 2410.4267060756683, 2424.946653842926, 2459.397292137146], 'r_square_train_list': [-0.0507455393520595, 0.20826948828591074, 0.22820357030384641, 0.24955848913410228, 0.24884719902472552, 0.28271112789003994, 0.2779364313227968, 0.30615418956395823, 0.34337045471991634, 0.4318556312935504, 0.4981663776581222, 0.6032365946105802, 0.6780392040971097, 0.7542419347383595, 0.8064564521768132, 0.8149416529590373, 0.8220520594120526, 0.8457506698646935, 0.8660919436712657, 0.8881862828347227, 0.8947708020606896, 0.9041447959682081, 0.9066396173914795, 0.9114346112397457, 0.908786064269297], 'r_square_test_list': [0.24593072060881294, 0.2579009850465298, 0.28893685740029695, 0.3050881477665244, 0.30210880287075825, 0.26517530817963764, 0.2772791870930711, 0.25655856898975193, 0.2895383843763609, 0.253892477225781, 0.21793697283159297, 0.17860469181915728, 0.18123893185343076, 0.16138954975840936, 0.20913962119352314, 0.07232863219313601, 0.15717231406181553, 0.1613663415368879, 0.20140159061600826, 0.18035842961995108, 0.20508091649814308, 0.15235634822207322, 0.20683996553563766, 0.20206212174454863, 0.19072600877007473]}, 'TRPTRANS_2_mean_norm': {'mse_train_list': [11870.062518119812, 8421.525579690933, 8144.220009446144, 8039.416149258614, 7723.625993728638, 7568.865957856178, 7380.3219348192215, 6994.640618562698, 6499.428540468216, 5671.397563815117, 4566.176956892014, 3977.96171605587, 3142.7128225564957, 2404.581528902054, 2014.2502509057522, 1770.815448462963, 1487.9779882729053, 1417.8446125239134, 1313.2252871990204, 1116.0281911492348, 1164.945562928915, 1181.1119575053453, 1110.7569471001625, 1063.326845318079, 904.2911317199469], 'mse_test_list': [2270.030653476715, 2003.9832383394241, 1945.943021774292, 1873.7303376197815, 1780.141305923462, 1856.9938123226166, 1905.3146809339523, 1922.438132762909, 2004.2107075452805, 2065.1791632175446, 2363.508051633835, 2052.280533313751, 2198.265951871872, 2169.135242700577, 2142.5213515758514, 2203.953433036804, 2095.045620203018, 2128.606081008911, 2082.340317964554, 2052.898386120796, 2145.699602365494, 2096.388679742813, 2064.2991721630096, 2023.5982239246368, 2103.645047545433], 'r_square_train_list': [-0.015363088040754258, 0.27962416326315764, 0.30334483362229325, 0.3123097376365863, 0.33932237274295773, 0.35256051935666644, 0.368688542370041, 0.4016796552370586, 0.44404001046530883, 0.5148696365236782, 0.6094100154558586, 0.6597258450866048, 0.7311728904995115, 0.7943125132740684, 0.8277013830614194, 0.8485247538202159, 0.8727186210853455, 0.8787178178769811, 0.8876669368111457, 0.9045351421885084, 0.9003507586948887, 0.8989678881081035, 0.9049860434897704, 0.909043206165875, 0.9226470935102984], 'r_square_test_list': [0.23359574404229322, 0.3234182629300797, 0.3430137115307832, 0.3673940468295084, 0.3989914316900013, 0.3730446067450961, 0.356730589443796, 0.35094939598797215, 0.3233414651268428, 0.30275738894495197, 0.20203604872551606, 0.3071122045238298, 0.25782483216198404, 0.2676598973641887, 0.2766452383305519, 0.25590463352334125, 0.2926739216979404, 0.28134329056564944, 0.2969634662879549, 0.30690360600990685, 0.27557220218984946, 0.29222048000290124, 0.30305449017059727, 0.316795881681601, 0.2897705962719459]}, 'TRPTRANS_3_mean_norm': {'mse_train_list': [12753.823333978653, 9213.852804899216, 9033.557894825935, 9198.729892075062, 8874.68115389347, 8611.23317182064, 8459.611907601357, 8097.447144985199, 7451.7426908016205, 7231.0048609972, 6841.959276795387, 6345.289148390293, 5898.714861273766, 5369.727790355682], 'mse_test_list': [2612.2389376163483, 2603.7721902132034, 2483.541724085808, 2431.369113922119, 2445.860806107521, 2563.7428492307663, 2516.6953921318054, 2671.098831295967, 2693.216636776924, 2715.747219324112, 2812.7094835042953, 2805.4447889328003, 2821.4260637760162, 3083.9070945978165], 'r_square_train_list': [-0.11219592880793883, 0.19650685838317195, 0.21222945855704012, 0.19782565053155698, 0.22608428936503722, 0.24905824513039931, 0.2622803627942164, 0.2938629058475023, 0.3501715002470216, 0.3694209213197055, 0.40334760381633217, 0.44665967426825504, 0.48560314173169894, 0.5317334080260174], 'r_square_test_list': [0.10515012542627189, 0.10805049864353389, 0.14923670714259807, 0.16710898252632012, 0.1621447012166245, 0.12176296967426148, 0.13787957006550844, 0.08498705086285097, 0.07741036437545756, 0.06969227677018619, 0.036476835146306286, 0.03896543254545948, 0.0334908790568611, -0.05642475389944046]}}\n",
      "Stored 'performance_continuous' (dict)\n",
      "HHVEHCNT_mean_norm\n",
      "tensor(10700.4521)\n",
      "tensor(2549.4304)\n"
     ]
    },
    {
     "data": {
      "application/vnd.jupyter.widget-view+json": {
       "model_id": "66e1d06cde2c45ff849a836142633d2e",
       "version_major": 2,
       "version_minor": 0
      },
      "text/plain": [
       "HBox(children=(IntProgress(value=0, max=96), HTML(value='')))"
      ]
     },
     "metadata": {},
     "output_type": "display_data"
    },
    {
     "name": "stdout",
     "output_type": "stream",
     "text": [
      "\n",
      "Epoch 0: Training MSE 12242.481911182404; Testing MSE 2261.9253873825073\n",
      "Epoch 0: Training R2 -0.144108841510036; Testing R2 0.11277226093041515\n"
     ]
    },
    {
     "data": {
      "application/vnd.jupyter.widget-view+json": {
       "model_id": "419fede1402a4310ba683e36c896833c",
       "version_major": 2,
       "version_minor": 0
      },
      "text/plain": [
       "HBox(children=(IntProgress(value=0, max=96), HTML(value='')))"
      ]
     },
     "metadata": {},
     "output_type": "display_data"
    },
    {
     "name": "stdout",
     "output_type": "stream",
     "text": [
      "\n",
      "Epoch 1: Training MSE 9517.24494099617; Testing MSE 2223.0931401252747\n",
      "Epoch 1: Training R2 0.11057544027371813; Testing R2 0.12800399542051466\n"
     ]
    },
    {
     "data": {
      "application/vnd.jupyter.widget-view+json": {
       "model_id": "1d36f54fc4704e19955edde4c188ecf9",
       "version_major": 2,
       "version_minor": 0
      },
      "text/plain": [
       "HBox(children=(IntProgress(value=0, max=96), HTML(value='')))"
      ]
     },
     "metadata": {},
     "output_type": "display_data"
    },
    {
     "name": "stdout",
     "output_type": "stream",
     "text": [
      "\n",
      "Epoch 2: Training MSE 9246.151149272919; Testing MSE 2201.210141181946\n",
      "Epoch 2: Training R2 0.13591023808998026; Testing R2 0.13658748088155315\n"
     ]
    },
    {
     "data": {
      "application/vnd.jupyter.widget-view+json": {
       "model_id": "049dca2353d545abb88697f98f78fe04",
       "version_major": 2,
       "version_minor": 0
      },
      "text/plain": [
       "HBox(children=(IntProgress(value=0, max=96), HTML(value='')))"
      ]
     },
     "metadata": {},
     "output_type": "display_data"
    },
    {
     "name": "stdout",
     "output_type": "stream",
     "text": [
      "\n",
      "Epoch 3: Training MSE 9110.277658700943; Testing MSE 2364.5673274993896\n",
      "Epoch 3: Training R2 0.1486081585784912; Testing R2 0.07251152687985507\n"
     ]
    },
    {
     "data": {
      "application/vnd.jupyter.widget-view+json": {
       "model_id": "b95952f0619b4816b6bd056430c3d6b1",
       "version_major": 2,
       "version_minor": 0
      },
      "text/plain": [
       "HBox(children=(IntProgress(value=0, max=96), HTML(value='')))"
      ]
     },
     "metadata": {},
     "output_type": "display_data"
    },
    {
     "name": "stdout",
     "output_type": "stream",
     "text": [
      "\n",
      "Epoch 4: Training MSE 8838.356119394302; Testing MSE 2357.3063910007477\n",
      "Epoch 4: Training R2 0.17402031271315055; Testing R2 0.07535958911442453\n"
     ]
    },
    {
     "data": {
      "application/vnd.jupyter.widget-view+json": {
       "model_id": "bf6da4e3d52a41db86f600603f2b64b3",
       "version_major": 2,
       "version_minor": 0
      },
      "text/plain": [
       "HBox(children=(IntProgress(value=0, max=96), HTML(value='')))"
      ]
     },
     "metadata": {},
     "output_type": "display_data"
    },
    {
     "name": "stdout",
     "output_type": "stream",
     "text": [
      "\n",
      "Epoch 5: Training MSE 8503.915193676949; Testing MSE 2310.520112514496\n",
      "Epoch 5: Training R2 0.2052751532636211; Testing R2 0.09371124841865675\n"
     ]
    },
    {
     "data": {
      "application/vnd.jupyter.widget-view+json": {
       "model_id": "0b3f9b1efb134998b9a6eb70eb64b20e",
       "version_major": 2,
       "version_minor": 0
      },
      "text/plain": [
       "HBox(children=(IntProgress(value=0, max=96), HTML(value='')))"
      ]
     },
     "metadata": {},
     "output_type": "display_data"
    },
    {
     "name": "stdout",
     "output_type": "stream",
     "text": [
      "\n",
      "Epoch 6: Training MSE 8011.842387914658; Testing MSE 2405.54701089859\n",
      "Epoch 6: Training R2 0.25126132272040846; Testing R2 0.05643747242479913\n"
     ]
    },
    {
     "data": {
      "application/vnd.jupyter.widget-view+json": {
       "model_id": "836ff55bfe5c48a9a7ab18e4d3a7d1a3",
       "version_major": 2,
       "version_minor": 0
      },
      "text/plain": [
       "HBox(children=(IntProgress(value=0, max=96), HTML(value='')))"
      ]
     },
     "metadata": {},
     "output_type": "display_data"
    },
    {
     "name": "stdout",
     "output_type": "stream",
     "text": [
      "\n",
      "Epoch 7: Training MSE 7045.496594905853; Testing MSE 2589.069586992264\n",
      "Epoch 7: Training R2 0.34157019748603334; Testing R2 -0.015548244329650407\n",
      "Printing performance_continuous\n",
      "{'HHVEHCNT_mean_norm': {'mse_train_list': [12242.481911182404, 9517.24494099617, 9246.151149272919, 9110.277658700943, 8838.356119394302, 8503.915193676949, 8011.842387914658, 7045.496594905853], 'mse_test_list': [2261.9253873825073, 2223.0931401252747, 2201.210141181946, 2364.5673274993896, 2357.3063910007477, 2310.520112514496, 2405.54701089859, 2589.069586992264], 'r_square_train_list': [-0.144108841510036, 0.11057544027371813, 0.13591023808998026, 0.1486081585784912, 0.17402031271315055, 0.2052751532636211, 0.25126132272040846, 0.34157019748603334], 'r_square_test_list': [0.11277226093041515, 0.12800399542051466, 0.13658748088155315, 0.07251152687985507, 0.07535958911442453, 0.09371124841865675, 0.05643747242479913, -0.015548244329650407]}}\n",
      "Stored 'performance_continuous' (dict)\n",
      "HHVEHCNT_P_CAP_mean_norm\n",
      "tensor(10708.8994)\n",
      "tensor(2445.9663)\n"
     ]
    },
    {
     "data": {
      "application/vnd.jupyter.widget-view+json": {
       "model_id": "0a51bc0dd14147f2bce923ad71e69235",
       "version_major": 2,
       "version_minor": 0
      },
      "text/plain": [
       "HBox(children=(IntProgress(value=0, max=96), HTML(value='')))"
      ]
     },
     "metadata": {},
     "output_type": "display_data"
    },
    {
     "name": "stdout",
     "output_type": "stream",
     "text": [
      "\n",
      "Epoch 0: Training MSE 12115.843003988266; Testing MSE 2204.591280221939\n",
      "Epoch 0: Training R2 -0.13138078298487188; Testing R2 0.09868289171594669\n"
     ]
    },
    {
     "data": {
      "application/vnd.jupyter.widget-view+json": {
       "model_id": "0fd822b7a64c4ad3a3a7b2505b48a002",
       "version_major": 2,
       "version_minor": 0
      },
      "text/plain": [
       "HBox(children=(IntProgress(value=0, max=96), HTML(value='')))"
      ]
     },
     "metadata": {},
     "output_type": "display_data"
    },
    {
     "name": "stdout",
     "output_type": "stream",
     "text": [
      "\n",
      "Epoch 1: Training MSE 9845.910412073135; Testing MSE 2239.971625804901\n",
      "Epoch 1: Training R2 0.08058615256541879; Testing R2 0.08421811946677249\n"
     ]
    },
    {
     "data": {
      "application/vnd.jupyter.widget-view+json": {
       "model_id": "2784b553d148452282fe88623788a69e",
       "version_major": 2,
       "version_minor": 0
      },
      "text/plain": [
       "HBox(children=(IntProgress(value=0, max=96), HTML(value='')))"
      ]
     },
     "metadata": {},
     "output_type": "display_data"
    },
    {
     "name": "stdout",
     "output_type": "stream",
     "text": [
      "\n",
      "Epoch 2: Training MSE 9657.149475812912; Testing MSE 2209.0087175369263\n",
      "Epoch 2: Training R2 0.09821270119210124; Testing R2 0.09687688265545114\n"
     ]
    },
    {
     "data": {
      "application/vnd.jupyter.widget-view+json": {
       "model_id": "61f1e7abb220429ebd9353922d8a841c",
       "version_major": 2,
       "version_minor": 0
      },
      "text/plain": [
       "HBox(children=(IntProgress(value=0, max=96), HTML(value='')))"
      ]
     },
     "metadata": {},
     "output_type": "display_data"
    },
    {
     "name": "stdout",
     "output_type": "stream",
     "text": [
      "\n",
      "Epoch 3: Training MSE 9634.848350286484; Testing MSE 2184.148931503296\n",
      "Epoch 3: Training R2 0.10029518648439406; Testing R2 0.10704046747110751\n"
     ]
    },
    {
     "data": {
      "application/vnd.jupyter.widget-view+json": {
       "model_id": "2604e3325bbc4ca7b71c3b983896493f",
       "version_major": 2,
       "version_minor": 0
      },
      "text/plain": [
       "HBox(children=(IntProgress(value=0, max=96), HTML(value='')))"
      ]
     },
     "metadata": {},
     "output_type": "display_data"
    },
    {
     "name": "stdout",
     "output_type": "stream",
     "text": [
      "\n",
      "Epoch 4: Training MSE 9400.747740268707; Testing MSE 2228.985059261322\n",
      "Epoch 4: Training R2 0.1221555664325299; Testing R2 0.08870982751073797\n"
     ]
    },
    {
     "data": {
      "application/vnd.jupyter.widget-view+json": {
       "model_id": "62d854b248ca4546aa37bd54eedfb61e",
       "version_major": 2,
       "version_minor": 0
      },
      "text/plain": [
       "HBox(children=(IntProgress(value=0, max=96), HTML(value='')))"
      ]
     },
     "metadata": {},
     "output_type": "display_data"
    },
    {
     "name": "stdout",
     "output_type": "stream",
     "text": [
      "\n",
      "Epoch 5: Training MSE 9377.84526348114; Testing MSE 2218.7969505786896\n",
      "Epoch 5: Training R2 0.12429420607251873; Testing R2 0.09287509693690998\n"
     ]
    },
    {
     "data": {
      "application/vnd.jupyter.widget-view+json": {
       "model_id": "336c50bc420a444eb28c423742357ed1",
       "version_major": 2,
       "version_minor": 0
      },
      "text/plain": [
       "HBox(children=(IntProgress(value=0, max=96), HTML(value='')))"
      ]
     },
     "metadata": {},
     "output_type": "display_data"
    },
    {
     "name": "stdout",
     "output_type": "stream",
     "text": [
      "\n",
      "Epoch 6: Training MSE 8957.459890842438; Testing MSE 2333.1436693668365\n",
      "Epoch 6: Training R2 0.16354990886553122; Testing R2 0.046125998886623276\n"
     ]
    },
    {
     "data": {
      "application/vnd.jupyter.widget-view+json": {
       "model_id": "f8c4063fb49945dd98cce7ce57a2ebe9",
       "version_major": 2,
       "version_minor": 0
      },
      "text/plain": [
       "HBox(children=(IntProgress(value=0, max=96), HTML(value='')))"
      ]
     },
     "metadata": {},
     "output_type": "display_data"
    },
    {
     "name": "stdout",
     "output_type": "stream",
     "text": [
      "\n",
      "Epoch 7: Training MSE 8487.666934728622; Testing MSE 2312.321239709854\n",
      "Epoch 7: Training R2 0.20741930551864585; Testing R2 0.05463896555498016\n"
     ]
    },
    {
     "data": {
      "application/vnd.jupyter.widget-view+json": {
       "model_id": "ca7b2e7b1c744b9b86b67fd8e162dcad",
       "version_major": 2,
       "version_minor": 0
      },
      "text/plain": [
       "HBox(children=(IntProgress(value=0, max=96), HTML(value='')))"
      ]
     },
     "metadata": {},
     "output_type": "display_data"
    },
    {
     "name": "stdout",
     "output_type": "stream",
     "text": [
      "\n",
      "Epoch 8: Training MSE 7671.99302315712; Testing MSE 2522.8414952754974\n",
      "Epoch 8: Training R2 0.2835871618065098; Testing R2 -0.031429372682547196\n",
      "Printing performance_continuous\n",
      "{'HHVEHCNT_mean_norm': {'mse_train_list': [12242.481911182404, 9517.24494099617, 9246.151149272919, 9110.277658700943, 8838.356119394302, 8503.915193676949, 8011.842387914658, 7045.496594905853], 'mse_test_list': [2261.9253873825073, 2223.0931401252747, 2201.210141181946, 2364.5673274993896, 2357.3063910007477, 2310.520112514496, 2405.54701089859, 2589.069586992264], 'r_square_train_list': [-0.144108841510036, 0.11057544027371813, 0.13591023808998026, 0.1486081585784912, 0.17402031271315055, 0.2052751532636211, 0.25126132272040846, 0.34157019748603334], 'r_square_test_list': [0.11277226093041515, 0.12800399542051466, 0.13658748088155315, 0.07251152687985507, 0.07535958911442453, 0.09371124841865675, 0.05643747242479913, -0.015548244329650407]}, 'HHVEHCNT_P_CAP_mean_norm': {'mse_train_list': [12115.843003988266, 9845.910412073135, 9657.149475812912, 9634.848350286484, 9400.747740268707, 9377.84526348114, 8957.459890842438, 8487.666934728622, 7671.99302315712], 'mse_test_list': [2204.591280221939, 2239.971625804901, 2209.0087175369263, 2184.148931503296, 2228.985059261322, 2218.7969505786896, 2333.1436693668365, 2312.321239709854, 2522.8414952754974], 'r_square_train_list': [-0.13138078298487188, 0.08058615256541879, 0.09821270119210124, 0.10029518648439406, 0.1221555664325299, 0.12429420607251873, 0.16354990886553122, 0.20741930551864585, 0.2835871618065098], 'r_square_test_list': [0.09868289171594669, 0.08421811946677249, 0.09687688265545114, 0.10704046747110751, 0.08870982751073797, 0.09287509693690998, 0.046125998886623276, 0.05463896555498016, -0.031429372682547196]}}\n",
      "Stored 'performance_continuous' (dict)\n",
      "TRPTRANS_1_mean_norm\n",
      "tensor(11639.5127)\n",
      "tensor(3039.0168)\n"
     ]
    },
    {
     "data": {
      "application/vnd.jupyter.widget-view+json": {
       "model_id": "19443329b0454047897ec8a1525160b4",
       "version_major": 2,
       "version_minor": 0
      },
      "text/plain": [
       "HBox(children=(IntProgress(value=0, max=96), HTML(value='')))"
      ]
     },
     "metadata": {},
     "output_type": "display_data"
    },
    {
     "name": "stdout",
     "output_type": "stream",
     "text": [
      "\n",
      "Epoch 0: Training MSE 12568.739041686058; Testing MSE 2360.640996694565\n",
      "Epoch 0: Training R2 -0.07983378434285981; Testing R2 0.22322214171590327\n"
     ]
    },
    {
     "data": {
      "application/vnd.jupyter.widget-view+json": {
       "model_id": "88c4988f55aa4cab9ee74289a20cf506",
       "version_major": 2,
       "version_minor": 0
      },
      "text/plain": [
       "HBox(children=(IntProgress(value=0, max=96), HTML(value='')))"
      ]
     },
     "metadata": {},
     "output_type": "display_data"
    },
    {
     "name": "stdout",
     "output_type": "stream",
     "text": [
      "\n",
      "Epoch 1: Training MSE 9146.030738949776; Testing MSE 2197.747829556465\n",
      "Epoch 1: Training R2 0.21422563140181172; Testing R2 0.27682275514073984\n"
     ]
    },
    {
     "data": {
      "application/vnd.jupyter.widget-view+json": {
       "model_id": "29093b4b9ad9407f94bedea9e50c537a",
       "version_major": 2,
       "version_minor": 0
      },
      "text/plain": [
       "HBox(children=(IntProgress(value=0, max=96), HTML(value='')))"
      ]
     },
     "metadata": {},
     "output_type": "display_data"
    },
    {
     "name": "stdout",
     "output_type": "stream",
     "text": [
      "\n",
      "Epoch 2: Training MSE 9004.806604981422; Testing MSE 2296.3084846735\n",
      "Epoch 2: Training R2 0.22635879691012617; Testing R2 0.24439099838480416\n"
     ]
    },
    {
     "data": {
      "application/vnd.jupyter.widget-view+json": {
       "model_id": "fb2e290a90f9408cb8395416aa97e76b",
       "version_major": 2,
       "version_minor": 0
      },
      "text/plain": [
       "HBox(children=(IntProgress(value=0, max=96), HTML(value='')))"
      ]
     },
     "metadata": {},
     "output_type": "display_data"
    },
    {
     "name": "stdout",
     "output_type": "stream",
     "text": [
      "\n",
      "Epoch 3: Training MSE 8742.689135670662; Testing MSE 2155.450761318207\n",
      "Epoch 3: Training R2 0.24887842261716464; Testing R2 0.290740765597991\n"
     ]
    },
    {
     "data": {
      "application/vnd.jupyter.widget-view+json": {
       "model_id": "094c88b65cbf431e9bba4e822f96ab54",
       "version_major": 2,
       "version_minor": 0
      },
      "text/plain": [
       "HBox(children=(IntProgress(value=0, max=96), HTML(value='')))"
      ]
     },
     "metadata": {},
     "output_type": "display_data"
    },
    {
     "name": "stdout",
     "output_type": "stream",
     "text": [
      "\n",
      "Epoch 4: Training MSE 8446.132493019104; Testing MSE 2105.8695912361145\n",
      "Epoch 4: Training R2 0.2743568640617956; Testing R2 0.3070556373474501\n"
     ]
    },
    {
     "data": {
      "application/vnd.jupyter.widget-view+json": {
       "model_id": "e4f9993db6594704a8d6be54387ef24d",
       "version_major": 2,
       "version_minor": 0
      },
      "text/plain": [
       "HBox(children=(IntProgress(value=0, max=96), HTML(value='')))"
      ]
     },
     "metadata": {},
     "output_type": "display_data"
    },
    {
     "name": "stdout",
     "output_type": "stream",
     "text": [
      "\n",
      "Epoch 5: Training MSE 8121.264544129372; Testing MSE 2175.654548406601\n",
      "Epoch 5: Training R2 0.30226765013968393; Testing R2 0.28409263295701526\n"
     ]
    },
    {
     "data": {
      "application/vnd.jupyter.widget-view+json": {
       "model_id": "831ef4ff11b1480db8282d6ec4bbfb6a",
       "version_major": 2,
       "version_minor": 0
      },
      "text/plain": [
       "HBox(children=(IntProgress(value=0, max=96), HTML(value='')))"
      ]
     },
     "metadata": {},
     "output_type": "display_data"
    },
    {
     "name": "stdout",
     "output_type": "stream",
     "text": [
      "\n",
      "Epoch 6: Training MSE 7542.963668704033; Testing MSE 2299.6438413858414\n",
      "Epoch 6: Training R2 0.351951935948164; Testing R2 0.2432934866296267\n"
     ]
    },
    {
     "data": {
      "application/vnd.jupyter.widget-view+json": {
       "model_id": "efd28f066031443bb785e5065987e696",
       "version_major": 2,
       "version_minor": 0
      },
      "text/plain": [
       "HBox(children=(IntProgress(value=0, max=96), HTML(value='')))"
      ]
     },
     "metadata": {},
     "output_type": "display_data"
    },
    {
     "name": "stdout",
     "output_type": "stream",
     "text": [
      "\n",
      "Epoch 7: Training MSE 6680.124044418335; Testing MSE 2503.7658989429474\n",
      "Epoch 7: Training R2 0.42608215487332435; Testing R2 0.17612635070350813\n"
     ]
    },
    {
     "data": {
      "application/vnd.jupyter.widget-view+json": {
       "model_id": "ef1b24d2e1ed49afbf58b13a31067647",
       "version_major": 2,
       "version_minor": 0
      },
      "text/plain": [
       "HBox(children=(IntProgress(value=0, max=96), HTML(value='')))"
      ]
     },
     "metadata": {},
     "output_type": "display_data"
    },
    {
     "name": "stdout",
     "output_type": "stream",
     "text": [
      "\n",
      "Epoch 8: Training MSE 5470.423409342766; Testing MSE 2421.0475623607635\n",
      "Epoch 8: Training R2 0.5300126772879563; Testing R2 0.20334513256025877\n"
     ]
    },
    {
     "data": {
      "application/vnd.jupyter.widget-view+json": {
       "model_id": "26c52165211340079be60e96ddcceaed",
       "version_major": 2,
       "version_minor": 0
      },
      "text/plain": [
       "HBox(children=(IntProgress(value=0, max=96), HTML(value='')))"
      ]
     },
     "metadata": {},
     "output_type": "display_data"
    },
    {
     "name": "stdout",
     "output_type": "stream",
     "text": [
      "\n",
      "Epoch 9: Training MSE 3826.299634575844; Testing MSE 2456.408739089966\n",
      "Epoch 9: Training R2 0.6712663377980779; Testing R2 0.19170940346609477\n"
     ]
    },
    {
     "data": {
      "application/vnd.jupyter.widget-view+json": {
       "model_id": "23070804827a4d30adc3be82f49bfbec",
       "version_major": 2,
       "version_minor": 0
      },
      "text/plain": [
       "HBox(children=(IntProgress(value=0, max=96), HTML(value='')))"
      ]
     },
     "metadata": {},
     "output_type": "display_data"
    },
    {
     "name": "stdout",
     "output_type": "stream",
     "text": [
      "\n",
      "Epoch 10: Training MSE 2765.8651798963547; Testing MSE 2512.5910460948944\n",
      "Epoch 10: Training R2 0.7623727683195678; Testing R2 0.17322240261765764\n"
     ]
    },
    {
     "data": {
      "application/vnd.jupyter.widget-view+json": {
       "model_id": "9cadf2e3f5e8461eae228eef0afe2e2e",
       "version_major": 2,
       "version_minor": 0
      },
      "text/plain": [
       "HBox(children=(IntProgress(value=0, max=96), HTML(value='')))"
      ]
     },
     "metadata": {},
     "output_type": "display_data"
    },
    {
     "name": "stdout",
     "output_type": "stream",
     "text": [
      "\n",
      "Epoch 11: Training MSE 2026.4368996024132; Testing MSE 2624.8215079307556\n",
      "Epoch 11: Training R2 0.8259001942221769; Testing R2 0.13629254420158987\n"
     ]
    },
    {
     "data": {
      "application/vnd.jupyter.widget-view+json": {
       "model_id": "02a3515588114d0380cfd4c3303b95c1",
       "version_major": 2,
       "version_minor": 0
      },
      "text/plain": [
       "HBox(children=(IntProgress(value=0, max=96), HTML(value='')))"
      ]
     },
     "metadata": {},
     "output_type": "display_data"
    },
    {
     "name": "stdout",
     "output_type": "stream",
     "text": [
      "\n",
      "Epoch 12: Training MSE 1603.7531428039074; Testing MSE 2654.3321430683136\n",
      "Epoch 12: Training R2 0.8622147520445786; Testing R2 0.126581957970624\n"
     ]
    },
    {
     "data": {
      "application/vnd.jupyter.widget-view+json": {
       "model_id": "3d49e8bd5ab14149a81ee49d776fe6d0",
       "version_major": 2,
       "version_minor": 0
      },
      "text/plain": [
       "HBox(children=(IntProgress(value=0, max=96), HTML(value='')))"
      ]
     },
     "metadata": {},
     "output_type": "display_data"
    },
    {
     "name": "stdout",
     "output_type": "stream",
     "text": [
      "\n",
      "Epoch 13: Training MSE 1042.085998877883; Testing MSE 2385.3937178850174\n",
      "Epoch 13: Training R2 0.9104699632917145; Testing R2 0.21507716508457897\n"
     ]
    },
    {
     "data": {
      "application/vnd.jupyter.widget-view+json": {
       "model_id": "fc054a1cf1a9422f9a09ab9a8a315f68",
       "version_major": 2,
       "version_minor": 0
      },
      "text/plain": [
       "HBox(children=(IntProgress(value=0, max=96), HTML(value='')))"
      ]
     },
     "metadata": {},
     "output_type": "display_data"
    },
    {
     "name": "stdout",
     "output_type": "stream",
     "text": [
      "\n",
      "Epoch 14: Training MSE 787.1122887358069; Testing MSE 2388.5120689868927\n",
      "Epoch 14: Training R2 0.9323758382897941; Testing R2 0.21405105984719464\n"
     ]
    },
    {
     "data": {
      "application/vnd.jupyter.widget-view+json": {
       "model_id": "14d249b0fea347df889be3edcc2b968c",
       "version_major": 2,
       "version_minor": 0
      },
      "text/plain": [
       "HBox(children=(IntProgress(value=0, max=96), HTML(value='')))"
      ]
     },
     "metadata": {},
     "output_type": "display_data"
    },
    {
     "name": "stdout",
     "output_type": "stream",
     "text": [
      "\n",
      "Epoch 15: Training MSE 697.2983855754137; Testing MSE 2541.786879301071\n",
      "Epoch 15: Training R2 0.9400921323917425; Testing R2 0.16361540315417755\n"
     ]
    },
    {
     "data": {
      "application/vnd.jupyter.widget-view+json": {
       "model_id": "bf482490688a489db66266138a735dc9",
       "version_major": 2,
       "version_minor": 0
      },
      "text/plain": [
       "HBox(children=(IntProgress(value=0, max=96), HTML(value='')))"
      ]
     },
     "metadata": {},
     "output_type": "display_data"
    },
    {
     "name": "stdout",
     "output_type": "stream",
     "text": [
      "\n",
      "Epoch 16: Training MSE 633.6351016536355; Testing MSE 2456.763982772827\n",
      "Epoch 16: Training R2 0.9455617156628202; Testing R2 0.19159250918715598\n"
     ]
    },
    {
     "data": {
      "application/vnd.jupyter.widget-view+json": {
       "model_id": "a94cd2100bc3433692369e4d8a0eb762",
       "version_major": 2,
       "version_minor": 0
      },
      "text/plain": [
       "HBox(children=(IntProgress(value=0, max=96), HTML(value='')))"
      ]
     },
     "metadata": {},
     "output_type": "display_data"
    },
    {
     "name": "stdout",
     "output_type": "stream",
     "text": [
      "\n",
      "Epoch 17: Training MSE 685.0380547344685; Testing MSE 2454.828494787216\n",
      "Epoch 17: Training R2 0.9411454695169198; Testing R2 0.19222938883734542\n"
     ]
    },
    {
     "data": {
      "application/vnd.jupyter.widget-view+json": {
       "model_id": "209d477d0fd446efa94dfaa915c424a3",
       "version_major": 2,
       "version_minor": 0
      },
      "text/plain": [
       "HBox(children=(IntProgress(value=0, max=96), HTML(value='')))"
      ]
     },
     "metadata": {},
     "output_type": "display_data"
    },
    {
     "name": "stdout",
     "output_type": "stream",
     "text": [
      "\n",
      "Epoch 18: Training MSE 642.7915656939149; Testing MSE 2483.9770674705505\n",
      "Epoch 18: Training R2 0.9447750449249666; Testing R2 0.18263794062785366\n"
     ]
    },
    {
     "data": {
      "application/vnd.jupyter.widget-view+json": {
       "model_id": "d4a2aa1012584ea9afb69d6f8a0f4ce4",
       "version_major": 2,
       "version_minor": 0
      },
      "text/plain": [
       "HBox(children=(IntProgress(value=0, max=96), HTML(value='')))"
      ]
     },
     "metadata": {},
     "output_type": "display_data"
    },
    {
     "name": "stdout",
     "output_type": "stream",
     "text": [
      "\n",
      "Epoch 19: Training MSE 594.8238087818027; Testing MSE 2427.1545946598053\n",
      "Epoch 19: Training R2 0.948896158769486; Testing R2 0.20133559045861615\n"
     ]
    },
    {
     "data": {
      "application/vnd.jupyter.widget-view+json": {
       "model_id": "2a173e90b90849bb99d4712e71d6c659",
       "version_major": 2,
       "version_minor": 0
      },
      "text/plain": [
       "HBox(children=(IntProgress(value=0, max=96), HTML(value='')))"
      ]
     },
     "metadata": {},
     "output_type": "display_data"
    },
    {
     "name": "stdout",
     "output_type": "stream",
     "text": [
      "\n",
      "Epoch 20: Training MSE 491.2542378529906; Testing MSE 2427.799218893051\n",
      "Epoch 20: Training R2 0.9577942607467725; Testing R2 0.2011234744138639\n"
     ]
    },
    {
     "data": {
      "application/vnd.jupyter.widget-view+json": {
       "model_id": "83656a9d77e54c35a56f86ca5c2b3d4e",
       "version_major": 2,
       "version_minor": 0
      },
      "text/plain": [
       "HBox(children=(IntProgress(value=0, max=96), HTML(value='')))"
      ]
     },
     "metadata": {},
     "output_type": "display_data"
    },
    {
     "name": "stdout",
     "output_type": "stream",
     "text": [
      "\n",
      "Epoch 21: Training MSE 479.40747011452913; Testing MSE 2409.669017791748\n",
      "Epoch 21: Training R2 0.9588120669082996; Testing R2 0.20708928573436958\n"
     ]
    },
    {
     "data": {
      "application/vnd.jupyter.widget-view+json": {
       "model_id": "8aa606cf33eb48489c39360cf923843a",
       "version_major": 2,
       "version_minor": 0
      },
      "text/plain": [
       "HBox(children=(IntProgress(value=0, max=96), HTML(value='')))"
      ]
     },
     "metadata": {},
     "output_type": "display_data"
    },
    {
     "name": "stdout",
     "output_type": "stream",
     "text": [
      "\n",
      "Epoch 22: Training MSE 475.6238227710128; Testing MSE 2411.313784122467\n",
      "Epoch 22: Training R2 0.9591371361309174; Testing R2 0.20654806914550972\n"
     ]
    },
    {
     "data": {
      "application/vnd.jupyter.widget-view+json": {
       "model_id": "8ab31a847ed440aa80df4c56a1c5728c",
       "version_major": 2,
       "version_minor": 0
      },
      "text/plain": [
       "HBox(children=(IntProgress(value=0, max=96), HTML(value='')))"
      ]
     },
     "metadata": {},
     "output_type": "display_data"
    },
    {
     "name": "stdout",
     "output_type": "stream",
     "text": [
      "\n",
      "Epoch 23: Training MSE 501.6646867617965; Testing MSE 2377.5989174842834\n",
      "Epoch 23: Training R2 0.956899854839814; Testing R2 0.21764207367064203\n"
     ]
    },
    {
     "data": {
      "application/vnd.jupyter.widget-view+json": {
       "model_id": "359f328399074343af66c0e9266e5da2",
       "version_major": 2,
       "version_minor": 0
      },
      "text/plain": [
       "HBox(children=(IntProgress(value=0, max=96), HTML(value='')))"
      ]
     },
     "metadata": {},
     "output_type": "display_data"
    },
    {
     "name": "stdout",
     "output_type": "stream",
     "text": [
      "\n",
      "Epoch 24: Training MSE 500.5396196618676; Testing MSE 2423.2143938541412\n",
      "Epoch 24: Training R2 0.9569965141355578; Testing R2 0.2026321284528806\n",
      "Printing performance_continuous\n",
      "{'HHVEHCNT_mean_norm': {'mse_train_list': [12242.481911182404, 9517.24494099617, 9246.151149272919, 9110.277658700943, 8838.356119394302, 8503.915193676949, 8011.842387914658, 7045.496594905853], 'mse_test_list': [2261.9253873825073, 2223.0931401252747, 2201.210141181946, 2364.5673274993896, 2357.3063910007477, 2310.520112514496, 2405.54701089859, 2589.069586992264], 'r_square_train_list': [-0.144108841510036, 0.11057544027371813, 0.13591023808998026, 0.1486081585784912, 0.17402031271315055, 0.2052751532636211, 0.25126132272040846, 0.34157019748603334], 'r_square_test_list': [0.11277226093041515, 0.12800399542051466, 0.13658748088155315, 0.07251152687985507, 0.07535958911442453, 0.09371124841865675, 0.05643747242479913, -0.015548244329650407]}, 'HHVEHCNT_P_CAP_mean_norm': {'mse_train_list': [12115.843003988266, 9845.910412073135, 9657.149475812912, 9634.848350286484, 9400.747740268707, 9377.84526348114, 8957.459890842438, 8487.666934728622, 7671.99302315712], 'mse_test_list': [2204.591280221939, 2239.971625804901, 2209.0087175369263, 2184.148931503296, 2228.985059261322, 2218.7969505786896, 2333.1436693668365, 2312.321239709854, 2522.8414952754974], 'r_square_train_list': [-0.13138078298487188, 0.08058615256541879, 0.09821270119210124, 0.10029518648439406, 0.1221555664325299, 0.12429420607251873, 0.16354990886553122, 0.20741930551864585, 0.2835871618065098], 'r_square_test_list': [0.09868289171594669, 0.08421811946677249, 0.09687688265545114, 0.10704046747110751, 0.08870982751073797, 0.09287509693690998, 0.046125998886623276, 0.05463896555498016, -0.031429372682547196]}, 'TRPTRANS_1_mean_norm': {'mse_train_list': [12568.739041686058, 9146.030738949776, 9004.806604981422, 8742.689135670662, 8446.132493019104, 8121.264544129372, 7542.963668704033, 6680.124044418335, 5470.423409342766, 3826.299634575844, 2765.8651798963547, 2026.4368996024132, 1603.7531428039074, 1042.085998877883, 787.1122887358069, 697.2983855754137, 633.6351016536355, 685.0380547344685, 642.7915656939149, 594.8238087818027, 491.2542378529906, 479.40747011452913, 475.6238227710128, 501.6646867617965, 500.5396196618676], 'mse_test_list': [2360.640996694565, 2197.747829556465, 2296.3084846735, 2155.450761318207, 2105.8695912361145, 2175.654548406601, 2299.6438413858414, 2503.7658989429474, 2421.0475623607635, 2456.408739089966, 2512.5910460948944, 2624.8215079307556, 2654.3321430683136, 2385.3937178850174, 2388.5120689868927, 2541.786879301071, 2456.763982772827, 2454.828494787216, 2483.9770674705505, 2427.1545946598053, 2427.799218893051, 2409.669017791748, 2411.313784122467, 2377.5989174842834, 2423.2143938541412], 'r_square_train_list': [-0.07983378434285981, 0.21422563140181172, 0.22635879691012617, 0.24887842261716464, 0.2743568640617956, 0.30226765013968393, 0.351951935948164, 0.42608215487332435, 0.5300126772879563, 0.6712663377980779, 0.7623727683195678, 0.8259001942221769, 0.8622147520445786, 0.9104699632917145, 0.9323758382897941, 0.9400921323917425, 0.9455617156628202, 0.9411454695169198, 0.9447750449249666, 0.948896158769486, 0.9577942607467725, 0.9588120669082996, 0.9591371361309174, 0.956899854839814, 0.9569965141355578], 'r_square_test_list': [0.22322214171590327, 0.27682275514073984, 0.24439099838480416, 0.290740765597991, 0.3070556373474501, 0.28409263295701526, 0.2432934866296267, 0.17612635070350813, 0.20334513256025877, 0.19170940346609477, 0.17322240261765764, 0.13629254420158987, 0.126581957970624, 0.21507716508457897, 0.21405105984719464, 0.16361540315417755, 0.19159250918715598, 0.19222938883734542, 0.18263794062785366, 0.20133559045861615, 0.2011234744138639, 0.20708928573436958, 0.20654806914550972, 0.21764207367064203, 0.2026321284528806]}}\n",
      "Stored 'performance_continuous' (dict)\n",
      "TRPTRANS_2_mean_norm\n",
      "tensor(11690.4609)\n",
      "tensor(2961.9233)\n"
     ]
    },
    {
     "data": {
      "application/vnd.jupyter.widget-view+json": {
       "model_id": "f8b16436a04748db98d0a5d64a7d25b9",
       "version_major": 2,
       "version_minor": 0
      },
      "text/plain": [
       "HBox(children=(IntProgress(value=0, max=96), HTML(value='')))"
      ]
     },
     "metadata": {},
     "output_type": "display_data"
    },
    {
     "name": "stdout",
     "output_type": "stream",
     "text": [
      "\n",
      "Epoch 0: Training MSE 11478.799536824226; Testing MSE 1914.6355509757996\n",
      "Epoch 0: Training R2 0.018105479485143183; Testing R2 0.35358369164382153\n"
     ]
    },
    {
     "data": {
      "application/vnd.jupyter.widget-view+json": {
       "model_id": "7c9816c0024a45e0b985831e02c40ef6",
       "version_major": 2,
       "version_minor": 0
      },
      "text/plain": [
       "HBox(children=(IntProgress(value=0, max=96), HTML(value='')))"
      ]
     },
     "metadata": {},
     "output_type": "display_data"
    },
    {
     "name": "stdout",
     "output_type": "stream",
     "text": [
      "\n",
      "Epoch 1: Training MSE 8120.51086127758; Testing MSE 2087.1659606695175\n",
      "Epoch 1: Training R2 0.305372910042489; Testing R2 0.2953342402239143\n"
     ]
    },
    {
     "data": {
      "application/vnd.jupyter.widget-view+json": {
       "model_id": "ff69402262a8469c8308394d95ff5f7c",
       "version_major": 2,
       "version_minor": 0
      },
      "text/plain": [
       "HBox(children=(IntProgress(value=0, max=96), HTML(value='')))"
      ]
     },
     "metadata": {},
     "output_type": "display_data"
    },
    {
     "name": "stdout",
     "output_type": "stream",
     "text": [
      "\n",
      "Epoch 2: Training MSE 7919.544404745102; Testing MSE 1972.1661925315857\n",
      "Epoch 2: Training R2 0.32256354586146085; Testing R2 0.3341602849736066\n"
     ]
    },
    {
     "data": {
      "application/vnd.jupyter.widget-view+json": {
       "model_id": "8e288821fef74440a8a47a29e0317725",
       "version_major": 2,
       "version_minor": 0
      },
      "text/plain": [
       "HBox(children=(IntProgress(value=0, max=96), HTML(value='')))"
      ]
     },
     "metadata": {},
     "output_type": "display_data"
    },
    {
     "name": "stdout",
     "output_type": "stream",
     "text": [
      "\n",
      "Epoch 3: Training MSE 7508.014380931854; Testing MSE 1889.910614490509\n",
      "Epoch 3: Training R2 0.35776575268746935; Testing R2 0.3619312866516635\n"
     ]
    },
    {
     "data": {
      "application/vnd.jupyter.widget-view+json": {
       "model_id": "fbb0555039194c8b8ad0a4bff2ac159a",
       "version_major": 2,
       "version_minor": 0
      },
      "text/plain": [
       "HBox(children=(IntProgress(value=0, max=96), HTML(value='')))"
      ]
     },
     "metadata": {},
     "output_type": "display_data"
    },
    {
     "name": "stdout",
     "output_type": "stream",
     "text": [
      "\n",
      "Epoch 4: Training MSE 7254.8455864191055; Testing MSE 1911.7294311523438\n",
      "Epoch 4: Training R2 0.3794217674388337; Testing R2 0.3545648513464926\n"
     ]
    },
    {
     "data": {
      "application/vnd.jupyter.widget-view+json": {
       "model_id": "b4a3d20ca55847e189edfaa1daf6b3c1",
       "version_major": 2,
       "version_minor": 0
      },
      "text/plain": [
       "HBox(children=(IntProgress(value=0, max=96), HTML(value='')))"
      ]
     },
     "metadata": {},
     "output_type": "display_data"
    },
    {
     "name": "stdout",
     "output_type": "stream",
     "text": [
      "\n",
      "Epoch 5: Training MSE 6775.137779116631; Testing MSE 1844.693273305893\n",
      "Epoch 5: Training R2 0.4204558900339227; Testing R2 0.37719749579906214\n"
     ]
    },
    {
     "data": {
      "application/vnd.jupyter.widget-view+json": {
       "model_id": "018152b37d854ed1ba55780408a2d336",
       "version_major": 2,
       "version_minor": 0
      },
      "text/plain": [
       "HBox(children=(IntProgress(value=0, max=96), HTML(value='')))"
      ]
     },
     "metadata": {},
     "output_type": "display_data"
    },
    {
     "name": "stdout",
     "output_type": "stream",
     "text": [
      "\n",
      "Epoch 6: Training MSE 5938.940522074699; Testing MSE 1917.0822083950043\n",
      "Epoch 6: Training R2 0.4919840582996945; Testing R2 0.3527576549310233\n"
     ]
    },
    {
     "data": {
      "application/vnd.jupyter.widget-view+json": {
       "model_id": "8b0ed12c70594ea49ccdaa8ac11404d6",
       "version_major": 2,
       "version_minor": 0
      },
      "text/plain": [
       "HBox(children=(IntProgress(value=0, max=96), HTML(value='')))"
      ]
     },
     "metadata": {},
     "output_type": "display_data"
    },
    {
     "name": "stdout",
     "output_type": "stream",
     "text": [
      "\n",
      "Epoch 7: Training MSE 4948.3507335186005; Testing MSE 2088.644963502884\n",
      "Epoch 7: Training R2 0.576718936920138; Testing R2 0.2948349015632977\n"
     ]
    },
    {
     "data": {
      "application/vnd.jupyter.widget-view+json": {
       "model_id": "71536be068d84f559c681c3a76934636",
       "version_major": 2,
       "version_minor": 0
      },
      "text/plain": [
       "HBox(children=(IntProgress(value=0, max=96), HTML(value='')))"
      ]
     },
     "metadata": {},
     "output_type": "display_data"
    },
    {
     "name": "stdout",
     "output_type": "stream",
     "text": [
      "\n",
      "Epoch 8: Training MSE 3834.7768262028694; Testing MSE 2004.547268152237\n",
      "Epoch 8: Training R2 0.6719738557183927; Testing R2 0.32322783605264327\n"
     ]
    },
    {
     "data": {
      "application/vnd.jupyter.widget-view+json": {
       "model_id": "c23c1557adc0406ea20c95232768532b",
       "version_major": 2,
       "version_minor": 0
      },
      "text/plain": [
       "HBox(children=(IntProgress(value=0, max=96), HTML(value='')))"
      ]
     },
     "metadata": {},
     "output_type": "display_data"
    },
    {
     "name": "stdout",
     "output_type": "stream",
     "text": [
      "\n",
      "Epoch 9: Training MSE 2967.5786301493645; Testing MSE 2009.902384877205\n",
      "Epoch 9: Training R2 0.7461538389277591; Testing R2 0.32141984978475746\n"
     ]
    },
    {
     "data": {
      "application/vnd.jupyter.widget-view+json": {
       "model_id": "ed999c6298e0494abe4ee7ca7c2cbf04",
       "version_major": 2,
       "version_minor": 0
      },
      "text/plain": [
       "HBox(children=(IntProgress(value=0, max=96), HTML(value='')))"
      ]
     },
     "metadata": {},
     "output_type": "display_data"
    },
    {
     "name": "stdout",
     "output_type": "stream",
     "text": [
      "\n",
      "Epoch 10: Training MSE 2154.1549153625965; Testing MSE 2054.0228813886642\n",
      "Epoch 10: Training R2 0.8157339623408159; Testing R2 0.30652395564801493\n"
     ]
    },
    {
     "data": {
      "application/vnd.jupyter.widget-view+json": {
       "model_id": "67508769b3cd4045808d1dd5cf933e69",
       "version_major": 2,
       "version_minor": 0
      },
      "text/plain": [
       "HBox(children=(IntProgress(value=0, max=96), HTML(value='')))"
      ]
     },
     "metadata": {},
     "output_type": "display_data"
    },
    {
     "name": "stdout",
     "output_type": "stream",
     "text": [
      "\n",
      "Epoch 11: Training MSE 1399.5881043374538; Testing MSE 1976.0539501905441\n",
      "Epoch 11: Training R2 0.8802794764192801; Testing R2 0.3328477062155205\n"
     ]
    },
    {
     "data": {
      "application/vnd.jupyter.widget-view+json": {
       "model_id": "13c6b88ec84b403da4a3ce9d3b407288",
       "version_major": 2,
       "version_minor": 0
      },
      "text/plain": [
       "HBox(children=(IntProgress(value=0, max=96), HTML(value='')))"
      ]
     },
     "metadata": {},
     "output_type": "display_data"
    },
    {
     "name": "stdout",
     "output_type": "stream",
     "text": [
      "\n",
      "Epoch 12: Training MSE 978.138867020607; Testing MSE 1928.857970237732\n",
      "Epoch 12: Training R2 0.9163301710471493; Testing R2 0.348781940338981\n"
     ]
    },
    {
     "data": {
      "application/vnd.jupyter.widget-view+json": {
       "model_id": "9988687f4f194ab8a8c01cd9d98b2c53",
       "version_major": 2,
       "version_minor": 0
      },
      "text/plain": [
       "HBox(children=(IntProgress(value=0, max=96), HTML(value='')))"
      ]
     },
     "metadata": {},
     "output_type": "display_data"
    },
    {
     "name": "stdout",
     "output_type": "stream",
     "text": [
      "\n",
      "Epoch 13: Training MSE 764.9358779191971; Testing MSE 1926.3222515583038\n",
      "Epoch 13: Training R2 0.9345675177387165; Testing R2 0.34963804577740254\n"
     ]
    },
    {
     "data": {
      "application/vnd.jupyter.widget-view+json": {
       "model_id": "c24e967dd96a49d594d5ad56bef38d55",
       "version_major": 2,
       "version_minor": 0
      },
      "text/plain": [
       "HBox(children=(IntProgress(value=0, max=96), HTML(value='')))"
      ]
     },
     "metadata": {},
     "output_type": "display_data"
    },
    {
     "name": "stdout",
     "output_type": "stream",
     "text": [
      "\n",
      "Epoch 14: Training MSE 587.2177205979824; Testing MSE 1894.1909909248352\n",
      "Epoch 14: Training R2 0.9497694980773308; Testing R2 0.3604861525468248\n"
     ]
    },
    {
     "data": {
      "application/vnd.jupyter.widget-view+json": {
       "model_id": "d5902d771cbe469c84d59f980b33afb6",
       "version_major": 2,
       "version_minor": 0
      },
      "text/plain": [
       "HBox(children=(IntProgress(value=0, max=96), HTML(value='')))"
      ]
     },
     "metadata": {},
     "output_type": "display_data"
    },
    {
     "name": "stdout",
     "output_type": "stream",
     "text": [
      "\n",
      "Epoch 15: Training MSE 537.0086846873164; Testing MSE 1984.8793029785156\n",
      "Epoch 15: Training R2 0.9540643702965783; Testing R2 0.32986810418826584\n"
     ]
    },
    {
     "data": {
      "application/vnd.jupyter.widget-view+json": {
       "model_id": "6c95ab63f8e648df8e00f30e3f5cf894",
       "version_major": 2,
       "version_minor": 0
      },
      "text/plain": [
       "HBox(children=(IntProgress(value=0, max=96), HTML(value='')))"
      ]
     },
     "metadata": {},
     "output_type": "display_data"
    },
    {
     "name": "stdout",
     "output_type": "stream",
     "text": [
      "\n",
      "Epoch 16: Training MSE 462.99963649362326; Testing MSE 1919.0093994140625\n",
      "Epoch 16: Training R2 0.9603950914366054; Testing R2 0.35210699966485437\n"
     ]
    },
    {
     "data": {
      "application/vnd.jupyter.widget-view+json": {
       "model_id": "047574fb328145f6bf619455f5f42bca",
       "version_major": 2,
       "version_minor": 0
      },
      "text/plain": [
       "HBox(children=(IntProgress(value=0, max=96), HTML(value='')))"
      ]
     },
     "metadata": {},
     "output_type": "display_data"
    },
    {
     "name": "stdout",
     "output_type": "stream",
     "text": [
      "\n",
      "Epoch 17: Training MSE 475.4259740933776; Testing MSE 1933.6453974246979\n",
      "Epoch 17: Training R2 0.9593321446746096; Testing R2 0.3471656165393182\n"
     ]
    },
    {
     "data": {
      "application/vnd.jupyter.widget-view+json": {
       "model_id": "adfdae2d6cc34853a805f4e0e9c72b8c",
       "version_major": 2,
       "version_minor": 0
      },
      "text/plain": [
       "HBox(children=(IntProgress(value=0, max=96), HTML(value='')))"
      ]
     },
     "metadata": {},
     "output_type": "display_data"
    },
    {
     "name": "stdout",
     "output_type": "stream",
     "text": [
      "\n",
      "Epoch 18: Training MSE 415.0498826056719; Testing MSE 1918.1413352489471\n",
      "Epoch 18: Training R2 0.964496705063673; Testing R2 0.3524000741524477\n"
     ]
    },
    {
     "data": {
      "application/vnd.jupyter.widget-view+json": {
       "model_id": "48be7a1297114baa8b08856583921516",
       "version_major": 2,
       "version_minor": 0
      },
      "text/plain": [
       "HBox(children=(IntProgress(value=0, max=96), HTML(value='')))"
      ]
     },
     "metadata": {},
     "output_type": "display_data"
    },
    {
     "name": "stdout",
     "output_type": "stream",
     "text": [
      "\n",
      "Epoch 19: Training MSE 393.6796458438039; Testing MSE 1933.3669245243073\n",
      "Epoch 19: Training R2 0.966324711408001; Testing R2 0.34725963413141614\n"
     ]
    },
    {
     "data": {
      "application/vnd.jupyter.widget-view+json": {
       "model_id": "4819c8fd1c3c455d9c7a4994aafa330d",
       "version_major": 2,
       "version_minor": 0
      },
      "text/plain": [
       "HBox(children=(IntProgress(value=0, max=96), HTML(value='')))"
      ]
     },
     "metadata": {},
     "output_type": "display_data"
    },
    {
     "name": "stdout",
     "output_type": "stream",
     "text": [
      "\n",
      "Epoch 20: Training MSE 504.66566886752844; Testing MSE 1860.6671154499054\n",
      "Epoch 20: Training R2 0.9568309862574631; Testing R2 0.3718044317959759\n"
     ]
    },
    {
     "data": {
      "application/vnd.jupyter.widget-view+json": {
       "model_id": "b4ac34944fae4fad9689a001bd8e7ff8",
       "version_major": 2,
       "version_minor": 0
      },
      "text/plain": [
       "HBox(children=(IntProgress(value=0, max=96), HTML(value='')))"
      ]
     },
     "metadata": {},
     "output_type": "display_data"
    },
    {
     "name": "stdout",
     "output_type": "stream",
     "text": [
      "\n",
      "Epoch 21: Training MSE 562.8022549673915; Testing MSE 1893.652468919754\n",
      "Epoch 21: Training R2 0.9518579927706643; Testing R2 0.360667967517468\n"
     ]
    },
    {
     "data": {
      "application/vnd.jupyter.widget-view+json": {
       "model_id": "a4c1ba3210754acaa2d8d810bab36437",
       "version_major": 2,
       "version_minor": 0
      },
      "text/plain": [
       "HBox(children=(IntProgress(value=0, max=96), HTML(value='')))"
      ]
     },
     "metadata": {},
     "output_type": "display_data"
    },
    {
     "name": "stdout",
     "output_type": "stream",
     "text": [
      "\n",
      "Epoch 22: Training MSE 469.0253982320428; Testing MSE 1908.2927465438843\n",
      "Epoch 22: Training R2 0.9598796488231247; Testing R2 0.3557251395154095\n"
     ]
    },
    {
     "data": {
      "application/vnd.jupyter.widget-view+json": {
       "model_id": "d87b77d64ac940ceb332a42fcc3defb6",
       "version_major": 2,
       "version_minor": 0
      },
      "text/plain": [
       "HBox(children=(IntProgress(value=0, max=96), HTML(value='')))"
      ]
     },
     "metadata": {},
     "output_type": "display_data"
    },
    {
     "name": "stdout",
     "output_type": "stream",
     "text": [
      "\n",
      "Epoch 23: Training MSE 444.2909261211753; Testing MSE 1859.4866514205933\n",
      "Epoch 23: Training R2 0.9619954312754253; Testing R2 0.3722029782449783\n"
     ]
    },
    {
     "data": {
      "application/vnd.jupyter.widget-view+json": {
       "model_id": "ca145f08887b464b924dfdc154e266c9",
       "version_major": 2,
       "version_minor": 0
      },
      "text/plain": [
       "HBox(children=(IntProgress(value=0, max=96), HTML(value='')))"
      ]
     },
     "metadata": {},
     "output_type": "display_data"
    },
    {
     "name": "stdout",
     "output_type": "stream",
     "text": [
      "\n",
      "Epoch 24: Training MSE 416.66394248604774; Testing MSE 1858.1558763980865\n",
      "Epoch 24: Training R2 0.9643586386615863; Testing R2 0.37265227246019483\n",
      "Printing performance_continuous\n",
      "{'HHVEHCNT_mean_norm': {'mse_train_list': [12242.481911182404, 9517.24494099617, 9246.151149272919, 9110.277658700943, 8838.356119394302, 8503.915193676949, 8011.842387914658, 7045.496594905853], 'mse_test_list': [2261.9253873825073, 2223.0931401252747, 2201.210141181946, 2364.5673274993896, 2357.3063910007477, 2310.520112514496, 2405.54701089859, 2589.069586992264], 'r_square_train_list': [-0.144108841510036, 0.11057544027371813, 0.13591023808998026, 0.1486081585784912, 0.17402031271315055, 0.2052751532636211, 0.25126132272040846, 0.34157019748603334], 'r_square_test_list': [0.11277226093041515, 0.12800399542051466, 0.13658748088155315, 0.07251152687985507, 0.07535958911442453, 0.09371124841865675, 0.05643747242479913, -0.015548244329650407]}, 'HHVEHCNT_P_CAP_mean_norm': {'mse_train_list': [12115.843003988266, 9845.910412073135, 9657.149475812912, 9634.848350286484, 9400.747740268707, 9377.84526348114, 8957.459890842438, 8487.666934728622, 7671.99302315712], 'mse_test_list': [2204.591280221939, 2239.971625804901, 2209.0087175369263, 2184.148931503296, 2228.985059261322, 2218.7969505786896, 2333.1436693668365, 2312.321239709854, 2522.8414952754974], 'r_square_train_list': [-0.13138078298487188, 0.08058615256541879, 0.09821270119210124, 0.10029518648439406, 0.1221555664325299, 0.12429420607251873, 0.16354990886553122, 0.20741930551864585, 0.2835871618065098], 'r_square_test_list': [0.09868289171594669, 0.08421811946677249, 0.09687688265545114, 0.10704046747110751, 0.08870982751073797, 0.09287509693690998, 0.046125998886623276, 0.05463896555498016, -0.031429372682547196]}, 'TRPTRANS_1_mean_norm': {'mse_train_list': [12568.739041686058, 9146.030738949776, 9004.806604981422, 8742.689135670662, 8446.132493019104, 8121.264544129372, 7542.963668704033, 6680.124044418335, 5470.423409342766, 3826.299634575844, 2765.8651798963547, 2026.4368996024132, 1603.7531428039074, 1042.085998877883, 787.1122887358069, 697.2983855754137, 633.6351016536355, 685.0380547344685, 642.7915656939149, 594.8238087818027, 491.2542378529906, 479.40747011452913, 475.6238227710128, 501.6646867617965, 500.5396196618676], 'mse_test_list': [2360.640996694565, 2197.747829556465, 2296.3084846735, 2155.450761318207, 2105.8695912361145, 2175.654548406601, 2299.6438413858414, 2503.7658989429474, 2421.0475623607635, 2456.408739089966, 2512.5910460948944, 2624.8215079307556, 2654.3321430683136, 2385.3937178850174, 2388.5120689868927, 2541.786879301071, 2456.763982772827, 2454.828494787216, 2483.9770674705505, 2427.1545946598053, 2427.799218893051, 2409.669017791748, 2411.313784122467, 2377.5989174842834, 2423.2143938541412], 'r_square_train_list': [-0.07983378434285981, 0.21422563140181172, 0.22635879691012617, 0.24887842261716464, 0.2743568640617956, 0.30226765013968393, 0.351951935948164, 0.42608215487332435, 0.5300126772879563, 0.6712663377980779, 0.7623727683195678, 0.8259001942221769, 0.8622147520445786, 0.9104699632917145, 0.9323758382897941, 0.9400921323917425, 0.9455617156628202, 0.9411454695169198, 0.9447750449249666, 0.948896158769486, 0.9577942607467725, 0.9588120669082996, 0.9591371361309174, 0.956899854839814, 0.9569965141355578], 'r_square_test_list': [0.22322214171590327, 0.27682275514073984, 0.24439099838480416, 0.290740765597991, 0.3070556373474501, 0.28409263295701526, 0.2432934866296267, 0.17612635070350813, 0.20334513256025877, 0.19170940346609477, 0.17322240261765764, 0.13629254420158987, 0.126581957970624, 0.21507716508457897, 0.21405105984719464, 0.16361540315417755, 0.19159250918715598, 0.19222938883734542, 0.18263794062785366, 0.20133559045861615, 0.2011234744138639, 0.20708928573436958, 0.20654806914550972, 0.21764207367064203, 0.2026321284528806]}, 'TRPTRANS_2_mean_norm': {'mse_train_list': [11478.799536824226, 8120.51086127758, 7919.544404745102, 7508.014380931854, 7254.8455864191055, 6775.137779116631, 5938.940522074699, 4948.3507335186005, 3834.7768262028694, 2967.5786301493645, 2154.1549153625965, 1399.5881043374538, 978.138867020607, 764.9358779191971, 587.2177205979824, 537.0086846873164, 462.99963649362326, 475.4259740933776, 415.0498826056719, 393.6796458438039, 504.66566886752844, 562.8022549673915, 469.0253982320428, 444.2909261211753, 416.66394248604774], 'mse_test_list': [1914.6355509757996, 2087.1659606695175, 1972.1661925315857, 1889.910614490509, 1911.7294311523438, 1844.693273305893, 1917.0822083950043, 2088.644963502884, 2004.547268152237, 2009.902384877205, 2054.0228813886642, 1976.0539501905441, 1928.857970237732, 1926.3222515583038, 1894.1909909248352, 1984.8793029785156, 1919.0093994140625, 1933.6453974246979, 1918.1413352489471, 1933.3669245243073, 1860.6671154499054, 1893.652468919754, 1908.2927465438843, 1859.4866514205933, 1858.1558763980865], 'r_square_train_list': [0.018105479485143183, 0.305372910042489, 0.32256354586146085, 0.35776575268746935, 0.3794217674388337, 0.4204558900339227, 0.4919840582996945, 0.576718936920138, 0.6719738557183927, 0.7461538389277591, 0.8157339623408159, 0.8802794764192801, 0.9163301710471493, 0.9345675177387165, 0.9497694980773308, 0.9540643702965783, 0.9603950914366054, 0.9593321446746096, 0.964496705063673, 0.966324711408001, 0.9568309862574631, 0.9518579927706643, 0.9598796488231247, 0.9619954312754253, 0.9643586386615863], 'r_square_test_list': [0.35358369164382153, 0.2953342402239143, 0.3341602849736066, 0.3619312866516635, 0.3545648513464926, 0.37719749579906214, 0.3527576549310233, 0.2948349015632977, 0.32322783605264327, 0.32141984978475746, 0.30652395564801493, 0.3328477062155205, 0.348781940338981, 0.34963804577740254, 0.3604861525468248, 0.32986810418826584, 0.35210699966485437, 0.3471656165393182, 0.3524000741524477, 0.34725963413141614, 0.3718044317959759, 0.360667967517468, 0.3557251395154095, 0.3722029782449783, 0.37265227246019483]}}\n",
      "Stored 'performance_continuous' (dict)\n",
      "TRPTRANS_3_mean_norm\n",
      "tensor(11467.2451)\n",
      "tensor(2919.1924)\n"
     ]
    },
    {
     "data": {
      "application/vnd.jupyter.widget-view+json": {
       "model_id": "d5d805d62909493fb57c3a721d6b5c22",
       "version_major": 2,
       "version_minor": 0
      },
      "text/plain": [
       "HBox(children=(IntProgress(value=0, max=96), HTML(value='')))"
      ]
     },
     "metadata": {},
     "output_type": "display_data"
    },
    {
     "name": "stdout",
     "output_type": "stream",
     "text": [
      "\n",
      "Epoch 0: Training MSE 12461.463016271591; Testing MSE 2524.8239248991013\n",
      "Epoch 0: Training R2 -0.08670067561335393; Testing R2 0.13509505582274917\n"
     ]
    },
    {
     "data": {
      "application/vnd.jupyter.widget-view+json": {
       "model_id": "6964a7b90b6f4ca1bd5f5185928e5c29",
       "version_major": 2,
       "version_minor": 0
      },
      "text/plain": [
       "HBox(children=(IntProgress(value=0, max=96), HTML(value='')))"
      ]
     },
     "metadata": {},
     "output_type": "display_data"
    },
    {
     "name": "stdout",
     "output_type": "stream",
     "text": [
      "\n",
      "Epoch 1: Training MSE 9327.404725551605; Testing MSE 2411.4327639341354\n",
      "Epoch 1: Training R2 0.18660457413861575; Testing R2 0.17393838853099597\n"
     ]
    },
    {
     "data": {
      "application/vnd.jupyter.widget-view+json": {
       "model_id": "1ecf6a98c41c4590a8e70d404effca35",
       "version_major": 2,
       "version_minor": 0
      },
      "text/plain": [
       "HBox(children=(IntProgress(value=0, max=96), HTML(value='')))"
      ]
     },
     "metadata": {},
     "output_type": "display_data"
    },
    {
     "name": "stdout",
     "output_type": "stream",
     "text": [
      "\n",
      "Epoch 2: Training MSE 9617.104521393776; Testing MSE 2432.9877257347107\n",
      "Epoch 2: Training R2 0.16134133149562402; Testing R2 0.16655451005574173\n"
     ]
    },
    {
     "data": {
      "application/vnd.jupyter.widget-view+json": {
       "model_id": "71558118599740f2845aa7c453f70c83",
       "version_major": 2,
       "version_minor": 0
      },
      "text/plain": [
       "HBox(children=(IntProgress(value=0, max=96), HTML(value='')))"
      ]
     },
     "metadata": {},
     "output_type": "display_data"
    },
    {
     "name": "stdout",
     "output_type": "stream",
     "text": [
      "\n",
      "Epoch 3: Training MSE 9268.591833114624; Testing MSE 2369.6746349334717\n",
      "Epoch 3: Training R2 0.19173334672836628; Testing R2 0.18824307404830742\n"
     ]
    },
    {
     "data": {
      "application/vnd.jupyter.widget-view+json": {
       "model_id": "a45817e5034b4936916b42110f536993",
       "version_major": 2,
       "version_minor": 0
      },
      "text/plain": [
       "HBox(children=(IntProgress(value=0, max=96), HTML(value='')))"
      ]
     },
     "metadata": {},
     "output_type": "display_data"
    },
    {
     "name": "stdout",
     "output_type": "stream",
     "text": [
      "\n",
      "Epoch 4: Training MSE 9904.560640454292; Testing MSE 2936.2110406160355\n",
      "Epoch 4: Training R2 0.13627374846910723; Testing R2 -0.005829919913376447\n"
     ]
    },
    {
     "data": {
      "application/vnd.jupyter.widget-view+json": {
       "model_id": "625c045eb4314a6680f67643d810cc49",
       "version_major": 2,
       "version_minor": 0
      },
      "text/plain": [
       "HBox(children=(IntProgress(value=0, max=96), HTML(value='')))"
      ]
     },
     "metadata": {},
     "output_type": "display_data"
    },
    {
     "name": "stdout",
     "output_type": "stream",
     "text": [
      "\n",
      "Epoch 5: Training MSE 9322.053015232086; Testing MSE 2448.0747550725937\n",
      "Epoch 5: Training R2 0.18707126951879016; Testing R2 0.16138628975388303\n"
     ]
    },
    {
     "data": {
      "application/vnd.jupyter.widget-view+json": {
       "model_id": "16c519aba6954e4f95179e1e9f1a5549",
       "version_major": 2,
       "version_minor": 0
      },
      "text/plain": [
       "HBox(children=(IntProgress(value=0, max=96), HTML(value='')))"
      ]
     },
     "metadata": {},
     "output_type": "display_data"
    },
    {
     "name": "stdout",
     "output_type": "stream",
     "text": [
      "\n",
      "Epoch 6: Training MSE 8854.563960433006; Testing MSE 2353.8623690605164\n",
      "Epoch 6: Training R2 0.22783860727268468; Testing R2 0.1936597317396792\n"
     ]
    },
    {
     "data": {
      "application/vnd.jupyter.widget-view+json": {
       "model_id": "3c06673264a14adfa3d875e58a0786b5",
       "version_major": 2,
       "version_minor": 0
      },
      "text/plain": [
       "HBox(children=(IntProgress(value=0, max=96), HTML(value='')))"
      ]
     },
     "metadata": {},
     "output_type": "display_data"
    },
    {
     "name": "stdout",
     "output_type": "stream",
     "text": [
      "\n",
      "Epoch 7: Training MSE 8788.888430595398; Testing MSE 2469.754785299301\n",
      "Epoch 7: Training R2 0.23356583549240517; Testing R2 0.1539595677761353\n"
     ]
    },
    {
     "data": {
      "application/vnd.jupyter.widget-view+json": {
       "model_id": "034feaa04cf6488baf8051f740a54a88",
       "version_major": 2,
       "version_minor": 0
      },
      "text/plain": [
       "HBox(children=(IntProgress(value=0, max=96), HTML(value='')))"
      ]
     },
     "metadata": {},
     "output_type": "display_data"
    },
    {
     "name": "stdout",
     "output_type": "stream",
     "text": [
      "\n",
      "Epoch 8: Training MSE 8480.80005645752; Testing MSE 2412.5748991966248\n",
      "Epoch 8: Training R2 0.26043265232499424; Testing R2 0.17354713810529132\n"
     ]
    },
    {
     "data": {
      "application/vnd.jupyter.widget-view+json": {
       "model_id": "4f8efbed66534bdba2764fa779876991",
       "version_major": 2,
       "version_minor": 0
      },
      "text/plain": [
       "HBox(children=(IntProgress(value=0, max=96), HTML(value='')))"
      ]
     },
     "metadata": {},
     "output_type": "display_data"
    },
    {
     "name": "stdout",
     "output_type": "stream",
     "text": [
      "\n",
      "Epoch 9: Training MSE 8226.281651854515; Testing MSE 2729.5516192913055\n",
      "Epoch 9: Training R2 0.28262790515180647; Testing R2 0.06496343462587584\n"
     ]
    },
    {
     "data": {
      "application/vnd.jupyter.widget-view+json": {
       "model_id": "e953771a7d1446d09b7482f15c392bd3",
       "version_major": 2,
       "version_minor": 0
      },
      "text/plain": [
       "HBox(children=(IntProgress(value=0, max=96), HTML(value='')))"
      ]
     },
     "metadata": {},
     "output_type": "display_data"
    },
    {
     "name": "stdout",
     "output_type": "stream",
     "text": [
      "\n",
      "Epoch 10: Training MSE 8076.953659951687; Testing MSE 2462.806051969528\n",
      "Epoch 10: Training R2 0.29565003822533875; Testing R2 0.1563399293345873\n"
     ]
    },
    {
     "data": {
      "application/vnd.jupyter.widget-view+json": {
       "model_id": "5cda0f5f87b24f9683d8e9f8cd2b2cea",
       "version_major": 2,
       "version_minor": 0
      },
      "text/plain": [
       "HBox(children=(IntProgress(value=0, max=96), HTML(value='')))"
      ]
     },
     "metadata": {},
     "output_type": "display_data"
    },
    {
     "name": "stdout",
     "output_type": "stream",
     "text": [
      "\n",
      "Epoch 11: Training MSE 7678.461866080761; Testing MSE 2600.2962172031403\n",
      "Epoch 11: Training R2 0.33040047652142546; Testing R2 0.10924122969316563\n"
     ]
    },
    {
     "data": {
      "application/vnd.jupyter.widget-view+json": {
       "model_id": "99c4721ff87d4bf78b2df6def9e88cdc",
       "version_major": 2,
       "version_minor": 0
      },
      "text/plain": [
       "HBox(children=(IntProgress(value=0, max=96), HTML(value='')))"
      ]
     },
     "metadata": {},
     "output_type": "display_data"
    },
    {
     "name": "stdout",
     "output_type": "stream",
     "text": [
      "\n",
      "Epoch 12: Training MSE 6892.516948282719; Testing MSE 2639.993268251419\n",
      "Epoch 12: Training R2 0.3989387269700917; Testing R2 0.09564258806817183\n"
     ]
    },
    {
     "data": {
      "application/vnd.jupyter.widget-view+json": {
       "model_id": "61d072f3335749ad980a7c1ae180dc07",
       "version_major": 2,
       "version_minor": 0
      },
      "text/plain": [
       "HBox(children=(IntProgress(value=0, max=96), HTML(value='')))"
      ]
     },
     "metadata": {},
     "output_type": "display_data"
    },
    {
     "name": "stdout",
     "output_type": "stream",
     "text": [
      "\n",
      "Epoch 13: Training MSE 6348.155775666237; Testing MSE 2695.492497086525\n",
      "Epoch 13: Training R2 0.4464096903142496; Testing R2 0.07663074453162666\n"
     ]
    },
    {
     "data": {
      "application/vnd.jupyter.widget-view+json": {
       "model_id": "7612d3a2d74f43f697c4d3261bd61872",
       "version_major": 2,
       "version_minor": 0
      },
      "text/plain": [
       "HBox(children=(IntProgress(value=0, max=96), HTML(value='')))"
      ]
     },
     "metadata": {},
     "output_type": "display_data"
    },
    {
     "name": "stdout",
     "output_type": "stream",
     "text": [
      "\n",
      "Epoch 14: Training MSE 5683.413264155388; Testing MSE 2716.4568811655045\n",
      "Epoch 14: Training R2 0.5043784966594205; Testing R2 0.06944917465551537\n"
     ]
    },
    {
     "data": {
      "application/vnd.jupyter.widget-view+json": {
       "model_id": "cec94ff5447947ef80f61258f03ef867",
       "version_major": 2,
       "version_minor": 0
      },
      "text/plain": [
       "HBox(children=(IntProgress(value=0, max=96), HTML(value='')))"
      ]
     },
     "metadata": {},
     "output_type": "display_data"
    },
    {
     "name": "stdout",
     "output_type": "stream",
     "text": [
      "\n",
      "Epoch 15: Training MSE 5102.76248306036; Testing MSE 2839.9651288986206\n",
      "Epoch 15: Training R2 0.5550140917968027; Testing R2 0.027140127653233925\n"
     ]
    },
    {
     "data": {
      "application/vnd.jupyter.widget-view+json": {
       "model_id": "6b6e569261cb4b86a90fec561ade3d43",
       "version_major": 2,
       "version_minor": 0
      },
      "text/plain": [
       "HBox(children=(IntProgress(value=0, max=96), HTML(value='')))"
      ]
     },
     "metadata": {},
     "output_type": "display_data"
    },
    {
     "name": "stdout",
     "output_type": "stream",
     "text": [
      "\n",
      "Epoch 16: Training MSE 4064.4277706742287; Testing MSE 2803.6818236112595\n",
      "Epoch 16: Training R2 0.6455619698420569; Testing R2 0.03956935482612889\n"
     ]
    },
    {
     "data": {
      "application/vnd.jupyter.widget-view+json": {
       "model_id": "d9b490b367294305aa86448f6265bcb0",
       "version_major": 2,
       "version_minor": 0
      },
      "text/plain": [
       "HBox(children=(IntProgress(value=0, max=96), HTML(value='')))"
      ]
     },
     "metadata": {},
     "output_type": "display_data"
    },
    {
     "name": "stdout",
     "output_type": "stream",
     "text": [
      "\n",
      "Epoch 17: Training MSE 3741.2643998861313; Testing MSE 2676.570585370064\n",
      "Epoch 17: Training R2 0.6737434002977232; Testing R2 0.08311264405557328\n"
     ]
    },
    {
     "data": {
      "application/vnd.jupyter.widget-view+json": {
       "model_id": "9430e74b76eb4d96841551346f2ad684",
       "version_major": 2,
       "version_minor": 0
      },
      "text/plain": [
       "HBox(children=(IntProgress(value=0, max=96), HTML(value='')))"
      ]
     },
     "metadata": {},
     "output_type": "display_data"
    },
    {
     "name": "stdout",
     "output_type": "stream",
     "text": [
      "\n",
      "Epoch 18: Training MSE 3239.8665711283684; Testing MSE 2698.242288827896\n",
      "Epoch 18: Training R2 0.717467749401088; Testing R2 0.07568877449992839\n"
     ]
    },
    {
     "data": {
      "application/vnd.jupyter.widget-view+json": {
       "model_id": "944b63f4670545b8a5185eb1b71653fd",
       "version_major": 2,
       "version_minor": 0
      },
      "text/plain": [
       "HBox(children=(IntProgress(value=0, max=96), HTML(value='')))"
      ]
     },
     "metadata": {},
     "output_type": "display_data"
    },
    {
     "name": "stdout",
     "output_type": "stream",
     "text": [
      "\n",
      "Epoch 19: Training MSE 2633.5545778274536; Testing MSE 2726.3344198465347\n",
      "Epoch 19: Training R2 0.7703411280639505; Testing R2 0.06606552007379385\n"
     ]
    },
    {
     "data": {
      "application/vnd.jupyter.widget-view+json": {
       "model_id": "89bd3036fba84ccabe33f572b43e84c4",
       "version_major": 2,
       "version_minor": 0
      },
      "text/plain": [
       "HBox(children=(IntProgress(value=0, max=96), HTML(value='')))"
      ]
     },
     "metadata": {},
     "output_type": "display_data"
    },
    {
     "name": "stdout",
     "output_type": "stream",
     "text": [
      "\n",
      "Epoch 20: Training MSE 2082.2483964264393; Testing MSE 3108.057963848114\n",
      "Epoch 20: Training R2 0.8184177302266353; Testing R2 -0.06469788772662222\n",
      "Printing performance_continuous\n",
      "{'HHVEHCNT_mean_norm': {'mse_train_list': [12242.481911182404, 9517.24494099617, 9246.151149272919, 9110.277658700943, 8838.356119394302, 8503.915193676949, 8011.842387914658, 7045.496594905853], 'mse_test_list': [2261.9253873825073, 2223.0931401252747, 2201.210141181946, 2364.5673274993896, 2357.3063910007477, 2310.520112514496, 2405.54701089859, 2589.069586992264], 'r_square_train_list': [-0.144108841510036, 0.11057544027371813, 0.13591023808998026, 0.1486081585784912, 0.17402031271315055, 0.2052751532636211, 0.25126132272040846, 0.34157019748603334], 'r_square_test_list': [0.11277226093041515, 0.12800399542051466, 0.13658748088155315, 0.07251152687985507, 0.07535958911442453, 0.09371124841865675, 0.05643747242479913, -0.015548244329650407]}, 'HHVEHCNT_P_CAP_mean_norm': {'mse_train_list': [12115.843003988266, 9845.910412073135, 9657.149475812912, 9634.848350286484, 9400.747740268707, 9377.84526348114, 8957.459890842438, 8487.666934728622, 7671.99302315712], 'mse_test_list': [2204.591280221939, 2239.971625804901, 2209.0087175369263, 2184.148931503296, 2228.985059261322, 2218.7969505786896, 2333.1436693668365, 2312.321239709854, 2522.8414952754974], 'r_square_train_list': [-0.13138078298487188, 0.08058615256541879, 0.09821270119210124, 0.10029518648439406, 0.1221555664325299, 0.12429420607251873, 0.16354990886553122, 0.20741930551864585, 0.2835871618065098], 'r_square_test_list': [0.09868289171594669, 0.08421811946677249, 0.09687688265545114, 0.10704046747110751, 0.08870982751073797, 0.09287509693690998, 0.046125998886623276, 0.05463896555498016, -0.031429372682547196]}, 'TRPTRANS_1_mean_norm': {'mse_train_list': [12568.739041686058, 9146.030738949776, 9004.806604981422, 8742.689135670662, 8446.132493019104, 8121.264544129372, 7542.963668704033, 6680.124044418335, 5470.423409342766, 3826.299634575844, 2765.8651798963547, 2026.4368996024132, 1603.7531428039074, 1042.085998877883, 787.1122887358069, 697.2983855754137, 633.6351016536355, 685.0380547344685, 642.7915656939149, 594.8238087818027, 491.2542378529906, 479.40747011452913, 475.6238227710128, 501.6646867617965, 500.5396196618676], 'mse_test_list': [2360.640996694565, 2197.747829556465, 2296.3084846735, 2155.450761318207, 2105.8695912361145, 2175.654548406601, 2299.6438413858414, 2503.7658989429474, 2421.0475623607635, 2456.408739089966, 2512.5910460948944, 2624.8215079307556, 2654.3321430683136, 2385.3937178850174, 2388.5120689868927, 2541.786879301071, 2456.763982772827, 2454.828494787216, 2483.9770674705505, 2427.1545946598053, 2427.799218893051, 2409.669017791748, 2411.313784122467, 2377.5989174842834, 2423.2143938541412], 'r_square_train_list': [-0.07983378434285981, 0.21422563140181172, 0.22635879691012617, 0.24887842261716464, 0.2743568640617956, 0.30226765013968393, 0.351951935948164, 0.42608215487332435, 0.5300126772879563, 0.6712663377980779, 0.7623727683195678, 0.8259001942221769, 0.8622147520445786, 0.9104699632917145, 0.9323758382897941, 0.9400921323917425, 0.9455617156628202, 0.9411454695169198, 0.9447750449249666, 0.948896158769486, 0.9577942607467725, 0.9588120669082996, 0.9591371361309174, 0.956899854839814, 0.9569965141355578], 'r_square_test_list': [0.22322214171590327, 0.27682275514073984, 0.24439099838480416, 0.290740765597991, 0.3070556373474501, 0.28409263295701526, 0.2432934866296267, 0.17612635070350813, 0.20334513256025877, 0.19170940346609477, 0.17322240261765764, 0.13629254420158987, 0.126581957970624, 0.21507716508457897, 0.21405105984719464, 0.16361540315417755, 0.19159250918715598, 0.19222938883734542, 0.18263794062785366, 0.20133559045861615, 0.2011234744138639, 0.20708928573436958, 0.20654806914550972, 0.21764207367064203, 0.2026321284528806]}, 'TRPTRANS_2_mean_norm': {'mse_train_list': [11478.799536824226, 8120.51086127758, 7919.544404745102, 7508.014380931854, 7254.8455864191055, 6775.137779116631, 5938.940522074699, 4948.3507335186005, 3834.7768262028694, 2967.5786301493645, 2154.1549153625965, 1399.5881043374538, 978.138867020607, 764.9358779191971, 587.2177205979824, 537.0086846873164, 462.99963649362326, 475.4259740933776, 415.0498826056719, 393.6796458438039, 504.66566886752844, 562.8022549673915, 469.0253982320428, 444.2909261211753, 416.66394248604774], 'mse_test_list': [1914.6355509757996, 2087.1659606695175, 1972.1661925315857, 1889.910614490509, 1911.7294311523438, 1844.693273305893, 1917.0822083950043, 2088.644963502884, 2004.547268152237, 2009.902384877205, 2054.0228813886642, 1976.0539501905441, 1928.857970237732, 1926.3222515583038, 1894.1909909248352, 1984.8793029785156, 1919.0093994140625, 1933.6453974246979, 1918.1413352489471, 1933.3669245243073, 1860.6671154499054, 1893.652468919754, 1908.2927465438843, 1859.4866514205933, 1858.1558763980865], 'r_square_train_list': [0.018105479485143183, 0.305372910042489, 0.32256354586146085, 0.35776575268746935, 0.3794217674388337, 0.4204558900339227, 0.4919840582996945, 0.576718936920138, 0.6719738557183927, 0.7461538389277591, 0.8157339623408159, 0.8802794764192801, 0.9163301710471493, 0.9345675177387165, 0.9497694980773308, 0.9540643702965783, 0.9603950914366054, 0.9593321446746096, 0.964496705063673, 0.966324711408001, 0.9568309862574631, 0.9518579927706643, 0.9598796488231247, 0.9619954312754253, 0.9643586386615863], 'r_square_test_list': [0.35358369164382153, 0.2953342402239143, 0.3341602849736066, 0.3619312866516635, 0.3545648513464926, 0.37719749579906214, 0.3527576549310233, 0.2948349015632977, 0.32322783605264327, 0.32141984978475746, 0.30652395564801493, 0.3328477062155205, 0.348781940338981, 0.34963804577740254, 0.3604861525468248, 0.32986810418826584, 0.35210699966485437, 0.3471656165393182, 0.3524000741524477, 0.34725963413141614, 0.3718044317959759, 0.360667967517468, 0.3557251395154095, 0.3722029782449783, 0.37265227246019483]}, 'TRPTRANS_3_mean_norm': {'mse_train_list': [12461.463016271591, 9327.404725551605, 9617.104521393776, 9268.591833114624, 9904.560640454292, 9322.053015232086, 8854.563960433006, 8788.888430595398, 8480.80005645752, 8226.281651854515, 8076.953659951687, 7678.461866080761, 6892.516948282719, 6348.155775666237, 5683.413264155388, 5102.76248306036, 4064.4277706742287, 3741.2643998861313, 3239.8665711283684, 2633.5545778274536, 2082.2483964264393], 'mse_test_list': [2524.8239248991013, 2411.4327639341354, 2432.9877257347107, 2369.6746349334717, 2936.2110406160355, 2448.0747550725937, 2353.8623690605164, 2469.754785299301, 2412.5748991966248, 2729.5516192913055, 2462.806051969528, 2600.2962172031403, 2639.993268251419, 2695.492497086525, 2716.4568811655045, 2839.9651288986206, 2803.6818236112595, 2676.570585370064, 2698.242288827896, 2726.3344198465347, 3108.057963848114], 'r_square_train_list': [-0.08670067561335393, 0.18660457413861575, 0.16134133149562402, 0.19173334672836628, 0.13627374846910723, 0.18707126951879016, 0.22783860727268468, 0.23356583549240517, 0.26043265232499424, 0.28262790515180647, 0.29565003822533875, 0.33040047652142546, 0.3989387269700917, 0.4464096903142496, 0.5043784966594205, 0.5550140917968027, 0.6455619698420569, 0.6737434002977232, 0.717467749401088, 0.7703411280639505, 0.8184177302266353], 'r_square_test_list': [0.13509505582274917, 0.17393838853099597, 0.16655451005574173, 0.18824307404830742, -0.005829919913376447, 0.16138628975388303, 0.1936597317396792, 0.1539595677761353, 0.17354713810529132, 0.06496343462587584, 0.1563399293345873, 0.10924122969316563, 0.09564258806817183, 0.07663074453162666, 0.06944917465551537, 0.027140127653233925, 0.03956935482612889, 0.08311264405557328, 0.07568877449992839, 0.06606552007379385, -0.06469788772662222]}}\n",
      "Stored 'performance_continuous' (dict)\n",
      "HHVEHCNT_mean_norm\n",
      "tensor(10700.4521)\n",
      "tensor(2549.4304)\n"
     ]
    },
    {
     "data": {
      "application/vnd.jupyter.widget-view+json": {
       "model_id": "f29b635e306948f9922cf8bf7b186e80",
       "version_major": 2,
       "version_minor": 0
      },
      "text/plain": [
       "HBox(children=(IntProgress(value=0, max=96), HTML(value='')))"
      ]
     },
     "metadata": {},
     "output_type": "display_data"
    },
    {
     "name": "stdout",
     "output_type": "stream",
     "text": [
      "\n",
      "Epoch 0: Training MSE 11864.913165569305; Testing MSE 2237.79656291008\n",
      "Epoch 0: Training R2 -0.10882353390102706; Testing R2 0.12223665905004177\n"
     ]
    },
    {
     "data": {
      "application/vnd.jupyter.widget-view+json": {
       "model_id": "c0e23742442a423fbfebb45901666a4f",
       "version_major": 2,
       "version_minor": 0
      },
      "text/plain": [
       "HBox(children=(IntProgress(value=0, max=96), HTML(value='')))"
      ]
     },
     "metadata": {},
     "output_type": "display_data"
    },
    {
     "name": "stdout",
     "output_type": "stream",
     "text": [
      "\n",
      "Epoch 1: Training MSE 9525.501376390457; Testing MSE 2234.9283814430237\n",
      "Epoch 1: Training R2 0.10980384340288007; Testing R2 0.12336168738760434\n"
     ]
    },
    {
     "data": {
      "application/vnd.jupyter.widget-view+json": {
       "model_id": "dd4f61d6f2994eefa46601351fc898c5",
       "version_major": 2,
       "version_minor": 0
      },
      "text/plain": [
       "HBox(children=(IntProgress(value=0, max=96), HTML(value='')))"
      ]
     },
     "metadata": {},
     "output_type": "display_data"
    },
    {
     "name": "stdout",
     "output_type": "stream",
     "text": [
      "\n",
      "Epoch 2: Training MSE 9367.49469935894; Testing MSE 2269.645929336548\n",
      "Epoch 2: Training R2 0.12457019858485141; Testing R2 0.10974392099467489\n"
     ]
    },
    {
     "data": {
      "application/vnd.jupyter.widget-view+json": {
       "model_id": "ce69084f104346bda653665da789c473",
       "version_major": 2,
       "version_minor": 0
      },
      "text/plain": [
       "HBox(children=(IntProgress(value=0, max=96), HTML(value='')))"
      ]
     },
     "metadata": {},
     "output_type": "display_data"
    },
    {
     "name": "stdout",
     "output_type": "stream",
     "text": [
      "\n",
      "Epoch 3: Training MSE 9366.35686159134; Testing MSE 2323.048597574234\n",
      "Epoch 3: Training R2 0.1246765340697279; Testing R2 0.08879701935720141\n"
     ]
    },
    {
     "data": {
      "application/vnd.jupyter.widget-view+json": {
       "model_id": "5a6c01dca99041cca0372cfb16ff834b",
       "version_major": 2,
       "version_minor": 0
      },
      "text/plain": [
       "HBox(children=(IntProgress(value=0, max=96), HTML(value='')))"
      ]
     },
     "metadata": {},
     "output_type": "display_data"
    },
    {
     "name": "stdout",
     "output_type": "stream",
     "text": [
      "\n",
      "Epoch 4: Training MSE 9298.717707395554; Testing MSE 2334.691834449768\n",
      "Epoch 4: Training R2 0.1309976832377714; Testing R2 0.08423002400618074\n"
     ]
    },
    {
     "data": {
      "application/vnd.jupyter.widget-view+json": {
       "model_id": "d0caa1bb1a7a426ca846a46c428e6a65",
       "version_major": 2,
       "version_minor": 0
      },
      "text/plain": [
       "HBox(children=(IntProgress(value=0, max=96), HTML(value='')))"
      ]
     },
     "metadata": {},
     "output_type": "display_data"
    },
    {
     "name": "stdout",
     "output_type": "stream",
     "text": [
      "\n",
      "Epoch 5: Training MSE 9170.300447940826; Testing MSE 2219.8149621486664\n",
      "Epoch 5: Training R2 0.14299878914183162; Testing R2 0.12928984262426324\n"
     ]
    },
    {
     "data": {
      "application/vnd.jupyter.widget-view+json": {
       "model_id": "4b0341686bb3491e9f3ddc014c1856b4",
       "version_major": 2,
       "version_minor": 0
      },
      "text/plain": [
       "HBox(children=(IntProgress(value=0, max=96), HTML(value='')))"
      ]
     },
     "metadata": {},
     "output_type": "display_data"
    },
    {
     "name": "stdout",
     "output_type": "stream",
     "text": [
      "\n",
      "Epoch 6: Training MSE 9123.222714662552; Testing MSE 2210.451817512512\n",
      "Epoch 6: Training R2 0.1473983913852891; Testing R2 0.13296248438886615\n"
     ]
    },
    {
     "data": {
      "application/vnd.jupyter.widget-view+json": {
       "model_id": "4b16fe6d99cd4307a72e5c9caa9581e0",
       "version_major": 2,
       "version_minor": 0
      },
      "text/plain": [
       "HBox(children=(IntProgress(value=0, max=96), HTML(value='')))"
      ]
     },
     "metadata": {},
     "output_type": "display_data"
    },
    {
     "name": "stdout",
     "output_type": "stream",
     "text": [
      "\n",
      "Epoch 7: Training MSE 9093.797519803047; Testing MSE 2196.477222442627\n",
      "Epoch 7: Training R2 0.15014829339422442; Testing R2 0.13844394211396593\n"
     ]
    },
    {
     "data": {
      "application/vnd.jupyter.widget-view+json": {
       "model_id": "f1d283e3d49543f4b591867cf7c2c06b",
       "version_major": 2,
       "version_minor": 0
      },
      "text/plain": [
       "HBox(children=(IntProgress(value=0, max=96), HTML(value='')))"
      ]
     },
     "metadata": {},
     "output_type": "display_data"
    },
    {
     "name": "stdout",
     "output_type": "stream",
     "text": [
      "\n",
      "Epoch 8: Training MSE 9001.711189746857; Testing MSE 2212.856638431549\n",
      "Epoch 8: Training R2 0.15875412880928552; Testing R2 0.132019206666813\n"
     ]
    },
    {
     "data": {
      "application/vnd.jupyter.widget-view+json": {
       "model_id": "6d691af9c9bf4d0a95f9147e1c5ee101",
       "version_major": 2,
       "version_minor": 0
      },
      "text/plain": [
       "HBox(children=(IntProgress(value=0, max=96), HTML(value='')))"
      ]
     },
     "metadata": {},
     "output_type": "display_data"
    },
    {
     "name": "stdout",
     "output_type": "stream",
     "text": [
      "\n",
      "Epoch 9: Training MSE 8855.008047819138; Testing MSE 2243.282848596573\n",
      "Epoch 9: Training R2 0.17246412347985107; Testing R2 0.12008469379395093\n"
     ]
    },
    {
     "data": {
      "application/vnd.jupyter.widget-view+json": {
       "model_id": "e7daef39a58a4aeb9584c530a58f1ca8",
       "version_major": 2,
       "version_minor": 0
      },
      "text/plain": [
       "HBox(children=(IntProgress(value=0, max=96), HTML(value='')))"
      ]
     },
     "metadata": {},
     "output_type": "display_data"
    },
    {
     "name": "stdout",
     "output_type": "stream",
     "text": [
      "\n",
      "Epoch 10: Training MSE 8564.586502313614; Testing MSE 2254.8877000808716\n",
      "Epoch 10: Training R2 0.19960517709859293; Testing R2 0.11553275490061399\n"
     ]
    },
    {
     "data": {
      "application/vnd.jupyter.widget-view+json": {
       "model_id": "020b49ec514a4aeea06de21d3791afec",
       "version_major": 2,
       "version_minor": 0
      },
      "text/plain": [
       "HBox(children=(IntProgress(value=0, max=96), HTML(value='')))"
      ]
     },
     "metadata": {},
     "output_type": "display_data"
    },
    {
     "name": "stdout",
     "output_type": "stream",
     "text": [
      "\n",
      "Epoch 11: Training MSE 8143.000993132591; Testing MSE 2421.2916135787964\n",
      "Epoch 11: Training R2 0.23900402710350444; Testing R2 0.050261738991490224\n"
     ]
    },
    {
     "data": {
      "application/vnd.jupyter.widget-view+json": {
       "model_id": "f6b4c922971f458e8903b57a94f4befe",
       "version_major": 2,
       "version_minor": 0
      },
      "text/plain": [
       "HBox(children=(IntProgress(value=0, max=96), HTML(value='')))"
      ]
     },
     "metadata": {},
     "output_type": "display_data"
    },
    {
     "name": "stdout",
     "output_type": "stream",
     "text": [
      "\n",
      "Epoch 12: Training MSE 7176.059594750404; Testing MSE 2359.1983437538147\n",
      "Epoch 12: Training R2 0.3293685635706276; Testing R2 0.07461748109755817\n"
     ]
    },
    {
     "data": {
      "application/vnd.jupyter.widget-view+json": {
       "model_id": "fbade00dd2554a85855e37517082ef71",
       "version_major": 2,
       "version_minor": 0
      },
      "text/plain": [
       "HBox(children=(IntProgress(value=0, max=96), HTML(value='')))"
      ]
     },
     "metadata": {},
     "output_type": "display_data"
    },
    {
     "name": "stdout",
     "output_type": "stream",
     "text": [
      "\n",
      "Epoch 13: Training MSE 6378.278011083603; Testing MSE 2412.7527594566345\n",
      "Epoch 13: Training R2 0.4039244395840814; Testing R2 0.05361105735508909\n"
     ]
    },
    {
     "data": {
      "application/vnd.jupyter.widget-view+json": {
       "model_id": "13ac1aac115f431a83dc9ef08a9b294f",
       "version_major": 2,
       "version_minor": 0
      },
      "text/plain": [
       "HBox(children=(IntProgress(value=0, max=96), HTML(value='')))"
      ]
     },
     "metadata": {},
     "output_type": "display_data"
    },
    {
     "name": "stdout",
     "output_type": "stream",
     "text": [
      "\n",
      "Epoch 14: Training MSE 4564.268854260445; Testing MSE 2503.7707209587097\n",
      "Epoch 14: Training R2 0.5734508419883053; Testing R2 0.01790976470915584\n"
     ]
    },
    {
     "data": {
      "application/vnd.jupyter.widget-view+json": {
       "model_id": "98a7b5b9749246bb98e201cf8f8e0ff1",
       "version_major": 2,
       "version_minor": 0
      },
      "text/plain": [
       "HBox(children=(IntProgress(value=0, max=96), HTML(value='')))"
      ]
     },
     "metadata": {},
     "output_type": "display_data"
    },
    {
     "name": "stdout",
     "output_type": "stream",
     "text": [
      "\n",
      "Epoch 15: Training MSE 2920.40776014328; Testing MSE 2639.0649676322937\n",
      "Epoch 15: Training R2 0.7270762282162326; Testing R2 -0.03515865622767822\n",
      "Printing performance_continuous\n",
      "{'HHVEHCNT_mean_norm': {'mse_train_list': [11864.913165569305, 9525.501376390457, 9367.49469935894, 9366.35686159134, 9298.717707395554, 9170.300447940826, 9123.222714662552, 9093.797519803047, 9001.711189746857, 8855.008047819138, 8564.586502313614, 8143.000993132591, 7176.059594750404, 6378.278011083603, 4564.268854260445, 2920.40776014328], 'mse_test_list': [2237.79656291008, 2234.9283814430237, 2269.645929336548, 2323.048597574234, 2334.691834449768, 2219.8149621486664, 2210.451817512512, 2196.477222442627, 2212.856638431549, 2243.282848596573, 2254.8877000808716, 2421.2916135787964, 2359.1983437538147, 2412.7527594566345, 2503.7707209587097, 2639.0649676322937], 'r_square_train_list': [-0.10882353390102706, 0.10980384340288007, 0.12457019858485141, 0.1246765340697279, 0.1309976832377714, 0.14299878914183162, 0.1473983913852891, 0.15014829339422442, 0.15875412880928552, 0.17246412347985107, 0.19960517709859293, 0.23900402710350444, 0.3293685635706276, 0.4039244395840814, 0.5734508419883053, 0.7270762282162326], 'r_square_test_list': [0.12223665905004177, 0.12336168738760434, 0.10974392099467489, 0.08879701935720141, 0.08423002400618074, 0.12928984262426324, 0.13296248438886615, 0.13844394211396593, 0.132019206666813, 0.12008469379395093, 0.11553275490061399, 0.050261738991490224, 0.07461748109755817, 0.05361105735508909, 0.01790976470915584, -0.03515865622767822]}}\n",
      "Stored 'performance_continuous' (dict)\n",
      "HHVEHCNT_P_CAP_mean_norm\n",
      "tensor(10708.8994)\n",
      "tensor(2445.9663)\n"
     ]
    },
    {
     "data": {
      "application/vnd.jupyter.widget-view+json": {
       "model_id": "05aabfe02a99436fa06dbcc97ca3276d",
       "version_major": 2,
       "version_minor": 0
      },
      "text/plain": [
       "HBox(children=(IntProgress(value=0, max=96), HTML(value='')))"
      ]
     },
     "metadata": {},
     "output_type": "display_data"
    },
    {
     "name": "stdout",
     "output_type": "stream",
     "text": [
      "\n",
      "Epoch 0: Training MSE 12760.436004400253; Testing MSE 2202.6474237442017\n",
      "Epoch 0: Training R2 -0.19157305629780752; Testing R2 0.09947761095263763\n"
     ]
    },
    {
     "data": {
      "application/vnd.jupyter.widget-view+json": {
       "model_id": "d199f6ddabee46a0b1e40df1bfc196a2",
       "version_major": 2,
       "version_minor": 0
      },
      "text/plain": [
       "HBox(children=(IntProgress(value=0, max=96), HTML(value='')))"
      ]
     },
     "metadata": {},
     "output_type": "display_data"
    },
    {
     "name": "stdout",
     "output_type": "stream",
     "text": [
      "\n",
      "Epoch 1: Training MSE 9824.599921703339; Testing MSE 2198.0917096138\n",
      "Epoch 1: Training R2 0.08257613207179204; Testing R2 0.10134015260515161\n"
     ]
    },
    {
     "data": {
      "application/vnd.jupyter.widget-view+json": {
       "model_id": "a24be8fd99c440439a03298e9c864c3b",
       "version_major": 2,
       "version_minor": 0
      },
      "text/plain": [
       "HBox(children=(IntProgress(value=0, max=96), HTML(value='')))"
      ]
     },
     "metadata": {},
     "output_type": "display_data"
    },
    {
     "name": "stdout",
     "output_type": "stream",
     "text": [
      "\n",
      "Epoch 2: Training MSE 9630.457592010498; Testing MSE 2165.9247159957886\n",
      "Epoch 2: Training R2 0.10070519671104905; Testing R2 0.11449118968403316\n"
     ]
    },
    {
     "data": {
      "application/vnd.jupyter.widget-view+json": {
       "model_id": "a2105f3067bd457db37beb02d75a7065",
       "version_major": 2,
       "version_minor": 0
      },
      "text/plain": [
       "HBox(children=(IntProgress(value=0, max=96), HTML(value='')))"
      ]
     },
     "metadata": {},
     "output_type": "display_data"
    },
    {
     "name": "stdout",
     "output_type": "stream",
     "text": [
      "\n",
      "Epoch 3: Training MSE 9520.020359754562; Testing MSE 2195.676502585411\n",
      "Epoch 3: Training R2 0.11101785611570403; Testing R2 0.10232757709252216\n"
     ]
    },
    {
     "data": {
      "application/vnd.jupyter.widget-view+json": {
       "model_id": "bc6b4372d6c4456dba9ad5c4b2e2b995",
       "version_major": 2,
       "version_minor": 0
      },
      "text/plain": [
       "HBox(children=(IntProgress(value=0, max=96), HTML(value='')))"
      ]
     },
     "metadata": {},
     "output_type": "display_data"
    },
    {
     "name": "stdout",
     "output_type": "stream",
     "text": [
      "\n",
      "Epoch 4: Training MSE 9542.309772968292; Testing MSE 2206.881672143936\n",
      "Epoch 4: Training R2 0.10893646452242223; Testing R2 0.09774649618427078\n"
     ]
    },
    {
     "data": {
      "application/vnd.jupyter.widget-view+json": {
       "model_id": "35b9724e07174f789f3ac2b9f791fab8",
       "version_major": 2,
       "version_minor": 0
      },
      "text/plain": [
       "HBox(children=(IntProgress(value=0, max=96), HTML(value='')))"
      ]
     },
     "metadata": {},
     "output_type": "display_data"
    },
    {
     "name": "stdout",
     "output_type": "stream",
     "text": [
      "\n",
      "Epoch 5: Training MSE 9508.344829082489; Testing MSE 2180.2167415618896\n",
      "Epoch 5: Training R2 0.11210812041090712; Testing R2 0.10864808975420714\n"
     ]
    },
    {
     "data": {
      "application/vnd.jupyter.widget-view+json": {
       "model_id": "9d4feebe608d459e87dd38ea6d7defb6",
       "version_major": 2,
       "version_minor": 0
      },
      "text/plain": [
       "HBox(children=(IntProgress(value=0, max=96), HTML(value='')))"
      ]
     },
     "metadata": {},
     "output_type": "display_data"
    },
    {
     "name": "stdout",
     "output_type": "stream",
     "text": [
      "\n",
      "Epoch 6: Training MSE 9419.629722833633; Testing MSE 2219.5713341236115\n",
      "Epoch 6: Training R2 0.12039236165911216; Testing R2 0.09255850077522076\n"
     ]
    },
    {
     "data": {
      "application/vnd.jupyter.widget-view+json": {
       "model_id": "6e32c1e37b134594939e3de25b91e532",
       "version_major": 2,
       "version_minor": 0
      },
      "text/plain": [
       "HBox(children=(IntProgress(value=0, max=96), HTML(value='')))"
      ]
     },
     "metadata": {},
     "output_type": "display_data"
    },
    {
     "name": "stdout",
     "output_type": "stream",
     "text": [
      "\n",
      "Epoch 7: Training MSE 9334.135860204697; Testing MSE 2202.689528465271\n",
      "Epoch 7: Training R2 0.12837580228389467; Testing R2 0.09946039701108766\n"
     ]
    },
    {
     "data": {
      "application/vnd.jupyter.widget-view+json": {
       "model_id": "a0617efc31b14b819b542af2a07ce7e8",
       "version_major": 2,
       "version_minor": 0
      },
      "text/plain": [
       "HBox(children=(IntProgress(value=0, max=96), HTML(value='')))"
      ]
     },
     "metadata": {},
     "output_type": "display_data"
    },
    {
     "name": "stdout",
     "output_type": "stream",
     "text": [
      "\n",
      "Epoch 8: Training MSE 9401.708686351776; Testing MSE 2234.733772277832\n",
      "Epoch 8: Training R2 0.12206583302054108; Testing R2 0.08635954451774974\n"
     ]
    },
    {
     "data": {
      "application/vnd.jupyter.widget-view+json": {
       "model_id": "5a5799635956494d8c0f38331baac26e",
       "version_major": 2,
       "version_minor": 0
      },
      "text/plain": [
       "HBox(children=(IntProgress(value=0, max=96), HTML(value='')))"
      ]
     },
     "metadata": {},
     "output_type": "display_data"
    },
    {
     "name": "stdout",
     "output_type": "stream",
     "text": [
      "\n",
      "Epoch 9: Training MSE 9344.430583715439; Testing MSE 2210.0933969020844\n",
      "Epoch 9: Training R2 0.12741447814471907; Testing R2 0.09643342627530926\n"
     ]
    },
    {
     "data": {
      "application/vnd.jupyter.widget-view+json": {
       "model_id": "a948985b86ea441b8f28750f41729373",
       "version_major": 2,
       "version_minor": 0
      },
      "text/plain": [
       "HBox(children=(IntProgress(value=0, max=96), HTML(value='')))"
      ]
     },
     "metadata": {},
     "output_type": "display_data"
    },
    {
     "name": "stdout",
     "output_type": "stream",
     "text": [
      "\n",
      "Epoch 10: Training MSE 8897.81464934349; Testing MSE 2320.5089271068573\n",
      "Epoch 10: Training R2 0.16911959807380061; Testing R2 0.05129154111653378\n"
     ]
    },
    {
     "data": {
      "application/vnd.jupyter.widget-view+json": {
       "model_id": "796db91ee2da43b98bb7799011b81591",
       "version_major": 2,
       "version_minor": 0
      },
      "text/plain": [
       "HBox(children=(IntProgress(value=0, max=96), HTML(value='')))"
      ]
     },
     "metadata": {},
     "output_type": "display_data"
    },
    {
     "name": "stdout",
     "output_type": "stream",
     "text": [
      "\n",
      "Epoch 11: Training MSE 8802.618703246117; Testing MSE 2282.939863204956\n",
      "Epoch 11: Training R2 0.1780090219460957; Testing R2 0.06665114103003411\n"
     ]
    },
    {
     "data": {
      "application/vnd.jupyter.widget-view+json": {
       "model_id": "c5406f1b3a6743b0be05b3c76c6a1a20",
       "version_major": 2,
       "version_minor": 0
      },
      "text/plain": [
       "HBox(children=(IntProgress(value=0, max=96), HTML(value='')))"
      ]
     },
     "metadata": {},
     "output_type": "display_data"
    },
    {
     "name": "stdout",
     "output_type": "stream",
     "text": [
      "\n",
      "Epoch 12: Training MSE 8219.216760993004; Testing MSE 2432.779175043106\n",
      "Epoch 12: Training R2 0.2324872572619502; Testing R2 0.005391379882998315\n"
     ]
    },
    {
     "data": {
      "application/vnd.jupyter.widget-view+json": {
       "model_id": "26a8bfd8671f4bc9a95a36b976fc12e8",
       "version_major": 2,
       "version_minor": 0
      },
      "text/plain": [
       "HBox(children=(IntProgress(value=0, max=96), HTML(value='')))"
      ]
     },
     "metadata": {},
     "output_type": "display_data"
    },
    {
     "name": "stdout",
     "output_type": "stream",
     "text": [
      "\n",
      "Epoch 13: Training MSE 7660.678657889366; Testing MSE 2361.4377081394196\n",
      "Epoch 13: Training R2 0.2846437003760005; Testing R2 0.034558366628904325\n"
     ]
    },
    {
     "data": {
      "application/vnd.jupyter.widget-view+json": {
       "model_id": "191c46b0d59d4120b1249e93631a3dbd",
       "version_major": 2,
       "version_minor": 0
      },
      "text/plain": [
       "HBox(children=(IntProgress(value=0, max=96), HTML(value='')))"
      ]
     },
     "metadata": {},
     "output_type": "display_data"
    },
    {
     "name": "stdout",
     "output_type": "stream",
     "text": [
      "\n",
      "Epoch 14: Training MSE 6591.738510131836; Testing MSE 2558.348274230957\n",
      "Epoch 14: Training R2 0.3844616281038341; Testing R2 -0.045945835493465204\n",
      "Printing performance_continuous\n",
      "{'HHVEHCNT_mean_norm': {'mse_train_list': [11864.913165569305, 9525.501376390457, 9367.49469935894, 9366.35686159134, 9298.717707395554, 9170.300447940826, 9123.222714662552, 9093.797519803047, 9001.711189746857, 8855.008047819138, 8564.586502313614, 8143.000993132591, 7176.059594750404, 6378.278011083603, 4564.268854260445, 2920.40776014328], 'mse_test_list': [2237.79656291008, 2234.9283814430237, 2269.645929336548, 2323.048597574234, 2334.691834449768, 2219.8149621486664, 2210.451817512512, 2196.477222442627, 2212.856638431549, 2243.282848596573, 2254.8877000808716, 2421.2916135787964, 2359.1983437538147, 2412.7527594566345, 2503.7707209587097, 2639.0649676322937], 'r_square_train_list': [-0.10882353390102706, 0.10980384340288007, 0.12457019858485141, 0.1246765340697279, 0.1309976832377714, 0.14299878914183162, 0.1473983913852891, 0.15014829339422442, 0.15875412880928552, 0.17246412347985107, 0.19960517709859293, 0.23900402710350444, 0.3293685635706276, 0.4039244395840814, 0.5734508419883053, 0.7270762282162326], 'r_square_test_list': [0.12223665905004177, 0.12336168738760434, 0.10974392099467489, 0.08879701935720141, 0.08423002400618074, 0.12928984262426324, 0.13296248438886615, 0.13844394211396593, 0.132019206666813, 0.12008469379395093, 0.11553275490061399, 0.050261738991490224, 0.07461748109755817, 0.05361105735508909, 0.01790976470915584, -0.03515865622767822]}, 'HHVEHCNT_P_CAP_mean_norm': {'mse_train_list': [12760.436004400253, 9824.599921703339, 9630.457592010498, 9520.020359754562, 9542.309772968292, 9508.344829082489, 9419.629722833633, 9334.135860204697, 9401.708686351776, 9344.430583715439, 8897.81464934349, 8802.618703246117, 8219.216760993004, 7660.678657889366, 6591.738510131836], 'mse_test_list': [2202.6474237442017, 2198.0917096138, 2165.9247159957886, 2195.676502585411, 2206.881672143936, 2180.2167415618896, 2219.5713341236115, 2202.689528465271, 2234.733772277832, 2210.0933969020844, 2320.5089271068573, 2282.939863204956, 2432.779175043106, 2361.4377081394196, 2558.348274230957], 'r_square_train_list': [-0.19157305629780752, 0.08257613207179204, 0.10070519671104905, 0.11101785611570403, 0.10893646452242223, 0.11210812041090712, 0.12039236165911216, 0.12837580228389467, 0.12206583302054108, 0.12741447814471907, 0.16911959807380061, 0.1780090219460957, 0.2324872572619502, 0.2846437003760005, 0.3844616281038341], 'r_square_test_list': [0.09947761095263763, 0.10134015260515161, 0.11449118968403316, 0.10232757709252216, 0.09774649618427078, 0.10864808975420714, 0.09255850077522076, 0.09946039701108766, 0.08635954451774974, 0.09643342627530926, 0.05129154111653378, 0.06665114103003411, 0.005391379882998315, 0.034558366628904325, -0.045945835493465204]}}\n",
      "Stored 'performance_continuous' (dict)\n",
      "TRPTRANS_1_mean_norm\n",
      "tensor(11639.5127)\n",
      "tensor(3039.0168)\n"
     ]
    },
    {
     "data": {
      "application/vnd.jupyter.widget-view+json": {
       "model_id": "99e2b5ba63854a1a8a8601c48ece7c89",
       "version_major": 2,
       "version_minor": 0
      },
      "text/plain": [
       "HBox(children=(IntProgress(value=0, max=96), HTML(value='')))"
      ]
     },
     "metadata": {},
     "output_type": "display_data"
    },
    {
     "name": "stdout",
     "output_type": "stream",
     "text": [
      "\n",
      "Epoch 0: Training MSE 12141.083237528801; Testing MSE 2290.6496345996857\n",
      "Epoch 0: Training R2 -0.043092056802197076; Testing R2 0.24625306442824035\n"
     ]
    },
    {
     "data": {
      "application/vnd.jupyter.widget-view+json": {
       "model_id": "055d17095aca4feb8e9e00402cd7c707",
       "version_major": 2,
       "version_minor": 0
      },
      "text/plain": [
       "HBox(children=(IntProgress(value=0, max=96), HTML(value='')))"
      ]
     },
     "metadata": {},
     "output_type": "display_data"
    },
    {
     "name": "stdout",
     "output_type": "stream",
     "text": [
      "\n",
      "Epoch 1: Training MSE 9035.33582687378; Testing MSE 2336.2269818782806\n",
      "Epoch 1: Training R2 0.2237359017175593; Testing R2 0.2312556657323308\n"
     ]
    },
    {
     "data": {
      "application/vnd.jupyter.widget-view+json": {
       "model_id": "99042b3aff984d45ba2ea8a3a753a94b",
       "version_major": 2,
       "version_minor": 0
      },
      "text/plain": [
       "HBox(children=(IntProgress(value=0, max=96), HTML(value='')))"
      ]
     },
     "metadata": {},
     "output_type": "display_data"
    },
    {
     "name": "stdout",
     "output_type": "stream",
     "text": [
      "\n",
      "Epoch 2: Training MSE 9137.25562095642; Testing MSE 2214.9611234664917\n",
      "Epoch 2: Training R2 0.21497953908017087; Testing R2 0.27115865560329755\n"
     ]
    },
    {
     "data": {
      "application/vnd.jupyter.widget-view+json": {
       "model_id": "b7f7a91c750343f7ae1b111a94079453",
       "version_major": 2,
       "version_minor": 0
      },
      "text/plain": [
       "HBox(children=(IntProgress(value=0, max=96), HTML(value='')))"
      ]
     },
     "metadata": {},
     "output_type": "display_data"
    },
    {
     "name": "stdout",
     "output_type": "stream",
     "text": [
      "\n",
      "Epoch 3: Training MSE 8834.881055355072; Testing MSE 2133.7208807468414\n",
      "Epoch 3: Training R2 0.24095782300979984; Testing R2 0.2978910650779327\n"
     ]
    },
    {
     "data": {
      "application/vnd.jupyter.widget-view+json": {
       "model_id": "ae7281da7a4843a188e0d5a4fe93027a",
       "version_major": 2,
       "version_minor": 0
      },
      "text/plain": [
       "HBox(children=(IntProgress(value=0, max=96), HTML(value='')))"
      ]
     },
     "metadata": {},
     "output_type": "display_data"
    },
    {
     "name": "stdout",
     "output_type": "stream",
     "text": [
      "\n",
      "Epoch 4: Training MSE 8773.719084262848; Testing MSE 2087.7532184123993\n",
      "Epoch 4: Training R2 0.24621250786588111; Testing R2 0.3130168984208561\n"
     ]
    },
    {
     "data": {
      "application/vnd.jupyter.widget-view+json": {
       "model_id": "901d85207f7746a3be1887519f033684",
       "version_major": 2,
       "version_minor": 0
      },
      "text/plain": [
       "HBox(children=(IntProgress(value=0, max=96), HTML(value='')))"
      ]
     },
     "metadata": {},
     "output_type": "display_data"
    },
    {
     "name": "stdout",
     "output_type": "stream",
     "text": [
      "\n",
      "Epoch 5: Training MSE 8925.029781460762; Testing MSE 2100.7145643234253\n",
      "Epoch 5: Training R2 0.23321276284572656; Testing R2 0.3087519184720441\n"
     ]
    },
    {
     "data": {
      "application/vnd.jupyter.widget-view+json": {
       "model_id": "c39313c94fcf4aaaaf4d9d2ba17d9756",
       "version_major": 2,
       "version_minor": 0
      },
      "text/plain": [
       "HBox(children=(IntProgress(value=0, max=96), HTML(value='')))"
      ]
     },
     "metadata": {},
     "output_type": "display_data"
    },
    {
     "name": "stdout",
     "output_type": "stream",
     "text": [
      "\n",
      "Epoch 6: Training MSE 8525.386682152748; Testing MSE 2103.8426965475082\n",
      "Epoch 6: Training R2 0.26754779986741906; Testing R2 0.30772259471936203\n"
     ]
    },
    {
     "data": {
      "application/vnd.jupyter.widget-view+json": {
       "model_id": "8761a19177824df79eb7fe4794bb7e07",
       "version_major": 2,
       "version_minor": 0
      },
      "text/plain": [
       "HBox(children=(IntProgress(value=0, max=96), HTML(value='')))"
      ]
     },
     "metadata": {},
     "output_type": "display_data"
    },
    {
     "name": "stdout",
     "output_type": "stream",
     "text": [
      "\n",
      "Epoch 7: Training MSE 8427.037093043327; Testing MSE 2093.6946660280228\n",
      "Epoch 7: Training R2 0.2759974310232859; Testing R2 0.31106184258626146\n"
     ]
    },
    {
     "data": {
      "application/vnd.jupyter.widget-view+json": {
       "model_id": "aa784c2ba6814abfaddde3492e861b8f",
       "version_major": 2,
       "version_minor": 0
      },
      "text/plain": [
       "HBox(children=(IntProgress(value=0, max=96), HTML(value='')))"
      ]
     },
     "metadata": {},
     "output_type": "display_data"
    },
    {
     "name": "stdout",
     "output_type": "stream",
     "text": [
      "\n",
      "Epoch 8: Training MSE 8332.129111886024; Testing MSE 2106.5198063850403\n",
      "Epoch 8: Training R2 0.28415137901421206; Testing R2 0.306841681590724\n"
     ]
    },
    {
     "data": {
      "application/vnd.jupyter.widget-view+json": {
       "model_id": "748eb37137f341648c8ab235f836c57b",
       "version_major": 2,
       "version_minor": 0
      },
      "text/plain": [
       "HBox(children=(IntProgress(value=0, max=96), HTML(value='')))"
      ]
     },
     "metadata": {},
     "output_type": "display_data"
    },
    {
     "name": "stdout",
     "output_type": "stream",
     "text": [
      "\n",
      "Epoch 9: Training MSE 8295.78527212143; Testing MSE 2082.366317510605\n",
      "Epoch 9: Training R2 0.2872738327385189; Testing R2 0.3147894785595319\n"
     ]
    },
    {
     "data": {
      "application/vnd.jupyter.widget-view+json": {
       "model_id": "5ae78086a1fa4b459e076126d1347552",
       "version_major": 2,
       "version_minor": 0
      },
      "text/plain": [
       "HBox(children=(IntProgress(value=0, max=96), HTML(value='')))"
      ]
     },
     "metadata": {},
     "output_type": "display_data"
    },
    {
     "name": "stdout",
     "output_type": "stream",
     "text": [
      "\n",
      "Epoch 10: Training MSE 8080.269539356232; Testing MSE 2120.770552754402\n",
      "Epoch 10: Training R2 0.3057897052158942; Testing R2 0.3021524195389157\n"
     ]
    },
    {
     "data": {
      "application/vnd.jupyter.widget-view+json": {
       "model_id": "ae6b820489074e05821dd57de2124e2e",
       "version_major": 2,
       "version_minor": 0
      },
      "text/plain": [
       "HBox(children=(IntProgress(value=0, max=96), HTML(value='')))"
      ]
     },
     "metadata": {},
     "output_type": "display_data"
    },
    {
     "name": "stdout",
     "output_type": "stream",
     "text": [
      "\n",
      "Epoch 11: Training MSE 7626.181542873383; Testing MSE 2197.6871132850647\n",
      "Epoch 11: Training R2 0.34480233472792876; Testing R2 0.27684273405974\n"
     ]
    },
    {
     "data": {
      "application/vnd.jupyter.widget-view+json": {
       "model_id": "7271e1d8a53540a1a17e4db55739c9e9",
       "version_major": 2,
       "version_minor": 0
      },
      "text/plain": [
       "HBox(children=(IntProgress(value=0, max=96), HTML(value='')))"
      ]
     },
     "metadata": {},
     "output_type": "display_data"
    },
    {
     "name": "stdout",
     "output_type": "stream",
     "text": [
      "\n",
      "Epoch 12: Training MSE 6746.285361051559; Testing MSE 2259.9085986614227\n",
      "Epoch 12: Training R2 0.4203979549961362; Testing R2 0.2563685187014628\n"
     ]
    },
    {
     "data": {
      "application/vnd.jupyter.widget-view+json": {
       "model_id": "57bf03f935a048379d03b27ab8b8796f",
       "version_major": 2,
       "version_minor": 0
      },
      "text/plain": [
       "HBox(children=(IntProgress(value=0, max=96), HTML(value='')))"
      ]
     },
     "metadata": {},
     "output_type": "display_data"
    },
    {
     "name": "stdout",
     "output_type": "stream",
     "text": [
      "\n",
      "Epoch 13: Training MSE 6018.201771378517; Testing MSE 2335.202831029892\n",
      "Epoch 13: Training R2 0.48295071031606107; Testing R2 0.23159266644683385\n"
     ]
    },
    {
     "data": {
      "application/vnd.jupyter.widget-view+json": {
       "model_id": "1ccaab9ebad34edba8ce5865630ef23d",
       "version_major": 2,
       "version_minor": 0
      },
      "text/plain": [
       "HBox(children=(IntProgress(value=0, max=96), HTML(value='')))"
      ]
     },
     "metadata": {},
     "output_type": "display_data"
    },
    {
     "name": "stdout",
     "output_type": "stream",
     "text": [
      "\n",
      "Epoch 14: Training MSE 5161.077645421028; Testing MSE 2572.1055269241333\n",
      "Epoch 14: Training R2 0.5565898864907366; Testing R2 0.15363893735540135\n"
     ]
    },
    {
     "data": {
      "application/vnd.jupyter.widget-view+json": {
       "model_id": "ed19db39ad7741e38d93bf6c0ba9f540",
       "version_major": 2,
       "version_minor": 0
      },
      "text/plain": [
       "HBox(children=(IntProgress(value=0, max=96), HTML(value='')))"
      ]
     },
     "metadata": {},
     "output_type": "display_data"
    },
    {
     "name": "stdout",
     "output_type": "stream",
     "text": [
      "\n",
      "Epoch 15: Training MSE 4839.238674938679; Testing MSE 2879.292231798172\n",
      "Epoch 15: Training R2 0.5842404401614208; Testing R2 0.052557988986072335\n"
     ]
    },
    {
     "data": {
      "application/vnd.jupyter.widget-view+json": {
       "model_id": "3fbc001fde084b9fa7635cf29de2ce3a",
       "version_major": 2,
       "version_minor": 0
      },
      "text/plain": [
       "HBox(children=(IntProgress(value=0, max=96), HTML(value='')))"
      ]
     },
     "metadata": {},
     "output_type": "display_data"
    },
    {
     "name": "stdout",
     "output_type": "stream",
     "text": [
      "\n",
      "Epoch 16: Training MSE 3987.6981630921364; Testing MSE 2743.178653717041\n",
      "Epoch 16: Training R2 0.6573999043191838; Testing R2 0.09734667723358315\n"
     ]
    },
    {
     "data": {
      "application/vnd.jupyter.widget-view+json": {
       "model_id": "1a8b8017e1a94434b1e7c94db7985699",
       "version_major": 2,
       "version_minor": 0
      },
      "text/plain": [
       "HBox(children=(IntProgress(value=0, max=96), HTML(value='')))"
      ]
     },
     "metadata": {},
     "output_type": "display_data"
    },
    {
     "name": "stdout",
     "output_type": "stream",
     "text": [
      "\n",
      "Epoch 17: Training MSE 3039.4254997372627; Testing MSE 2544.0568268299103\n",
      "Epoch 17: Training R2 0.7388700386948923; Testing R2 0.16286846832489266\n"
     ]
    },
    {
     "data": {
      "application/vnd.jupyter.widget-view+json": {
       "model_id": "6afdd3b4477b49b69bbf561ce6f8a6b2",
       "version_major": 2,
       "version_minor": 0
      },
      "text/plain": [
       "HBox(children=(IntProgress(value=0, max=96), HTML(value='')))"
      ]
     },
     "metadata": {},
     "output_type": "display_data"
    },
    {
     "name": "stdout",
     "output_type": "stream",
     "text": [
      "\n",
      "Epoch 18: Training MSE 2558.8708579540253; Testing MSE 2663.2748186588287\n",
      "Epoch 18: Training R2 0.7801565301797779; Testing R2 0.12363933670705352\n"
     ]
    },
    {
     "data": {
      "application/vnd.jupyter.widget-view+json": {
       "model_id": "33a91485055649b09afb7480abe339f5",
       "version_major": 2,
       "version_minor": 0
      },
      "text/plain": [
       "HBox(children=(IntProgress(value=0, max=96), HTML(value='')))"
      ]
     },
     "metadata": {},
     "output_type": "display_data"
    },
    {
     "name": "stdout",
     "output_type": "stream",
     "text": [
      "\n",
      "Epoch 19: Training MSE 2139.878575503826; Testing MSE 2649.719899892807\n",
      "Epoch 19: Training R2 0.8161539377532872; Testing R2 0.12809963405130387\n"
     ]
    },
    {
     "data": {
      "application/vnd.jupyter.widget-view+json": {
       "model_id": "ab84da0245054e71bf18863ed84187f1",
       "version_major": 2,
       "version_minor": 0
      },
      "text/plain": [
       "HBox(children=(IntProgress(value=0, max=96), HTML(value='')))"
      ]
     },
     "metadata": {},
     "output_type": "display_data"
    },
    {
     "name": "stdout",
     "output_type": "stream",
     "text": [
      "\n",
      "Epoch 20: Training MSE 1684.2904105782509; Testing MSE 2526.799041032791\n",
      "Epoch 20: Training R2 0.8552954531114904; Testing R2 0.1685472080862468\n"
     ]
    },
    {
     "data": {
      "application/vnd.jupyter.widget-view+json": {
       "model_id": "f796c9a5b2444c7d971bdc62905a8204",
       "version_major": 2,
       "version_minor": 0
      },
      "text/plain": [
       "HBox(children=(IntProgress(value=0, max=96), HTML(value='')))"
      ]
     },
     "metadata": {},
     "output_type": "display_data"
    },
    {
     "name": "stdout",
     "output_type": "stream",
     "text": [
      "\n",
      "Epoch 21: Training MSE 1443.637304753065; Testing MSE 2567.759871482849\n",
      "Epoch 21: Training R2 0.8759709841345462; Testing R2 0.15506889173272842\n"
     ]
    },
    {
     "data": {
      "application/vnd.jupyter.widget-view+json": {
       "model_id": "8f2066b0caa94dfca66b2c20920db97a",
       "version_major": 2,
       "version_minor": 0
      },
      "text/plain": [
       "HBox(children=(IntProgress(value=0, max=96), HTML(value='')))"
      ]
     },
     "metadata": {},
     "output_type": "display_data"
    },
    {
     "name": "stdout",
     "output_type": "stream",
     "text": [
      "\n",
      "Epoch 22: Training MSE 1239.0142895281315; Testing MSE 2592.596399784088\n",
      "Epoch 22: Training R2 0.8935510169573413; Testing R2 0.14689633805427305\n"
     ]
    },
    {
     "data": {
      "application/vnd.jupyter.widget-view+json": {
       "model_id": "a93292bb07db444d8c59e5f5483835e3",
       "version_major": 2,
       "version_minor": 0
      },
      "text/plain": [
       "HBox(children=(IntProgress(value=0, max=96), HTML(value='')))"
      ]
     },
     "metadata": {},
     "output_type": "display_data"
    },
    {
     "name": "stdout",
     "output_type": "stream",
     "text": [
      "\n",
      "Epoch 23: Training MSE 1054.5334056019783; Testing MSE 2563.119977712631\n",
      "Epoch 23: Training R2 0.9094005536824009; Testing R2 0.15659566634629407\n"
     ]
    },
    {
     "data": {
      "application/vnd.jupyter.widget-view+json": {
       "model_id": "4c4881b0ac024a3184e634f379aa806b",
       "version_major": 2,
       "version_minor": 0
      },
      "text/plain": [
       "HBox(children=(IntProgress(value=0, max=96), HTML(value='')))"
      ]
     },
     "metadata": {},
     "output_type": "display_data"
    },
    {
     "name": "stdout",
     "output_type": "stream",
     "text": [
      "\n",
      "Epoch 24: Training MSE 856.8879321217537; Testing MSE 2518.2615280151367\n",
      "Epoch 24: Training R2 0.9263811162415037; Testing R2 0.17135650907111155\n",
      "Printing performance_continuous\n",
      "{'HHVEHCNT_mean_norm': {'mse_train_list': [11864.913165569305, 9525.501376390457, 9367.49469935894, 9366.35686159134, 9298.717707395554, 9170.300447940826, 9123.222714662552, 9093.797519803047, 9001.711189746857, 8855.008047819138, 8564.586502313614, 8143.000993132591, 7176.059594750404, 6378.278011083603, 4564.268854260445, 2920.40776014328], 'mse_test_list': [2237.79656291008, 2234.9283814430237, 2269.645929336548, 2323.048597574234, 2334.691834449768, 2219.8149621486664, 2210.451817512512, 2196.477222442627, 2212.856638431549, 2243.282848596573, 2254.8877000808716, 2421.2916135787964, 2359.1983437538147, 2412.7527594566345, 2503.7707209587097, 2639.0649676322937], 'r_square_train_list': [-0.10882353390102706, 0.10980384340288007, 0.12457019858485141, 0.1246765340697279, 0.1309976832377714, 0.14299878914183162, 0.1473983913852891, 0.15014829339422442, 0.15875412880928552, 0.17246412347985107, 0.19960517709859293, 0.23900402710350444, 0.3293685635706276, 0.4039244395840814, 0.5734508419883053, 0.7270762282162326], 'r_square_test_list': [0.12223665905004177, 0.12336168738760434, 0.10974392099467489, 0.08879701935720141, 0.08423002400618074, 0.12928984262426324, 0.13296248438886615, 0.13844394211396593, 0.132019206666813, 0.12008469379395093, 0.11553275490061399, 0.050261738991490224, 0.07461748109755817, 0.05361105735508909, 0.01790976470915584, -0.03515865622767822]}, 'HHVEHCNT_P_CAP_mean_norm': {'mse_train_list': [12760.436004400253, 9824.599921703339, 9630.457592010498, 9520.020359754562, 9542.309772968292, 9508.344829082489, 9419.629722833633, 9334.135860204697, 9401.708686351776, 9344.430583715439, 8897.81464934349, 8802.618703246117, 8219.216760993004, 7660.678657889366, 6591.738510131836], 'mse_test_list': [2202.6474237442017, 2198.0917096138, 2165.9247159957886, 2195.676502585411, 2206.881672143936, 2180.2167415618896, 2219.5713341236115, 2202.689528465271, 2234.733772277832, 2210.0933969020844, 2320.5089271068573, 2282.939863204956, 2432.779175043106, 2361.4377081394196, 2558.348274230957], 'r_square_train_list': [-0.19157305629780752, 0.08257613207179204, 0.10070519671104905, 0.11101785611570403, 0.10893646452242223, 0.11210812041090712, 0.12039236165911216, 0.12837580228389467, 0.12206583302054108, 0.12741447814471907, 0.16911959807380061, 0.1780090219460957, 0.2324872572619502, 0.2846437003760005, 0.3844616281038341], 'r_square_test_list': [0.09947761095263763, 0.10134015260515161, 0.11449118968403316, 0.10232757709252216, 0.09774649618427078, 0.10864808975420714, 0.09255850077522076, 0.09946039701108766, 0.08635954451774974, 0.09643342627530926, 0.05129154111653378, 0.06665114103003411, 0.005391379882998315, 0.034558366628904325, -0.045945835493465204]}, 'TRPTRANS_1_mean_norm': {'mse_train_list': [12141.083237528801, 9035.33582687378, 9137.25562095642, 8834.881055355072, 8773.719084262848, 8925.029781460762, 8525.386682152748, 8427.037093043327, 8332.129111886024, 8295.78527212143, 8080.269539356232, 7626.181542873383, 6746.285361051559, 6018.201771378517, 5161.077645421028, 4839.238674938679, 3987.6981630921364, 3039.4254997372627, 2558.8708579540253, 2139.878575503826, 1684.2904105782509, 1443.637304753065, 1239.0142895281315, 1054.5334056019783, 856.8879321217537], 'mse_test_list': [2290.6496345996857, 2336.2269818782806, 2214.9611234664917, 2133.7208807468414, 2087.7532184123993, 2100.7145643234253, 2103.8426965475082, 2093.6946660280228, 2106.5198063850403, 2082.366317510605, 2120.770552754402, 2197.6871132850647, 2259.9085986614227, 2335.202831029892, 2572.1055269241333, 2879.292231798172, 2743.178653717041, 2544.0568268299103, 2663.2748186588287, 2649.719899892807, 2526.799041032791, 2567.759871482849, 2592.596399784088, 2563.119977712631, 2518.2615280151367], 'r_square_train_list': [-0.043092056802197076, 0.2237359017175593, 0.21497953908017087, 0.24095782300979984, 0.24621250786588111, 0.23321276284572656, 0.26754779986741906, 0.2759974310232859, 0.28415137901421206, 0.2872738327385189, 0.3057897052158942, 0.34480233472792876, 0.4203979549961362, 0.48295071031606107, 0.5565898864907366, 0.5842404401614208, 0.6573999043191838, 0.7388700386948923, 0.7801565301797779, 0.8161539377532872, 0.8552954531114904, 0.8759709841345462, 0.8935510169573413, 0.9094005536824009, 0.9263811162415037], 'r_square_test_list': [0.24625306442824035, 0.2312556657323308, 0.27115865560329755, 0.2978910650779327, 0.3130168984208561, 0.3087519184720441, 0.30772259471936203, 0.31106184258626146, 0.306841681590724, 0.3147894785595319, 0.3021524195389157, 0.27684273405974, 0.2563685187014628, 0.23159266644683385, 0.15363893735540135, 0.052557988986072335, 0.09734667723358315, 0.16286846832489266, 0.12363933670705352, 0.12809963405130387, 0.1685472080862468, 0.15506889173272842, 0.14689633805427305, 0.15659566634629407, 0.17135650907111155]}}\n",
      "Stored 'performance_continuous' (dict)\n",
      "TRPTRANS_2_mean_norm\n",
      "tensor(11690.4609)\n",
      "tensor(2961.9233)\n"
     ]
    },
    {
     "data": {
      "application/vnd.jupyter.widget-view+json": {
       "model_id": "19bb10c10d1a4d9c8887b9eca121d2da",
       "version_major": 2,
       "version_minor": 0
      },
      "text/plain": [
       "HBox(children=(IntProgress(value=0, max=96), HTML(value='')))"
      ]
     },
     "metadata": {},
     "output_type": "display_data"
    },
    {
     "name": "stdout",
     "output_type": "stream",
     "text": [
      "\n",
      "Epoch 0: Training MSE 11235.901886224747; Testing MSE 1908.4068953990936\n",
      "Epoch 0: Training R2 0.03888290236847247; Testing R2 0.35568660075457337\n"
     ]
    },
    {
     "data": {
      "application/vnd.jupyter.widget-view+json": {
       "model_id": "5adceb24c3e54a518b2e0b8d9ec7708f",
       "version_major": 2,
       "version_minor": 0
      },
      "text/plain": [
       "HBox(children=(IntProgress(value=0, max=96), HTML(value='')))"
      ]
     },
     "metadata": {},
     "output_type": "display_data"
    },
    {
     "name": "stdout",
     "output_type": "stream",
     "text": [
      "\n",
      "Epoch 1: Training MSE 8305.71317076683; Testing MSE 1822.3247021436691\n",
      "Epoch 1: Training R2 0.2895307366261126; Testing R2 0.3847495383726569\n"
     ]
    },
    {
     "data": {
      "application/vnd.jupyter.widget-view+json": {
       "model_id": "b306ea05ac0e44e8bd75f4c6ce1af5bf",
       "version_major": 2,
       "version_minor": 0
      },
      "text/plain": [
       "HBox(children=(IntProgress(value=0, max=96), HTML(value='')))"
      ]
     },
     "metadata": {},
     "output_type": "display_data"
    },
    {
     "name": "stdout",
     "output_type": "stream",
     "text": [
      "\n",
      "Epoch 2: Training MSE 7890.285620093346; Testing MSE 1773.9283174276352\n",
      "Epoch 2: Training R2 0.32506633722342515; Testing R2 0.40108905130501626\n"
     ]
    },
    {
     "data": {
      "application/vnd.jupyter.widget-view+json": {
       "model_id": "688e30fe7f194e3195c820737c56122b",
       "version_major": 2,
       "version_minor": 0
      },
      "text/plain": [
       "HBox(children=(IntProgress(value=0, max=96), HTML(value='')))"
      ]
     },
     "metadata": {},
     "output_type": "display_data"
    },
    {
     "name": "stdout",
     "output_type": "stream",
     "text": [
      "\n",
      "Epoch 3: Training MSE 7705.041527748108; Testing MSE 1780.3926020860672\n",
      "Epoch 3: Training R2 0.34091208473805246; Testing R2 0.3989065894662932\n"
     ]
    },
    {
     "data": {
      "application/vnd.jupyter.widget-view+json": {
       "model_id": "08797613be644a4386725774c67d0b05",
       "version_major": 2,
       "version_minor": 0
      },
      "text/plain": [
       "HBox(children=(IntProgress(value=0, max=96), HTML(value='')))"
      ]
     },
     "metadata": {},
     "output_type": "display_data"
    },
    {
     "name": "stdout",
     "output_type": "stream",
     "text": [
      "\n",
      "Epoch 4: Training MSE 7815.2194529771805; Testing MSE 1791.5060877799988\n",
      "Epoch 4: Training R2 0.3314874841326435; Testing R2 0.3951544715284543\n"
     ]
    },
    {
     "data": {
      "application/vnd.jupyter.widget-view+json": {
       "model_id": "ba5d696c982c4a3ebc431a8c063f5880",
       "version_major": 2,
       "version_minor": 0
      },
      "text/plain": [
       "HBox(children=(IntProgress(value=0, max=96), HTML(value='')))"
      ]
     },
     "metadata": {},
     "output_type": "display_data"
    },
    {
     "name": "stdout",
     "output_type": "stream",
     "text": [
      "\n",
      "Epoch 5: Training MSE 7785.186168551445; Testing MSE 1814.1490936279297\n",
      "Epoch 5: Training R2 0.33405652607087843; Testing R2 0.38750977473858883\n"
     ]
    },
    {
     "data": {
      "application/vnd.jupyter.widget-view+json": {
       "model_id": "86a94d9eb3334f4b80bbe1ad2e3a4b6c",
       "version_major": 2,
       "version_minor": 0
      },
      "text/plain": [
       "HBox(children=(IntProgress(value=0, max=96), HTML(value='')))"
      ]
     },
     "metadata": {},
     "output_type": "display_data"
    },
    {
     "name": "stdout",
     "output_type": "stream",
     "text": [
      "\n",
      "Epoch 6: Training MSE 7435.7778787612915; Testing MSE 1792.322999238968\n",
      "Epoch 6: Training R2 0.36394485054826; Testing R2 0.39487866713879294\n"
     ]
    },
    {
     "data": {
      "application/vnd.jupyter.widget-view+json": {
       "model_id": "4f701a545522404999bcd1b2a4a908a1",
       "version_major": 2,
       "version_minor": 0
      },
      "text/plain": [
       "HBox(children=(IntProgress(value=0, max=96), HTML(value='')))"
      ]
     },
     "metadata": {},
     "output_type": "display_data"
    },
    {
     "name": "stdout",
     "output_type": "stream",
     "text": [
      "\n",
      "Epoch 7: Training MSE 7500.682005286217; Testing MSE 1786.4492148160934\n",
      "Epoch 7: Training R2 0.3583929628278426; Testing R2 0.3968617651966868\n"
     ]
    },
    {
     "data": {
      "application/vnd.jupyter.widget-view+json": {
       "model_id": "b024b50cfc1b4ab5b5d14a0d9e5ff80b",
       "version_major": 2,
       "version_minor": 0
      },
      "text/plain": [
       "HBox(children=(IntProgress(value=0, max=96), HTML(value='')))"
      ]
     },
     "metadata": {},
     "output_type": "display_data"
    },
    {
     "name": "stdout",
     "output_type": "stream",
     "text": [
      "\n",
      "Epoch 8: Training MSE 7294.275167584419; Testing MSE 1867.4463629722595\n",
      "Epoch 8: Training R2 0.3760489679079928; Testing R2 0.36951563267982057\n"
     ]
    },
    {
     "data": {
      "application/vnd.jupyter.widget-view+json": {
       "model_id": "9144fad4e7bd4be298d44a32cf15ffcf",
       "version_major": 2,
       "version_minor": 0
      },
      "text/plain": [
       "HBox(children=(IntProgress(value=0, max=96), HTML(value='')))"
      ]
     },
     "metadata": {},
     "output_type": "display_data"
    },
    {
     "name": "stdout",
     "output_type": "stream",
     "text": [
      "\n",
      "Epoch 9: Training MSE 7196.101933717728; Testing MSE 1774.6347397565842\n",
      "Epoch 9: Training R2 0.38444668929738446; Testing R2 0.4008505500854046\n"
     ]
    },
    {
     "data": {
      "application/vnd.jupyter.widget-view+json": {
       "model_id": "36ea50dd12a24e0589246b309b892d14",
       "version_major": 2,
       "version_minor": 0
      },
      "text/plain": [
       "HBox(children=(IntProgress(value=0, max=96), HTML(value='')))"
      ]
     },
     "metadata": {},
     "output_type": "display_data"
    },
    {
     "name": "stdout",
     "output_type": "stream",
     "text": [
      "\n",
      "Epoch 10: Training MSE 7011.365684866905; Testing MSE 1788.2231831550598\n",
      "Epoch 10: Training R2 0.4002489959676233; Testing R2 0.3962628407359815\n"
     ]
    },
    {
     "data": {
      "application/vnd.jupyter.widget-view+json": {
       "model_id": "41dca45c7f654d0ca8d4232d5b78573b",
       "version_major": 2,
       "version_minor": 0
      },
      "text/plain": [
       "HBox(children=(IntProgress(value=0, max=96), HTML(value='')))"
      ]
     },
     "metadata": {},
     "output_type": "display_data"
    },
    {
     "name": "stdout",
     "output_type": "stream",
     "text": [
      "\n",
      "Epoch 11: Training MSE 6950.368398427963; Testing MSE 1873.9323616027832\n",
      "Epoch 11: Training R2 0.40546669326502227; Testing R2 0.36732583980325484\n"
     ]
    },
    {
     "data": {
      "application/vnd.jupyter.widget-view+json": {
       "model_id": "f317d5b5320640148da2b06d1628dcae",
       "version_major": 2,
       "version_minor": 0
      },
      "text/plain": [
       "HBox(children=(IntProgress(value=0, max=96), HTML(value='')))"
      ]
     },
     "metadata": {},
     "output_type": "display_data"
    },
    {
     "name": "stdout",
     "output_type": "stream",
     "text": [
      "\n",
      "Epoch 12: Training MSE 6447.128933668137; Testing MSE 1898.3026087284088\n",
      "Epoch 12: Training R2 0.4485137097556692; Testing R2 0.35909799447120405\n"
     ]
    },
    {
     "data": {
      "application/vnd.jupyter.widget-view+json": {
       "model_id": "da2af5cd66f44bcbb4e753c249424325",
       "version_major": 2,
       "version_minor": 0
      },
      "text/plain": [
       "HBox(children=(IntProgress(value=0, max=96), HTML(value='')))"
      ]
     },
     "metadata": {},
     "output_type": "display_data"
    },
    {
     "name": "stdout",
     "output_type": "stream",
     "text": [
      "\n",
      "Epoch 13: Training MSE 5878.937289118767; Testing MSE 1950.4812687635422\n",
      "Epoch 13: Training R2 0.4971167244346505; Testing R2 0.3414815155660188\n"
     ]
    },
    {
     "data": {
      "application/vnd.jupyter.widget-view+json": {
       "model_id": "b464fc52903b436d90196bfaf0177812",
       "version_major": 2,
       "version_minor": 0
      },
      "text/plain": [
       "HBox(children=(IntProgress(value=0, max=96), HTML(value='')))"
      ]
     },
     "metadata": {},
     "output_type": "display_data"
    },
    {
     "name": "stdout",
     "output_type": "stream",
     "text": [
      "\n",
      "Epoch 14: Training MSE 4831.504815816879; Testing MSE 2067.593914270401\n",
      "Epoch 14: Training R2 0.5867139164445903; Testing R2 0.30194212441046075\n"
     ]
    },
    {
     "data": {
      "application/vnd.jupyter.widget-view+json": {
       "model_id": "e98256e90b474fa2912cd21c68f31d3e",
       "version_major": 2,
       "version_minor": 0
      },
      "text/plain": [
       "HBox(children=(IntProgress(value=0, max=96), HTML(value='')))"
      ]
     },
     "metadata": {},
     "output_type": "display_data"
    },
    {
     "name": "stdout",
     "output_type": "stream",
     "text": [
      "\n",
      "Epoch 15: Training MSE 4147.6250767707825; Testing MSE 2039.35849070549\n",
      "Epoch 15: Training R2 0.6452128706519804; Testing R2 0.311474924663961\n"
     ]
    },
    {
     "data": {
      "application/vnd.jupyter.widget-view+json": {
       "model_id": "74c6c58b0c034dfc88bc1dd85ec50339",
       "version_major": 2,
       "version_minor": 0
      },
      "text/plain": [
       "HBox(children=(IntProgress(value=0, max=96), HTML(value='')))"
      ]
     },
     "metadata": {},
     "output_type": "display_data"
    },
    {
     "name": "stdout",
     "output_type": "stream",
     "text": [
      "\n",
      "Epoch 16: Training MSE 3294.691114127636; Testing MSE 2183.331173658371\n",
      "Epoch 16: Training R2 0.7181726938106339; Testing R2 0.26286708899982947\n"
     ]
    },
    {
     "data": {
      "application/vnd.jupyter.widget-view+json": {
       "model_id": "13bbfa1af5c24b9b96eb93e5f8324a51",
       "version_major": 2,
       "version_minor": 0
      },
      "text/plain": [
       "HBox(children=(IntProgress(value=0, max=96), HTML(value='')))"
      ]
     },
     "metadata": {},
     "output_type": "display_data"
    },
    {
     "name": "stdout",
     "output_type": "stream",
     "text": [
      "\n",
      "Epoch 17: Training MSE 2621.060787141323; Testing MSE 2196.0485011339188\n",
      "Epoch 17: Training R2 0.7757949150889651; Testing R2 0.25857348446777606\n"
     ]
    },
    {
     "data": {
      "application/vnd.jupyter.widget-view+json": {
       "model_id": "2686f181617e4d419e7f80b230707e78",
       "version_major": 2,
       "version_minor": 0
      },
      "text/plain": [
       "HBox(children=(IntProgress(value=0, max=96), HTML(value='')))"
      ]
     },
     "metadata": {},
     "output_type": "display_data"
    },
    {
     "name": "stdout",
     "output_type": "stream",
     "text": [
      "\n",
      "Epoch 18: Training MSE 2332.7984675765038; Testing MSE 2140.0321900844574\n",
      "Epoch 18: Training R2 0.8004528238836601; Testing R2 0.27748562520279463\n"
     ]
    },
    {
     "data": {
      "application/vnd.jupyter.widget-view+json": {
       "model_id": "06364a975d8348f0b4559b390b4dede9",
       "version_major": 2,
       "version_minor": 0
      },
      "text/plain": [
       "HBox(children=(IntProgress(value=0, max=96), HTML(value='')))"
      ]
     },
     "metadata": {},
     "output_type": "display_data"
    },
    {
     "name": "stdout",
     "output_type": "stream",
     "text": [
      "\n",
      "Epoch 19: Training MSE 1628.9651103317738; Testing MSE 2187.030929327011\n",
      "Epoch 19: Training R2 0.8606586071292988; Testing R2 0.261617983184405\n"
     ]
    },
    {
     "data": {
      "application/vnd.jupyter.widget-view+json": {
       "model_id": "5678fbbd42c848b3a7cbbc49e2753b33",
       "version_major": 2,
       "version_minor": 0
      },
      "text/plain": [
       "HBox(children=(IntProgress(value=0, max=96), HTML(value='')))"
      ]
     },
     "metadata": {},
     "output_type": "display_data"
    },
    {
     "name": "stdout",
     "output_type": "stream",
     "text": [
      "\n",
      "Epoch 20: Training MSE 1308.4627658128738; Testing MSE 2204.081177711487\n",
      "Epoch 20: Training R2 0.8880743220640975; Testing R2 0.2558615045628566\n"
     ]
    },
    {
     "data": {
      "application/vnd.jupyter.widget-view+json": {
       "model_id": "9c0cc4fc37ee4720b0da67674ce8958d",
       "version_major": 2,
       "version_minor": 0
      },
      "text/plain": [
       "HBox(children=(IntProgress(value=0, max=96), HTML(value='')))"
      ]
     },
     "metadata": {},
     "output_type": "display_data"
    },
    {
     "name": "stdout",
     "output_type": "stream",
     "text": [
      "\n",
      "Epoch 21: Training MSE 1135.6906302273273; Testing MSE 2094.241017103195\n",
      "Epoch 21: Training R2 0.902853220561704; Testing R2 0.2929455705583277\n"
     ]
    },
    {
     "data": {
      "application/vnd.jupyter.widget-view+json": {
       "model_id": "6a772e873b2842b3bb464fc0bdcd91d4",
       "version_major": 2,
       "version_minor": 0
      },
      "text/plain": [
       "HBox(children=(IntProgress(value=0, max=96), HTML(value='')))"
      ]
     },
     "metadata": {},
     "output_type": "display_data"
    },
    {
     "name": "stdout",
     "output_type": "stream",
     "text": [
      "\n",
      "Epoch 22: Training MSE 972.993079200387; Testing MSE 1985.3190660476685\n",
      "Epoch 22: Training R2 0.9167703408443653; Testing R2 0.32971963205759414\n"
     ]
    },
    {
     "data": {
      "application/vnd.jupyter.widget-view+json": {
       "model_id": "fb8e6ab772754ee69587ea8369fc5e86",
       "version_major": 2,
       "version_minor": 0
      },
      "text/plain": [
       "HBox(children=(IntProgress(value=0, max=96), HTML(value='')))"
      ]
     },
     "metadata": {},
     "output_type": "display_data"
    },
    {
     "name": "stdout",
     "output_type": "stream",
     "text": [
      "\n",
      "Epoch 23: Training MSE 937.7330094575882; Testing MSE 2035.5598777532578\n",
      "Epoch 23: Training R2 0.9197864810916411; Testing R2 0.31275740652334394\n"
     ]
    },
    {
     "data": {
      "application/vnd.jupyter.widget-view+json": {
       "model_id": "4dd0bb8150064829929e44bb3c9e1bc1",
       "version_major": 2,
       "version_minor": 0
      },
      "text/plain": [
       "HBox(children=(IntProgress(value=0, max=96), HTML(value='')))"
      ]
     },
     "metadata": {},
     "output_type": "display_data"
    },
    {
     "name": "stdout",
     "output_type": "stream",
     "text": [
      "\n",
      "Epoch 24: Training MSE 801.5471048653126; Testing MSE 2059.9389493465424\n",
      "Epoch 24: Training R2 0.9314357997387293; Testing R2 0.3045265818881018\n",
      "Printing performance_continuous\n",
      "{'HHVEHCNT_mean_norm': {'mse_train_list': [11864.913165569305, 9525.501376390457, 9367.49469935894, 9366.35686159134, 9298.717707395554, 9170.300447940826, 9123.222714662552, 9093.797519803047, 9001.711189746857, 8855.008047819138, 8564.586502313614, 8143.000993132591, 7176.059594750404, 6378.278011083603, 4564.268854260445, 2920.40776014328], 'mse_test_list': [2237.79656291008, 2234.9283814430237, 2269.645929336548, 2323.048597574234, 2334.691834449768, 2219.8149621486664, 2210.451817512512, 2196.477222442627, 2212.856638431549, 2243.282848596573, 2254.8877000808716, 2421.2916135787964, 2359.1983437538147, 2412.7527594566345, 2503.7707209587097, 2639.0649676322937], 'r_square_train_list': [-0.10882353390102706, 0.10980384340288007, 0.12457019858485141, 0.1246765340697279, 0.1309976832377714, 0.14299878914183162, 0.1473983913852891, 0.15014829339422442, 0.15875412880928552, 0.17246412347985107, 0.19960517709859293, 0.23900402710350444, 0.3293685635706276, 0.4039244395840814, 0.5734508419883053, 0.7270762282162326], 'r_square_test_list': [0.12223665905004177, 0.12336168738760434, 0.10974392099467489, 0.08879701935720141, 0.08423002400618074, 0.12928984262426324, 0.13296248438886615, 0.13844394211396593, 0.132019206666813, 0.12008469379395093, 0.11553275490061399, 0.050261738991490224, 0.07461748109755817, 0.05361105735508909, 0.01790976470915584, -0.03515865622767822]}, 'HHVEHCNT_P_CAP_mean_norm': {'mse_train_list': [12760.436004400253, 9824.599921703339, 9630.457592010498, 9520.020359754562, 9542.309772968292, 9508.344829082489, 9419.629722833633, 9334.135860204697, 9401.708686351776, 9344.430583715439, 8897.81464934349, 8802.618703246117, 8219.216760993004, 7660.678657889366, 6591.738510131836], 'mse_test_list': [2202.6474237442017, 2198.0917096138, 2165.9247159957886, 2195.676502585411, 2206.881672143936, 2180.2167415618896, 2219.5713341236115, 2202.689528465271, 2234.733772277832, 2210.0933969020844, 2320.5089271068573, 2282.939863204956, 2432.779175043106, 2361.4377081394196, 2558.348274230957], 'r_square_train_list': [-0.19157305629780752, 0.08257613207179204, 0.10070519671104905, 0.11101785611570403, 0.10893646452242223, 0.11210812041090712, 0.12039236165911216, 0.12837580228389467, 0.12206583302054108, 0.12741447814471907, 0.16911959807380061, 0.1780090219460957, 0.2324872572619502, 0.2846437003760005, 0.3844616281038341], 'r_square_test_list': [0.09947761095263763, 0.10134015260515161, 0.11449118968403316, 0.10232757709252216, 0.09774649618427078, 0.10864808975420714, 0.09255850077522076, 0.09946039701108766, 0.08635954451774974, 0.09643342627530926, 0.05129154111653378, 0.06665114103003411, 0.005391379882998315, 0.034558366628904325, -0.045945835493465204]}, 'TRPTRANS_1_mean_norm': {'mse_train_list': [12141.083237528801, 9035.33582687378, 9137.25562095642, 8834.881055355072, 8773.719084262848, 8925.029781460762, 8525.386682152748, 8427.037093043327, 8332.129111886024, 8295.78527212143, 8080.269539356232, 7626.181542873383, 6746.285361051559, 6018.201771378517, 5161.077645421028, 4839.238674938679, 3987.6981630921364, 3039.4254997372627, 2558.8708579540253, 2139.878575503826, 1684.2904105782509, 1443.637304753065, 1239.0142895281315, 1054.5334056019783, 856.8879321217537], 'mse_test_list': [2290.6496345996857, 2336.2269818782806, 2214.9611234664917, 2133.7208807468414, 2087.7532184123993, 2100.7145643234253, 2103.8426965475082, 2093.6946660280228, 2106.5198063850403, 2082.366317510605, 2120.770552754402, 2197.6871132850647, 2259.9085986614227, 2335.202831029892, 2572.1055269241333, 2879.292231798172, 2743.178653717041, 2544.0568268299103, 2663.2748186588287, 2649.719899892807, 2526.799041032791, 2567.759871482849, 2592.596399784088, 2563.119977712631, 2518.2615280151367], 'r_square_train_list': [-0.043092056802197076, 0.2237359017175593, 0.21497953908017087, 0.24095782300979984, 0.24621250786588111, 0.23321276284572656, 0.26754779986741906, 0.2759974310232859, 0.28415137901421206, 0.2872738327385189, 0.3057897052158942, 0.34480233472792876, 0.4203979549961362, 0.48295071031606107, 0.5565898864907366, 0.5842404401614208, 0.6573999043191838, 0.7388700386948923, 0.7801565301797779, 0.8161539377532872, 0.8552954531114904, 0.8759709841345462, 0.8935510169573413, 0.9094005536824009, 0.9263811162415037], 'r_square_test_list': [0.24625306442824035, 0.2312556657323308, 0.27115865560329755, 0.2978910650779327, 0.3130168984208561, 0.3087519184720441, 0.30772259471936203, 0.31106184258626146, 0.306841681590724, 0.3147894785595319, 0.3021524195389157, 0.27684273405974, 0.2563685187014628, 0.23159266644683385, 0.15363893735540135, 0.052557988986072335, 0.09734667723358315, 0.16286846832489266, 0.12363933670705352, 0.12809963405130387, 0.1685472080862468, 0.15506889173272842, 0.14689633805427305, 0.15659566634629407, 0.17135650907111155]}, 'TRPTRANS_2_mean_norm': {'mse_train_list': [11235.901886224747, 8305.71317076683, 7890.285620093346, 7705.041527748108, 7815.2194529771805, 7785.186168551445, 7435.7778787612915, 7500.682005286217, 7294.275167584419, 7196.101933717728, 7011.365684866905, 6950.368398427963, 6447.128933668137, 5878.937289118767, 4831.504815816879, 4147.6250767707825, 3294.691114127636, 2621.060787141323, 2332.7984675765038, 1628.9651103317738, 1308.4627658128738, 1135.6906302273273, 972.993079200387, 937.7330094575882, 801.5471048653126], 'mse_test_list': [1908.4068953990936, 1822.3247021436691, 1773.9283174276352, 1780.3926020860672, 1791.5060877799988, 1814.1490936279297, 1792.322999238968, 1786.4492148160934, 1867.4463629722595, 1774.6347397565842, 1788.2231831550598, 1873.9323616027832, 1898.3026087284088, 1950.4812687635422, 2067.593914270401, 2039.35849070549, 2183.331173658371, 2196.0485011339188, 2140.0321900844574, 2187.030929327011, 2204.081177711487, 2094.241017103195, 1985.3190660476685, 2035.5598777532578, 2059.9389493465424], 'r_square_train_list': [0.03888290236847247, 0.2895307366261126, 0.32506633722342515, 0.34091208473805246, 0.3314874841326435, 0.33405652607087843, 0.36394485054826, 0.3583929628278426, 0.3760489679079928, 0.38444668929738446, 0.4002489959676233, 0.40546669326502227, 0.4485137097556692, 0.4971167244346505, 0.5867139164445903, 0.6452128706519804, 0.7181726938106339, 0.7757949150889651, 0.8004528238836601, 0.8606586071292988, 0.8880743220640975, 0.902853220561704, 0.9167703408443653, 0.9197864810916411, 0.9314357997387293], 'r_square_test_list': [0.35568660075457337, 0.3847495383726569, 0.40108905130501626, 0.3989065894662932, 0.3951544715284543, 0.38750977473858883, 0.39487866713879294, 0.3968617651966868, 0.36951563267982057, 0.4008505500854046, 0.3962628407359815, 0.36732583980325484, 0.35909799447120405, 0.3414815155660188, 0.30194212441046075, 0.311474924663961, 0.26286708899982947, 0.25857348446777606, 0.27748562520279463, 0.261617983184405, 0.2558615045628566, 0.2929455705583277, 0.32971963205759414, 0.31275740652334394, 0.3045265818881018]}}\n",
      "Stored 'performance_continuous' (dict)\n",
      "TRPTRANS_3_mean_norm\n",
      "tensor(11467.2451)\n",
      "tensor(2919.1924)\n"
     ]
    },
    {
     "data": {
      "application/vnd.jupyter.widget-view+json": {
       "model_id": "1123a54735ca44daa38d80ac0ef753d9",
       "version_major": 2,
       "version_minor": 0
      },
      "text/plain": [
       "HBox(children=(IntProgress(value=0, max=96), HTML(value='')))"
      ]
     },
     "metadata": {},
     "output_type": "display_data"
    },
    {
     "name": "stdout",
     "output_type": "stream",
     "text": [
      "\n",
      "Epoch 0: Training MSE 12026.16914510727; Testing MSE 2492.138224840164\n",
      "Epoch 0: Training R2 -0.04874091573066974; Testing R2 0.14629188555256845\n"
     ]
    },
    {
     "data": {
      "application/vnd.jupyter.widget-view+json": {
       "model_id": "2750a335c77a47d9898aa29414adc1f7",
       "version_major": 2,
       "version_minor": 0
      },
      "text/plain": [
       "HBox(children=(IntProgress(value=0, max=96), HTML(value='')))"
      ]
     },
     "metadata": {},
     "output_type": "display_data"
    },
    {
     "name": "stdout",
     "output_type": "stream",
     "text": [
      "\n",
      "Epoch 1: Training MSE 9226.563295722008; Testing MSE 2422.6040959358215\n",
      "Epoch 1: Training R2 0.19539844126180594; Testing R2 0.17011153146345215\n"
     ]
    },
    {
     "data": {
      "application/vnd.jupyter.widget-view+json": {
       "model_id": "9aed7cc289b048d8a2beaf107cd2c4b1",
       "version_major": 2,
       "version_minor": 0
      },
      "text/plain": [
       "HBox(children=(IntProgress(value=0, max=96), HTML(value='')))"
      ]
     },
     "metadata": {},
     "output_type": "display_data"
    },
    {
     "name": "stdout",
     "output_type": "stream",
     "text": [
      "\n",
      "Epoch 2: Training MSE 8959.398412704468; Testing MSE 2414.2766416072845\n",
      "Epoch 2: Training R2 0.21869652901412084; Testing R2 0.1729641883755375\n"
     ]
    },
    {
     "data": {
      "application/vnd.jupyter.widget-view+json": {
       "model_id": "8371767c1f80418c8c0d8c36af8deddc",
       "version_major": 2,
       "version_minor": 0
      },
      "text/plain": [
       "HBox(children=(IntProgress(value=0, max=96), HTML(value='')))"
      ]
     },
     "metadata": {},
     "output_type": "display_data"
    },
    {
     "name": "stdout",
     "output_type": "stream",
     "text": [
      "\n",
      "Epoch 3: Training MSE 9060.228373110294; Testing MSE 2412.3735696077347\n",
      "Epoch 3: Training R2 0.20990366208092004; Testing R2 0.17361610566977093\n"
     ]
    },
    {
     "data": {
      "application/vnd.jupyter.widget-view+json": {
       "model_id": "4939e739b20a4d1cb6bbe72551772947",
       "version_major": 2,
       "version_minor": 0
      },
      "text/plain": [
       "HBox(children=(IntProgress(value=0, max=96), HTML(value='')))"
      ]
     },
     "metadata": {},
     "output_type": "display_data"
    },
    {
     "name": "stdout",
     "output_type": "stream",
     "text": [
      "\n",
      "Epoch 4: Training MSE 8829.961717128754; Testing MSE 2379.7866582870483\n",
      "Epoch 4: Training R2 0.22998404351764445; Testing R2 0.18477909428009687\n"
     ]
    },
    {
     "data": {
      "application/vnd.jupyter.widget-view+json": {
       "model_id": "2e897e6cbbb6462db630e53495ac4dac",
       "version_major": 2,
       "version_minor": 0
      },
      "text/plain": [
       "HBox(children=(IntProgress(value=0, max=96), HTML(value='')))"
      ]
     },
     "metadata": {},
     "output_type": "display_data"
    },
    {
     "name": "stdout",
     "output_type": "stream",
     "text": [
      "\n",
      "Epoch 5: Training MSE 8564.13431018591; Testing MSE 2401.1562287807465\n",
      "Epoch 5: Training R2 0.25316549679838174; Testing R2 0.17745872354347914\n"
     ]
    },
    {
     "data": {
      "application/vnd.jupyter.widget-view+json": {
       "model_id": "fe8f3f1fe6c9459282268e4141eff41b",
       "version_major": 2,
       "version_minor": 0
      },
      "text/plain": [
       "HBox(children=(IntProgress(value=0, max=96), HTML(value='')))"
      ]
     },
     "metadata": {},
     "output_type": "display_data"
    },
    {
     "name": "stdout",
     "output_type": "stream",
     "text": [
      "\n",
      "Epoch 6: Training MSE 8650.91355741024; Testing MSE 2575.0668346881866\n",
      "Epoch 6: Training R2 0.24559792094755573; Testing R2 0.11788381956271243\n"
     ]
    },
    {
     "data": {
      "application/vnd.jupyter.widget-view+json": {
       "model_id": "357b02c249d040c0b2f55832613e1ece",
       "version_major": 2,
       "version_minor": 0
      },
      "text/plain": [
       "HBox(children=(IntProgress(value=0, max=96), HTML(value='')))"
      ]
     },
     "metadata": {},
     "output_type": "display_data"
    },
    {
     "name": "stdout",
     "output_type": "stream",
     "text": [
      "\n",
      "Epoch 7: Training MSE 8560.185411572456; Testing MSE 2358.822476863861\n",
      "Epoch 7: Training R2 0.25350986011957166; Testing R2 0.19196059473433869\n"
     ]
    },
    {
     "data": {
      "application/vnd.jupyter.widget-view+json": {
       "model_id": "3ab5b2cb55f64cb59488a3bf53f73c62",
       "version_major": 2,
       "version_minor": 0
      },
      "text/plain": [
       "HBox(children=(IntProgress(value=0, max=96), HTML(value='')))"
      ]
     },
     "metadata": {},
     "output_type": "display_data"
    },
    {
     "name": "stdout",
     "output_type": "stream",
     "text": [
      "\n",
      "Epoch 8: Training MSE 8506.585229933262; Testing MSE 2514.5860254764557\n",
      "Epoch 8: Training R2 0.2581840587689801; Testing R2 0.13860215576002077\n"
     ]
    },
    {
     "data": {
      "application/vnd.jupyter.widget-view+json": {
       "model_id": "e3ae27896ab64d74b02a1872397aafd3",
       "version_major": 2,
       "version_minor": 0
      },
      "text/plain": [
       "HBox(children=(IntProgress(value=0, max=96), HTML(value='')))"
      ]
     },
     "metadata": {},
     "output_type": "display_data"
    },
    {
     "name": "stdout",
     "output_type": "stream",
     "text": [
      "\n",
      "Epoch 9: Training MSE 7263.9195561409; Testing MSE 2616.118296980858\n",
      "Epoch 9: Training R2 0.36655059851703287; Testing R2 0.10382121014567902\n"
     ]
    },
    {
     "data": {
      "application/vnd.jupyter.widget-view+json": {
       "model_id": "8c693d81b2e34b19bd2db21cc90dfd73",
       "version_major": 2,
       "version_minor": 0
      },
      "text/plain": [
       "HBox(children=(IntProgress(value=0, max=96), HTML(value='')))"
      ]
     },
     "metadata": {},
     "output_type": "display_data"
    },
    {
     "name": "stdout",
     "output_type": "stream",
     "text": [
      "\n",
      "Epoch 10: Training MSE 7243.510901927948; Testing MSE 2751.9912868738174\n",
      "Epoch 10: Training R2 0.368330333231377; Testing R2 0.057276490896291166\n"
     ]
    },
    {
     "data": {
      "application/vnd.jupyter.widget-view+json": {
       "model_id": "7f2fcd3c32cc41c39f57413a940e289b",
       "version_major": 2,
       "version_minor": 0
      },
      "text/plain": [
       "HBox(children=(IntProgress(value=0, max=96), HTML(value='')))"
      ]
     },
     "metadata": {},
     "output_type": "display_data"
    },
    {
     "name": "stdout",
     "output_type": "stream",
     "text": [
      "\n",
      "Epoch 11: Training MSE 6549.617567658424; Testing MSE 2824.4199872016907\n",
      "Epoch 11: Training R2 0.4288412342523634; Testing R2 0.032465279153510496\n"
     ]
    },
    {
     "data": {
      "application/vnd.jupyter.widget-view+json": {
       "model_id": "bed85588f3c14c949ff0d475868a0a5d",
       "version_major": 2,
       "version_minor": 0
      },
      "text/plain": [
       "HBox(children=(IntProgress(value=0, max=96), HTML(value='')))"
      ]
     },
     "metadata": {},
     "output_type": "display_data"
    },
    {
     "name": "stdout",
     "output_type": "stream",
     "text": [
      "\n",
      "Epoch 12: Training MSE 5881.55687302351; Testing MSE 2704.9343645572662\n",
      "Epoch 12: Training R2 0.4870994024355483; Testing R2 0.07339633369720111\n"
     ]
    },
    {
     "data": {
      "application/vnd.jupyter.widget-view+json": {
       "model_id": "9e519ad5c8c94503ba0d28932cbbe09c",
       "version_major": 2,
       "version_minor": 0
      },
      "text/plain": [
       "HBox(children=(IntProgress(value=0, max=96), HTML(value='')))"
      ]
     },
     "metadata": {},
     "output_type": "display_data"
    },
    {
     "name": "stdout",
     "output_type": "stream",
     "text": [
      "\n",
      "Epoch 13: Training MSE 5710.098005831242; Testing MSE 2794.5315808057785\n",
      "Epoch 13: Training R2 0.5020514563456264; Testing R2 0.04270386656963554\n"
     ]
    },
    {
     "data": {
      "application/vnd.jupyter.widget-view+json": {
       "model_id": "c059754d53384b2fbda21bc31479e794",
       "version_major": 2,
       "version_minor": 0
      },
      "text/plain": [
       "HBox(children=(IntProgress(value=0, max=96), HTML(value='')))"
      ]
     },
     "metadata": {},
     "output_type": "display_data"
    },
    {
     "name": "stdout",
     "output_type": "stream",
     "text": [
      "\n",
      "Epoch 14: Training MSE 5116.813084483147; Testing MSE 2810.265102982521\n",
      "Epoch 14: Training R2 0.5537888104603352; Testing R2 0.03731418335814951\n"
     ]
    },
    {
     "data": {
      "application/vnd.jupyter.widget-view+json": {
       "model_id": "daff6198ecbc4c3ca7f66a5abe1722a7",
       "version_major": 2,
       "version_minor": 0
      },
      "text/plain": [
       "HBox(children=(IntProgress(value=0, max=96), HTML(value='')))"
      ]
     },
     "metadata": {},
     "output_type": "display_data"
    },
    {
     "name": "stdout",
     "output_type": "stream",
     "text": [
      "\n",
      "Epoch 15: Training MSE 4836.936663091183; Testing MSE 2907.628020644188\n",
      "Epoch 15: Training R2 0.578195406685655; Testing R2 0.003961493677634986\n"
     ]
    },
    {
     "data": {
      "application/vnd.jupyter.widget-view+json": {
       "model_id": "6658052dd0b54326ac3f741a53304e90",
       "version_major": 2,
       "version_minor": 0
      },
      "text/plain": [
       "HBox(children=(IntProgress(value=0, max=96), HTML(value='')))"
      ]
     },
     "metadata": {},
     "output_type": "display_data"
    },
    {
     "name": "stdout",
     "output_type": "stream",
     "text": [
      "\n",
      "Epoch 16: Training MSE 4568.530189990997; Testing MSE 3003.4923255443573\n",
      "Epoch 16: Training R2 0.6016017671808962; Testing R2 -0.028877830467150867\n",
      "Printing performance_continuous\n",
      "{'HHVEHCNT_mean_norm': {'mse_train_list': [11864.913165569305, 9525.501376390457, 9367.49469935894, 9366.35686159134, 9298.717707395554, 9170.300447940826, 9123.222714662552, 9093.797519803047, 9001.711189746857, 8855.008047819138, 8564.586502313614, 8143.000993132591, 7176.059594750404, 6378.278011083603, 4564.268854260445, 2920.40776014328], 'mse_test_list': [2237.79656291008, 2234.9283814430237, 2269.645929336548, 2323.048597574234, 2334.691834449768, 2219.8149621486664, 2210.451817512512, 2196.477222442627, 2212.856638431549, 2243.282848596573, 2254.8877000808716, 2421.2916135787964, 2359.1983437538147, 2412.7527594566345, 2503.7707209587097, 2639.0649676322937], 'r_square_train_list': [-0.10882353390102706, 0.10980384340288007, 0.12457019858485141, 0.1246765340697279, 0.1309976832377714, 0.14299878914183162, 0.1473983913852891, 0.15014829339422442, 0.15875412880928552, 0.17246412347985107, 0.19960517709859293, 0.23900402710350444, 0.3293685635706276, 0.4039244395840814, 0.5734508419883053, 0.7270762282162326], 'r_square_test_list': [0.12223665905004177, 0.12336168738760434, 0.10974392099467489, 0.08879701935720141, 0.08423002400618074, 0.12928984262426324, 0.13296248438886615, 0.13844394211396593, 0.132019206666813, 0.12008469379395093, 0.11553275490061399, 0.050261738991490224, 0.07461748109755817, 0.05361105735508909, 0.01790976470915584, -0.03515865622767822]}, 'HHVEHCNT_P_CAP_mean_norm': {'mse_train_list': [12760.436004400253, 9824.599921703339, 9630.457592010498, 9520.020359754562, 9542.309772968292, 9508.344829082489, 9419.629722833633, 9334.135860204697, 9401.708686351776, 9344.430583715439, 8897.81464934349, 8802.618703246117, 8219.216760993004, 7660.678657889366, 6591.738510131836], 'mse_test_list': [2202.6474237442017, 2198.0917096138, 2165.9247159957886, 2195.676502585411, 2206.881672143936, 2180.2167415618896, 2219.5713341236115, 2202.689528465271, 2234.733772277832, 2210.0933969020844, 2320.5089271068573, 2282.939863204956, 2432.779175043106, 2361.4377081394196, 2558.348274230957], 'r_square_train_list': [-0.19157305629780752, 0.08257613207179204, 0.10070519671104905, 0.11101785611570403, 0.10893646452242223, 0.11210812041090712, 0.12039236165911216, 0.12837580228389467, 0.12206583302054108, 0.12741447814471907, 0.16911959807380061, 0.1780090219460957, 0.2324872572619502, 0.2846437003760005, 0.3844616281038341], 'r_square_test_list': [0.09947761095263763, 0.10134015260515161, 0.11449118968403316, 0.10232757709252216, 0.09774649618427078, 0.10864808975420714, 0.09255850077522076, 0.09946039701108766, 0.08635954451774974, 0.09643342627530926, 0.05129154111653378, 0.06665114103003411, 0.005391379882998315, 0.034558366628904325, -0.045945835493465204]}, 'TRPTRANS_1_mean_norm': {'mse_train_list': [12141.083237528801, 9035.33582687378, 9137.25562095642, 8834.881055355072, 8773.719084262848, 8925.029781460762, 8525.386682152748, 8427.037093043327, 8332.129111886024, 8295.78527212143, 8080.269539356232, 7626.181542873383, 6746.285361051559, 6018.201771378517, 5161.077645421028, 4839.238674938679, 3987.6981630921364, 3039.4254997372627, 2558.8708579540253, 2139.878575503826, 1684.2904105782509, 1443.637304753065, 1239.0142895281315, 1054.5334056019783, 856.8879321217537], 'mse_test_list': [2290.6496345996857, 2336.2269818782806, 2214.9611234664917, 2133.7208807468414, 2087.7532184123993, 2100.7145643234253, 2103.8426965475082, 2093.6946660280228, 2106.5198063850403, 2082.366317510605, 2120.770552754402, 2197.6871132850647, 2259.9085986614227, 2335.202831029892, 2572.1055269241333, 2879.292231798172, 2743.178653717041, 2544.0568268299103, 2663.2748186588287, 2649.719899892807, 2526.799041032791, 2567.759871482849, 2592.596399784088, 2563.119977712631, 2518.2615280151367], 'r_square_train_list': [-0.043092056802197076, 0.2237359017175593, 0.21497953908017087, 0.24095782300979984, 0.24621250786588111, 0.23321276284572656, 0.26754779986741906, 0.2759974310232859, 0.28415137901421206, 0.2872738327385189, 0.3057897052158942, 0.34480233472792876, 0.4203979549961362, 0.48295071031606107, 0.5565898864907366, 0.5842404401614208, 0.6573999043191838, 0.7388700386948923, 0.7801565301797779, 0.8161539377532872, 0.8552954531114904, 0.8759709841345462, 0.8935510169573413, 0.9094005536824009, 0.9263811162415037], 'r_square_test_list': [0.24625306442824035, 0.2312556657323308, 0.27115865560329755, 0.2978910650779327, 0.3130168984208561, 0.3087519184720441, 0.30772259471936203, 0.31106184258626146, 0.306841681590724, 0.3147894785595319, 0.3021524195389157, 0.27684273405974, 0.2563685187014628, 0.23159266644683385, 0.15363893735540135, 0.052557988986072335, 0.09734667723358315, 0.16286846832489266, 0.12363933670705352, 0.12809963405130387, 0.1685472080862468, 0.15506889173272842, 0.14689633805427305, 0.15659566634629407, 0.17135650907111155]}, 'TRPTRANS_2_mean_norm': {'mse_train_list': [11235.901886224747, 8305.71317076683, 7890.285620093346, 7705.041527748108, 7815.2194529771805, 7785.186168551445, 7435.7778787612915, 7500.682005286217, 7294.275167584419, 7196.101933717728, 7011.365684866905, 6950.368398427963, 6447.128933668137, 5878.937289118767, 4831.504815816879, 4147.6250767707825, 3294.691114127636, 2621.060787141323, 2332.7984675765038, 1628.9651103317738, 1308.4627658128738, 1135.6906302273273, 972.993079200387, 937.7330094575882, 801.5471048653126], 'mse_test_list': [1908.4068953990936, 1822.3247021436691, 1773.9283174276352, 1780.3926020860672, 1791.5060877799988, 1814.1490936279297, 1792.322999238968, 1786.4492148160934, 1867.4463629722595, 1774.6347397565842, 1788.2231831550598, 1873.9323616027832, 1898.3026087284088, 1950.4812687635422, 2067.593914270401, 2039.35849070549, 2183.331173658371, 2196.0485011339188, 2140.0321900844574, 2187.030929327011, 2204.081177711487, 2094.241017103195, 1985.3190660476685, 2035.5598777532578, 2059.9389493465424], 'r_square_train_list': [0.03888290236847247, 0.2895307366261126, 0.32506633722342515, 0.34091208473805246, 0.3314874841326435, 0.33405652607087843, 0.36394485054826, 0.3583929628278426, 0.3760489679079928, 0.38444668929738446, 0.4002489959676233, 0.40546669326502227, 0.4485137097556692, 0.4971167244346505, 0.5867139164445903, 0.6452128706519804, 0.7181726938106339, 0.7757949150889651, 0.8004528238836601, 0.8606586071292988, 0.8880743220640975, 0.902853220561704, 0.9167703408443653, 0.9197864810916411, 0.9314357997387293], 'r_square_test_list': [0.35568660075457337, 0.3847495383726569, 0.40108905130501626, 0.3989065894662932, 0.3951544715284543, 0.38750977473858883, 0.39487866713879294, 0.3968617651966868, 0.36951563267982057, 0.4008505500854046, 0.3962628407359815, 0.36732583980325484, 0.35909799447120405, 0.3414815155660188, 0.30194212441046075, 0.311474924663961, 0.26286708899982947, 0.25857348446777606, 0.27748562520279463, 0.261617983184405, 0.2558615045628566, 0.2929455705583277, 0.32971963205759414, 0.31275740652334394, 0.3045265818881018]}, 'TRPTRANS_3_mean_norm': {'mse_train_list': [12026.16914510727, 9226.563295722008, 8959.398412704468, 9060.228373110294, 8829.961717128754, 8564.13431018591, 8650.91355741024, 8560.185411572456, 8506.585229933262, 7263.9195561409, 7243.510901927948, 6549.617567658424, 5881.55687302351, 5710.098005831242, 5116.813084483147, 4836.936663091183, 4568.530189990997], 'mse_test_list': [2492.138224840164, 2422.6040959358215, 2414.2766416072845, 2412.3735696077347, 2379.7866582870483, 2401.1562287807465, 2575.0668346881866, 2358.822476863861, 2514.5860254764557, 2616.118296980858, 2751.9912868738174, 2824.4199872016907, 2704.9343645572662, 2794.5315808057785, 2810.265102982521, 2907.628020644188, 3003.4923255443573], 'r_square_train_list': [-0.04874091573066974, 0.19539844126180594, 0.21869652901412084, 0.20990366208092004, 0.22998404351764445, 0.25316549679838174, 0.24559792094755573, 0.25350986011957166, 0.2581840587689801, 0.36655059851703287, 0.368330333231377, 0.4288412342523634, 0.4870994024355483, 0.5020514563456264, 0.5537888104603352, 0.578195406685655, 0.6016017671808962], 'r_square_test_list': [0.14629188555256845, 0.17011153146345215, 0.1729641883755375, 0.17361610566977093, 0.18477909428009687, 0.17745872354347914, 0.11788381956271243, 0.19196059473433869, 0.13860215576002077, 0.10382121014567902, 0.057276490896291166, 0.032465279153510496, 0.07339633369720111, 0.04270386656963554, 0.03731418335814951, 0.003961493677634986, -0.028877830467150867]}}\n",
      "Stored 'performance_continuous' (dict)\n"
     ]
    }
   ],
   "source": [
    "for image_type in image_types:\n",
    "    performance_continuous = {}\n",
    "    \n",
    "    for output_var in output_list:\n",
    "\n",
    "        print(output_var)\n",
    "\n",
    "        # data set up\n",
    "        y_train,y_test,BE_train,BE_test,x_train,x_test,x_train_images,x_test_images = \\\n",
    "            initialize_data(image_type, output_var, output_type, input_var, BE_var, num_categories, size)\n",
    "\n",
    "        # process data\n",
    "        x_train_images_norm = x_train_images/255 # very crude processing. It is improvable.\n",
    "        x_test_images_norm = x_test_images/255\n",
    "\n",
    "        x_train_torch = torch.from_numpy(x_train_images_norm)\n",
    "        x_test_torch = torch.from_numpy(x_test_images_norm)\n",
    "        y_train_torch = torch.from_numpy(y_train)\n",
    "        y_test_torch = torch.from_numpy(y_test)\n",
    "\n",
    "        # create data loader: train and test. \n",
    "        train_ds = TensorDataset(x_train_torch, y_train_torch)\n",
    "        batch_size = 100\n",
    "        train_dl = DataLoader(train_ds, batch_size, shuffle = True)\n",
    "\n",
    "        test_ds = TensorDataset(x_test_torch, y_test_torch)\n",
    "        batch_size = 100\n",
    "        test_dl = DataLoader(test_ds, batch_size, shuffle = True)\n",
    "\n",
    "        # model set up\n",
    "        input_channels = 4 # 4 for BW images; 3 for RGB images; 7 for merged images.\n",
    "        use_pretrained = True # unclear whether True or False is better.\n",
    "        full_training = True # Fully retraining the network seems to work better.\n",
    "    #     num_bottleneck = 3 # Used for the bottleneck model\n",
    "\n",
    "        if model_name == 'bottleneck_resnet18': # It does not work.\n",
    "            model = bottleneck_resnet18(num_categories, num_bottleneck, input_channels, use_pretrained, full_training)\n",
    "            model.to(device)\n",
    "        else: \n",
    "            # 'resnet18' and others works\n",
    "            if image_type == \"rgb\":\n",
    "                input_channels = 3\n",
    "            elif image_type == \"bw\":\n",
    "                input_channels = 4\n",
    "            elif image_type == \"merge\":\n",
    "                input_channels = 7\n",
    "            model = initialize_model(model_name, num_categories, input_channels, use_pretrained, full_training)\n",
    "            model.to(device)\n",
    "\n",
    "        # training set up\n",
    "        criterion = nn.MSELoss(reduction='mean')\n",
    "        optimizer = optim.Adam(model.parameters(), lr=0.001)\n",
    "        n_epoch = 25\n",
    "\n",
    "        # create baseline mse\n",
    "        total_mse_train = criterion(y_train_torch.mean().repeat(y_train_torch.size()), y_train_torch)*y_train_torch.size()[0]\n",
    "        total_mse_test = criterion(y_test_torch.mean().repeat(y_test_torch.size()), y_test_torch)*y_test_torch.size()[0]\n",
    "        print(total_mse_train)\n",
    "        print(total_mse_test)\n",
    "\n",
    "        # training here.\n",
    "        model, mse_train_list, mse_test_list, r_square_train_list, r_square_test_list = \\\n",
    "            train_continuous_model(model, train_dl, test_dl, criterion, optimizer, device, total_mse_train, total_mse_test, n_epoch)\n",
    "\n",
    "        # save models.\n",
    "        PATH = './models/'+model_name+'_'+output_var+'_'+image_type+'.pth'\n",
    "        torch.save(model.state_dict(), PATH)\n",
    "        model_dic[output_var]=model.state_dict()\n",
    "\n",
    "        # save performance\n",
    "        performance_continuous[output_var] = {}\n",
    "        performance_continuous[output_var]['mse_train_list']=mse_train_list\n",
    "        performance_continuous[output_var]['mse_test_list']=mse_test_list\n",
    "        performance_continuous[output_var]['r_square_train_list']=r_square_train_list\n",
    "        performance_continuous[output_var]['r_square_test_list']=r_square_test_list\n",
    "\n",
    "        print(\"Printing performance_continuous\")\n",
    "        print(performance_continuous)\n",
    "        %store performance_continuous\n",
    "        \n",
    "                \n",
    "        with open('outputs/performance_continuous_'+image_type+'_'+model_name+'.pickle', 'wb') as h:\n",
    "            pickle.dump(performance_continuous, h, protocol=pickle.HIGHEST_PROTOCOL)\n"
   ]
  },
  {
   "cell_type": "markdown",
   "metadata": {},
   "source": [
    "## Store and save resnet's last layer"
   ]
  },
  {
   "cell_type": "code",
   "execution_count": 18,
   "metadata": {},
   "outputs": [],
   "source": [
    "### \n",
    "def return_last_layer_resnet(model,device,x_train_images,x_test_images,y_train,y_test):\n",
    "    ###  \n",
    "    # \n",
    "    from sklearn.preprocessing import MinMaxScaler\n",
    "\n",
    "    image_train_hidden_list = []\n",
    "    image_test_hidden_list = []\n",
    "\n",
    "    # return values in the last layer.\n",
    "    model_no_last_layer = nn.Sequential(*list(model.children())[:-1]).to(device)\n",
    "\n",
    "    # process data\n",
    "    x_train_images_norm = x_train_images/255\n",
    "    x_test_images_norm = x_test_images/255\n",
    "\n",
    "    x_train_torch = torch.from_numpy(x_train_images_norm)\n",
    "    x_test_torch = torch.from_numpy(x_test_images_norm)\n",
    "    y_train_torch = torch.from_numpy(y_train)\n",
    "    y_test_torch = torch.from_numpy(y_test)\n",
    "\n",
    "    # create data loader: train and test. \n",
    "    train_ds = TensorDataset(x_train_torch, y_train_torch)\n",
    "    batch_size = 100\n",
    "    train_dl_no_shuffle = DataLoader(train_ds, batch_size, shuffle = False) # important: NO SHUFFLE!!!\n",
    "\n",
    "    test_ds = TensorDataset(x_test_torch, y_test_torch)\n",
    "    batch_size = 100\n",
    "    test_dl_no_shuffle = DataLoader(test_ds, batch_size, shuffle = False)\n",
    "\n",
    "    for inputs, labels in train_dl_no_shuffle:\n",
    "        # to device\n",
    "        inputs = inputs.to(device)\n",
    "        labels = labels.to(device)\n",
    "        image_train_hidden_vector_batch = model_no_last_layer(inputs)\n",
    "        image_train_hidden_list.append(image_train_hidden_vector_batch.squeeze().cpu().detach().numpy())\n",
    "\n",
    "    for inputs, labels in test_dl_no_shuffle:\n",
    "        inputs = inputs.to(device)\n",
    "        labels = labels.to(device)\n",
    "        # forward + backward\n",
    "        image_test_hidden_vector_batch = model_no_last_layer(inputs)\n",
    "        image_test_hidden_list.append(image_test_hidden_vector_batch.squeeze().cpu().detach().numpy())\n",
    "\n",
    "    # vectorize\n",
    "    image_train_hidden_vector=np.array(image_train_hidden_list).reshape(-1,512) # 512, resnet architecture   \n",
    "    image_test_hidden_vector=np.array(image_test_hidden_list).reshape(-1,512) # 512, resnet architecture\n",
    "\n",
    "    # scale\n",
    "    scaler = MinMaxScaler()\n",
    "    image_train_hidden_vector_norm = scaler.fit_transform(image_train_hidden_vector)\n",
    "    image_test_hidden_vector_norm = scaler.fit_transform(image_test_hidden_vector)\n",
    "    \n",
    "    return image_train_hidden_vector_norm,image_test_hidden_vector_norm\n"
   ]
  },
  {
   "cell_type": "code",
   "execution_count": 20,
   "metadata": {
    "scrolled": false
   },
   "outputs": [
    {
     "name": "stdout",
     "output_type": "stream",
     "text": [
      "HHVEHCNT_mean_norm\n",
      "HHVEHCNT_P_CAP_mean_norm\n",
      "TRPTRANS_1_mean_norm\n",
      "TRPTRANS_2_mean_norm\n",
      "TRPTRANS_3_mean_norm\n"
     ]
    }
   ],
   "source": [
    "# load model dictionary for all the output variables\n",
    "model_dic = {}\n",
    "model_name = 'resnet18'\n",
    "if image_type == \"rgb\":\n",
    "    input_channels = 3\n",
    "elif image_type == \"bw\":\n",
    "    input_channels = 4\n",
    "elif image_type == \"merge\":\n",
    "    input_channels = 7\n",
    "use_pretrained = True # unclear True vs False is better\n",
    "full_training = True\n",
    "last_layer_dic_train = {}\n",
    "last_layer_dic_test = {}\n",
    "\n",
    "for output_var in output_list:\n",
    "    print(output_var)\n",
    "    # read models\n",
    "    model = initialize_model(model_name, num_categories, input_channels, use_pretrained, full_training)\n",
    "    PATH = './models/'+model_name+'_'+output_var+'_'+image_type+'.pth'\n",
    "    model.load_state_dict(torch.load(PATH))\n",
    "    model_dic[output_var]=model.state_dict()\n",
    "    \n",
    "    # initialize data. \n",
    "    y_train,y_test,BE_train,BE_test,x_train,x_test,x_train_images,x_test_images = \\\n",
    "        initialize_data(image_type, output_var, output_type, input_var, BE_var, num_categories, size)\n",
    "    \n",
    "    # obtain the last layer\n",
    "    image_train_hidden_vector_norm,image_test_hidden_vector_norm = \\\n",
    "        return_last_layer_resnet(model,device,x_train_images,x_test_images,y_train,y_test)\n",
    "\n",
    "    # \n",
    "    last_layer_dic_train[output_var]=image_train_hidden_vector_norm \n",
    "    last_layer_dic_test[output_var]=image_test_hidden_vector_norm\n"
   ]
  },
  {
   "cell_type": "code",
   "execution_count": 21,
   "metadata": {},
   "outputs": [],
   "source": [
    "import pickle\n",
    "with open('data_process/last_layer_dic_train.pickle', 'wb') as h:\n",
    "    pickle.dump(last_layer_dic_train, h, protocol=pickle.HIGHEST_PROTOCOL)\n",
    "\n",
    "with open('data_process/last_layer_dic_test.pickle', 'wb') as h:\n",
    "    pickle.dump(last_layer_dic_test, h, protocol=pickle.HIGHEST_PROTOCOL)\n",
    "    "
   ]
  },
  {
   "cell_type": "code",
   "execution_count": null,
   "metadata": {},
   "outputs": [],
   "source": []
  },
  {
   "cell_type": "code",
   "execution_count": null,
   "metadata": {},
   "outputs": [],
   "source": []
  },
  {
   "cell_type": "code",
   "execution_count": null,
   "metadata": {},
   "outputs": [],
   "source": []
  },
  {
   "cell_type": "code",
   "execution_count": null,
   "metadata": {},
   "outputs": [],
   "source": []
  },
  {
   "cell_type": "code",
   "execution_count": null,
   "metadata": {},
   "outputs": [],
   "source": []
  },
  {
   "cell_type": "code",
   "execution_count": null,
   "metadata": {},
   "outputs": [],
   "source": []
  },
  {
   "cell_type": "code",
   "execution_count": null,
   "metadata": {},
   "outputs": [],
   "source": []
  },
  {
   "cell_type": "code",
   "execution_count": null,
   "metadata": {},
   "outputs": [],
   "source": []
  }
 ],
 "metadata": {
  "kernelspec": {
   "display_name": "Python 3",
   "language": "python",
   "name": "python3"
  },
  "language_info": {
   "codemirror_mode": {
    "name": "ipython",
    "version": 3
   },
   "file_extension": ".py",
   "mimetype": "text/x-python",
   "name": "python",
   "nbconvert_exporter": "python",
   "pygments_lexer": "ipython3",
   "version": "3.7.4"
  }
 },
 "nbformat": 4,
 "nbformat_minor": 2
}
